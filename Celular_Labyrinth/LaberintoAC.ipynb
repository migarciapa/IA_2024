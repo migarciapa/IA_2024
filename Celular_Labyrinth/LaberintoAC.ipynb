{
  "nbformat": 4,
  "nbformat_minor": 0,
  "metadata": {
    "colab": {
      "provenance": []
    },
    "kernelspec": {
      "name": "python3",
      "display_name": "Python 3"
    },
    "language_info": {
      "name": "python"
    }
  },
  "cells": [
    {
      "cell_type": "code",
      "execution_count": null,
      "metadata": {
        "colab": {
          "base_uri": "https://localhost:8080/",
          "height": 423
        },
        "id": "IVKOpg-e8WRr",
        "outputId": "c74a26ce-eb46-4a3f-cd51-3902ebef5954"
      },
      "outputs": [
        {
          "output_type": "execute_result",
          "data": {
            "text/plain": [
              "(-0.5, 120.5, 120.5, -0.5)"
            ]
          },
          "metadata": {},
          "execution_count": 1
        },
        {
          "output_type": "display_data",
          "data": {
            "text/plain": [
              "<Figure size 640x480 with 1 Axes>"
            ],
            "image/png": "[encoded data removed]"
          },
          "metadata": {}
        }
      ],
      "source": [
        "#Algoritmo de creacion de laberintos\n",
        "\n",
        "#Librerias importadas\n",
        "import matplotlib\n",
        "import random\n",
        "import time\n",
        "\n",
        "#Creacion del laberinto\n",
        "N = 60\n",
        "M = 2*N+1\n",
        "maze = [[1 for _ in range(M)] for _ in range(M)]\n",
        "\n",
        "Ix = random.randint(1,N)*2-1\n",
        "Iy = random.randint(1,N)*2-1\n",
        "maze[Ix][Iy] = 0\n",
        "pila = [(Ix,Iy)]\n",
        "dir = [(-2,0),(2,0),(0,-2),(0,2)]\n",
        "\n",
        "while pila:\n",
        "  x,y = pila[-1]\n",
        "\n",
        "  vecinos = []\n",
        "  for i in range(4):\n",
        "    dx,dy = dir[i]\n",
        "    nx,ny = x+dx,y+dy\n",
        "    if 0<=nx<M and 0<=ny<M and maze[nx][ny]:\n",
        "      vecinos.append(i)\n",
        "\n",
        "  if vecinos:\n",
        "    D = random.choice(vecinos)\n",
        "    if D==0: maze[x-1][y] = 0; maze[x-2][y] = 0; pila.append((x-2,y));\n",
        "    elif D==1: maze[x+1][y] = 0; maze[x+2][y] = 0; pila.append((x+2,y));\n",
        "    elif D==2: maze[x][y-1] = 0; maze[x][y-2] = 0; pila.append((x,y-2));\n",
        "    elif D==3: maze[x][y+1] = 0; maze[x][y+2] = 0; pila.append((x,y+2));\n",
        "\n",
        "  else:\n",
        "    pila.pop()\n",
        "\n",
        "maze[0][random.randint(1,N)*2-1] = 0\n",
        "maze[M-1][random.randint(1,N)*2-1] = 0\n",
        "\n",
        "#Graficado\n",
        "matplotlib.pyplot.imshow(maze)\n",
        "matplotlib.pyplot.axis('off')"
      ]
    },
    {
      "cell_type": "code",
      "source": [
        "#Solucionador de laberintos\n",
        "\n",
        "cell = [row[:] for row in maze]\n",
        "dir = [(-1,0),(1,0),(0,-1),(0,1)]\n",
        "fin = 0\n",
        "\n",
        "while not fin:\n",
        "  fin = 1\n",
        "  for x in range(M):\n",
        "    for y in range(M):\n",
        "      if cell[x][y]==0:\n",
        "        sum = 0\n",
        "        for i in range(4):\n",
        "          dx,dy = dir[i]\n",
        "          nx,ny = x+dx,y+dy\n",
        "          if 0<=nx<M and 0<=ny<M and cell[nx][ny]==1:\n",
        "            sum = sum+1\n",
        "        if sum>=3: cell[x][y] = 1; fin = 0;\n",
        "\n",
        "matplotlib.pyplot.imshow([[cell[i][j] + maze[i][j] for j in range(M)] for i in range(M)])\n",
        "matplotlib.pyplot.axis('off')"
      ],
      "metadata": {
        "colab": {
          "base_uri": "https://localhost:8080/",
          "height": 423
        },
        "id": "pteUP_BehsSH",
        "outputId": "ce8b0551-e5bc-46b7-b707-d57770cc6ad5"
      },
      "execution_count": null,
      "outputs": [
        {
          "output_type": "execute_result",
          "data": {
            "text/plain": [
              "(-0.5, 120.5, 120.5, -0.5)"
            ]
          },
          "metadata": {},
          "execution_count": 2
        },
        {
          "output_type": "display_data",
          "data": {
            "text/plain": [
              "<Figure size 640x480 with 1 Axes>"
            ],
            "image/png": "[encoded data removed]"
          },
          "metadata": {}
        }
      ]
    }
  ]
}