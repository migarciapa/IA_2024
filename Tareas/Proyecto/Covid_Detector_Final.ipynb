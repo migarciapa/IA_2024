{
  "nbformat": 4,
  "nbformat_minor": 0,
  "metadata": {
    "colab": {
      "provenance": []
    },
    "kernelspec": {
      "name": "python3",
      "display_name": "Python 3"
    },
    "language_info": {
      "name": "python"
    }
  },
  "cells": [
    {
      "cell_type": "code",
      "source": [
        "! pip install librosa"
      ],
      "metadata": {
        "colab": {
          "base_uri": "https://localhost:8080/"
        },
        "id": "C5wu5v-hYFoY",
        "outputId": "99f24f19-8ae8-4868-aa3a-318d2a667d22"
      },
      "execution_count": null,
      "outputs": [
        {
          "output_type": "stream",
          "name": "stdout",
          "text": [
            "Requirement already satisfied: librosa in /usr/local/lib/python3.10/dist-packages (0.10.2.post1)\n",
            "Requirement already satisfied: audioread>=2.1.9 in /usr/local/lib/python3.10/dist-packages (from librosa) (3.0.1)\n",
            "Requirement already satisfied: numpy!=1.22.0,!=1.22.1,!=1.22.2,>=1.20.3 in /usr/local/lib/python3.10/dist-packages (from librosa) (1.26.4)\n",
            "Requirement already satisfied: scipy>=1.2.0 in /usr/local/lib/python3.10/dist-packages (from librosa) (1.13.1)\n",
            "Requirement already satisfied: scikit-learn>=0.20.0 in /usr/local/lib/python3.10/dist-packages (from librosa) (1.5.2)\n",
            "Requirement already satisfied: joblib>=0.14 in /usr/local/lib/python3.10/dist-packages (from librosa) (1.4.2)\n",
            "Requirement already satisfied: decorator>=4.3.0 in /usr/local/lib/python3.10/dist-packages (from librosa) (4.4.2)\n",
            "Requirement already satisfied: numba>=0.51.0 in /usr/local/lib/python3.10/dist-packages (from librosa) (0.60.0)\n",
            "Requirement already satisfied: soundfile>=0.12.1 in /usr/local/lib/python3.10/dist-packages (from librosa) (0.12.1)\n",
            "Requirement already satisfied: pooch>=1.1 in /usr/local/lib/python3.10/dist-packages (from librosa) (1.8.2)\n",
            "Requirement already satisfied: soxr>=0.3.2 in /usr/local/lib/python3.10/dist-packages (from librosa) (0.5.0.post1)\n",
            "Requirement already satisfied: typing-extensions>=4.1.1 in /usr/local/lib/python3.10/dist-packages (from librosa) (4.12.2)\n",
            "Requirement already satisfied: lazy-loader>=0.1 in /usr/local/lib/python3.10/dist-packages (from librosa) (0.4)\n",
            "Requirement already satisfied: msgpack>=1.0 in /usr/local/lib/python3.10/dist-packages (from librosa) (1.0.8)\n",
            "Requirement already satisfied: packaging in /usr/local/lib/python3.10/dist-packages (from lazy-loader>=0.1->librosa) (24.1)\n",
            "Requirement already satisfied: llvmlite<0.44,>=0.43.0dev0 in /usr/local/lib/python3.10/dist-packages (from numba>=0.51.0->librosa) (0.43.0)\n",
            "Requirement already satisfied: platformdirs>=2.5.0 in /usr/local/lib/python3.10/dist-packages (from pooch>=1.1->librosa) (4.3.6)\n",
            "Requirement already satisfied: requests>=2.19.0 in /usr/local/lib/python3.10/dist-packages (from pooch>=1.1->librosa) (2.32.3)\n",
            "Requirement already satisfied: threadpoolctl>=3.1.0 in /usr/local/lib/python3.10/dist-packages (from scikit-learn>=0.20.0->librosa) (3.5.0)\n",
            "Requirement already satisfied: cffi>=1.0 in /usr/local/lib/python3.10/dist-packages (from soundfile>=0.12.1->librosa) (1.17.1)\n",
            "Requirement already satisfied: pycparser in /usr/local/lib/python3.10/dist-packages (from cffi>=1.0->soundfile>=0.12.1->librosa) (2.22)\n",
            "Requirement already satisfied: charset-normalizer<4,>=2 in /usr/local/lib/python3.10/dist-packages (from requests>=2.19.0->pooch>=1.1->librosa) (3.3.2)\n",
            "Requirement already satisfied: idna<4,>=2.5 in /usr/local/lib/python3.10/dist-packages (from requests>=2.19.0->pooch>=1.1->librosa) (3.10)\n",
            "Requirement already satisfied: urllib3<3,>=1.21.1 in /usr/local/lib/python3.10/dist-packages (from requests>=2.19.0->pooch>=1.1->librosa) (2.2.3)\n",
            "Requirement already satisfied: certifi>=2017.4.17 in /usr/local/lib/python3.10/dist-packages (from requests>=2.19.0->pooch>=1.1->librosa) (2024.8.30)\n"
          ]
        }
      ]
    },
    {
      "cell_type": "code",
      "execution_count": null,
      "metadata": {
        "id": "OFLDLeBBaAWY",
        "colab": {
          "base_uri": "https://localhost:8080/"
        },
        "outputId": "9fde6da3-f556-4e57-ad04-29813429e2fa"
      },
      "outputs": [
        {
          "output_type": "stream",
          "name": "stdout",
          "text": [
            "El dataset COUGHVID V3 fue detectado en el directorio: /content/coughvid_20211012\n",
            "0\t File 00014dcc-0f06-4c27-8c7b-737b18a2cf4c REJECTED\n"
          ]
        },
        {
          "output_type": "stream",
          "name": "stderr",
          "text": [
            "<ipython-input-91-9fc97857c8b5>:47: UserWarning: PySoundFile failed. Trying audioread instead.\n",
            "  audio , _ =  librosa.load(f\"coughvid_20211012/{row['uuid']}.webm\",sr=16000,mono=True)\n",
            "/usr/local/lib/python3.10/dist-packages/librosa/core/audio.py:184: FutureWarning: librosa.core.audio.__audioread_load\n",
            "\tDeprecated as of librosa version 0.10.0.\n",
            "\tIt will be removed in librosa version 1.0.\n",
            "  y, sr_native = __audioread_load(path, offset, duration, dtype)\n",
            "<ipython-input-91-9fc97857c8b5>:47: UserWarning: PySoundFile failed. Trying audioread instead.\n",
            "  audio , _ =  librosa.load(f\"coughvid_20211012/{row['uuid']}.webm\",sr=16000,mono=True)\n",
            "/usr/local/lib/python3.10/dist-packages/librosa/core/audio.py:184: FutureWarning: librosa.core.audio.__audioread_load\n",
            "\tDeprecated as of librosa version 0.10.0.\n",
            "\tIt will be removed in librosa version 1.0.\n",
            "  y, sr_native = __audioread_load(path, offset, duration, dtype)\n"
          ]
        },
        {
          "output_type": "stream",
          "name": "stdout",
          "text": [
            "1\t File 00039425-7f3a-42aa-ac13-834aaa2b6b92 ACCEPTED\n",
            "2\t File 0007c6f1-5441-40e6-9aaf-a761d8f2da3b ACCEPTED\n",
            "3\t File 00098cdb-4da1-4aa7-825a-4f1b9abc214b REJECTED\n"
          ]
        },
        {
          "output_type": "stream",
          "name": "stderr",
          "text": [
            "<ipython-input-91-9fc97857c8b5>:47: UserWarning: PySoundFile failed. Trying audioread instead.\n",
            "  audio , _ =  librosa.load(f\"coughvid_20211012/{row['uuid']}.webm\",sr=16000,mono=True)\n",
            "/usr/local/lib/python3.10/dist-packages/librosa/core/audio.py:184: FutureWarning: librosa.core.audio.__audioread_load\n",
            "\tDeprecated as of librosa version 0.10.0.\n",
            "\tIt will be removed in librosa version 1.0.\n",
            "  y, sr_native = __audioread_load(path, offset, duration, dtype)\n",
            "<ipython-input-91-9fc97857c8b5>:47: UserWarning: PySoundFile failed. Trying audioread instead.\n",
            "  audio , _ =  librosa.load(f\"coughvid_20211012/{row['uuid']}.webm\",sr=16000,mono=True)\n",
            "/usr/local/lib/python3.10/dist-packages/librosa/core/audio.py:184: FutureWarning: librosa.core.audio.__audioread_load\n",
            "\tDeprecated as of librosa version 0.10.0.\n",
            "\tIt will be removed in librosa version 1.0.\n",
            "  y, sr_native = __audioread_load(path, offset, duration, dtype)\n"
          ]
        },
        {
          "output_type": "stream",
          "name": "stdout",
          "text": [
            "4\t File 0009eb28-d8be-4dc1-92bb-907e53bc5c7a ACCEPTED\n",
            "5\t File 0012c608-33d0-4ef7-bde3-75a0b1a0024e REJECTED\n",
            "6\t File 001328dc-ea5d-4847-9ccf-c5aa2a3f2d0f ACCEPTED\n",
            "7\t File 00196ba6-0087-484b-a104-3e8884599596 REJECTED\n",
            "8\t File 001c85a8-cc4d-4921-9297-848be52d4715 REJECTED\n"
          ]
        },
        {
          "output_type": "stream",
          "name": "stderr",
          "text": [
            "<ipython-input-91-9fc97857c8b5>:47: UserWarning: PySoundFile failed. Trying audioread instead.\n",
            "  audio , _ =  librosa.load(f\"coughvid_20211012/{row['uuid']}.webm\",sr=16000,mono=True)\n",
            "/usr/local/lib/python3.10/dist-packages/librosa/core/audio.py:184: FutureWarning: librosa.core.audio.__audioread_load\n",
            "\tDeprecated as of librosa version 0.10.0.\n",
            "\tIt will be removed in librosa version 1.0.\n",
            "  y, sr_native = __audioread_load(path, offset, duration, dtype)\n"
          ]
        },
        {
          "output_type": "stream",
          "name": "stdout",
          "text": [
            "9\t File 001d8e33-a4af-4edb-98ba-b03f891d9a6c ACCEPTED\n",
            "10\t File 001e2f19-d81c-4029-b33c-d2db56b23a4a ACCEPTED\n",
            "11\t File 00273cdf-ed90-4105-84ec-0c88d52f1dc0 REJECTED\n",
            "12\t File 0028b68c-aca4-4f4f-bb1d-cb4ed5bbd952 ACCEPTED\n",
            "13\t File 00291cce-36a0-4a29-9e2d-c1d96ca17242 ACCEPTED\n",
            "14\t File 0029d048-898a-4c70-89c7-0815cdcf7391 ACCEPTED\n",
            "15\t File 002d28bc-7806-4dfb-9c9b-afa8cb623cac ACCEPTED\n",
            "16\t File 002db0bd-e57f-4c30-ade0-16640d424eb7 REJECTED\n",
            "17\t File 002ddcbd-41a3-471c-938f-a286f3d7e7a7 REJECTED\n",
            "18\t File 0033d1d5-ae8c-42f6-a557-822d6ab691cf ACCEPTED\n",
            "19\t File 00343395-c86c-47e3-a10f-fa3036f4572f REJECTED\n",
            "20\t File 00357712-dd5a-4c0a-90a4-39f1f4b9d5fd ACCEPTED\n",
            "21\t File 00367af5-03f2-4fa5-b793-6329c943deda REJECTED\n",
            "22\t File 0037f67c-0d6f-42e6-ab94-66499d4d2bf4 ACCEPTED\n",
            "23\t File 0038583a-93d8-4520-bf7e-0701c840ef7b REJECTED\n",
            "24\t File 00389fd1-f404-4124-acd5-61f6635727cb REJECTED\n",
            "25\t File 003a3f57-fab4-4853-a246-d6891186bc84 REJECTED\n",
            "26\t File 003c7941-a3ef-4daf-b8a8-5c77c82504b0 REJECTED\n",
            "27\t File 003dbc72-83a9-442a-b130-c97d60ca794a ACCEPTED\n",
            "28\t File 003e1bf6-2ecf-4a00-9198-29db34e8d7ac ACCEPTED\n"
          ]
        },
        {
          "output_type": "stream",
          "name": "stderr",
          "text": [
            "<ipython-input-91-9fc97857c8b5>:47: UserWarning: PySoundFile failed. Trying audioread instead.\n",
            "  audio , _ =  librosa.load(f\"coughvid_20211012/{row['uuid']}.webm\",sr=16000,mono=True)\n",
            "/usr/local/lib/python3.10/dist-packages/librosa/core/audio.py:184: FutureWarning: librosa.core.audio.__audioread_load\n",
            "\tDeprecated as of librosa version 0.10.0.\n",
            "\tIt will be removed in librosa version 1.0.\n",
            "  y, sr_native = __audioread_load(path, offset, duration, dtype)\n",
            "<ipython-input-91-9fc97857c8b5>:47: UserWarning: PySoundFile failed. Trying audioread instead.\n",
            "  audio , _ =  librosa.load(f\"coughvid_20211012/{row['uuid']}.webm\",sr=16000,mono=True)\n",
            "/usr/local/lib/python3.10/dist-packages/librosa/core/audio.py:184: FutureWarning: librosa.core.audio.__audioread_load\n",
            "\tDeprecated as of librosa version 0.10.0.\n",
            "\tIt will be removed in librosa version 1.0.\n",
            "  y, sr_native = __audioread_load(path, offset, duration, dtype)\n",
            "<ipython-input-91-9fc97857c8b5>:47: UserWarning: PySoundFile failed. Trying audioread instead.\n",
            "  audio , _ =  librosa.load(f\"coughvid_20211012/{row['uuid']}.webm\",sr=16000,mono=True)\n",
            "/usr/local/lib/python3.10/dist-packages/librosa/core/audio.py:184: FutureWarning: librosa.core.audio.__audioread_load\n",
            "\tDeprecated as of librosa version 0.10.0.\n",
            "\tIt will be removed in librosa version 1.0.\n",
            "  y, sr_native = __audioread_load(path, offset, duration, dtype)\n",
            "<ipython-input-91-9fc97857c8b5>:47: UserWarning: PySoundFile failed. Trying audioread instead.\n",
            "  audio , _ =  librosa.load(f\"coughvid_20211012/{row['uuid']}.webm\",sr=16000,mono=True)\n",
            "/usr/local/lib/python3.10/dist-packages/librosa/core/audio.py:184: FutureWarning: librosa.core.audio.__audioread_load\n",
            "\tDeprecated as of librosa version 0.10.0.\n",
            "\tIt will be removed in librosa version 1.0.\n",
            "  y, sr_native = __audioread_load(path, offset, duration, dtype)\n",
            "<ipython-input-91-9fc97857c8b5>:47: UserWarning: PySoundFile failed. Trying audioread instead.\n",
            "  audio , _ =  librosa.load(f\"coughvid_20211012/{row['uuid']}.webm\",sr=16000,mono=True)\n",
            "/usr/local/lib/python3.10/dist-packages/librosa/core/audio.py:184: FutureWarning: librosa.core.audio.__audioread_load\n",
            "\tDeprecated as of librosa version 0.10.0.\n",
            "\tIt will be removed in librosa version 1.0.\n",
            "  y, sr_native = __audioread_load(path, offset, duration, dtype)\n",
            "<ipython-input-91-9fc97857c8b5>:47: UserWarning: PySoundFile failed. Trying audioread instead.\n",
            "  audio , _ =  librosa.load(f\"coughvid_20211012/{row['uuid']}.webm\",sr=16000,mono=True)\n",
            "/usr/local/lib/python3.10/dist-packages/librosa/core/audio.py:184: FutureWarning: librosa.core.audio.__audioread_load\n",
            "\tDeprecated as of librosa version 0.10.0.\n",
            "\tIt will be removed in librosa version 1.0.\n",
            "  y, sr_native = __audioread_load(path, offset, duration, dtype)\n",
            "<ipython-input-91-9fc97857c8b5>:47: UserWarning: PySoundFile failed. Trying audioread instead.\n",
            "  audio , _ =  librosa.load(f\"coughvid_20211012/{row['uuid']}.webm\",sr=16000,mono=True)\n",
            "/usr/local/lib/python3.10/dist-packages/librosa/core/audio.py:184: FutureWarning: librosa.core.audio.__audioread_load\n",
            "\tDeprecated as of librosa version 0.10.0.\n",
            "\tIt will be removed in librosa version 1.0.\n",
            "  y, sr_native = __audioread_load(path, offset, duration, dtype)\n",
            "<ipython-input-91-9fc97857c8b5>:47: UserWarning: PySoundFile failed. Trying audioread instead.\n",
            "  audio , _ =  librosa.load(f\"coughvid_20211012/{row['uuid']}.webm\",sr=16000,mono=True)\n",
            "/usr/local/lib/python3.10/dist-packages/librosa/core/audio.py:184: FutureWarning: librosa.core.audio.__audioread_load\n",
            "\tDeprecated as of librosa version 0.10.0.\n",
            "\tIt will be removed in librosa version 1.0.\n",
            "  y, sr_native = __audioread_load(path, offset, duration, dtype)\n",
            "<ipython-input-91-9fc97857c8b5>:47: UserWarning: PySoundFile failed. Trying audioread instead.\n",
            "  audio , _ =  librosa.load(f\"coughvid_20211012/{row['uuid']}.webm\",sr=16000,mono=True)\n",
            "/usr/local/lib/python3.10/dist-packages/librosa/core/audio.py:184: FutureWarning: librosa.core.audio.__audioread_load\n",
            "\tDeprecated as of librosa version 0.10.0.\n",
            "\tIt will be removed in librosa version 1.0.\n",
            "  y, sr_native = __audioread_load(path, offset, duration, dtype)\n",
            "<ipython-input-91-9fc97857c8b5>:47: UserWarning: PySoundFile failed. Trying audioread instead.\n",
            "  audio , _ =  librosa.load(f\"coughvid_20211012/{row['uuid']}.webm\",sr=16000,mono=True)\n",
            "/usr/local/lib/python3.10/dist-packages/librosa/core/audio.py:184: FutureWarning: librosa.core.audio.__audioread_load\n",
            "\tDeprecated as of librosa version 0.10.0.\n",
            "\tIt will be removed in librosa version 1.0.\n",
            "  y, sr_native = __audioread_load(path, offset, duration, dtype)\n",
            "<ipython-input-91-9fc97857c8b5>:47: UserWarning: PySoundFile failed. Trying audioread instead.\n",
            "  audio , _ =  librosa.load(f\"coughvid_20211012/{row['uuid']}.webm\",sr=16000,mono=True)\n",
            "/usr/local/lib/python3.10/dist-packages/librosa/core/audio.py:184: FutureWarning: librosa.core.audio.__audioread_load\n",
            "\tDeprecated as of librosa version 0.10.0.\n",
            "\tIt will be removed in librosa version 1.0.\n",
            "  y, sr_native = __audioread_load(path, offset, duration, dtype)\n"
          ]
        },
        {
          "output_type": "stream",
          "name": "stdout",
          "text": [
            "29\t File 00420d07-89f8-464d-88dd-8e893f0c3f56 ACCEPTED\n",
            "30\t File 00422dad-066b-402f-9cac-e9efe51442af REJECTED\n",
            "31\t File 00430a83-0fd3-4e5c-ae81-82a541f43d3a REJECTED\n",
            "32\t File 00432f00-2477-4faf-a440-cc1276065b4a ACCEPTED\n",
            "33\t File 0044964d-f7e9-43e3-831f-ae3e6374a9a4 ACCEPTED\n",
            "34\t File 0044cb7b-448c-44e5-8302-ad8bd106fe3e ACCEPTED\n",
            "35\t File 004c24d8-e8cd-4755-86f6-5a1d8c7920c7 ACCEPTED\n",
            "36\t File 0050ddaf-2cf9-414a-8c51-9863dd0550f7 REJECTED\n",
            "37\t File 0052ea2e-021b-4442-a86d-8b5f70a0db97 REJECTED\n",
            "38\t File 0055eb06-703b-4fe7-9393-2e1641bfd061 REJECTED\n",
            "39\t File 00582f23-fdf1-4b05-bd85-a51142faa200 ACCEPTED\n",
            "40\t File 005887c9-4bb1-4f13-86b2-1c7b3cee0881 REJECTED\n",
            "41\t File 005ae1c2-7bc2-44c9-bc88-cf0af4ca762f REJECTED\n"
          ]
        },
        {
          "output_type": "stream",
          "name": "stderr",
          "text": [
            "<ipython-input-91-9fc97857c8b5>:47: UserWarning: PySoundFile failed. Trying audioread instead.\n",
            "  audio , _ =  librosa.load(f\"coughvid_20211012/{row['uuid']}.webm\",sr=16000,mono=True)\n",
            "/usr/local/lib/python3.10/dist-packages/librosa/core/audio.py:184: FutureWarning: librosa.core.audio.__audioread_load\n",
            "\tDeprecated as of librosa version 0.10.0.\n",
            "\tIt will be removed in librosa version 1.0.\n",
            "  y, sr_native = __audioread_load(path, offset, duration, dtype)\n",
            "<ipython-input-91-9fc97857c8b5>:47: UserWarning: PySoundFile failed. Trying audioread instead.\n",
            "  audio , _ =  librosa.load(f\"coughvid_20211012/{row['uuid']}.webm\",sr=16000,mono=True)\n",
            "/usr/local/lib/python3.10/dist-packages/librosa/core/audio.py:184: FutureWarning: librosa.core.audio.__audioread_load\n",
            "\tDeprecated as of librosa version 0.10.0.\n",
            "\tIt will be removed in librosa version 1.0.\n",
            "  y, sr_native = __audioread_load(path, offset, duration, dtype)\n",
            "<ipython-input-91-9fc97857c8b5>:47: UserWarning: PySoundFile failed. Trying audioread instead.\n",
            "  audio , _ =  librosa.load(f\"coughvid_20211012/{row['uuid']}.webm\",sr=16000,mono=True)\n",
            "/usr/local/lib/python3.10/dist-packages/librosa/core/audio.py:184: FutureWarning: librosa.core.audio.__audioread_load\n",
            "\tDeprecated as of librosa version 0.10.0.\n",
            "\tIt will be removed in librosa version 1.0.\n",
            "  y, sr_native = __audioread_load(path, offset, duration, dtype)\n",
            "<ipython-input-91-9fc97857c8b5>:47: UserWarning: PySoundFile failed. Trying audioread instead.\n",
            "  audio , _ =  librosa.load(f\"coughvid_20211012/{row['uuid']}.webm\",sr=16000,mono=True)\n",
            "/usr/local/lib/python3.10/dist-packages/librosa/core/audio.py:184: FutureWarning: librosa.core.audio.__audioread_load\n",
            "\tDeprecated as of librosa version 0.10.0.\n",
            "\tIt will be removed in librosa version 1.0.\n",
            "  y, sr_native = __audioread_load(path, offset, duration, dtype)\n",
            "<ipython-input-91-9fc97857c8b5>:47: UserWarning: PySoundFile failed. Trying audioread instead.\n",
            "  audio , _ =  librosa.load(f\"coughvid_20211012/{row['uuid']}.webm\",sr=16000,mono=True)\n",
            "/usr/local/lib/python3.10/dist-packages/librosa/core/audio.py:184: FutureWarning: librosa.core.audio.__audioread_load\n",
            "\tDeprecated as of librosa version 0.10.0.\n",
            "\tIt will be removed in librosa version 1.0.\n",
            "  y, sr_native = __audioread_load(path, offset, duration, dtype)\n",
            "<ipython-input-91-9fc97857c8b5>:47: UserWarning: PySoundFile failed. Trying audioread instead.\n",
            "  audio , _ =  librosa.load(f\"coughvid_20211012/{row['uuid']}.webm\",sr=16000,mono=True)\n",
            "/usr/local/lib/python3.10/dist-packages/librosa/core/audio.py:184: FutureWarning: librosa.core.audio.__audioread_load\n",
            "\tDeprecated as of librosa version 0.10.0.\n",
            "\tIt will be removed in librosa version 1.0.\n",
            "  y, sr_native = __audioread_load(path, offset, duration, dtype)\n"
          ]
        },
        {
          "output_type": "stream",
          "name": "stdout",
          "text": [
            "42\t File 005b8518-03ba-4bf5-86d2-005541442357 ACCEPTED\n",
            "43\t File 005bca13-18d1-4514-a086-cc8c3fafeeb2 ACCEPTED\n",
            "44\t File 005d63f8-a8e2-4684-a2bc-d65ffbb13707 REJECTED\n"
          ]
        },
        {
          "output_type": "stream",
          "name": "stderr",
          "text": [
            "<ipython-input-91-9fc97857c8b5>:47: UserWarning: PySoundFile failed. Trying audioread instead.\n",
            "  audio , _ =  librosa.load(f\"coughvid_20211012/{row['uuid']}.webm\",sr=16000,mono=True)\n",
            "/usr/local/lib/python3.10/dist-packages/librosa/core/audio.py:184: FutureWarning: librosa.core.audio.__audioread_load\n",
            "\tDeprecated as of librosa version 0.10.0.\n",
            "\tIt will be removed in librosa version 1.0.\n",
            "  y, sr_native = __audioread_load(path, offset, duration, dtype)\n",
            "<ipython-input-91-9fc97857c8b5>:47: UserWarning: PySoundFile failed. Trying audioread instead.\n",
            "  audio , _ =  librosa.load(f\"coughvid_20211012/{row['uuid']}.webm\",sr=16000,mono=True)\n",
            "/usr/local/lib/python3.10/dist-packages/librosa/core/audio.py:184: FutureWarning: librosa.core.audio.__audioread_load\n",
            "\tDeprecated as of librosa version 0.10.0.\n",
            "\tIt will be removed in librosa version 1.0.\n",
            "  y, sr_native = __audioread_load(path, offset, duration, dtype)\n"
          ]
        },
        {
          "output_type": "stream",
          "name": "stdout",
          "text": [
            "45\t File 005eb1ff-e7be-49b9-81ac-6b8636558a71 ACCEPTED\n",
            "46\t File 0063937c-5758-4d7b-803f-0c53f102e5fb REJECTED\n",
            "47\t File 0066b126-104a-45a6-a88e-0697c6baa0aa REJECTED\n",
            "48\t File 0067d0d5-9a24-401c-b0eb-a56c010580ce ACCEPTED\n"
          ]
        },
        {
          "output_type": "stream",
          "name": "stderr",
          "text": [
            "<ipython-input-91-9fc97857c8b5>:47: UserWarning: PySoundFile failed. Trying audioread instead.\n",
            "  audio , _ =  librosa.load(f\"coughvid_20211012/{row['uuid']}.webm\",sr=16000,mono=True)\n",
            "/usr/local/lib/python3.10/dist-packages/librosa/core/audio.py:184: FutureWarning: librosa.core.audio.__audioread_load\n",
            "\tDeprecated as of librosa version 0.10.0.\n",
            "\tIt will be removed in librosa version 1.0.\n",
            "  y, sr_native = __audioread_load(path, offset, duration, dtype)\n",
            "<ipython-input-91-9fc97857c8b5>:47: UserWarning: PySoundFile failed. Trying audioread instead.\n",
            "  audio , _ =  librosa.load(f\"coughvid_20211012/{row['uuid']}.webm\",sr=16000,mono=True)\n",
            "/usr/local/lib/python3.10/dist-packages/librosa/core/audio.py:184: FutureWarning: librosa.core.audio.__audioread_load\n",
            "\tDeprecated as of librosa version 0.10.0.\n",
            "\tIt will be removed in librosa version 1.0.\n",
            "  y, sr_native = __audioread_load(path, offset, duration, dtype)\n"
          ]
        },
        {
          "output_type": "stream",
          "name": "stdout",
          "text": [
            "49\t File 006a7242-fc5d-48a6-b806-4e8b5bbd33ef ACCEPTED\n",
            "50\t File 006b4de4-d28a-4599-a5e0-7f4f7552b185 REJECTED\n"
          ]
        },
        {
          "output_type": "stream",
          "name": "stderr",
          "text": [
            "<ipython-input-91-9fc97857c8b5>:47: UserWarning: PySoundFile failed. Trying audioread instead.\n",
            "  audio , _ =  librosa.load(f\"coughvid_20211012/{row['uuid']}.webm\",sr=16000,mono=True)\n",
            "/usr/local/lib/python3.10/dist-packages/librosa/core/audio.py:184: FutureWarning: librosa.core.audio.__audioread_load\n",
            "\tDeprecated as of librosa version 0.10.0.\n",
            "\tIt will be removed in librosa version 1.0.\n",
            "  y, sr_native = __audioread_load(path, offset, duration, dtype)\n"
          ]
        },
        {
          "output_type": "stream",
          "name": "stdout",
          "text": [
            "51\t File 006d8d1c-2bf6-46a6-8ef2-1823898a4733 ACCEPTED\n"
          ]
        },
        {
          "output_type": "stream",
          "name": "stderr",
          "text": [
            "<ipython-input-91-9fc97857c8b5>:47: UserWarning: PySoundFile failed. Trying audioread instead.\n",
            "  audio , _ =  librosa.load(f\"coughvid_20211012/{row['uuid']}.webm\",sr=16000,mono=True)\n",
            "/usr/local/lib/python3.10/dist-packages/librosa/core/audio.py:184: FutureWarning: librosa.core.audio.__audioread_load\n",
            "\tDeprecated as of librosa version 0.10.0.\n",
            "\tIt will be removed in librosa version 1.0.\n",
            "  y, sr_native = __audioread_load(path, offset, duration, dtype)\n"
          ]
        },
        {
          "output_type": "stream",
          "name": "stdout",
          "text": [
            "52\t File 006daa68-31b7-44ab-b0c6-7e5ef4e1ebf7 ACCEPTED\n",
            "53\t File 006e496e-1dc5-4cac-b16b-f6051d5e5fa1 REJECTED\n",
            "54\t File 006e91be-bacc-42fa-b08f-d841e8135ebc REJECTED\n",
            "55\t File 006f340f-7067-4a95-ae52-97bf9ba31558 REJECTED\n",
            "56\t File 007089d2-ed48-4464-b981-66fc66a6c121 REJECTED\n"
          ]
        },
        {
          "output_type": "stream",
          "name": "stderr",
          "text": [
            "<ipython-input-91-9fc97857c8b5>:47: UserWarning: PySoundFile failed. Trying audioread instead.\n",
            "  audio , _ =  librosa.load(f\"coughvid_20211012/{row['uuid']}.webm\",sr=16000,mono=True)\n",
            "/usr/local/lib/python3.10/dist-packages/librosa/core/audio.py:184: FutureWarning: librosa.core.audio.__audioread_load\n",
            "\tDeprecated as of librosa version 0.10.0.\n",
            "\tIt will be removed in librosa version 1.0.\n",
            "  y, sr_native = __audioread_load(path, offset, duration, dtype)\n"
          ]
        },
        {
          "output_type": "stream",
          "name": "stdout",
          "text": [
            "57\t File 00745765-96ed-4e13-8ca7-7f6b793af78d ACCEPTED\n",
            "58\t File 00753bb4-cffb-472b-b391-09337558a678 ACCEPTED\n",
            "59\t File 00753f6f-1310-45c7-b10a-9580e29a6201 REJECTED\n",
            "60\t File 007be9cd-6c5d-467f-a89c-e670fae075b4 ACCEPTED\n",
            "61\t File 007c1eb6-d9c2-4559-be04-2f1e8ea332c8 REJECTED\n",
            "62\t File 007c80ab-049f-4a73-b13e-ca242702aabe REJECTED\n",
            "63\t File 007dbe5f-3fc6-47a4-a2fd-7f8dee0ca6ca REJECTED\n",
            "64\t File 00802ac6-0e3b-4bba-bcdc-014f1fde7432 ACCEPTED\n",
            "65\t File 00803f5a-d6eb-4eea-aeaa-3221fce7e9b4 REJECTED\n",
            "66\t File 0080c4be-010c-4037-bba2-743437db3beb REJECTED\n",
            "67\t File 00818b42-c75e-4bed-aacc-426e7caae49e REJECTED\n",
            "68\t File 0084c60b-ea8d-4361-bedb-b230f8b67cec REJECTED\n",
            "69\t File 008aaff4-2eb7-4c75-b6ee-83b0d8004b0b REJECTED\n",
            "70\t File 008ba489-31ad-44d8-856b-fcf72369dc46 ACCEPTED\n",
            "71\t File 008c1c9e-aeef-40c5-846c-24f1b964f884 ACCEPTED\n",
            "72\t File 008fb957-2215-4c85-ad85-1eb0451e0895 REJECTED\n",
            "73\t File 0091db95-89b3-42c5-ae07-a1b58eced67b ACCEPTED\n",
            "74\t File 009304e3-ce74-4ee5-8278-729982451539 REJECTED\n",
            "75\t File 0096a99b-8f20-4bd5-9738-eee7f9fed1d6 REJECTED\n",
            "76\t File 00981002-c9bc-4bef-be7b-2c9b038d15c9 ACCEPTED\n",
            "77\t File 00981334-b1be-44f7-9d80-9318ebebc618 REJECTED\n",
            "78\t File 00989cdb-ba34-413f-9c0a-ffa6864bf54e REJECTED\n",
            "79\t File 009aa393-32ab-423f-8e6a-63d8d4d1476b ACCEPTED\n",
            "80\t File 009b1e22-f451-40ae-9cbf-9f1ff5dec022 ACCEPTED\n",
            "81\t File 009bf244-d6a7-4070-8412-21cd506aed62 REJECTED\n"
          ]
        },
        {
          "output_type": "stream",
          "name": "stderr",
          "text": [
            "<ipython-input-91-9fc97857c8b5>:47: UserWarning: PySoundFile failed. Trying audioread instead.\n",
            "  audio , _ =  librosa.load(f\"coughvid_20211012/{row['uuid']}.webm\",sr=16000,mono=True)\n",
            "/usr/local/lib/python3.10/dist-packages/librosa/core/audio.py:184: FutureWarning: librosa.core.audio.__audioread_load\n",
            "\tDeprecated as of librosa version 0.10.0.\n",
            "\tIt will be removed in librosa version 1.0.\n",
            "  y, sr_native = __audioread_load(path, offset, duration, dtype)\n",
            "<ipython-input-91-9fc97857c8b5>:47: UserWarning: PySoundFile failed. Trying audioread instead.\n",
            "  audio , _ =  librosa.load(f\"coughvid_20211012/{row['uuid']}.webm\",sr=16000,mono=True)\n",
            "/usr/local/lib/python3.10/dist-packages/librosa/core/audio.py:184: FutureWarning: librosa.core.audio.__audioread_load\n",
            "\tDeprecated as of librosa version 0.10.0.\n",
            "\tIt will be removed in librosa version 1.0.\n",
            "  y, sr_native = __audioread_load(path, offset, duration, dtype)\n",
            "<ipython-input-91-9fc97857c8b5>:47: UserWarning: PySoundFile failed. Trying audioread instead.\n",
            "  audio , _ =  librosa.load(f\"coughvid_20211012/{row['uuid']}.webm\",sr=16000,mono=True)\n",
            "/usr/local/lib/python3.10/dist-packages/librosa/core/audio.py:184: FutureWarning: librosa.core.audio.__audioread_load\n",
            "\tDeprecated as of librosa version 0.10.0.\n",
            "\tIt will be removed in librosa version 1.0.\n",
            "  y, sr_native = __audioread_load(path, offset, duration, dtype)\n",
            "<ipython-input-91-9fc97857c8b5>:47: UserWarning: PySoundFile failed. Trying audioread instead.\n",
            "  audio , _ =  librosa.load(f\"coughvid_20211012/{row['uuid']}.webm\",sr=16000,mono=True)\n",
            "/usr/local/lib/python3.10/dist-packages/librosa/core/audio.py:184: FutureWarning: librosa.core.audio.__audioread_load\n",
            "\tDeprecated as of librosa version 0.10.0.\n",
            "\tIt will be removed in librosa version 1.0.\n",
            "  y, sr_native = __audioread_load(path, offset, duration, dtype)\n",
            "<ipython-input-91-9fc97857c8b5>:47: UserWarning: PySoundFile failed. Trying audioread instead.\n",
            "  audio , _ =  librosa.load(f\"coughvid_20211012/{row['uuid']}.webm\",sr=16000,mono=True)\n",
            "/usr/local/lib/python3.10/dist-packages/librosa/core/audio.py:184: FutureWarning: librosa.core.audio.__audioread_load\n",
            "\tDeprecated as of librosa version 0.10.0.\n",
            "\tIt will be removed in librosa version 1.0.\n",
            "  y, sr_native = __audioread_load(path, offset, duration, dtype)\n",
            "<ipython-input-91-9fc97857c8b5>:47: UserWarning: PySoundFile failed. Trying audioread instead.\n",
            "  audio , _ =  librosa.load(f\"coughvid_20211012/{row['uuid']}.webm\",sr=16000,mono=True)\n",
            "/usr/local/lib/python3.10/dist-packages/librosa/core/audio.py:184: FutureWarning: librosa.core.audio.__audioread_load\n",
            "\tDeprecated as of librosa version 0.10.0.\n",
            "\tIt will be removed in librosa version 1.0.\n",
            "  y, sr_native = __audioread_load(path, offset, duration, dtype)\n",
            "<ipython-input-91-9fc97857c8b5>:47: UserWarning: PySoundFile failed. Trying audioread instead.\n",
            "  audio , _ =  librosa.load(f\"coughvid_20211012/{row['uuid']}.webm\",sr=16000,mono=True)\n",
            "/usr/local/lib/python3.10/dist-packages/librosa/core/audio.py:184: FutureWarning: librosa.core.audio.__audioread_load\n",
            "\tDeprecated as of librosa version 0.10.0.\n",
            "\tIt will be removed in librosa version 1.0.\n",
            "  y, sr_native = __audioread_load(path, offset, duration, dtype)\n",
            "<ipython-input-91-9fc97857c8b5>:47: UserWarning: PySoundFile failed. Trying audioread instead.\n",
            "  audio , _ =  librosa.load(f\"coughvid_20211012/{row['uuid']}.webm\",sr=16000,mono=True)\n",
            "/usr/local/lib/python3.10/dist-packages/librosa/core/audio.py:184: FutureWarning: librosa.core.audio.__audioread_load\n",
            "\tDeprecated as of librosa version 0.10.0.\n",
            "\tIt will be removed in librosa version 1.0.\n",
            "  y, sr_native = __audioread_load(path, offset, duration, dtype)\n",
            "<ipython-input-91-9fc97857c8b5>:47: UserWarning: PySoundFile failed. Trying audioread instead.\n",
            "  audio , _ =  librosa.load(f\"coughvid_20211012/{row['uuid']}.webm\",sr=16000,mono=True)\n",
            "/usr/local/lib/python3.10/dist-packages/librosa/core/audio.py:184: FutureWarning: librosa.core.audio.__audioread_load\n",
            "\tDeprecated as of librosa version 0.10.0.\n",
            "\tIt will be removed in librosa version 1.0.\n",
            "  y, sr_native = __audioread_load(path, offset, duration, dtype)\n",
            "<ipython-input-91-9fc97857c8b5>:47: UserWarning: PySoundFile failed. Trying audioread instead.\n",
            "  audio , _ =  librosa.load(f\"coughvid_20211012/{row['uuid']}.webm\",sr=16000,mono=True)\n",
            "/usr/local/lib/python3.10/dist-packages/librosa/core/audio.py:184: FutureWarning: librosa.core.audio.__audioread_load\n",
            "\tDeprecated as of librosa version 0.10.0.\n",
            "\tIt will be removed in librosa version 1.0.\n",
            "  y, sr_native = __audioread_load(path, offset, duration, dtype)\n"
          ]
        },
        {
          "output_type": "stream",
          "name": "stdout",
          "text": [
            "82\t File 009c779a-c3f3-4569-8d97-b0c477698c9d ACCEPTED\n",
            "83\t File 009e677f-e0ed-4765-9f9e-db3fff3921a3 REJECTED\n",
            "84\t File 009e762a-b4f7-41a6-a419-b4ca51be88ec REJECTED\n",
            "85\t File 00a0156b-7179-4773-8a2c-4bb919e076bd REJECTED\n",
            "86\t File 00a1e1ea-9725-47fb-ad18-b17a30b3a145 REJECTED\n",
            "87\t File 00a2faca-e1f2-4848-9afe-058f949d3252 ACCEPTED\n",
            "88\t File 00a31212-7c64-4649-b78b-4c7d9ce3156e REJECTED\n",
            "89\t File 00a4e142-2ae1-401e-8319-837e512b1281 REJECTED\n",
            "90\t File 00ac8cb0-3384-46b2-9db5-5b5e911615f0 ACCEPTED\n"
          ]
        },
        {
          "output_type": "stream",
          "name": "stderr",
          "text": [
            "<ipython-input-91-9fc97857c8b5>:47: UserWarning: PySoundFile failed. Trying audioread instead.\n",
            "  audio , _ =  librosa.load(f\"coughvid_20211012/{row['uuid']}.webm\",sr=16000,mono=True)\n",
            "/usr/local/lib/python3.10/dist-packages/librosa/core/audio.py:184: FutureWarning: librosa.core.audio.__audioread_load\n",
            "\tDeprecated as of librosa version 0.10.0.\n",
            "\tIt will be removed in librosa version 1.0.\n",
            "  y, sr_native = __audioread_load(path, offset, duration, dtype)\n",
            "<ipython-input-91-9fc97857c8b5>:47: UserWarning: PySoundFile failed. Trying audioread instead.\n",
            "  audio , _ =  librosa.load(f\"coughvid_20211012/{row['uuid']}.webm\",sr=16000,mono=True)\n",
            "/usr/local/lib/python3.10/dist-packages/librosa/core/audio.py:184: FutureWarning: librosa.core.audio.__audioread_load\n",
            "\tDeprecated as of librosa version 0.10.0.\n",
            "\tIt will be removed in librosa version 1.0.\n",
            "  y, sr_native = __audioread_load(path, offset, duration, dtype)\n",
            "<ipython-input-91-9fc97857c8b5>:47: UserWarning: PySoundFile failed. Trying audioread instead.\n",
            "  audio , _ =  librosa.load(f\"coughvid_20211012/{row['uuid']}.webm\",sr=16000,mono=True)\n",
            "/usr/local/lib/python3.10/dist-packages/librosa/core/audio.py:184: FutureWarning: librosa.core.audio.__audioread_load\n",
            "\tDeprecated as of librosa version 0.10.0.\n",
            "\tIt will be removed in librosa version 1.0.\n",
            "  y, sr_native = __audioread_load(path, offset, duration, dtype)\n"
          ]
        },
        {
          "output_type": "stream",
          "name": "stdout",
          "text": [
            "91\t File 00aefb35-458d-480b-9806-2385f6cf7dc1 ACCEPTED\n",
            "92\t File 00af1e34-c02b-4f68-a5e5-3100db5e31f7 ACCEPTED\n",
            "93\t File 00b16e02-a418-47da-8341-867981ca3255 REJECTED\n",
            "94\t File 00b2a7e8-60ce-488d-9fcf-6b5946d4bbc9 REJECTED\n",
            "95\t File 00b38e22-dbb8-4da9-abed-5ddb6df9f287 REJECTED\n",
            "96\t File 00bca802-462d-403c-956d-5c92f3f886c3 REJECTED\n",
            "97\t File 00be6c44-dbc4-4701-b4c5-6b5c6bbf212e REJECTED\n"
          ]
        },
        {
          "output_type": "stream",
          "name": "stderr",
          "text": [
            "<ipython-input-91-9fc97857c8b5>:47: UserWarning: PySoundFile failed. Trying audioread instead.\n",
            "  audio , _ =  librosa.load(f\"coughvid_20211012/{row['uuid']}.webm\",sr=16000,mono=True)\n",
            "/usr/local/lib/python3.10/dist-packages/librosa/core/audio.py:184: FutureWarning: librosa.core.audio.__audioread_load\n",
            "\tDeprecated as of librosa version 0.10.0.\n",
            "\tIt will be removed in librosa version 1.0.\n",
            "  y, sr_native = __audioread_load(path, offset, duration, dtype)\n",
            "<ipython-input-91-9fc97857c8b5>:47: UserWarning: PySoundFile failed. Trying audioread instead.\n",
            "  audio , _ =  librosa.load(f\"coughvid_20211012/{row['uuid']}.webm\",sr=16000,mono=True)\n",
            "/usr/local/lib/python3.10/dist-packages/librosa/core/audio.py:184: FutureWarning: librosa.core.audio.__audioread_load\n",
            "\tDeprecated as of librosa version 0.10.0.\n",
            "\tIt will be removed in librosa version 1.0.\n",
            "  y, sr_native = __audioread_load(path, offset, duration, dtype)\n"
          ]
        },
        {
          "output_type": "stream",
          "name": "stdout",
          "text": [
            "98\t File 00bf9f83-2e8f-47cf-a4f2-97f2beceebc1 ACCEPTED\n",
            "99\t File 00bfe21c-ab71-4e5a-a941-4f83f5de5c82 REJECTED\n",
            "100\t File 00c0f49a-0b16-4f99-9c40-38582a7688dd ACCEPTED\n",
            "101\t File 00c24aac-b6c8-4065-a999-079cb48fcf86 ACCEPTED\n"
          ]
        },
        {
          "output_type": "stream",
          "name": "stderr",
          "text": [
            "<ipython-input-91-9fc97857c8b5>:47: UserWarning: PySoundFile failed. Trying audioread instead.\n",
            "  audio , _ =  librosa.load(f\"coughvid_20211012/{row['uuid']}.webm\",sr=16000,mono=True)\n",
            "/usr/local/lib/python3.10/dist-packages/librosa/core/audio.py:184: FutureWarning: librosa.core.audio.__audioread_load\n",
            "\tDeprecated as of librosa version 0.10.0.\n",
            "\tIt will be removed in librosa version 1.0.\n",
            "  y, sr_native = __audioread_load(path, offset, duration, dtype)\n",
            "<ipython-input-91-9fc97857c8b5>:47: UserWarning: PySoundFile failed. Trying audioread instead.\n",
            "  audio , _ =  librosa.load(f\"coughvid_20211012/{row['uuid']}.webm\",sr=16000,mono=True)\n",
            "/usr/local/lib/python3.10/dist-packages/librosa/core/audio.py:184: FutureWarning: librosa.core.audio.__audioread_load\n",
            "\tDeprecated as of librosa version 0.10.0.\n",
            "\tIt will be removed in librosa version 1.0.\n",
            "  y, sr_native = __audioread_load(path, offset, duration, dtype)\n",
            "<ipython-input-91-9fc97857c8b5>:47: UserWarning: PySoundFile failed. Trying audioread instead.\n",
            "  audio , _ =  librosa.load(f\"coughvid_20211012/{row['uuid']}.webm\",sr=16000,mono=True)\n",
            "/usr/local/lib/python3.10/dist-packages/librosa/core/audio.py:184: FutureWarning: librosa.core.audio.__audioread_load\n",
            "\tDeprecated as of librosa version 0.10.0.\n",
            "\tIt will be removed in librosa version 1.0.\n",
            "  y, sr_native = __audioread_load(path, offset, duration, dtype)\n"
          ]
        },
        {
          "output_type": "stream",
          "name": "stdout",
          "text": [
            "102\t File 00c2b443-4746-4337-857b-e705ddf6e133 ACCEPTED\n",
            "103\t File 00c379cf-6553-469b-bea3-dd957c922e2f ACCEPTED\n"
          ]
        },
        {
          "output_type": "stream",
          "name": "stderr",
          "text": [
            "<ipython-input-91-9fc97857c8b5>:47: UserWarning: PySoundFile failed. Trying audioread instead.\n",
            "  audio , _ =  librosa.load(f\"coughvid_20211012/{row['uuid']}.webm\",sr=16000,mono=True)\n",
            "/usr/local/lib/python3.10/dist-packages/librosa/core/audio.py:184: FutureWarning: librosa.core.audio.__audioread_load\n",
            "\tDeprecated as of librosa version 0.10.0.\n",
            "\tIt will be removed in librosa version 1.0.\n",
            "  y, sr_native = __audioread_load(path, offset, duration, dtype)\n",
            "<ipython-input-91-9fc97857c8b5>:47: UserWarning: PySoundFile failed. Trying audioread instead.\n",
            "  audio , _ =  librosa.load(f\"coughvid_20211012/{row['uuid']}.webm\",sr=16000,mono=True)\n",
            "/usr/local/lib/python3.10/dist-packages/librosa/core/audio.py:184: FutureWarning: librosa.core.audio.__audioread_load\n",
            "\tDeprecated as of librosa version 0.10.0.\n",
            "\tIt will be removed in librosa version 1.0.\n",
            "  y, sr_native = __audioread_load(path, offset, duration, dtype)\n"
          ]
        },
        {
          "output_type": "stream",
          "name": "stdout",
          "text": [
            "104\t File 00c93905-d4c7-4635-8f31-341fdd69e936 ACCEPTED\n",
            "105\t File 00ca62a4-e319-4ae6-9710-2044ba6ddfe9 ACCEPTED\n"
          ]
        },
        {
          "output_type": "stream",
          "name": "stderr",
          "text": [
            "<ipython-input-91-9fc97857c8b5>:47: UserWarning: PySoundFile failed. Trying audioread instead.\n",
            "  audio , _ =  librosa.load(f\"coughvid_20211012/{row['uuid']}.webm\",sr=16000,mono=True)\n",
            "/usr/local/lib/python3.10/dist-packages/librosa/core/audio.py:184: FutureWarning: librosa.core.audio.__audioread_load\n",
            "\tDeprecated as of librosa version 0.10.0.\n",
            "\tIt will be removed in librosa version 1.0.\n",
            "  y, sr_native = __audioread_load(path, offset, duration, dtype)\n",
            "<ipython-input-91-9fc97857c8b5>:47: UserWarning: PySoundFile failed. Trying audioread instead.\n",
            "  audio , _ =  librosa.load(f\"coughvid_20211012/{row['uuid']}.webm\",sr=16000,mono=True)\n",
            "/usr/local/lib/python3.10/dist-packages/librosa/core/audio.py:184: FutureWarning: librosa.core.audio.__audioread_load\n",
            "\tDeprecated as of librosa version 0.10.0.\n",
            "\tIt will be removed in librosa version 1.0.\n",
            "  y, sr_native = __audioread_load(path, offset, duration, dtype)\n"
          ]
        },
        {
          "output_type": "stream",
          "name": "stdout",
          "text": [
            "106\t File 00ca82a7-88b5-4441-b941-4bfa9bfb3b34 ACCEPTED\n",
            "107\t File 00cab9a7-6d1b-44ac-b2b0-3beefebee783 REJECTED\n",
            "108\t File 00ccf4e3-6e4f-4e6b-a16d-11b4a8999d1e ACCEPTED\n",
            "109\t File 00cd9e62-fa8d-485c-a303-eed6db2aa182 REJECTED\n"
          ]
        },
        {
          "output_type": "stream",
          "name": "stderr",
          "text": [
            "<ipython-input-91-9fc97857c8b5>:47: UserWarning: PySoundFile failed. Trying audioread instead.\n",
            "  audio , _ =  librosa.load(f\"coughvid_20211012/{row['uuid']}.webm\",sr=16000,mono=True)\n",
            "/usr/local/lib/python3.10/dist-packages/librosa/core/audio.py:184: FutureWarning: librosa.core.audio.__audioread_load\n",
            "\tDeprecated as of librosa version 0.10.0.\n",
            "\tIt will be removed in librosa version 1.0.\n",
            "  y, sr_native = __audioread_load(path, offset, duration, dtype)\n",
            "<ipython-input-91-9fc97857c8b5>:47: UserWarning: PySoundFile failed. Trying audioread instead.\n",
            "  audio , _ =  librosa.load(f\"coughvid_20211012/{row['uuid']}.webm\",sr=16000,mono=True)\n",
            "/usr/local/lib/python3.10/dist-packages/librosa/core/audio.py:184: FutureWarning: librosa.core.audio.__audioread_load\n",
            "\tDeprecated as of librosa version 0.10.0.\n",
            "\tIt will be removed in librosa version 1.0.\n",
            "  y, sr_native = __audioread_load(path, offset, duration, dtype)\n"
          ]
        },
        {
          "output_type": "stream",
          "name": "stdout",
          "text": [
            "110\t File 00ce5b06-c302-4387-bbd7-86355a4a8c12 ACCEPTED\n",
            "111\t File 00ce9f7f-e738-474b-a7fc-ab4d3cf323df ACCEPTED\n",
            "112\t File 00d5c907-bae4-4747-971d-a231099c4bfa REJECTED\n",
            "113\t File 00d90dc0-6441-4147-85f1-98a76b77e5a1 REJECTED\n",
            "114\t File 00dddacc-3781-4e32-9a5c-6227c57d544c ACCEPTED\n",
            "115\t File 00ddf050-6939-4f33-9e54-fcb309b895ec ACCEPTED\n",
            "116\t File 00e09814-62e7-4e4f-aa96-d3ccaa292e4b ACCEPTED\n",
            "117\t File 00e0a33c-6561-406e-b543-4c9f07b860f7 ACCEPTED\n",
            "118\t File 00e2eb1e-83c1-407e-9332-efbdbcbca8ac ACCEPTED\n",
            "119\t File 00e627a2-6da6-452f-bd92-fc8c8719cbbd ACCEPTED\n"
          ]
        },
        {
          "output_type": "stream",
          "name": "stderr",
          "text": [
            "<ipython-input-91-9fc97857c8b5>:47: UserWarning: PySoundFile failed. Trying audioread instead.\n",
            "  audio , _ =  librosa.load(f\"coughvid_20211012/{row['uuid']}.webm\",sr=16000,mono=True)\n",
            "/usr/local/lib/python3.10/dist-packages/librosa/core/audio.py:184: FutureWarning: librosa.core.audio.__audioread_load\n",
            "\tDeprecated as of librosa version 0.10.0.\n",
            "\tIt will be removed in librosa version 1.0.\n",
            "  y, sr_native = __audioread_load(path, offset, duration, dtype)\n",
            "<ipython-input-91-9fc97857c8b5>:47: UserWarning: PySoundFile failed. Trying audioread instead.\n",
            "  audio , _ =  librosa.load(f\"coughvid_20211012/{row['uuid']}.webm\",sr=16000,mono=True)\n",
            "/usr/local/lib/python3.10/dist-packages/librosa/core/audio.py:184: FutureWarning: librosa.core.audio.__audioread_load\n",
            "\tDeprecated as of librosa version 0.10.0.\n",
            "\tIt will be removed in librosa version 1.0.\n",
            "  y, sr_native = __audioread_load(path, offset, duration, dtype)\n",
            "<ipython-input-91-9fc97857c8b5>:47: UserWarning: PySoundFile failed. Trying audioread instead.\n",
            "  audio , _ =  librosa.load(f\"coughvid_20211012/{row['uuid']}.webm\",sr=16000,mono=True)\n",
            "/usr/local/lib/python3.10/dist-packages/librosa/core/audio.py:184: FutureWarning: librosa.core.audio.__audioread_load\n",
            "\tDeprecated as of librosa version 0.10.0.\n",
            "\tIt will be removed in librosa version 1.0.\n",
            "  y, sr_native = __audioread_load(path, offset, duration, dtype)\n",
            "<ipython-input-91-9fc97857c8b5>:47: UserWarning: PySoundFile failed. Trying audioread instead.\n",
            "  audio , _ =  librosa.load(f\"coughvid_20211012/{row['uuid']}.webm\",sr=16000,mono=True)\n",
            "/usr/local/lib/python3.10/dist-packages/librosa/core/audio.py:184: FutureWarning: librosa.core.audio.__audioread_load\n",
            "\tDeprecated as of librosa version 0.10.0.\n",
            "\tIt will be removed in librosa version 1.0.\n",
            "  y, sr_native = __audioread_load(path, offset, duration, dtype)\n",
            "<ipython-input-91-9fc97857c8b5>:47: UserWarning: PySoundFile failed. Trying audioread instead.\n",
            "  audio , _ =  librosa.load(f\"coughvid_20211012/{row['uuid']}.webm\",sr=16000,mono=True)\n",
            "/usr/local/lib/python3.10/dist-packages/librosa/core/audio.py:184: FutureWarning: librosa.core.audio.__audioread_load\n",
            "\tDeprecated as of librosa version 0.10.0.\n",
            "\tIt will be removed in librosa version 1.0.\n",
            "  y, sr_native = __audioread_load(path, offset, duration, dtype)\n",
            "<ipython-input-91-9fc97857c8b5>:47: UserWarning: PySoundFile failed. Trying audioread instead.\n",
            "  audio , _ =  librosa.load(f\"coughvid_20211012/{row['uuid']}.webm\",sr=16000,mono=True)\n",
            "/usr/local/lib/python3.10/dist-packages/librosa/core/audio.py:184: FutureWarning: librosa.core.audio.__audioread_load\n",
            "\tDeprecated as of librosa version 0.10.0.\n",
            "\tIt will be removed in librosa version 1.0.\n",
            "  y, sr_native = __audioread_load(path, offset, duration, dtype)\n",
            "<ipython-input-91-9fc97857c8b5>:47: UserWarning: PySoundFile failed. Trying audioread instead.\n",
            "  audio , _ =  librosa.load(f\"coughvid_20211012/{row['uuid']}.webm\",sr=16000,mono=True)\n",
            "/usr/local/lib/python3.10/dist-packages/librosa/core/audio.py:184: FutureWarning: librosa.core.audio.__audioread_load\n",
            "\tDeprecated as of librosa version 0.10.0.\n",
            "\tIt will be removed in librosa version 1.0.\n",
            "  y, sr_native = __audioread_load(path, offset, duration, dtype)\n",
            "<ipython-input-91-9fc97857c8b5>:47: UserWarning: PySoundFile failed. Trying audioread instead.\n",
            "  audio , _ =  librosa.load(f\"coughvid_20211012/{row['uuid']}.webm\",sr=16000,mono=True)\n",
            "/usr/local/lib/python3.10/dist-packages/librosa/core/audio.py:184: FutureWarning: librosa.core.audio.__audioread_load\n",
            "\tDeprecated as of librosa version 0.10.0.\n",
            "\tIt will be removed in librosa version 1.0.\n",
            "  y, sr_native = __audioread_load(path, offset, duration, dtype)\n"
          ]
        },
        {
          "output_type": "stream",
          "name": "stdout",
          "text": [
            "120\t File 00e77dfb-a4de-4e46-b0a1-a8fa2b94f3ef ACCEPTED\n",
            "121\t File 00e819a3-dcea-4cd7-98a7-04f28c778869 ACCEPTED\n",
            "122\t File 00e92287-1088-4c8b-97fc-a8502fce4ede REJECTED\n",
            "123\t File 00eb562b-7e14-4981-8521-0194253470f0 REJECTED\n",
            "124\t File 00ed7a63-56df-48f8-b269-30b620035e85 REJECTED\n",
            "125\t File 00ee7bd5-3868-414a-ba0b-bdf060f8d0e3 REJECTED\n"
          ]
        },
        {
          "output_type": "stream",
          "name": "stderr",
          "text": [
            "<ipython-input-91-9fc97857c8b5>:47: UserWarning: PySoundFile failed. Trying audioread instead.\n",
            "  audio , _ =  librosa.load(f\"coughvid_20211012/{row['uuid']}.webm\",sr=16000,mono=True)\n",
            "/usr/local/lib/python3.10/dist-packages/librosa/core/audio.py:184: FutureWarning: librosa.core.audio.__audioread_load\n",
            "\tDeprecated as of librosa version 0.10.0.\n",
            "\tIt will be removed in librosa version 1.0.\n",
            "  y, sr_native = __audioread_load(path, offset, duration, dtype)\n",
            "<ipython-input-91-9fc97857c8b5>:47: UserWarning: PySoundFile failed. Trying audioread instead.\n",
            "  audio , _ =  librosa.load(f\"coughvid_20211012/{row['uuid']}.webm\",sr=16000,mono=True)\n",
            "/usr/local/lib/python3.10/dist-packages/librosa/core/audio.py:184: FutureWarning: librosa.core.audio.__audioread_load\n",
            "\tDeprecated as of librosa version 0.10.0.\n",
            "\tIt will be removed in librosa version 1.0.\n",
            "  y, sr_native = __audioread_load(path, offset, duration, dtype)\n"
          ]
        },
        {
          "output_type": "stream",
          "name": "stdout",
          "text": [
            "126\t File 00eead73-a2c2-480d-b2ee-d79b1a526871 ACCEPTED\n",
            "127\t File 00eeef06-9ab0-45d8-8ddf-5fbc54b96dec REJECTED\n",
            "128\t File 00f156fa-42f8-40ec-b489-f03b564613fe ACCEPTED\n",
            "129\t File 00f34dc2-79e4-4551-ac94-fd38025b43da REJECTED\n",
            "130\t File 00f41aaf-b05b-4594-8769-fed636fad323 REJECTED\n",
            "131\t File 00f461f5-d121-4254-8d8b-6111e523c5ae REJECTED\n",
            "132\t File 00f4a67a-bdce-484d-b38c-e73c84799074 REJECTED\n"
          ]
        },
        {
          "output_type": "stream",
          "name": "stderr",
          "text": [
            "<ipython-input-91-9fc97857c8b5>:47: UserWarning: PySoundFile failed. Trying audioread instead.\n",
            "  audio , _ =  librosa.load(f\"coughvid_20211012/{row['uuid']}.webm\",sr=16000,mono=True)\n",
            "/usr/local/lib/python3.10/dist-packages/librosa/core/audio.py:184: FutureWarning: librosa.core.audio.__audioread_load\n",
            "\tDeprecated as of librosa version 0.10.0.\n",
            "\tIt will be removed in librosa version 1.0.\n",
            "  y, sr_native = __audioread_load(path, offset, duration, dtype)\n",
            "<ipython-input-91-9fc97857c8b5>:47: UserWarning: PySoundFile failed. Trying audioread instead.\n",
            "  audio , _ =  librosa.load(f\"coughvid_20211012/{row['uuid']}.webm\",sr=16000,mono=True)\n",
            "/usr/local/lib/python3.10/dist-packages/librosa/core/audio.py:184: FutureWarning: librosa.core.audio.__audioread_load\n",
            "\tDeprecated as of librosa version 0.10.0.\n",
            "\tIt will be removed in librosa version 1.0.\n",
            "  y, sr_native = __audioread_load(path, offset, duration, dtype)\n"
          ]
        },
        {
          "output_type": "stream",
          "name": "stdout",
          "text": [
            "133\t File 00f6f5e7-2287-4e6c-865e-d790e096fb72 ACCEPTED\n",
            "134\t File 00fc3fbd-27fc-4d15-99c5-f49bf50be6ef REJECTED\n",
            "135\t File 00fca8f4-6e78-4e00-9953-230b736b0216 REJECTED\n",
            "136\t File 00fcf65a-d331-4f86-9255-781e21cab38b ACCEPTED\n",
            "137\t File 00fdaa7b-d050-43b0-b606-155be40ac80f ACCEPTED\n",
            "138\t File 00ff3842-be25-4e29-8eb7-27793a5e9fa9 ACCEPTED\n",
            "139\t File 00ff6494-286b-4fec-9359-9a38ed18136d REJECTED\n"
          ]
        },
        {
          "output_type": "stream",
          "name": "stderr",
          "text": [
            "<ipython-input-91-9fc97857c8b5>:47: UserWarning: PySoundFile failed. Trying audioread instead.\n",
            "  audio , _ =  librosa.load(f\"coughvid_20211012/{row['uuid']}.webm\",sr=16000,mono=True)\n",
            "/usr/local/lib/python3.10/dist-packages/librosa/core/audio.py:184: FutureWarning: librosa.core.audio.__audioread_load\n",
            "\tDeprecated as of librosa version 0.10.0.\n",
            "\tIt will be removed in librosa version 1.0.\n",
            "  y, sr_native = __audioread_load(path, offset, duration, dtype)\n",
            "<ipython-input-91-9fc97857c8b5>:47: UserWarning: PySoundFile failed. Trying audioread instead.\n",
            "  audio , _ =  librosa.load(f\"coughvid_20211012/{row['uuid']}.webm\",sr=16000,mono=True)\n",
            "/usr/local/lib/python3.10/dist-packages/librosa/core/audio.py:184: FutureWarning: librosa.core.audio.__audioread_load\n",
            "\tDeprecated as of librosa version 0.10.0.\n",
            "\tIt will be removed in librosa version 1.0.\n",
            "  y, sr_native = __audioread_load(path, offset, duration, dtype)\n",
            "<ipython-input-91-9fc97857c8b5>:47: UserWarning: PySoundFile failed. Trying audioread instead.\n",
            "  audio , _ =  librosa.load(f\"coughvid_20211012/{row['uuid']}.webm\",sr=16000,mono=True)\n",
            "/usr/local/lib/python3.10/dist-packages/librosa/core/audio.py:184: FutureWarning: librosa.core.audio.__audioread_load\n",
            "\tDeprecated as of librosa version 0.10.0.\n",
            "\tIt will be removed in librosa version 1.0.\n",
            "  y, sr_native = __audioread_load(path, offset, duration, dtype)\n",
            "<ipython-input-91-9fc97857c8b5>:47: UserWarning: PySoundFile failed. Trying audioread instead.\n",
            "  audio , _ =  librosa.load(f\"coughvid_20211012/{row['uuid']}.webm\",sr=16000,mono=True)\n",
            "/usr/local/lib/python3.10/dist-packages/librosa/core/audio.py:184: FutureWarning: librosa.core.audio.__audioread_load\n",
            "\tDeprecated as of librosa version 0.10.0.\n",
            "\tIt will be removed in librosa version 1.0.\n",
            "  y, sr_native = __audioread_load(path, offset, duration, dtype)\n"
          ]
        },
        {
          "output_type": "stream",
          "name": "stdout",
          "text": [
            "140\t File 0100dbe5-d765-4540-ad0f-547adbbdd5f0 ACCEPTED\n",
            "141\t File 0101bfc8-f959-4614-8daa-ba64b76d742c ACCEPTED\n"
          ]
        },
        {
          "output_type": "stream",
          "name": "stderr",
          "text": [
            "<ipython-input-91-9fc97857c8b5>:47: UserWarning: PySoundFile failed. Trying audioread instead.\n",
            "  audio , _ =  librosa.load(f\"coughvid_20211012/{row['uuid']}.webm\",sr=16000,mono=True)\n",
            "/usr/local/lib/python3.10/dist-packages/librosa/core/audio.py:184: FutureWarning: librosa.core.audio.__audioread_load\n",
            "\tDeprecated as of librosa version 0.10.0.\n",
            "\tIt will be removed in librosa version 1.0.\n",
            "  y, sr_native = __audioread_load(path, offset, duration, dtype)\n",
            "<ipython-input-91-9fc97857c8b5>:47: UserWarning: PySoundFile failed. Trying audioread instead.\n",
            "  audio , _ =  librosa.load(f\"coughvid_20211012/{row['uuid']}.webm\",sr=16000,mono=True)\n",
            "/usr/local/lib/python3.10/dist-packages/librosa/core/audio.py:184: FutureWarning: librosa.core.audio.__audioread_load\n",
            "\tDeprecated as of librosa version 0.10.0.\n",
            "\tIt will be removed in librosa version 1.0.\n",
            "  y, sr_native = __audioread_load(path, offset, duration, dtype)\n"
          ]
        },
        {
          "output_type": "stream",
          "name": "stdout",
          "text": [
            "142\t File 0103f56e-61fb-454c-ab76-1a4ac4d0c849 ACCEPTED\n",
            "143\t File 010518cf-9f66-4a8c-a585-e1be2b3d27dd ACCEPTED\n"
          ]
        },
        {
          "output_type": "stream",
          "name": "stderr",
          "text": [
            "<ipython-input-91-9fc97857c8b5>:47: UserWarning: PySoundFile failed. Trying audioread instead.\n",
            "  audio , _ =  librosa.load(f\"coughvid_20211012/{row['uuid']}.webm\",sr=16000,mono=True)\n",
            "/usr/local/lib/python3.10/dist-packages/librosa/core/audio.py:184: FutureWarning: librosa.core.audio.__audioread_load\n",
            "\tDeprecated as of librosa version 0.10.0.\n",
            "\tIt will be removed in librosa version 1.0.\n",
            "  y, sr_native = __audioread_load(path, offset, duration, dtype)\n",
            "<ipython-input-91-9fc97857c8b5>:47: UserWarning: PySoundFile failed. Trying audioread instead.\n",
            "  audio , _ =  librosa.load(f\"coughvid_20211012/{row['uuid']}.webm\",sr=16000,mono=True)\n",
            "/usr/local/lib/python3.10/dist-packages/librosa/core/audio.py:184: FutureWarning: librosa.core.audio.__audioread_load\n",
            "\tDeprecated as of librosa version 0.10.0.\n",
            "\tIt will be removed in librosa version 1.0.\n",
            "  y, sr_native = __audioread_load(path, offset, duration, dtype)\n"
          ]
        },
        {
          "output_type": "stream",
          "name": "stdout",
          "text": [
            "144\t File 0105c829-d905-4d92-b8a1-55916e7a0756 ACCEPTED\n",
            "145\t File 010a706e-31db-4435-96ff-07dc0c1fc3d1 ACCEPTED\n",
            "146\t File 010d8a17-18b2-43a7-930d-10aa72dd58d9 REJECTED\n",
            "147\t File 01113944-c83a-4c77-995c-361b0b2c45b9 REJECTED\n",
            "148\t File 01120f06-eba3-4f1d-b433-044ccd09eeac ACCEPTED\n",
            "149\t File 01155ee0-0981-4592-b4af-ffabe71a8232 REJECTED\n",
            "150\t File 0117f362-03e6-4176-8d39-40506817f73c ACCEPTED\n",
            "151\t File 011a31c2-9812-4521-aca4-ccb04be99a39 ACCEPTED\n",
            "152\t File 011e91c2-b6c2-421d-8cfd-4294a5c7be44 ACCEPTED\n",
            "153\t File 011eeb79-ef95-4f6a-92de-ed2659083fc9 REJECTED\n",
            "154\t File 01208e5c-5338-4f1b-b8c6-41c049e40d90 REJECTED\n"
          ]
        },
        {
          "output_type": "stream",
          "name": "stderr",
          "text": [
            "<ipython-input-91-9fc97857c8b5>:47: UserWarning: PySoundFile failed. Trying audioread instead.\n",
            "  audio , _ =  librosa.load(f\"coughvid_20211012/{row['uuid']}.webm\",sr=16000,mono=True)\n",
            "/usr/local/lib/python3.10/dist-packages/librosa/core/audio.py:184: FutureWarning: librosa.core.audio.__audioread_load\n",
            "\tDeprecated as of librosa version 0.10.0.\n",
            "\tIt will be removed in librosa version 1.0.\n",
            "  y, sr_native = __audioread_load(path, offset, duration, dtype)\n",
            "<ipython-input-91-9fc97857c8b5>:47: UserWarning: PySoundFile failed. Trying audioread instead.\n",
            "  audio , _ =  librosa.load(f\"coughvid_20211012/{row['uuid']}.webm\",sr=16000,mono=True)\n",
            "/usr/local/lib/python3.10/dist-packages/librosa/core/audio.py:184: FutureWarning: librosa.core.audio.__audioread_load\n",
            "\tDeprecated as of librosa version 0.10.0.\n",
            "\tIt will be removed in librosa version 1.0.\n",
            "  y, sr_native = __audioread_load(path, offset, duration, dtype)\n",
            "<ipython-input-91-9fc97857c8b5>:47: UserWarning: PySoundFile failed. Trying audioread instead.\n",
            "  audio , _ =  librosa.load(f\"coughvid_20211012/{row['uuid']}.webm\",sr=16000,mono=True)\n",
            "/usr/local/lib/python3.10/dist-packages/librosa/core/audio.py:184: FutureWarning: librosa.core.audio.__audioread_load\n",
            "\tDeprecated as of librosa version 0.10.0.\n",
            "\tIt will be removed in librosa version 1.0.\n",
            "  y, sr_native = __audioread_load(path, offset, duration, dtype)\n",
            "<ipython-input-91-9fc97857c8b5>:47: UserWarning: PySoundFile failed. Trying audioread instead.\n",
            "  audio , _ =  librosa.load(f\"coughvid_20211012/{row['uuid']}.webm\",sr=16000,mono=True)\n",
            "/usr/local/lib/python3.10/dist-packages/librosa/core/audio.py:184: FutureWarning: librosa.core.audio.__audioread_load\n",
            "\tDeprecated as of librosa version 0.10.0.\n",
            "\tIt will be removed in librosa version 1.0.\n",
            "  y, sr_native = __audioread_load(path, offset, duration, dtype)\n",
            "<ipython-input-91-9fc97857c8b5>:47: UserWarning: PySoundFile failed. Trying audioread instead.\n",
            "  audio , _ =  librosa.load(f\"coughvid_20211012/{row['uuid']}.webm\",sr=16000,mono=True)\n",
            "/usr/local/lib/python3.10/dist-packages/librosa/core/audio.py:184: FutureWarning: librosa.core.audio.__audioread_load\n",
            "\tDeprecated as of librosa version 0.10.0.\n",
            "\tIt will be removed in librosa version 1.0.\n",
            "  y, sr_native = __audioread_load(path, offset, duration, dtype)\n",
            "<ipython-input-91-9fc97857c8b5>:47: UserWarning: PySoundFile failed. Trying audioread instead.\n",
            "  audio , _ =  librosa.load(f\"coughvid_20211012/{row['uuid']}.webm\",sr=16000,mono=True)\n",
            "/usr/local/lib/python3.10/dist-packages/librosa/core/audio.py:184: FutureWarning: librosa.core.audio.__audioread_load\n",
            "\tDeprecated as of librosa version 0.10.0.\n",
            "\tIt will be removed in librosa version 1.0.\n",
            "  y, sr_native = __audioread_load(path, offset, duration, dtype)\n"
          ]
        },
        {
          "output_type": "stream",
          "name": "stdout",
          "text": [
            "155\t File 0125f947-8993-4f98-8001-9af27cfbb7f6 ACCEPTED\n",
            "156\t File 0126c3a1-a11b-4978-8175-e397d5ba7fa4 ACCEPTED\n",
            "157\t File 012a8047-9ccb-43eb-8cf6-349ac093801a ACCEPTED\n",
            "158\t File 012c5d80-e8a0-4044-9451-9747288d76b3 REJECTED\n",
            "159\t File 012e446d-76e7-4b3e-850d-b654507606aa REJECTED\n",
            "160\t File 012e7e33-e961-471b-9b5e-2ca1bf59a1a5 ACCEPTED\n"
          ]
        },
        {
          "output_type": "stream",
          "name": "stderr",
          "text": [
            "<ipython-input-91-9fc97857c8b5>:47: UserWarning: PySoundFile failed. Trying audioread instead.\n",
            "  audio , _ =  librosa.load(f\"coughvid_20211012/{row['uuid']}.webm\",sr=16000,mono=True)\n",
            "/usr/local/lib/python3.10/dist-packages/librosa/core/audio.py:184: FutureWarning: librosa.core.audio.__audioread_load\n",
            "\tDeprecated as of librosa version 0.10.0.\n",
            "\tIt will be removed in librosa version 1.0.\n",
            "  y, sr_native = __audioread_load(path, offset, duration, dtype)\n",
            "<ipython-input-91-9fc97857c8b5>:47: UserWarning: PySoundFile failed. Trying audioread instead.\n",
            "  audio , _ =  librosa.load(f\"coughvid_20211012/{row['uuid']}.webm\",sr=16000,mono=True)\n",
            "/usr/local/lib/python3.10/dist-packages/librosa/core/audio.py:184: FutureWarning: librosa.core.audio.__audioread_load\n",
            "\tDeprecated as of librosa version 0.10.0.\n",
            "\tIt will be removed in librosa version 1.0.\n",
            "  y, sr_native = __audioread_load(path, offset, duration, dtype)\n",
            "<ipython-input-91-9fc97857c8b5>:47: UserWarning: PySoundFile failed. Trying audioread instead.\n",
            "  audio , _ =  librosa.load(f\"coughvid_20211012/{row['uuid']}.webm\",sr=16000,mono=True)\n",
            "/usr/local/lib/python3.10/dist-packages/librosa/core/audio.py:184: FutureWarning: librosa.core.audio.__audioread_load\n",
            "\tDeprecated as of librosa version 0.10.0.\n",
            "\tIt will be removed in librosa version 1.0.\n",
            "  y, sr_native = __audioread_load(path, offset, duration, dtype)\n",
            "<ipython-input-91-9fc97857c8b5>:47: UserWarning: PySoundFile failed. Trying audioread instead.\n",
            "  audio , _ =  librosa.load(f\"coughvid_20211012/{row['uuid']}.webm\",sr=16000,mono=True)\n",
            "/usr/local/lib/python3.10/dist-packages/librosa/core/audio.py:184: FutureWarning: librosa.core.audio.__audioread_load\n",
            "\tDeprecated as of librosa version 0.10.0.\n",
            "\tIt will be removed in librosa version 1.0.\n",
            "  y, sr_native = __audioread_load(path, offset, duration, dtype)\n"
          ]
        },
        {
          "output_type": "stream",
          "name": "stdout",
          "text": [
            "161\t File 0130d2a5-7c6d-4cfc-b5b4-9fccddc97666 ACCEPTED\n",
            "162\t File 0135dd4a-d367-4f31-bd42-6a6bb4bb5283 REJECTED\n",
            "163\t File 0135de98-590b-4fbb-9bd0-a3e621842e28 ACCEPTED\n",
            "164\t File 0136ee86-9793-4a07-a350-0925b14cde40 REJECTED\n"
          ]
        },
        {
          "output_type": "stream",
          "name": "stderr",
          "text": [
            "<ipython-input-91-9fc97857c8b5>:47: UserWarning: PySoundFile failed. Trying audioread instead.\n",
            "  audio , _ =  librosa.load(f\"coughvid_20211012/{row['uuid']}.webm\",sr=16000,mono=True)\n",
            "/usr/local/lib/python3.10/dist-packages/librosa/core/audio.py:184: FutureWarning: librosa.core.audio.__audioread_load\n",
            "\tDeprecated as of librosa version 0.10.0.\n",
            "\tIt will be removed in librosa version 1.0.\n",
            "  y, sr_native = __audioread_load(path, offset, duration, dtype)\n",
            "<ipython-input-91-9fc97857c8b5>:47: UserWarning: PySoundFile failed. Trying audioread instead.\n",
            "  audio , _ =  librosa.load(f\"coughvid_20211012/{row['uuid']}.webm\",sr=16000,mono=True)\n",
            "/usr/local/lib/python3.10/dist-packages/librosa/core/audio.py:184: FutureWarning: librosa.core.audio.__audioread_load\n",
            "\tDeprecated as of librosa version 0.10.0.\n",
            "\tIt will be removed in librosa version 1.0.\n",
            "  y, sr_native = __audioread_load(path, offset, duration, dtype)\n"
          ]
        },
        {
          "output_type": "stream",
          "name": "stdout",
          "text": [
            "165\t File 0137b859-fcf9-452e-869f-611f77a1a89f ACCEPTED\n",
            "166\t File 013a6d1d-6799-4e5d-aa31-2cf3fd4c6cac ACCEPTED\n",
            "167\t File 013a810e-a3af-4057-a158-f0ca62fb057a ACCEPTED\n"
          ]
        },
        {
          "output_type": "stream",
          "name": "stderr",
          "text": [
            "<ipython-input-91-9fc97857c8b5>:47: UserWarning: PySoundFile failed. Trying audioread instead.\n",
            "  audio , _ =  librosa.load(f\"coughvid_20211012/{row['uuid']}.webm\",sr=16000,mono=True)\n",
            "/usr/local/lib/python3.10/dist-packages/librosa/core/audio.py:184: FutureWarning: librosa.core.audio.__audioread_load\n",
            "\tDeprecated as of librosa version 0.10.0.\n",
            "\tIt will be removed in librosa version 1.0.\n",
            "  y, sr_native = __audioread_load(path, offset, duration, dtype)\n",
            "<ipython-input-91-9fc97857c8b5>:47: UserWarning: PySoundFile failed. Trying audioread instead.\n",
            "  audio , _ =  librosa.load(f\"coughvid_20211012/{row['uuid']}.webm\",sr=16000,mono=True)\n",
            "/usr/local/lib/python3.10/dist-packages/librosa/core/audio.py:184: FutureWarning: librosa.core.audio.__audioread_load\n",
            "\tDeprecated as of librosa version 0.10.0.\n",
            "\tIt will be removed in librosa version 1.0.\n",
            "  y, sr_native = __audioread_load(path, offset, duration, dtype)\n",
            "<ipython-input-91-9fc97857c8b5>:47: UserWarning: PySoundFile failed. Trying audioread instead.\n",
            "  audio , _ =  librosa.load(f\"coughvid_20211012/{row['uuid']}.webm\",sr=16000,mono=True)\n",
            "/usr/local/lib/python3.10/dist-packages/librosa/core/audio.py:184: FutureWarning: librosa.core.audio.__audioread_load\n",
            "\tDeprecated as of librosa version 0.10.0.\n",
            "\tIt will be removed in librosa version 1.0.\n",
            "  y, sr_native = __audioread_load(path, offset, duration, dtype)\n"
          ]
        },
        {
          "output_type": "stream",
          "name": "stdout",
          "text": [
            "168\t File 013c5c4f-1848-42e5-8b27-6ca9a96e6fb8 ACCEPTED\n",
            "169\t File 013cb5f8-58ad-4865-afd5-f0d280f36a5e REJECTED\n",
            "170\t File 013f0ece-e8cb-4f7a-a9cb-7a43a510b24b ACCEPTED\n",
            "171\t File 013f9a30-9d4d-4df9-b338-468d2be6be37 REJECTED\n",
            "172\t File 013fc0ea-3ae8-4c16-8efd-d597dcd9461d REJECTED\n",
            "173\t File 013fea2d-672a-4742-bdd3-74968523026c REJECTED\n"
          ]
        },
        {
          "output_type": "stream",
          "name": "stderr",
          "text": [
            "<ipython-input-91-9fc97857c8b5>:47: UserWarning: PySoundFile failed. Trying audioread instead.\n",
            "  audio , _ =  librosa.load(f\"coughvid_20211012/{row['uuid']}.webm\",sr=16000,mono=True)\n",
            "/usr/local/lib/python3.10/dist-packages/librosa/core/audio.py:184: FutureWarning: librosa.core.audio.__audioread_load\n",
            "\tDeprecated as of librosa version 0.10.0.\n",
            "\tIt will be removed in librosa version 1.0.\n",
            "  y, sr_native = __audioread_load(path, offset, duration, dtype)\n",
            "<ipython-input-91-9fc97857c8b5>:47: UserWarning: PySoundFile failed. Trying audioread instead.\n",
            "  audio , _ =  librosa.load(f\"coughvid_20211012/{row['uuid']}.webm\",sr=16000,mono=True)\n",
            "/usr/local/lib/python3.10/dist-packages/librosa/core/audio.py:184: FutureWarning: librosa.core.audio.__audioread_load\n",
            "\tDeprecated as of librosa version 0.10.0.\n",
            "\tIt will be removed in librosa version 1.0.\n",
            "  y, sr_native = __audioread_load(path, offset, duration, dtype)\n"
          ]
        },
        {
          "output_type": "stream",
          "name": "stdout",
          "text": [
            "174\t File 01424527-9c3b-4b6e-96f1-9eea3150819b ACCEPTED\n",
            "175\t File 01426da3-71a5-49d0-b153-65ce022a7e1d REJECTED\n",
            "176\t File 01427924-4b7c-42ac-952b-7203f6edbbe7 REJECTED\n",
            "177\t File 01430fd0-c3f1-4991-b7a7-df514285401c ACCEPTED\n",
            "178\t File 01464036-f2b4-4875-82f4-728d7e7279f0 REJECTED\n"
          ]
        },
        {
          "output_type": "stream",
          "name": "stderr",
          "text": [
            "<ipython-input-91-9fc97857c8b5>:47: UserWarning: PySoundFile failed. Trying audioread instead.\n",
            "  audio , _ =  librosa.load(f\"coughvid_20211012/{row['uuid']}.webm\",sr=16000,mono=True)\n",
            "/usr/local/lib/python3.10/dist-packages/librosa/core/audio.py:184: FutureWarning: librosa.core.audio.__audioread_load\n",
            "\tDeprecated as of librosa version 0.10.0.\n",
            "\tIt will be removed in librosa version 1.0.\n",
            "  y, sr_native = __audioread_load(path, offset, duration, dtype)\n",
            "<ipython-input-91-9fc97857c8b5>:47: UserWarning: PySoundFile failed. Trying audioread instead.\n",
            "  audio , _ =  librosa.load(f\"coughvid_20211012/{row['uuid']}.webm\",sr=16000,mono=True)\n",
            "/usr/local/lib/python3.10/dist-packages/librosa/core/audio.py:184: FutureWarning: librosa.core.audio.__audioread_load\n",
            "\tDeprecated as of librosa version 0.10.0.\n",
            "\tIt will be removed in librosa version 1.0.\n",
            "  y, sr_native = __audioread_load(path, offset, duration, dtype)\n"
          ]
        },
        {
          "output_type": "stream",
          "name": "stdout",
          "text": [
            "179\t File 014889da-0d35-46e8-b70d-e80f9bb51551 ACCEPTED\n",
            "180\t File 014a2053-5475-4136-9176-471949da8561 ACCEPTED\n"
          ]
        },
        {
          "output_type": "stream",
          "name": "stderr",
          "text": [
            "<ipython-input-91-9fc97857c8b5>:47: UserWarning: PySoundFile failed. Trying audioread instead.\n",
            "  audio , _ =  librosa.load(f\"coughvid_20211012/{row['uuid']}.webm\",sr=16000,mono=True)\n",
            "/usr/local/lib/python3.10/dist-packages/librosa/core/audio.py:184: FutureWarning: librosa.core.audio.__audioread_load\n",
            "\tDeprecated as of librosa version 0.10.0.\n",
            "\tIt will be removed in librosa version 1.0.\n",
            "  y, sr_native = __audioread_load(path, offset, duration, dtype)\n",
            "<ipython-input-91-9fc97857c8b5>:47: UserWarning: PySoundFile failed. Trying audioread instead.\n",
            "  audio , _ =  librosa.load(f\"coughvid_20211012/{row['uuid']}.webm\",sr=16000,mono=True)\n",
            "/usr/local/lib/python3.10/dist-packages/librosa/core/audio.py:184: FutureWarning: librosa.core.audio.__audioread_load\n",
            "\tDeprecated as of librosa version 0.10.0.\n",
            "\tIt will be removed in librosa version 1.0.\n",
            "  y, sr_native = __audioread_load(path, offset, duration, dtype)\n"
          ]
        },
        {
          "output_type": "stream",
          "name": "stdout",
          "text": [
            "181\t File 014b1af2-1d84-4336-ab6b-e0e009cd86c3 ACCEPTED\n",
            "182\t File 014c19df-2fa1-4035-83aa-b1de288aaea0 REJECTED\n",
            "183\t File 015030c3-f8a5-4658-8727-5360e1e4737b REJECTED\n",
            "184\t File 0153da92-3e0e-414c-b0dc-92ef6c64c172 REJECTED\n",
            "185\t File 015576c8-2b03-4dcb-b251-78a984fe86fe ACCEPTED\n",
            "186\t File 01567151-7bb2-45ee-9aa8-a1332b5941ea REJECTED\n",
            "187\t File 015b8bd1-afe5-439a-a6e6-1547abdfdb30 REJECTED\n",
            "188\t File 015c4e92-ae36-498c-ae49-55e41ecf0f7d ACCEPTED\n",
            "189\t File 015ec831-e765-44ee-aefc-10dfd95dec78 ACCEPTED\n",
            "190\t File 0160d81f-c516-4980-aa1d-1ef4cf08149c ACCEPTED\n",
            "191\t File 0161037f-80f4-4dab-9ad7-832246c46196 REJECTED\n"
          ]
        },
        {
          "output_type": "stream",
          "name": "stderr",
          "text": [
            "<ipython-input-91-9fc97857c8b5>:47: UserWarning: PySoundFile failed. Trying audioread instead.\n",
            "  audio , _ =  librosa.load(f\"coughvid_20211012/{row['uuid']}.webm\",sr=16000,mono=True)\n",
            "/usr/local/lib/python3.10/dist-packages/librosa/core/audio.py:184: FutureWarning: librosa.core.audio.__audioread_load\n",
            "\tDeprecated as of librosa version 0.10.0.\n",
            "\tIt will be removed in librosa version 1.0.\n",
            "  y, sr_native = __audioread_load(path, offset, duration, dtype)\n",
            "<ipython-input-91-9fc97857c8b5>:47: UserWarning: PySoundFile failed. Trying audioread instead.\n",
            "  audio , _ =  librosa.load(f\"coughvid_20211012/{row['uuid']}.webm\",sr=16000,mono=True)\n",
            "/usr/local/lib/python3.10/dist-packages/librosa/core/audio.py:184: FutureWarning: librosa.core.audio.__audioread_load\n",
            "\tDeprecated as of librosa version 0.10.0.\n",
            "\tIt will be removed in librosa version 1.0.\n",
            "  y, sr_native = __audioread_load(path, offset, duration, dtype)\n",
            "<ipython-input-91-9fc97857c8b5>:47: UserWarning: PySoundFile failed. Trying audioread instead.\n",
            "  audio , _ =  librosa.load(f\"coughvid_20211012/{row['uuid']}.webm\",sr=16000,mono=True)\n",
            "/usr/local/lib/python3.10/dist-packages/librosa/core/audio.py:184: FutureWarning: librosa.core.audio.__audioread_load\n",
            "\tDeprecated as of librosa version 0.10.0.\n",
            "\tIt will be removed in librosa version 1.0.\n",
            "  y, sr_native = __audioread_load(path, offset, duration, dtype)\n",
            "<ipython-input-91-9fc97857c8b5>:47: UserWarning: PySoundFile failed. Trying audioread instead.\n",
            "  audio , _ =  librosa.load(f\"coughvid_20211012/{row['uuid']}.webm\",sr=16000,mono=True)\n",
            "/usr/local/lib/python3.10/dist-packages/librosa/core/audio.py:184: FutureWarning: librosa.core.audio.__audioread_load\n",
            "\tDeprecated as of librosa version 0.10.0.\n",
            "\tIt will be removed in librosa version 1.0.\n",
            "  y, sr_native = __audioread_load(path, offset, duration, dtype)\n",
            "<ipython-input-91-9fc97857c8b5>:47: UserWarning: PySoundFile failed. Trying audioread instead.\n",
            "  audio , _ =  librosa.load(f\"coughvid_20211012/{row['uuid']}.webm\",sr=16000,mono=True)\n",
            "/usr/local/lib/python3.10/dist-packages/librosa/core/audio.py:184: FutureWarning: librosa.core.audio.__audioread_load\n",
            "\tDeprecated as of librosa version 0.10.0.\n",
            "\tIt will be removed in librosa version 1.0.\n",
            "  y, sr_native = __audioread_load(path, offset, duration, dtype)\n"
          ]
        },
        {
          "output_type": "stream",
          "name": "stdout",
          "text": [
            "192\t File 01614a4a-947f-43ca-a609-fc2787509f6f ACCEPTED\n",
            "193\t File 016173c7-5890-49e2-891f-3ef460cda5f8 REJECTED\n",
            "194\t File 0161e3c5-b986-4ef1-9229-17306e8cfdbe REJECTED\n",
            "195\t File 0164fd10-73e3-48dd-b117-cdd576124e05 REJECTED\n",
            "196\t File 01672ac0-dfd5-4aaf-b57b-d6dfa411b43d ACCEPTED\n",
            "197\t File 01674aff-9899-437f-971f-a516afec2bf5 ACCEPTED\n",
            "198\t File 01690401-e2ed-40ea-8852-9d01cec22be6 ACCEPTED\n",
            "199\t File 01695001-bbab-4bf4-b88f-7372c0b64bb2 ACCEPTED\n",
            "200\t File 016acd2d-7b88-43fe-a153-8194ecdb5a8d REJECTED\n",
            "201\t File 01723b00-382f-4089-a7c3-9c90b3ddad17 REJECTED\n",
            "202\t File 0172e11c-f676-42ec-ac95-d0a8f82c7c62 ACCEPTED\n",
            "203\t File 01743507-7a29-431a-9708-d9ec83385ccd REJECTED\n",
            "204\t File 0177b817-0ba3-498a-bc05-48bc66cc91b8 ACCEPTED\n",
            "205\t File 01781f0a-6d9e-432a-931f-a2ced02c1411 ACCEPTED\n"
          ]
        },
        {
          "output_type": "stream",
          "name": "stderr",
          "text": [
            "<ipython-input-91-9fc97857c8b5>:47: UserWarning: PySoundFile failed. Trying audioread instead.\n",
            "  audio , _ =  librosa.load(f\"coughvid_20211012/{row['uuid']}.webm\",sr=16000,mono=True)\n",
            "/usr/local/lib/python3.10/dist-packages/librosa/core/audio.py:184: FutureWarning: librosa.core.audio.__audioread_load\n",
            "\tDeprecated as of librosa version 0.10.0.\n",
            "\tIt will be removed in librosa version 1.0.\n",
            "  y, sr_native = __audioread_load(path, offset, duration, dtype)\n",
            "<ipython-input-91-9fc97857c8b5>:47: UserWarning: PySoundFile failed. Trying audioread instead.\n",
            "  audio , _ =  librosa.load(f\"coughvid_20211012/{row['uuid']}.webm\",sr=16000,mono=True)\n",
            "/usr/local/lib/python3.10/dist-packages/librosa/core/audio.py:184: FutureWarning: librosa.core.audio.__audioread_load\n",
            "\tDeprecated as of librosa version 0.10.0.\n",
            "\tIt will be removed in librosa version 1.0.\n",
            "  y, sr_native = __audioread_load(path, offset, duration, dtype)\n",
            "<ipython-input-91-9fc97857c8b5>:47: UserWarning: PySoundFile failed. Trying audioread instead.\n",
            "  audio , _ =  librosa.load(f\"coughvid_20211012/{row['uuid']}.webm\",sr=16000,mono=True)\n",
            "/usr/local/lib/python3.10/dist-packages/librosa/core/audio.py:184: FutureWarning: librosa.core.audio.__audioread_load\n",
            "\tDeprecated as of librosa version 0.10.0.\n",
            "\tIt will be removed in librosa version 1.0.\n",
            "  y, sr_native = __audioread_load(path, offset, duration, dtype)\n",
            "<ipython-input-91-9fc97857c8b5>:47: UserWarning: PySoundFile failed. Trying audioread instead.\n",
            "  audio , _ =  librosa.load(f\"coughvid_20211012/{row['uuid']}.webm\",sr=16000,mono=True)\n",
            "/usr/local/lib/python3.10/dist-packages/librosa/core/audio.py:184: FutureWarning: librosa.core.audio.__audioread_load\n",
            "\tDeprecated as of librosa version 0.10.0.\n",
            "\tIt will be removed in librosa version 1.0.\n",
            "  y, sr_native = __audioread_load(path, offset, duration, dtype)\n",
            "<ipython-input-91-9fc97857c8b5>:47: UserWarning: PySoundFile failed. Trying audioread instead.\n",
            "  audio , _ =  librosa.load(f\"coughvid_20211012/{row['uuid']}.webm\",sr=16000,mono=True)\n",
            "/usr/local/lib/python3.10/dist-packages/librosa/core/audio.py:184: FutureWarning: librosa.core.audio.__audioread_load\n",
            "\tDeprecated as of librosa version 0.10.0.\n",
            "\tIt will be removed in librosa version 1.0.\n",
            "  y, sr_native = __audioread_load(path, offset, duration, dtype)\n",
            "<ipython-input-91-9fc97857c8b5>:47: UserWarning: PySoundFile failed. Trying audioread instead.\n",
            "  audio , _ =  librosa.load(f\"coughvid_20211012/{row['uuid']}.webm\",sr=16000,mono=True)\n",
            "/usr/local/lib/python3.10/dist-packages/librosa/core/audio.py:184: FutureWarning: librosa.core.audio.__audioread_load\n",
            "\tDeprecated as of librosa version 0.10.0.\n",
            "\tIt will be removed in librosa version 1.0.\n",
            "  y, sr_native = __audioread_load(path, offset, duration, dtype)\n",
            "<ipython-input-91-9fc97857c8b5>:47: UserWarning: PySoundFile failed. Trying audioread instead.\n",
            "  audio , _ =  librosa.load(f\"coughvid_20211012/{row['uuid']}.webm\",sr=16000,mono=True)\n",
            "/usr/local/lib/python3.10/dist-packages/librosa/core/audio.py:184: FutureWarning: librosa.core.audio.__audioread_load\n",
            "\tDeprecated as of librosa version 0.10.0.\n",
            "\tIt will be removed in librosa version 1.0.\n",
            "  y, sr_native = __audioread_load(path, offset, duration, dtype)\n",
            "<ipython-input-91-9fc97857c8b5>:47: UserWarning: PySoundFile failed. Trying audioread instead.\n",
            "  audio , _ =  librosa.load(f\"coughvid_20211012/{row['uuid']}.webm\",sr=16000,mono=True)\n",
            "/usr/local/lib/python3.10/dist-packages/librosa/core/audio.py:184: FutureWarning: librosa.core.audio.__audioread_load\n",
            "\tDeprecated as of librosa version 0.10.0.\n",
            "\tIt will be removed in librosa version 1.0.\n",
            "  y, sr_native = __audioread_load(path, offset, duration, dtype)\n"
          ]
        },
        {
          "output_type": "stream",
          "name": "stdout",
          "text": [
            "206\t File 0179094a-e855-4bc7-a479-1218eb016635 ACCEPTED\n",
            "207\t File 01820f7c-b953-4faf-aa13-978cfda6b08e ACCEPTED\n",
            "208\t File 01831a38-dd67-4cc6-90f0-d5f351778d20 REJECTED\n",
            "209\t File 01857b7e-a892-4179-b893-c6a4b67cc2cf ACCEPTED\n",
            "210\t File 01861986-a00a-44ec-a397-5b5cf7cb66af REJECTED\n",
            "211\t File 01887051-1e3a-4287-85bc-0f2633740667 REJECTED\n",
            "212\t File 018b40a1-c109-459a-9e31-86cbd2cb3918 REJECTED\n"
          ]
        },
        {
          "output_type": "stream",
          "name": "stderr",
          "text": [
            "<ipython-input-91-9fc97857c8b5>:47: UserWarning: PySoundFile failed. Trying audioread instead.\n",
            "  audio , _ =  librosa.load(f\"coughvid_20211012/{row['uuid']}.webm\",sr=16000,mono=True)\n",
            "/usr/local/lib/python3.10/dist-packages/librosa/core/audio.py:184: FutureWarning: librosa.core.audio.__audioread_load\n",
            "\tDeprecated as of librosa version 0.10.0.\n",
            "\tIt will be removed in librosa version 1.0.\n",
            "  y, sr_native = __audioread_load(path, offset, duration, dtype)\n",
            "<ipython-input-91-9fc97857c8b5>:47: UserWarning: PySoundFile failed. Trying audioread instead.\n",
            "  audio , _ =  librosa.load(f\"coughvid_20211012/{row['uuid']}.webm\",sr=16000,mono=True)\n",
            "/usr/local/lib/python3.10/dist-packages/librosa/core/audio.py:184: FutureWarning: librosa.core.audio.__audioread_load\n",
            "\tDeprecated as of librosa version 0.10.0.\n",
            "\tIt will be removed in librosa version 1.0.\n",
            "  y, sr_native = __audioread_load(path, offset, duration, dtype)\n",
            "<ipython-input-91-9fc97857c8b5>:47: UserWarning: PySoundFile failed. Trying audioread instead.\n",
            "  audio , _ =  librosa.load(f\"coughvid_20211012/{row['uuid']}.webm\",sr=16000,mono=True)\n",
            "/usr/local/lib/python3.10/dist-packages/librosa/core/audio.py:184: FutureWarning: librosa.core.audio.__audioread_load\n",
            "\tDeprecated as of librosa version 0.10.0.\n",
            "\tIt will be removed in librosa version 1.0.\n",
            "  y, sr_native = __audioread_load(path, offset, duration, dtype)\n"
          ]
        },
        {
          "output_type": "stream",
          "name": "stdout",
          "text": [
            "213\t File 018b7308-3081-4cd9-85ea-ad1e23a89ad6 ACCEPTED\n",
            "214\t File 018bc2d1-2ae0-4e11-abab-50e1c75a2dcc REJECTED\n",
            "215\t File 018c775d-71f3-47e0-8c8c-2f0c61b6789a REJECTED\n"
          ]
        },
        {
          "output_type": "stream",
          "name": "stderr",
          "text": [
            "<ipython-input-91-9fc97857c8b5>:47: UserWarning: PySoundFile failed. Trying audioread instead.\n",
            "  audio , _ =  librosa.load(f\"coughvid_20211012/{row['uuid']}.webm\",sr=16000,mono=True)\n",
            "/usr/local/lib/python3.10/dist-packages/librosa/core/audio.py:184: FutureWarning: librosa.core.audio.__audioread_load\n",
            "\tDeprecated as of librosa version 0.10.0.\n",
            "\tIt will be removed in librosa version 1.0.\n",
            "  y, sr_native = __audioread_load(path, offset, duration, dtype)\n"
          ]
        },
        {
          "output_type": "stream",
          "name": "stdout",
          "text": [
            "216\t File 018fa370-c14f-4639-8452-8fbf5452da7d ACCEPTED\n",
            "217\t File 0194915b-e12d-438d-be66-b89ab2b6e5fd ACCEPTED\n"
          ]
        },
        {
          "output_type": "stream",
          "name": "stderr",
          "text": [
            "<ipython-input-91-9fc97857c8b5>:47: UserWarning: PySoundFile failed. Trying audioread instead.\n",
            "  audio , _ =  librosa.load(f\"coughvid_20211012/{row['uuid']}.webm\",sr=16000,mono=True)\n",
            "/usr/local/lib/python3.10/dist-packages/librosa/core/audio.py:184: FutureWarning: librosa.core.audio.__audioread_load\n",
            "\tDeprecated as of librosa version 0.10.0.\n",
            "\tIt will be removed in librosa version 1.0.\n",
            "  y, sr_native = __audioread_load(path, offset, duration, dtype)\n",
            "<ipython-input-91-9fc97857c8b5>:47: UserWarning: PySoundFile failed. Trying audioread instead.\n",
            "  audio , _ =  librosa.load(f\"coughvid_20211012/{row['uuid']}.webm\",sr=16000,mono=True)\n",
            "/usr/local/lib/python3.10/dist-packages/librosa/core/audio.py:184: FutureWarning: librosa.core.audio.__audioread_load\n",
            "\tDeprecated as of librosa version 0.10.0.\n",
            "\tIt will be removed in librosa version 1.0.\n",
            "  y, sr_native = __audioread_load(path, offset, duration, dtype)\n"
          ]
        },
        {
          "output_type": "stream",
          "name": "stdout",
          "text": [
            "218\t File 0198f851-7a0d-4eb3-8adf-cb94ea71e3c8 ACCEPTED\n",
            "219\t File 019cca3c-dde0-455f-857b-d49b5f9d1037 REJECTED\n",
            "220\t File 01a03fb2-2e31-48d7-9aea-9d7b03445fb4 REJECTED\n",
            "221\t File 01a040f2-b10c-4be9-b226-6266d964d5dc ACCEPTED\n"
          ]
        },
        {
          "output_type": "stream",
          "name": "stderr",
          "text": [
            "<ipython-input-91-9fc97857c8b5>:47: UserWarning: PySoundFile failed. Trying audioread instead.\n",
            "  audio , _ =  librosa.load(f\"coughvid_20211012/{row['uuid']}.webm\",sr=16000,mono=True)\n",
            "/usr/local/lib/python3.10/dist-packages/librosa/core/audio.py:184: FutureWarning: librosa.core.audio.__audioread_load\n",
            "\tDeprecated as of librosa version 0.10.0.\n",
            "\tIt will be removed in librosa version 1.0.\n",
            "  y, sr_native = __audioread_load(path, offset, duration, dtype)\n",
            "<ipython-input-91-9fc97857c8b5>:47: UserWarning: PySoundFile failed. Trying audioread instead.\n",
            "  audio , _ =  librosa.load(f\"coughvid_20211012/{row['uuid']}.webm\",sr=16000,mono=True)\n",
            "/usr/local/lib/python3.10/dist-packages/librosa/core/audio.py:184: FutureWarning: librosa.core.audio.__audioread_load\n",
            "\tDeprecated as of librosa version 0.10.0.\n",
            "\tIt will be removed in librosa version 1.0.\n",
            "  y, sr_native = __audioread_load(path, offset, duration, dtype)\n"
          ]
        },
        {
          "output_type": "stream",
          "name": "stdout",
          "text": [
            "222\t File 01a4c8d6-05df-4c24-b993-f1a9672507c5 ACCEPTED\n",
            "223\t File 01a5874a-e105-4a33-95af-06c068e3f715 ACCEPTED\n",
            "224\t File 01a809fd-490b-4b12-ba05-2e0f2113fcc7 REJECTED\n",
            "225\t File 01ac75a6-1c9d-4d34-89a0-5694e344cd1f ACCEPTED\n"
          ]
        },
        {
          "output_type": "stream",
          "name": "stderr",
          "text": [
            "<ipython-input-91-9fc97857c8b5>:47: UserWarning: PySoundFile failed. Trying audioread instead.\n",
            "  audio , _ =  librosa.load(f\"coughvid_20211012/{row['uuid']}.webm\",sr=16000,mono=True)\n",
            "/usr/local/lib/python3.10/dist-packages/librosa/core/audio.py:184: FutureWarning: librosa.core.audio.__audioread_load\n",
            "\tDeprecated as of librosa version 0.10.0.\n",
            "\tIt will be removed in librosa version 1.0.\n",
            "  y, sr_native = __audioread_load(path, offset, duration, dtype)\n",
            "<ipython-input-91-9fc97857c8b5>:47: UserWarning: PySoundFile failed. Trying audioread instead.\n",
            "  audio , _ =  librosa.load(f\"coughvid_20211012/{row['uuid']}.webm\",sr=16000,mono=True)\n",
            "/usr/local/lib/python3.10/dist-packages/librosa/core/audio.py:184: FutureWarning: librosa.core.audio.__audioread_load\n",
            "\tDeprecated as of librosa version 0.10.0.\n",
            "\tIt will be removed in librosa version 1.0.\n",
            "  y, sr_native = __audioread_load(path, offset, duration, dtype)\n",
            "<ipython-input-91-9fc97857c8b5>:47: UserWarning: PySoundFile failed. Trying audioread instead.\n",
            "  audio , _ =  librosa.load(f\"coughvid_20211012/{row['uuid']}.webm\",sr=16000,mono=True)\n",
            "/usr/local/lib/python3.10/dist-packages/librosa/core/audio.py:184: FutureWarning: librosa.core.audio.__audioread_load\n",
            "\tDeprecated as of librosa version 0.10.0.\n",
            "\tIt will be removed in librosa version 1.0.\n",
            "  y, sr_native = __audioread_load(path, offset, duration, dtype)\n"
          ]
        },
        {
          "output_type": "stream",
          "name": "stdout",
          "text": [
            "226\t File 01acd5c6-b615-4139-a115-b77a9dba9301 ACCEPTED\n",
            "227\t File 01b07c48-d17a-45e2-90b0-d99dbbd0c4b9 ACCEPTED\n",
            "228\t File 01b1433f-24a2-4615-8847-5e4523aa6579 REJECTED\n",
            "229\t File 01b24244-9b89-4a14-b935-4da842926267 REJECTED\n",
            "230\t File 01b3a185-348c-4846-beae-3ce47d8b2936 REJECTED\n"
          ]
        },
        {
          "output_type": "stream",
          "name": "stderr",
          "text": [
            "<ipython-input-91-9fc97857c8b5>:47: UserWarning: PySoundFile failed. Trying audioread instead.\n",
            "  audio , _ =  librosa.load(f\"coughvid_20211012/{row['uuid']}.webm\",sr=16000,mono=True)\n",
            "/usr/local/lib/python3.10/dist-packages/librosa/core/audio.py:184: FutureWarning: librosa.core.audio.__audioread_load\n",
            "\tDeprecated as of librosa version 0.10.0.\n",
            "\tIt will be removed in librosa version 1.0.\n",
            "  y, sr_native = __audioread_load(path, offset, duration, dtype)\n",
            "<ipython-input-91-9fc97857c8b5>:47: UserWarning: PySoundFile failed. Trying audioread instead.\n",
            "  audio , _ =  librosa.load(f\"coughvid_20211012/{row['uuid']}.webm\",sr=16000,mono=True)\n",
            "/usr/local/lib/python3.10/dist-packages/librosa/core/audio.py:184: FutureWarning: librosa.core.audio.__audioread_load\n",
            "\tDeprecated as of librosa version 0.10.0.\n",
            "\tIt will be removed in librosa version 1.0.\n",
            "  y, sr_native = __audioread_load(path, offset, duration, dtype)\n"
          ]
        },
        {
          "output_type": "stream",
          "name": "stdout",
          "text": [
            "231\t File 01b83641-dc8e-4231-a50e-32ede1ffd5e2 ACCEPTED\n",
            "232\t File 01ba3311-afec-4b53-a318-55216e0e7fae ACCEPTED\n"
          ]
        },
        {
          "output_type": "stream",
          "name": "stderr",
          "text": [
            "<ipython-input-91-9fc97857c8b5>:47: UserWarning: PySoundFile failed. Trying audioread instead.\n",
            "  audio , _ =  librosa.load(f\"coughvid_20211012/{row['uuid']}.webm\",sr=16000,mono=True)\n",
            "/usr/local/lib/python3.10/dist-packages/librosa/core/audio.py:184: FutureWarning: librosa.core.audio.__audioread_load\n",
            "\tDeprecated as of librosa version 0.10.0.\n",
            "\tIt will be removed in librosa version 1.0.\n",
            "  y, sr_native = __audioread_load(path, offset, duration, dtype)\n",
            "<ipython-input-91-9fc97857c8b5>:47: UserWarning: PySoundFile failed. Trying audioread instead.\n",
            "  audio , _ =  librosa.load(f\"coughvid_20211012/{row['uuid']}.webm\",sr=16000,mono=True)\n",
            "/usr/local/lib/python3.10/dist-packages/librosa/core/audio.py:184: FutureWarning: librosa.core.audio.__audioread_load\n",
            "\tDeprecated as of librosa version 0.10.0.\n",
            "\tIt will be removed in librosa version 1.0.\n",
            "  y, sr_native = __audioread_load(path, offset, duration, dtype)\n"
          ]
        },
        {
          "output_type": "stream",
          "name": "stdout",
          "text": [
            "233\t File 01bbb397-434a-40d1-9e14-43869155df5e ACCEPTED\n",
            "234\t File 01bce73f-86a6-40dd-87c1-d4cda2b79ea2 ACCEPTED\n"
          ]
        },
        {
          "output_type": "stream",
          "name": "stderr",
          "text": [
            "<ipython-input-91-9fc97857c8b5>:47: UserWarning: PySoundFile failed. Trying audioread instead.\n",
            "  audio , _ =  librosa.load(f\"coughvid_20211012/{row['uuid']}.webm\",sr=16000,mono=True)\n",
            "/usr/local/lib/python3.10/dist-packages/librosa/core/audio.py:184: FutureWarning: librosa.core.audio.__audioread_load\n",
            "\tDeprecated as of librosa version 0.10.0.\n",
            "\tIt will be removed in librosa version 1.0.\n",
            "  y, sr_native = __audioread_load(path, offset, duration, dtype)\n",
            "<ipython-input-91-9fc97857c8b5>:47: UserWarning: PySoundFile failed. Trying audioread instead.\n",
            "  audio , _ =  librosa.load(f\"coughvid_20211012/{row['uuid']}.webm\",sr=16000,mono=True)\n",
            "/usr/local/lib/python3.10/dist-packages/librosa/core/audio.py:184: FutureWarning: librosa.core.audio.__audioread_load\n",
            "\tDeprecated as of librosa version 0.10.0.\n",
            "\tIt will be removed in librosa version 1.0.\n",
            "  y, sr_native = __audioread_load(path, offset, duration, dtype)\n"
          ]
        },
        {
          "output_type": "stream",
          "name": "stdout",
          "text": [
            "235\t File 01bf156f-a8ff-48f6-9335-8a1f5bb4c1b7 ACCEPTED\n",
            "236\t File 01bf9678-b237-4e9d-8552-fe7b0ee650f5 ACCEPTED\n",
            "237\t File 01c1c8d7-611c-4a28-b48a-8f0ce3506e49 REJECTED\n",
            "238\t File 01c3dbd5-8f95-4878-8dd0-1aa929fd47a2 REJECTED\n",
            "239\t File 01c45518-51ca-4777-83cd-28d58a244739 REJECTED\n",
            "240\t File 01c68b01-eb16-48ca-acca-18ea8c463d2f REJECTED\n"
          ]
        },
        {
          "output_type": "stream",
          "name": "stderr",
          "text": [
            "<ipython-input-91-9fc97857c8b5>:47: UserWarning: PySoundFile failed. Trying audioread instead.\n",
            "  audio , _ =  librosa.load(f\"coughvid_20211012/{row['uuid']}.webm\",sr=16000,mono=True)\n",
            "/usr/local/lib/python3.10/dist-packages/librosa/core/audio.py:184: FutureWarning: librosa.core.audio.__audioread_load\n",
            "\tDeprecated as of librosa version 0.10.0.\n",
            "\tIt will be removed in librosa version 1.0.\n",
            "  y, sr_native = __audioread_load(path, offset, duration, dtype)\n",
            "<ipython-input-91-9fc97857c8b5>:47: UserWarning: PySoundFile failed. Trying audioread instead.\n",
            "  audio , _ =  librosa.load(f\"coughvid_20211012/{row['uuid']}.webm\",sr=16000,mono=True)\n",
            "/usr/local/lib/python3.10/dist-packages/librosa/core/audio.py:184: FutureWarning: librosa.core.audio.__audioread_load\n",
            "\tDeprecated as of librosa version 0.10.0.\n",
            "\tIt will be removed in librosa version 1.0.\n",
            "  y, sr_native = __audioread_load(path, offset, duration, dtype)\n"
          ]
        },
        {
          "output_type": "stream",
          "name": "stdout",
          "text": [
            "241\t File 01c9a962-098e-4c00-b249-518f95cf62c7 ACCEPTED\n",
            "242\t File 01cc0555-d950-43f5-9bef-9be6dee3a892 ACCEPTED\n"
          ]
        },
        {
          "output_type": "stream",
          "name": "stderr",
          "text": [
            "<ipython-input-91-9fc97857c8b5>:47: UserWarning: PySoundFile failed. Trying audioread instead.\n",
            "  audio , _ =  librosa.load(f\"coughvid_20211012/{row['uuid']}.webm\",sr=16000,mono=True)\n",
            "/usr/local/lib/python3.10/dist-packages/librosa/core/audio.py:184: FutureWarning: librosa.core.audio.__audioread_load\n",
            "\tDeprecated as of librosa version 0.10.0.\n",
            "\tIt will be removed in librosa version 1.0.\n",
            "  y, sr_native = __audioread_load(path, offset, duration, dtype)\n",
            "<ipython-input-91-9fc97857c8b5>:47: UserWarning: PySoundFile failed. Trying audioread instead.\n",
            "  audio , _ =  librosa.load(f\"coughvid_20211012/{row['uuid']}.webm\",sr=16000,mono=True)\n",
            "/usr/local/lib/python3.10/dist-packages/librosa/core/audio.py:184: FutureWarning: librosa.core.audio.__audioread_load\n",
            "\tDeprecated as of librosa version 0.10.0.\n",
            "\tIt will be removed in librosa version 1.0.\n",
            "  y, sr_native = __audioread_load(path, offset, duration, dtype)\n"
          ]
        },
        {
          "output_type": "stream",
          "name": "stdout",
          "text": [
            "243\t File 01d3857d-689f-4bc1-a6ca-97b9233df46f ACCEPTED\n",
            "244\t File 01d46215-cb26-45a7-92dd-25ca74f4b3a1 ACCEPTED\n",
            "245\t File 01d4ae14-b077-4639-a38b-1b960afd3c69 ACCEPTED\n",
            "246\t File 01dc13fa-4b56-41fe-8b01-d2ed9a3a4099 REJECTED\n",
            "247\t File 01dc69c3-28eb-4b87-8b1d-1432724f6470 REJECTED\n"
          ]
        },
        {
          "output_type": "stream",
          "name": "stderr",
          "text": [
            "<ipython-input-91-9fc97857c8b5>:47: UserWarning: PySoundFile failed. Trying audioread instead.\n",
            "  audio , _ =  librosa.load(f\"coughvid_20211012/{row['uuid']}.webm\",sr=16000,mono=True)\n",
            "/usr/local/lib/python3.10/dist-packages/librosa/core/audio.py:184: FutureWarning: librosa.core.audio.__audioread_load\n",
            "\tDeprecated as of librosa version 0.10.0.\n",
            "\tIt will be removed in librosa version 1.0.\n",
            "  y, sr_native = __audioread_load(path, offset, duration, dtype)\n",
            "<ipython-input-91-9fc97857c8b5>:47: UserWarning: PySoundFile failed. Trying audioread instead.\n",
            "  audio , _ =  librosa.load(f\"coughvid_20211012/{row['uuid']}.webm\",sr=16000,mono=True)\n",
            "/usr/local/lib/python3.10/dist-packages/librosa/core/audio.py:184: FutureWarning: librosa.core.audio.__audioread_load\n",
            "\tDeprecated as of librosa version 0.10.0.\n",
            "\tIt will be removed in librosa version 1.0.\n",
            "  y, sr_native = __audioread_load(path, offset, duration, dtype)\n",
            "<ipython-input-91-9fc97857c8b5>:47: UserWarning: PySoundFile failed. Trying audioread instead.\n",
            "  audio , _ =  librosa.load(f\"coughvid_20211012/{row['uuid']}.webm\",sr=16000,mono=True)\n",
            "/usr/local/lib/python3.10/dist-packages/librosa/core/audio.py:184: FutureWarning: librosa.core.audio.__audioread_load\n",
            "\tDeprecated as of librosa version 0.10.0.\n",
            "\tIt will be removed in librosa version 1.0.\n",
            "  y, sr_native = __audioread_load(path, offset, duration, dtype)\n"
          ]
        },
        {
          "output_type": "stream",
          "name": "stdout",
          "text": [
            "248\t File 01de5e23-26db-4ae9-927c-1cbaa73c0850 ACCEPTED\n",
            "249\t File 01ded1fd-8a1b-4570-87ac-3fd7c789ea83 ACCEPTED\n"
          ]
        },
        {
          "output_type": "stream",
          "name": "stderr",
          "text": [
            "<ipython-input-91-9fc97857c8b5>:47: UserWarning: PySoundFile failed. Trying audioread instead.\n",
            "  audio , _ =  librosa.load(f\"coughvid_20211012/{row['uuid']}.webm\",sr=16000,mono=True)\n",
            "/usr/local/lib/python3.10/dist-packages/librosa/core/audio.py:184: FutureWarning: librosa.core.audio.__audioread_load\n",
            "\tDeprecated as of librosa version 0.10.0.\n",
            "\tIt will be removed in librosa version 1.0.\n",
            "  y, sr_native = __audioread_load(path, offset, duration, dtype)\n",
            "<ipython-input-91-9fc97857c8b5>:47: UserWarning: PySoundFile failed. Trying audioread instead.\n",
            "  audio , _ =  librosa.load(f\"coughvid_20211012/{row['uuid']}.webm\",sr=16000,mono=True)\n",
            "/usr/local/lib/python3.10/dist-packages/librosa/core/audio.py:184: FutureWarning: librosa.core.audio.__audioread_load\n",
            "\tDeprecated as of librosa version 0.10.0.\n",
            "\tIt will be removed in librosa version 1.0.\n",
            "  y, sr_native = __audioread_load(path, offset, duration, dtype)\n"
          ]
        },
        {
          "output_type": "stream",
          "name": "stdout",
          "text": [
            "250\t File 01e03a0a-df5f-40b7-9196-af39fcaa261f ACCEPTED\n",
            "251\t File 01e0c749-1431-4cfa-8984-1629f2d3e5c4 ACCEPTED\n"
          ]
        },
        {
          "output_type": "stream",
          "name": "stderr",
          "text": [
            "<ipython-input-91-9fc97857c8b5>:47: UserWarning: PySoundFile failed. Trying audioread instead.\n",
            "  audio , _ =  librosa.load(f\"coughvid_20211012/{row['uuid']}.webm\",sr=16000,mono=True)\n",
            "/usr/local/lib/python3.10/dist-packages/librosa/core/audio.py:184: FutureWarning: librosa.core.audio.__audioread_load\n",
            "\tDeprecated as of librosa version 0.10.0.\n",
            "\tIt will be removed in librosa version 1.0.\n",
            "  y, sr_native = __audioread_load(path, offset, duration, dtype)\n",
            "<ipython-input-91-9fc97857c8b5>:47: UserWarning: PySoundFile failed. Trying audioread instead.\n",
            "  audio , _ =  librosa.load(f\"coughvid_20211012/{row['uuid']}.webm\",sr=16000,mono=True)\n",
            "/usr/local/lib/python3.10/dist-packages/librosa/core/audio.py:184: FutureWarning: librosa.core.audio.__audioread_load\n",
            "\tDeprecated as of librosa version 0.10.0.\n",
            "\tIt will be removed in librosa version 1.0.\n",
            "  y, sr_native = __audioread_load(path, offset, duration, dtype)\n"
          ]
        },
        {
          "output_type": "stream",
          "name": "stdout",
          "text": [
            "252\t File 01e2d3bf-89e2-495b-8ffa-ded94475b730 ACCEPTED\n",
            "253\t File 01e68cda-2d0f-4327-b3d2-3c58f47192ec ACCEPTED\n"
          ]
        },
        {
          "output_type": "stream",
          "name": "stderr",
          "text": [
            "<ipython-input-91-9fc97857c8b5>:47: UserWarning: PySoundFile failed. Trying audioread instead.\n",
            "  audio , _ =  librosa.load(f\"coughvid_20211012/{row['uuid']}.webm\",sr=16000,mono=True)\n",
            "/usr/local/lib/python3.10/dist-packages/librosa/core/audio.py:184: FutureWarning: librosa.core.audio.__audioread_load\n",
            "\tDeprecated as of librosa version 0.10.0.\n",
            "\tIt will be removed in librosa version 1.0.\n",
            "  y, sr_native = __audioread_load(path, offset, duration, dtype)\n",
            "<ipython-input-91-9fc97857c8b5>:47: UserWarning: PySoundFile failed. Trying audioread instead.\n",
            "  audio , _ =  librosa.load(f\"coughvid_20211012/{row['uuid']}.webm\",sr=16000,mono=True)\n",
            "/usr/local/lib/python3.10/dist-packages/librosa/core/audio.py:184: FutureWarning: librosa.core.audio.__audioread_load\n",
            "\tDeprecated as of librosa version 0.10.0.\n",
            "\tIt will be removed in librosa version 1.0.\n",
            "  y, sr_native = __audioread_load(path, offset, duration, dtype)\n"
          ]
        },
        {
          "output_type": "stream",
          "name": "stdout",
          "text": [
            "254\t File 01e8c41c-d31d-43b5-822f-5cc6460e921f ACCEPTED\n",
            "255\t File 01e92753-8737-447d-a8c6-d323b712b608 REJECTED\n",
            "256\t File 01ea827e-3e22-41a1-9c66-8d083a6398dc ACCEPTED\n",
            "257\t File 01eab758-8729-44f1-966d-6a34c600d88c ACCEPTED\n",
            "258\t File 01f22bba-9d34-451f-868a-dacd249ccd71 REJECTED\n",
            "259\t File 01f2fe8f-9a7b-4ce7-8aaa-615fbe0426f7 REJECTED\n",
            "260\t File 01f3cf8f-60b3-43f0-904c-479506ba2852 REJECTED\n",
            "261\t File 01f63a0c-6a7d-4d35-a6ef-c166e0307f45 REJECTED\n",
            "262\t File 01f97898-9ec4-480b-9fcc-a9daa737106d ACCEPTED\n",
            "263\t File 01fb755e-4885-4b2e-82ff-c4d43a4d6b0e ACCEPTED\n",
            "264\t File 01fde705-5654-4add-bb79-763ed1e3426d REJECTED\n",
            "265\t File 01fefda4-7f5e-4bf3-ab0f-87ca954eee51 ACCEPTED\n"
          ]
        },
        {
          "output_type": "stream",
          "name": "stderr",
          "text": [
            "<ipython-input-91-9fc97857c8b5>:47: UserWarning: PySoundFile failed. Trying audioread instead.\n",
            "  audio , _ =  librosa.load(f\"coughvid_20211012/{row['uuid']}.webm\",sr=16000,mono=True)\n",
            "/usr/local/lib/python3.10/dist-packages/librosa/core/audio.py:184: FutureWarning: librosa.core.audio.__audioread_load\n",
            "\tDeprecated as of librosa version 0.10.0.\n",
            "\tIt will be removed in librosa version 1.0.\n",
            "  y, sr_native = __audioread_load(path, offset, duration, dtype)\n",
            "<ipython-input-91-9fc97857c8b5>:47: UserWarning: PySoundFile failed. Trying audioread instead.\n",
            "  audio , _ =  librosa.load(f\"coughvid_20211012/{row['uuid']}.webm\",sr=16000,mono=True)\n",
            "/usr/local/lib/python3.10/dist-packages/librosa/core/audio.py:184: FutureWarning: librosa.core.audio.__audioread_load\n",
            "\tDeprecated as of librosa version 0.10.0.\n",
            "\tIt will be removed in librosa version 1.0.\n",
            "  y, sr_native = __audioread_load(path, offset, duration, dtype)\n",
            "<ipython-input-91-9fc97857c8b5>:47: UserWarning: PySoundFile failed. Trying audioread instead.\n",
            "  audio , _ =  librosa.load(f\"coughvid_20211012/{row['uuid']}.webm\",sr=16000,mono=True)\n",
            "/usr/local/lib/python3.10/dist-packages/librosa/core/audio.py:184: FutureWarning: librosa.core.audio.__audioread_load\n",
            "\tDeprecated as of librosa version 0.10.0.\n",
            "\tIt will be removed in librosa version 1.0.\n",
            "  y, sr_native = __audioread_load(path, offset, duration, dtype)\n",
            "<ipython-input-91-9fc97857c8b5>:47: UserWarning: PySoundFile failed. Trying audioread instead.\n",
            "  audio , _ =  librosa.load(f\"coughvid_20211012/{row['uuid']}.webm\",sr=16000,mono=True)\n",
            "/usr/local/lib/python3.10/dist-packages/librosa/core/audio.py:184: FutureWarning: librosa.core.audio.__audioread_load\n",
            "\tDeprecated as of librosa version 0.10.0.\n",
            "\tIt will be removed in librosa version 1.0.\n",
            "  y, sr_native = __audioread_load(path, offset, duration, dtype)\n",
            "<ipython-input-91-9fc97857c8b5>:47: UserWarning: PySoundFile failed. Trying audioread instead.\n",
            "  audio , _ =  librosa.load(f\"coughvid_20211012/{row['uuid']}.webm\",sr=16000,mono=True)\n",
            "/usr/local/lib/python3.10/dist-packages/librosa/core/audio.py:184: FutureWarning: librosa.core.audio.__audioread_load\n",
            "\tDeprecated as of librosa version 0.10.0.\n",
            "\tIt will be removed in librosa version 1.0.\n",
            "  y, sr_native = __audioread_load(path, offset, duration, dtype)\n",
            "<ipython-input-91-9fc97857c8b5>:47: UserWarning: PySoundFile failed. Trying audioread instead.\n",
            "  audio , _ =  librosa.load(f\"coughvid_20211012/{row['uuid']}.webm\",sr=16000,mono=True)\n",
            "/usr/local/lib/python3.10/dist-packages/librosa/core/audio.py:184: FutureWarning: librosa.core.audio.__audioread_load\n",
            "\tDeprecated as of librosa version 0.10.0.\n",
            "\tIt will be removed in librosa version 1.0.\n",
            "  y, sr_native = __audioread_load(path, offset, duration, dtype)\n"
          ]
        },
        {
          "output_type": "stream",
          "name": "stdout",
          "text": [
            "266\t File 01ff40e8-63e6-4570-a463-9778ea30cad7 ACCEPTED\n",
            "267\t File 0200e61f-0937-4044-a7d5-53d5855ae29e ACCEPTED\n",
            "268\t File 020158eb-9cb5-4977-8131-840cdaf199b4 ACCEPTED\n",
            "269\t File 02019701-b0cd-4bd1-ae42-665debc72566 REJECTED\n",
            "270\t File 0201e61e-fe9a-4691-a49b-9a4ac7e880d0 REJECTED\n",
            "271\t File 0204f31c-8594-4388-8df3-f87a8de37a8a REJECTED\n"
          ]
        },
        {
          "output_type": "stream",
          "name": "stderr",
          "text": [
            "<ipython-input-91-9fc97857c8b5>:47: UserWarning: PySoundFile failed. Trying audioread instead.\n",
            "  audio , _ =  librosa.load(f\"coughvid_20211012/{row['uuid']}.webm\",sr=16000,mono=True)\n",
            "/usr/local/lib/python3.10/dist-packages/librosa/core/audio.py:184: FutureWarning: librosa.core.audio.__audioread_load\n",
            "\tDeprecated as of librosa version 0.10.0.\n",
            "\tIt will be removed in librosa version 1.0.\n",
            "  y, sr_native = __audioread_load(path, offset, duration, dtype)\n",
            "<ipython-input-91-9fc97857c8b5>:47: UserWarning: PySoundFile failed. Trying audioread instead.\n",
            "  audio , _ =  librosa.load(f\"coughvid_20211012/{row['uuid']}.webm\",sr=16000,mono=True)\n",
            "/usr/local/lib/python3.10/dist-packages/librosa/core/audio.py:184: FutureWarning: librosa.core.audio.__audioread_load\n",
            "\tDeprecated as of librosa version 0.10.0.\n",
            "\tIt will be removed in librosa version 1.0.\n",
            "  y, sr_native = __audioread_load(path, offset, duration, dtype)\n",
            "<ipython-input-91-9fc97857c8b5>:47: UserWarning: PySoundFile failed. Trying audioread instead.\n",
            "  audio , _ =  librosa.load(f\"coughvid_20211012/{row['uuid']}.webm\",sr=16000,mono=True)\n",
            "/usr/local/lib/python3.10/dist-packages/librosa/core/audio.py:184: FutureWarning: librosa.core.audio.__audioread_load\n",
            "\tDeprecated as of librosa version 0.10.0.\n",
            "\tIt will be removed in librosa version 1.0.\n",
            "  y, sr_native = __audioread_load(path, offset, duration, dtype)\n"
          ]
        },
        {
          "output_type": "stream",
          "name": "stdout",
          "text": [
            "272\t File 020531e8-2b10-44d1-a28b-09bbba092f8a ACCEPTED\n",
            "273\t File 0206b5b3-c28f-48d8-81e6-aeb0bc1abcd1 REJECTED\n",
            "274\t File 020eab56-1312-4f66-9f96-0bafdcac2be4 REJECTED\n",
            "275\t File 02131fb6-024b-4849-a4d8-975527eb9d55 REJECTED\n",
            "276\t File 0216f566-704e-4f87-9926-b3989146c315 REJECTED\n",
            "277\t File 021cf608-64a3-4d76-a07b-c9f9dbd69ba5 REJECTED\n",
            "278\t File 021de102-72c0-4808-b974-e21ca0371ce6 REJECTED\n",
            "279\t File 0221119b-39f3-468c-9868-2eba90876dc4 ACCEPTED\n"
          ]
        },
        {
          "output_type": "stream",
          "name": "stderr",
          "text": [
            "<ipython-input-91-9fc97857c8b5>:47: UserWarning: PySoundFile failed. Trying audioread instead.\n",
            "  audio , _ =  librosa.load(f\"coughvid_20211012/{row['uuid']}.webm\",sr=16000,mono=True)\n",
            "/usr/local/lib/python3.10/dist-packages/librosa/core/audio.py:184: FutureWarning: librosa.core.audio.__audioread_load\n",
            "\tDeprecated as of librosa version 0.10.0.\n",
            "\tIt will be removed in librosa version 1.0.\n",
            "  y, sr_native = __audioread_load(path, offset, duration, dtype)\n",
            "<ipython-input-91-9fc97857c8b5>:47: UserWarning: PySoundFile failed. Trying audioread instead.\n",
            "  audio , _ =  librosa.load(f\"coughvid_20211012/{row['uuid']}.webm\",sr=16000,mono=True)\n",
            "/usr/local/lib/python3.10/dist-packages/librosa/core/audio.py:184: FutureWarning: librosa.core.audio.__audioread_load\n",
            "\tDeprecated as of librosa version 0.10.0.\n",
            "\tIt will be removed in librosa version 1.0.\n",
            "  y, sr_native = __audioread_load(path, offset, duration, dtype)\n"
          ]
        },
        {
          "output_type": "stream",
          "name": "stdout",
          "text": [
            "280\t File 02211bc7-9df8-4eab-94b2-b87b08fcba22 ACCEPTED\n",
            "281\t File 02239f02-2e49-4aec-ac8d-8590e0f6da37 REJECTED\n",
            "282\t File 0225680c-9b5b-4d47-9add-d5cb8bf42337 REJECTED\n",
            "283\t File 022a0675-b459-479b-85ed-c88529ad9a29 ACCEPTED\n",
            "284\t File 022a15ac-54d7-4328-b9eb-af827e2bbdf1 ACCEPTED\n",
            "285\t File 022a48fe-8199-47a0-9459-ff3f4d2d91ed REJECTED\n",
            "286\t File 022b94b7-7ceb-44bd-80f8-a4294416181b REJECTED\n",
            "287\t File 022c60f5-2f48-4930-bc87-805b8b1d8562 REJECTED\n",
            "288\t File 022cf32f-2f28-42b9-ad22-00660537eb01 REJECTED\n"
          ]
        },
        {
          "output_type": "stream",
          "name": "stderr",
          "text": [
            "<ipython-input-91-9fc97857c8b5>:47: UserWarning: PySoundFile failed. Trying audioread instead.\n",
            "  audio , _ =  librosa.load(f\"coughvid_20211012/{row['uuid']}.webm\",sr=16000,mono=True)\n",
            "/usr/local/lib/python3.10/dist-packages/librosa/core/audio.py:184: FutureWarning: librosa.core.audio.__audioread_load\n",
            "\tDeprecated as of librosa version 0.10.0.\n",
            "\tIt will be removed in librosa version 1.0.\n",
            "  y, sr_native = __audioread_load(path, offset, duration, dtype)\n",
            "<ipython-input-91-9fc97857c8b5>:47: UserWarning: PySoundFile failed. Trying audioread instead.\n",
            "  audio , _ =  librosa.load(f\"coughvid_20211012/{row['uuid']}.webm\",sr=16000,mono=True)\n",
            "/usr/local/lib/python3.10/dist-packages/librosa/core/audio.py:184: FutureWarning: librosa.core.audio.__audioread_load\n",
            "\tDeprecated as of librosa version 0.10.0.\n",
            "\tIt will be removed in librosa version 1.0.\n",
            "  y, sr_native = __audioread_load(path, offset, duration, dtype)\n",
            "<ipython-input-91-9fc97857c8b5>:47: UserWarning: PySoundFile failed. Trying audioread instead.\n",
            "  audio , _ =  librosa.load(f\"coughvid_20211012/{row['uuid']}.webm\",sr=16000,mono=True)\n",
            "/usr/local/lib/python3.10/dist-packages/librosa/core/audio.py:184: FutureWarning: librosa.core.audio.__audioread_load\n",
            "\tDeprecated as of librosa version 0.10.0.\n",
            "\tIt will be removed in librosa version 1.0.\n",
            "  y, sr_native = __audioread_load(path, offset, duration, dtype)\n"
          ]
        },
        {
          "output_type": "stream",
          "name": "stdout",
          "text": [
            "289\t File 022d4bd6-a5bc-48e2-bb61-2a773f3842b3 ACCEPTED\n",
            "290\t File 022e781f-1299-42be-93d5-ff337f96451a REJECTED\n",
            "291\t File 022ecc3a-53f3-4621-b21b-1ac043e34911 REJECTED\n",
            "292\t File 02335034-6397-4cb3-9f05-04398651c749 REJECTED\n",
            "293\t File 02389980-54e6-4250-a736-f42fe05e450b ACCEPTED\n",
            "294\t File 0238baa4-fba3-4d4e-a049-b97d2ec223ac ACCEPTED\n",
            "295\t File 023b1ef0-3139-4849-a956-bc956887830e ACCEPTED\n",
            "296\t File 023c64e4-a21b-4c5b-bd20-ffcf73c51fa4 REJECTED\n",
            "297\t File 023cbb03-5aa8-4b55-9871-8f4a38bb7188 ACCEPTED\n",
            "298\t File 023ed96d-785a-4edf-a6a4-068e59512291 ACCEPTED\n"
          ]
        },
        {
          "output_type": "stream",
          "name": "stderr",
          "text": [
            "<ipython-input-91-9fc97857c8b5>:47: UserWarning: PySoundFile failed. Trying audioread instead.\n",
            "  audio , _ =  librosa.load(f\"coughvid_20211012/{row['uuid']}.webm\",sr=16000,mono=True)\n",
            "/usr/local/lib/python3.10/dist-packages/librosa/core/audio.py:184: FutureWarning: librosa.core.audio.__audioread_load\n",
            "\tDeprecated as of librosa version 0.10.0.\n",
            "\tIt will be removed in librosa version 1.0.\n",
            "  y, sr_native = __audioread_load(path, offset, duration, dtype)\n",
            "<ipython-input-91-9fc97857c8b5>:47: UserWarning: PySoundFile failed. Trying audioread instead.\n",
            "  audio , _ =  librosa.load(f\"coughvid_20211012/{row['uuid']}.webm\",sr=16000,mono=True)\n",
            "/usr/local/lib/python3.10/dist-packages/librosa/core/audio.py:184: FutureWarning: librosa.core.audio.__audioread_load\n",
            "\tDeprecated as of librosa version 0.10.0.\n",
            "\tIt will be removed in librosa version 1.0.\n",
            "  y, sr_native = __audioread_load(path, offset, duration, dtype)\n",
            "<ipython-input-91-9fc97857c8b5>:47: UserWarning: PySoundFile failed. Trying audioread instead.\n",
            "  audio , _ =  librosa.load(f\"coughvid_20211012/{row['uuid']}.webm\",sr=16000,mono=True)\n",
            "/usr/local/lib/python3.10/dist-packages/librosa/core/audio.py:184: FutureWarning: librosa.core.audio.__audioread_load\n",
            "\tDeprecated as of librosa version 0.10.0.\n",
            "\tIt will be removed in librosa version 1.0.\n",
            "  y, sr_native = __audioread_load(path, offset, duration, dtype)\n",
            "<ipython-input-91-9fc97857c8b5>:47: UserWarning: PySoundFile failed. Trying audioread instead.\n",
            "  audio , _ =  librosa.load(f\"coughvid_20211012/{row['uuid']}.webm\",sr=16000,mono=True)\n",
            "/usr/local/lib/python3.10/dist-packages/librosa/core/audio.py:184: FutureWarning: librosa.core.audio.__audioread_load\n",
            "\tDeprecated as of librosa version 0.10.0.\n",
            "\tIt will be removed in librosa version 1.0.\n",
            "  y, sr_native = __audioread_load(path, offset, duration, dtype)\n",
            "<ipython-input-91-9fc97857c8b5>:47: UserWarning: PySoundFile failed. Trying audioread instead.\n",
            "  audio , _ =  librosa.load(f\"coughvid_20211012/{row['uuid']}.webm\",sr=16000,mono=True)\n",
            "/usr/local/lib/python3.10/dist-packages/librosa/core/audio.py:184: FutureWarning: librosa.core.audio.__audioread_load\n",
            "\tDeprecated as of librosa version 0.10.0.\n",
            "\tIt will be removed in librosa version 1.0.\n",
            "  y, sr_native = __audioread_load(path, offset, duration, dtype)\n",
            "<ipython-input-91-9fc97857c8b5>:47: UserWarning: PySoundFile failed. Trying audioread instead.\n",
            "  audio , _ =  librosa.load(f\"coughvid_20211012/{row['uuid']}.webm\",sr=16000,mono=True)\n",
            "/usr/local/lib/python3.10/dist-packages/librosa/core/audio.py:184: FutureWarning: librosa.core.audio.__audioread_load\n",
            "\tDeprecated as of librosa version 0.10.0.\n",
            "\tIt will be removed in librosa version 1.0.\n",
            "  y, sr_native = __audioread_load(path, offset, duration, dtype)\n"
          ]
        },
        {
          "output_type": "stream",
          "name": "stdout",
          "text": [
            "299\t File 023f2af6-a212-49fd-9edc-df30b3923733 ACCEPTED\n",
            "300\t File 02480b08-546f-4c47-b6f9-465028b291ff ACCEPTED\n",
            "301\t File 024ba604-8697-428c-88ab-8ff785482825 ACCEPTED\n",
            "302\t File 024cbe41-7932-40ed-a9d3-67c174658637 ACCEPTED\n",
            "303\t File 024cdc20-6630-406d-835b-4b0eb85fc8c0 REJECTED\n",
            "304\t File 024d8b31-2df6-4bf4-88cd-1c9c253f22f4 REJECTED\n",
            "305\t File 0251a095-f77d-4119-81d2-cd491c906c22 ACCEPTED\n",
            "306\t File 025519ad-0a49-4a52-a06d-1529eaf3de39 REJECTED\n"
          ]
        },
        {
          "output_type": "stream",
          "name": "stderr",
          "text": [
            "<ipython-input-91-9fc97857c8b5>:47: UserWarning: PySoundFile failed. Trying audioread instead.\n",
            "  audio , _ =  librosa.load(f\"coughvid_20211012/{row['uuid']}.webm\",sr=16000,mono=True)\n",
            "/usr/local/lib/python3.10/dist-packages/librosa/core/audio.py:184: FutureWarning: librosa.core.audio.__audioread_load\n",
            "\tDeprecated as of librosa version 0.10.0.\n",
            "\tIt will be removed in librosa version 1.0.\n",
            "  y, sr_native = __audioread_load(path, offset, duration, dtype)\n",
            "<ipython-input-91-9fc97857c8b5>:47: UserWarning: PySoundFile failed. Trying audioread instead.\n",
            "  audio , _ =  librosa.load(f\"coughvid_20211012/{row['uuid']}.webm\",sr=16000,mono=True)\n",
            "/usr/local/lib/python3.10/dist-packages/librosa/core/audio.py:184: FutureWarning: librosa.core.audio.__audioread_load\n",
            "\tDeprecated as of librosa version 0.10.0.\n",
            "\tIt will be removed in librosa version 1.0.\n",
            "  y, sr_native = __audioread_load(path, offset, duration, dtype)\n",
            "<ipython-input-91-9fc97857c8b5>:47: UserWarning: PySoundFile failed. Trying audioread instead.\n",
            "  audio , _ =  librosa.load(f\"coughvid_20211012/{row['uuid']}.webm\",sr=16000,mono=True)\n",
            "/usr/local/lib/python3.10/dist-packages/librosa/core/audio.py:184: FutureWarning: librosa.core.audio.__audioread_load\n",
            "\tDeprecated as of librosa version 0.10.0.\n",
            "\tIt will be removed in librosa version 1.0.\n",
            "  y, sr_native = __audioread_load(path, offset, duration, dtype)\n",
            "<ipython-input-91-9fc97857c8b5>:47: UserWarning: PySoundFile failed. Trying audioread instead.\n",
            "  audio , _ =  librosa.load(f\"coughvid_20211012/{row['uuid']}.webm\",sr=16000,mono=True)\n",
            "/usr/local/lib/python3.10/dist-packages/librosa/core/audio.py:184: FutureWarning: librosa.core.audio.__audioread_load\n",
            "\tDeprecated as of librosa version 0.10.0.\n",
            "\tIt will be removed in librosa version 1.0.\n",
            "  y, sr_native = __audioread_load(path, offset, duration, dtype)\n",
            "<ipython-input-91-9fc97857c8b5>:47: UserWarning: PySoundFile failed. Trying audioread instead.\n",
            "  audio , _ =  librosa.load(f\"coughvid_20211012/{row['uuid']}.webm\",sr=16000,mono=True)\n",
            "/usr/local/lib/python3.10/dist-packages/librosa/core/audio.py:184: FutureWarning: librosa.core.audio.__audioread_load\n",
            "\tDeprecated as of librosa version 0.10.0.\n",
            "\tIt will be removed in librosa version 1.0.\n",
            "  y, sr_native = __audioread_load(path, offset, duration, dtype)\n"
          ]
        },
        {
          "output_type": "stream",
          "name": "stdout",
          "text": [
            "307\t File 0255d86f-3ed8-4b86-bb78-81ef15e41bf9 ACCEPTED\n",
            "308\t File 02575c65-f62f-42b1-a985-05febc8ae228 ACCEPTED\n",
            "309\t File 02582fe2-1495-42a4-a2e3-5a727e38e117 ACCEPTED\n",
            "310\t File 0258c88d-f133-4d76-8c7b-8268a0048565 ACCEPTED\n",
            "311\t File 0258d823-7bdf-451a-9a6c-c48ec3ab3228 REJECTED\n",
            "312\t File 02591251-4224-42ff-904e-ae910f2e26b2 ACCEPTED\n",
            "313\t File 025a34b6-7c0b-48a7-9c4b-5941fd8bf10e REJECTED\n",
            "314\t File 025bde54-cc07-41b6-a96e-c930460fefb4 REJECTED\n",
            "315\t File 025d8fd0-dc3b-44d2-876b-4a1bb7b9d972 ACCEPTED\n"
          ]
        },
        {
          "output_type": "stream",
          "name": "stderr",
          "text": [
            "<ipython-input-91-9fc97857c8b5>:47: UserWarning: PySoundFile failed. Trying audioread instead.\n",
            "  audio , _ =  librosa.load(f\"coughvid_20211012/{row['uuid']}.webm\",sr=16000,mono=True)\n",
            "/usr/local/lib/python3.10/dist-packages/librosa/core/audio.py:184: FutureWarning: librosa.core.audio.__audioread_load\n",
            "\tDeprecated as of librosa version 0.10.0.\n",
            "\tIt will be removed in librosa version 1.0.\n",
            "  y, sr_native = __audioread_load(path, offset, duration, dtype)\n",
            "<ipython-input-91-9fc97857c8b5>:47: UserWarning: PySoundFile failed. Trying audioread instead.\n",
            "  audio , _ =  librosa.load(f\"coughvid_20211012/{row['uuid']}.webm\",sr=16000,mono=True)\n",
            "/usr/local/lib/python3.10/dist-packages/librosa/core/audio.py:184: FutureWarning: librosa.core.audio.__audioread_load\n",
            "\tDeprecated as of librosa version 0.10.0.\n",
            "\tIt will be removed in librosa version 1.0.\n",
            "  y, sr_native = __audioread_load(path, offset, duration, dtype)\n",
            "<ipython-input-91-9fc97857c8b5>:47: UserWarning: PySoundFile failed. Trying audioread instead.\n",
            "  audio , _ =  librosa.load(f\"coughvid_20211012/{row['uuid']}.webm\",sr=16000,mono=True)\n",
            "/usr/local/lib/python3.10/dist-packages/librosa/core/audio.py:184: FutureWarning: librosa.core.audio.__audioread_load\n",
            "\tDeprecated as of librosa version 0.10.0.\n",
            "\tIt will be removed in librosa version 1.0.\n",
            "  y, sr_native = __audioread_load(path, offset, duration, dtype)\n",
            "<ipython-input-91-9fc97857c8b5>:47: UserWarning: PySoundFile failed. Trying audioread instead.\n",
            "  audio , _ =  librosa.load(f\"coughvid_20211012/{row['uuid']}.webm\",sr=16000,mono=True)\n",
            "/usr/local/lib/python3.10/dist-packages/librosa/core/audio.py:184: FutureWarning: librosa.core.audio.__audioread_load\n",
            "\tDeprecated as of librosa version 0.10.0.\n",
            "\tIt will be removed in librosa version 1.0.\n",
            "  y, sr_native = __audioread_load(path, offset, duration, dtype)\n",
            "<ipython-input-91-9fc97857c8b5>:47: UserWarning: PySoundFile failed. Trying audioread instead.\n",
            "  audio , _ =  librosa.load(f\"coughvid_20211012/{row['uuid']}.webm\",sr=16000,mono=True)\n",
            "/usr/local/lib/python3.10/dist-packages/librosa/core/audio.py:184: FutureWarning: librosa.core.audio.__audioread_load\n",
            "\tDeprecated as of librosa version 0.10.0.\n",
            "\tIt will be removed in librosa version 1.0.\n",
            "  y, sr_native = __audioread_load(path, offset, duration, dtype)\n",
            "<ipython-input-91-9fc97857c8b5>:47: UserWarning: PySoundFile failed. Trying audioread instead.\n",
            "  audio , _ =  librosa.load(f\"coughvid_20211012/{row['uuid']}.webm\",sr=16000,mono=True)\n",
            "/usr/local/lib/python3.10/dist-packages/librosa/core/audio.py:184: FutureWarning: librosa.core.audio.__audioread_load\n",
            "\tDeprecated as of librosa version 0.10.0.\n",
            "\tIt will be removed in librosa version 1.0.\n",
            "  y, sr_native = __audioread_load(path, offset, duration, dtype)\n"
          ]
        },
        {
          "output_type": "stream",
          "name": "stdout",
          "text": [
            "316\t File 025ed3e7-bc59-47ef-9e58-e512e135a86a ACCEPTED\n",
            "317\t File 026227b4-3438-4c1a-be61-b69e5227d166 ACCEPTED\n",
            "318\t File 0263c1d3-39c8-44a4-8e9f-709dc386f2cc ACCEPTED\n",
            "319\t File 0264d1e9-43b5-4fc5-a8e4-115868a924f8 ACCEPTED\n",
            "320\t File 02652c37-05b5-4fa8-96b5-a13c79d4070e ACCEPTED\n"
          ]
        },
        {
          "output_type": "stream",
          "name": "stderr",
          "text": [
            "<ipython-input-91-9fc97857c8b5>:47: UserWarning: PySoundFile failed. Trying audioread instead.\n",
            "  audio , _ =  librosa.load(f\"coughvid_20211012/{row['uuid']}.webm\",sr=16000,mono=True)\n",
            "/usr/local/lib/python3.10/dist-packages/librosa/core/audio.py:184: FutureWarning: librosa.core.audio.__audioread_load\n",
            "\tDeprecated as of librosa version 0.10.0.\n",
            "\tIt will be removed in librosa version 1.0.\n",
            "  y, sr_native = __audioread_load(path, offset, duration, dtype)\n",
            "<ipython-input-91-9fc97857c8b5>:47: UserWarning: PySoundFile failed. Trying audioread instead.\n",
            "  audio , _ =  librosa.load(f\"coughvid_20211012/{row['uuid']}.webm\",sr=16000,mono=True)\n",
            "/usr/local/lib/python3.10/dist-packages/librosa/core/audio.py:184: FutureWarning: librosa.core.audio.__audioread_load\n",
            "\tDeprecated as of librosa version 0.10.0.\n",
            "\tIt will be removed in librosa version 1.0.\n",
            "  y, sr_native = __audioread_load(path, offset, duration, dtype)\n",
            "<ipython-input-91-9fc97857c8b5>:47: UserWarning: PySoundFile failed. Trying audioread instead.\n",
            "  audio , _ =  librosa.load(f\"coughvid_20211012/{row['uuid']}.webm\",sr=16000,mono=True)\n",
            "/usr/local/lib/python3.10/dist-packages/librosa/core/audio.py:184: FutureWarning: librosa.core.audio.__audioread_load\n",
            "\tDeprecated as of librosa version 0.10.0.\n",
            "\tIt will be removed in librosa version 1.0.\n",
            "  y, sr_native = __audioread_load(path, offset, duration, dtype)\n",
            "<ipython-input-91-9fc97857c8b5>:47: UserWarning: PySoundFile failed. Trying audioread instead.\n",
            "  audio , _ =  librosa.load(f\"coughvid_20211012/{row['uuid']}.webm\",sr=16000,mono=True)\n",
            "/usr/local/lib/python3.10/dist-packages/librosa/core/audio.py:184: FutureWarning: librosa.core.audio.__audioread_load\n",
            "\tDeprecated as of librosa version 0.10.0.\n",
            "\tIt will be removed in librosa version 1.0.\n",
            "  y, sr_native = __audioread_load(path, offset, duration, dtype)\n",
            "<ipython-input-91-9fc97857c8b5>:47: UserWarning: PySoundFile failed. Trying audioread instead.\n",
            "  audio , _ =  librosa.load(f\"coughvid_20211012/{row['uuid']}.webm\",sr=16000,mono=True)\n",
            "/usr/local/lib/python3.10/dist-packages/librosa/core/audio.py:184: FutureWarning: librosa.core.audio.__audioread_load\n",
            "\tDeprecated as of librosa version 0.10.0.\n",
            "\tIt will be removed in librosa version 1.0.\n",
            "  y, sr_native = __audioread_load(path, offset, duration, dtype)\n"
          ]
        },
        {
          "output_type": "stream",
          "name": "stdout",
          "text": [
            "321\t File 0265ca03-9e8c-48f4-8294-69e084540d0d ACCEPTED\n",
            "322\t File 026967ef-d1a3-4fc5-a752-e0259d3c92a1 REJECTED\n",
            "323\t File 0269e593-3895-4bb4-aaba-d751df4cc058 ACCEPTED\n",
            "324\t File 026cfcbf-5573-48c4-840a-2f51030b708d REJECTED\n"
          ]
        },
        {
          "output_type": "stream",
          "name": "stderr",
          "text": [
            "<ipython-input-91-9fc97857c8b5>:47: UserWarning: PySoundFile failed. Trying audioread instead.\n",
            "  audio , _ =  librosa.load(f\"coughvid_20211012/{row['uuid']}.webm\",sr=16000,mono=True)\n",
            "/usr/local/lib/python3.10/dist-packages/librosa/core/audio.py:184: FutureWarning: librosa.core.audio.__audioread_load\n",
            "\tDeprecated as of librosa version 0.10.0.\n",
            "\tIt will be removed in librosa version 1.0.\n",
            "  y, sr_native = __audioread_load(path, offset, duration, dtype)\n",
            "<ipython-input-91-9fc97857c8b5>:47: UserWarning: PySoundFile failed. Trying audioread instead.\n",
            "  audio , _ =  librosa.load(f\"coughvid_20211012/{row['uuid']}.webm\",sr=16000,mono=True)\n",
            "/usr/local/lib/python3.10/dist-packages/librosa/core/audio.py:184: FutureWarning: librosa.core.audio.__audioread_load\n",
            "\tDeprecated as of librosa version 0.10.0.\n",
            "\tIt will be removed in librosa version 1.0.\n",
            "  y, sr_native = __audioread_load(path, offset, duration, dtype)\n"
          ]
        },
        {
          "output_type": "stream",
          "name": "stdout",
          "text": [
            "325\t File 0272a923-9d72-4566-abfa-9cfb23be2b4a ACCEPTED\n",
            "326\t File 0274fb41-e143-4830-8d13-55f260f82b67 REJECTED\n",
            "327\t File 027656f4-a35e-4e62-b7ab-98600952c0a0 REJECTED\n",
            "328\t File 02770549-8cbb-4841-bf1f-1f5189a6b59b REJECTED\n",
            "329\t File 027781e8-4106-4a88-a3f4-f555d957752e REJECTED\n",
            "330\t File 027887b8-1da6-477a-be4c-0f11958f1eac ACCEPTED\n",
            "331\t File 02796c32-e748-4b86-b7be-06e184e120aa ACCEPTED\n",
            "332\t File 027a2c6c-067e-426f-9b5c-c3352a27c549 ACCEPTED\n",
            "333\t File 027a525e-fe55-41d5-bf07-38eda9c56554 ACCEPTED\n",
            "334\t File 027b905a-4f0f-40fb-a4d2-779be42815d8 ACCEPTED\n",
            "335\t File 027d8ee5-7e46-496b-a6cd-bca3476129b1 ACCEPTED\n"
          ]
        },
        {
          "output_type": "stream",
          "name": "stderr",
          "text": [
            "<ipython-input-91-9fc97857c8b5>:47: UserWarning: PySoundFile failed. Trying audioread instead.\n",
            "  audio , _ =  librosa.load(f\"coughvid_20211012/{row['uuid']}.webm\",sr=16000,mono=True)\n",
            "/usr/local/lib/python3.10/dist-packages/librosa/core/audio.py:184: FutureWarning: librosa.core.audio.__audioread_load\n",
            "\tDeprecated as of librosa version 0.10.0.\n",
            "\tIt will be removed in librosa version 1.0.\n",
            "  y, sr_native = __audioread_load(path, offset, duration, dtype)\n",
            "<ipython-input-91-9fc97857c8b5>:47: UserWarning: PySoundFile failed. Trying audioread instead.\n",
            "  audio , _ =  librosa.load(f\"coughvid_20211012/{row['uuid']}.webm\",sr=16000,mono=True)\n",
            "/usr/local/lib/python3.10/dist-packages/librosa/core/audio.py:184: FutureWarning: librosa.core.audio.__audioread_load\n",
            "\tDeprecated as of librosa version 0.10.0.\n",
            "\tIt will be removed in librosa version 1.0.\n",
            "  y, sr_native = __audioread_load(path, offset, duration, dtype)\n",
            "<ipython-input-91-9fc97857c8b5>:47: UserWarning: PySoundFile failed. Trying audioread instead.\n",
            "  audio , _ =  librosa.load(f\"coughvid_20211012/{row['uuid']}.webm\",sr=16000,mono=True)\n",
            "/usr/local/lib/python3.10/dist-packages/librosa/core/audio.py:184: FutureWarning: librosa.core.audio.__audioread_load\n",
            "\tDeprecated as of librosa version 0.10.0.\n",
            "\tIt will be removed in librosa version 1.0.\n",
            "  y, sr_native = __audioread_load(path, offset, duration, dtype)\n",
            "<ipython-input-91-9fc97857c8b5>:47: UserWarning: PySoundFile failed. Trying audioread instead.\n",
            "  audio , _ =  librosa.load(f\"coughvid_20211012/{row['uuid']}.webm\",sr=16000,mono=True)\n",
            "/usr/local/lib/python3.10/dist-packages/librosa/core/audio.py:184: FutureWarning: librosa.core.audio.__audioread_load\n",
            "\tDeprecated as of librosa version 0.10.0.\n",
            "\tIt will be removed in librosa version 1.0.\n",
            "  y, sr_native = __audioread_load(path, offset, duration, dtype)\n",
            "<ipython-input-91-9fc97857c8b5>:47: UserWarning: PySoundFile failed. Trying audioread instead.\n",
            "  audio , _ =  librosa.load(f\"coughvid_20211012/{row['uuid']}.webm\",sr=16000,mono=True)\n",
            "/usr/local/lib/python3.10/dist-packages/librosa/core/audio.py:184: FutureWarning: librosa.core.audio.__audioread_load\n",
            "\tDeprecated as of librosa version 0.10.0.\n",
            "\tIt will be removed in librosa version 1.0.\n",
            "  y, sr_native = __audioread_load(path, offset, duration, dtype)\n",
            "<ipython-input-91-9fc97857c8b5>:47: UserWarning: PySoundFile failed. Trying audioread instead.\n",
            "  audio , _ =  librosa.load(f\"coughvid_20211012/{row['uuid']}.webm\",sr=16000,mono=True)\n",
            "/usr/local/lib/python3.10/dist-packages/librosa/core/audio.py:184: FutureWarning: librosa.core.audio.__audioread_load\n",
            "\tDeprecated as of librosa version 0.10.0.\n",
            "\tIt will be removed in librosa version 1.0.\n",
            "  y, sr_native = __audioread_load(path, offset, duration, dtype)\n",
            "<ipython-input-91-9fc97857c8b5>:47: UserWarning: PySoundFile failed. Trying audioread instead.\n",
            "  audio , _ =  librosa.load(f\"coughvid_20211012/{row['uuid']}.webm\",sr=16000,mono=True)\n",
            "/usr/local/lib/python3.10/dist-packages/librosa/core/audio.py:184: FutureWarning: librosa.core.audio.__audioread_load\n",
            "\tDeprecated as of librosa version 0.10.0.\n",
            "\tIt will be removed in librosa version 1.0.\n",
            "  y, sr_native = __audioread_load(path, offset, duration, dtype)\n"
          ]
        },
        {
          "output_type": "stream",
          "name": "stdout",
          "text": [
            "336\t File 02805b36-5361-41f5-b41e-583ec496eff6 ACCEPTED\n",
            "337\t File 0286bc63-9d1a-4f12-888d-7c2dc6b2c3fb REJECTED\n",
            "338\t File 02877709-f7ea-4789-9526-1e1f47cafb3f REJECTED\n",
            "339\t File 02884a9b-eabe-48cf-8390-4a5c0705a9b5 REJECTED\n",
            "340\t File 0288d081-951c-45f1-9fa6-9ce81a222716 REJECTED\n",
            "341\t File 028a85df-56dd-4a7d-a4fe-c137190f0eb1 ACCEPTED\n"
          ]
        },
        {
          "output_type": "stream",
          "name": "stderr",
          "text": [
            "<ipython-input-91-9fc97857c8b5>:47: UserWarning: PySoundFile failed. Trying audioread instead.\n",
            "  audio , _ =  librosa.load(f\"coughvid_20211012/{row['uuid']}.webm\",sr=16000,mono=True)\n",
            "/usr/local/lib/python3.10/dist-packages/librosa/core/audio.py:184: FutureWarning: librosa.core.audio.__audioread_load\n",
            "\tDeprecated as of librosa version 0.10.0.\n",
            "\tIt will be removed in librosa version 1.0.\n",
            "  y, sr_native = __audioread_load(path, offset, duration, dtype)\n",
            "<ipython-input-91-9fc97857c8b5>:47: UserWarning: PySoundFile failed. Trying audioread instead.\n",
            "  audio , _ =  librosa.load(f\"coughvid_20211012/{row['uuid']}.webm\",sr=16000,mono=True)\n",
            "/usr/local/lib/python3.10/dist-packages/librosa/core/audio.py:184: FutureWarning: librosa.core.audio.__audioread_load\n",
            "\tDeprecated as of librosa version 0.10.0.\n",
            "\tIt will be removed in librosa version 1.0.\n",
            "  y, sr_native = __audioread_load(path, offset, duration, dtype)\n"
          ]
        },
        {
          "output_type": "stream",
          "name": "stdout",
          "text": [
            "342\t File 028e8abb-c59a-43eb-ae2a-e68d31116a84 ACCEPTED\n",
            "343\t File 028ec384-8216-492a-9c16-ba00367b6e3e REJECTED\n",
            "344\t File 028f409d-595f-4ac7-8220-d40c8ea8f02f REJECTED\n"
          ]
        },
        {
          "output_type": "stream",
          "name": "stderr",
          "text": [
            "<ipython-input-91-9fc97857c8b5>:47: UserWarning: PySoundFile failed. Trying audioread instead.\n",
            "  audio , _ =  librosa.load(f\"coughvid_20211012/{row['uuid']}.webm\",sr=16000,mono=True)\n",
            "/usr/local/lib/python3.10/dist-packages/librosa/core/audio.py:184: FutureWarning: librosa.core.audio.__audioread_load\n",
            "\tDeprecated as of librosa version 0.10.0.\n",
            "\tIt will be removed in librosa version 1.0.\n",
            "  y, sr_native = __audioread_load(path, offset, duration, dtype)\n"
          ]
        },
        {
          "output_type": "stream",
          "name": "stdout",
          "text": [
            "345\t File 028f523c-0049-48bb-bf46-8ed0a94c3794 ACCEPTED\n",
            "346\t File 028f6443-eb89-479e-94ea-57418dce1de4 ACCEPTED\n",
            "347\t File 028f6ce6-7912-4505-b81d-3b0d27470f72 ACCEPTED\n"
          ]
        },
        {
          "output_type": "stream",
          "name": "stderr",
          "text": [
            "<ipython-input-91-9fc97857c8b5>:47: UserWarning: PySoundFile failed. Trying audioread instead.\n",
            "  audio , _ =  librosa.load(f\"coughvid_20211012/{row['uuid']}.webm\",sr=16000,mono=True)\n",
            "/usr/local/lib/python3.10/dist-packages/librosa/core/audio.py:184: FutureWarning: librosa.core.audio.__audioread_load\n",
            "\tDeprecated as of librosa version 0.10.0.\n",
            "\tIt will be removed in librosa version 1.0.\n",
            "  y, sr_native = __audioread_load(path, offset, duration, dtype)\n",
            "<ipython-input-91-9fc97857c8b5>:47: UserWarning: PySoundFile failed. Trying audioread instead.\n",
            "  audio , _ =  librosa.load(f\"coughvid_20211012/{row['uuid']}.webm\",sr=16000,mono=True)\n",
            "/usr/local/lib/python3.10/dist-packages/librosa/core/audio.py:184: FutureWarning: librosa.core.audio.__audioread_load\n",
            "\tDeprecated as of librosa version 0.10.0.\n",
            "\tIt will be removed in librosa version 1.0.\n",
            "  y, sr_native = __audioread_load(path, offset, duration, dtype)\n",
            "<ipython-input-91-9fc97857c8b5>:47: UserWarning: PySoundFile failed. Trying audioread instead.\n",
            "  audio , _ =  librosa.load(f\"coughvid_20211012/{row['uuid']}.webm\",sr=16000,mono=True)\n",
            "/usr/local/lib/python3.10/dist-packages/librosa/core/audio.py:184: FutureWarning: librosa.core.audio.__audioread_load\n",
            "\tDeprecated as of librosa version 0.10.0.\n",
            "\tIt will be removed in librosa version 1.0.\n",
            "  y, sr_native = __audioread_load(path, offset, duration, dtype)\n"
          ]
        },
        {
          "output_type": "stream",
          "name": "stdout",
          "text": [
            "348\t File 02909ffd-16cb-47d6-9592-b30b1558227f ACCEPTED\n",
            "349\t File 02937337-8cfd-4e41-ab8d-918630586e58 ACCEPTED\n"
          ]
        },
        {
          "output_type": "stream",
          "name": "stderr",
          "text": [
            "<ipython-input-91-9fc97857c8b5>:47: UserWarning: PySoundFile failed. Trying audioread instead.\n",
            "  audio , _ =  librosa.load(f\"coughvid_20211012/{row['uuid']}.webm\",sr=16000,mono=True)\n",
            "/usr/local/lib/python3.10/dist-packages/librosa/core/audio.py:184: FutureWarning: librosa.core.audio.__audioread_load\n",
            "\tDeprecated as of librosa version 0.10.0.\n",
            "\tIt will be removed in librosa version 1.0.\n",
            "  y, sr_native = __audioread_load(path, offset, duration, dtype)\n",
            "<ipython-input-91-9fc97857c8b5>:47: UserWarning: PySoundFile failed. Trying audioread instead.\n",
            "  audio , _ =  librosa.load(f\"coughvid_20211012/{row['uuid']}.webm\",sr=16000,mono=True)\n",
            "/usr/local/lib/python3.10/dist-packages/librosa/core/audio.py:184: FutureWarning: librosa.core.audio.__audioread_load\n",
            "\tDeprecated as of librosa version 0.10.0.\n",
            "\tIt will be removed in librosa version 1.0.\n",
            "  y, sr_native = __audioread_load(path, offset, duration, dtype)\n"
          ]
        },
        {
          "output_type": "stream",
          "name": "stdout",
          "text": [
            "350\t File 0293c113-405c-4be0-b38e-764eae5e77ed ACCEPTED\n",
            "351\t File 0293d996-9612-4a60-bf82-60b9c5a023c3 REJECTED\n",
            "352\t File 0294f37d-94d4-4f5b-9697-47cc41e895d0 ACCEPTED\n",
            "353\t File 0295e783-594c-4ee1-a6a5-8e48be22d160 REJECTED\n",
            "354\t File 029685b5-d06b-44ea-9ad9-6f6134438c67 REJECTED\n",
            "355\t File 02986b04-14ae-4331-a783-9245f4cc7786 REJECTED\n",
            "356\t File 029a668c-e4f8-43a9-9166-8259a9894d8f ACCEPTED\n",
            "357\t File 029ce6e1-88eb-474e-8377-756ca46bc22f ACCEPTED\n",
            "358\t File 029df1d4-19df-4838-825d-9fdd152ef47a REJECTED\n",
            "359\t File 029f6ee9-d7c5-4d4c-a153-09c210683687 ACCEPTED\n",
            "360\t File 02a035e3-7f56-49a0-bc4b-8169d44e9926 REJECTED\n",
            "361\t File 02a0c356-f1ec-4b30-809b-724f4608c773 REJECTED\n",
            "362\t File 02a24fb6-7eef-49ee-ac01-87139e2b3752 REJECTED\n",
            "363\t File 02a26dd7-f2ea-431b-902d-e66fd45cc128 REJECTED\n",
            "364\t File 02a3db84-b28e-44cc-8949-6ddc82973abf REJECTED\n",
            "365\t File 02a7107b-8df0-4157-8e0d-bd03974b2151 ACCEPTED\n"
          ]
        },
        {
          "output_type": "stream",
          "name": "stderr",
          "text": [
            "<ipython-input-91-9fc97857c8b5>:47: UserWarning: PySoundFile failed. Trying audioread instead.\n",
            "  audio , _ =  librosa.load(f\"coughvid_20211012/{row['uuid']}.webm\",sr=16000,mono=True)\n",
            "/usr/local/lib/python3.10/dist-packages/librosa/core/audio.py:184: FutureWarning: librosa.core.audio.__audioread_load\n",
            "\tDeprecated as of librosa version 0.10.0.\n",
            "\tIt will be removed in librosa version 1.0.\n",
            "  y, sr_native = __audioread_load(path, offset, duration, dtype)\n",
            "<ipython-input-91-9fc97857c8b5>:47: UserWarning: PySoundFile failed. Trying audioread instead.\n",
            "  audio , _ =  librosa.load(f\"coughvid_20211012/{row['uuid']}.webm\",sr=16000,mono=True)\n",
            "/usr/local/lib/python3.10/dist-packages/librosa/core/audio.py:184: FutureWarning: librosa.core.audio.__audioread_load\n",
            "\tDeprecated as of librosa version 0.10.0.\n",
            "\tIt will be removed in librosa version 1.0.\n",
            "  y, sr_native = __audioread_load(path, offset, duration, dtype)\n",
            "<ipython-input-91-9fc97857c8b5>:47: UserWarning: PySoundFile failed. Trying audioread instead.\n",
            "  audio , _ =  librosa.load(f\"coughvid_20211012/{row['uuid']}.webm\",sr=16000,mono=True)\n",
            "/usr/local/lib/python3.10/dist-packages/librosa/core/audio.py:184: FutureWarning: librosa.core.audio.__audioread_load\n",
            "\tDeprecated as of librosa version 0.10.0.\n",
            "\tIt will be removed in librosa version 1.0.\n",
            "  y, sr_native = __audioread_load(path, offset, duration, dtype)\n",
            "<ipython-input-91-9fc97857c8b5>:47: UserWarning: PySoundFile failed. Trying audioread instead.\n",
            "  audio , _ =  librosa.load(f\"coughvid_20211012/{row['uuid']}.webm\",sr=16000,mono=True)\n",
            "/usr/local/lib/python3.10/dist-packages/librosa/core/audio.py:184: FutureWarning: librosa.core.audio.__audioread_load\n",
            "\tDeprecated as of librosa version 0.10.0.\n",
            "\tIt will be removed in librosa version 1.0.\n",
            "  y, sr_native = __audioread_load(path, offset, duration, dtype)\n",
            "<ipython-input-91-9fc97857c8b5>:47: UserWarning: PySoundFile failed. Trying audioread instead.\n",
            "  audio , _ =  librosa.load(f\"coughvid_20211012/{row['uuid']}.webm\",sr=16000,mono=True)\n",
            "/usr/local/lib/python3.10/dist-packages/librosa/core/audio.py:184: FutureWarning: librosa.core.audio.__audioread_load\n",
            "\tDeprecated as of librosa version 0.10.0.\n",
            "\tIt will be removed in librosa version 1.0.\n",
            "  y, sr_native = __audioread_load(path, offset, duration, dtype)\n",
            "<ipython-input-91-9fc97857c8b5>:47: UserWarning: PySoundFile failed. Trying audioread instead.\n",
            "  audio , _ =  librosa.load(f\"coughvid_20211012/{row['uuid']}.webm\",sr=16000,mono=True)\n",
            "/usr/local/lib/python3.10/dist-packages/librosa/core/audio.py:184: FutureWarning: librosa.core.audio.__audioread_load\n",
            "\tDeprecated as of librosa version 0.10.0.\n",
            "\tIt will be removed in librosa version 1.0.\n",
            "  y, sr_native = __audioread_load(path, offset, duration, dtype)\n"
          ]
        },
        {
          "output_type": "stream",
          "name": "stdout",
          "text": [
            "366\t File 02a8aeaf-0127-457a-a75d-ade210f6f329 ACCEPTED\n",
            "367\t File 02a8c9f1-f0aa-4e45-8dfb-476fabe09636 ACCEPTED\n"
          ]
        },
        {
          "output_type": "stream",
          "name": "stderr",
          "text": [
            "<ipython-input-91-9fc97857c8b5>:47: UserWarning: PySoundFile failed. Trying audioread instead.\n",
            "  audio , _ =  librosa.load(f\"coughvid_20211012/{row['uuid']}.webm\",sr=16000,mono=True)\n",
            "/usr/local/lib/python3.10/dist-packages/librosa/core/audio.py:184: FutureWarning: librosa.core.audio.__audioread_load\n",
            "\tDeprecated as of librosa version 0.10.0.\n",
            "\tIt will be removed in librosa version 1.0.\n",
            "  y, sr_native = __audioread_load(path, offset, duration, dtype)\n",
            "<ipython-input-91-9fc97857c8b5>:47: UserWarning: PySoundFile failed. Trying audioread instead.\n",
            "  audio , _ =  librosa.load(f\"coughvid_20211012/{row['uuid']}.webm\",sr=16000,mono=True)\n",
            "/usr/local/lib/python3.10/dist-packages/librosa/core/audio.py:184: FutureWarning: librosa.core.audio.__audioread_load\n",
            "\tDeprecated as of librosa version 0.10.0.\n",
            "\tIt will be removed in librosa version 1.0.\n",
            "  y, sr_native = __audioread_load(path, offset, duration, dtype)\n"
          ]
        },
        {
          "output_type": "stream",
          "name": "stdout",
          "text": [
            "368\t File 02aa80ef-a83b-477f-b01d-575651364b22 ACCEPTED\n",
            "369\t File 02ac935d-1511-4a21-aa0a-867c803f4118 REJECTED\n",
            "370\t File 02ae2f29-7994-4721-9061-2e32c6d10d5e ACCEPTED\n",
            "371\t File 02ae3132-0b4c-43f6-ab50-197a6d23faef ACCEPTED\n"
          ]
        },
        {
          "output_type": "stream",
          "name": "stderr",
          "text": [
            "<ipython-input-91-9fc97857c8b5>:47: UserWarning: PySoundFile failed. Trying audioread instead.\n",
            "  audio , _ =  librosa.load(f\"coughvid_20211012/{row['uuid']}.webm\",sr=16000,mono=True)\n",
            "/usr/local/lib/python3.10/dist-packages/librosa/core/audio.py:184: FutureWarning: librosa.core.audio.__audioread_load\n",
            "\tDeprecated as of librosa version 0.10.0.\n",
            "\tIt will be removed in librosa version 1.0.\n",
            "  y, sr_native = __audioread_load(path, offset, duration, dtype)\n",
            "<ipython-input-91-9fc97857c8b5>:47: UserWarning: PySoundFile failed. Trying audioread instead.\n",
            "  audio , _ =  librosa.load(f\"coughvid_20211012/{row['uuid']}.webm\",sr=16000,mono=True)\n",
            "/usr/local/lib/python3.10/dist-packages/librosa/core/audio.py:184: FutureWarning: librosa.core.audio.__audioread_load\n",
            "\tDeprecated as of librosa version 0.10.0.\n",
            "\tIt will be removed in librosa version 1.0.\n",
            "  y, sr_native = __audioread_load(path, offset, duration, dtype)\n",
            "<ipython-input-91-9fc97857c8b5>:47: UserWarning: PySoundFile failed. Trying audioread instead.\n",
            "  audio , _ =  librosa.load(f\"coughvid_20211012/{row['uuid']}.webm\",sr=16000,mono=True)\n",
            "/usr/local/lib/python3.10/dist-packages/librosa/core/audio.py:184: FutureWarning: librosa.core.audio.__audioread_load\n",
            "\tDeprecated as of librosa version 0.10.0.\n",
            "\tIt will be removed in librosa version 1.0.\n",
            "  y, sr_native = __audioread_load(path, offset, duration, dtype)\n"
          ]
        },
        {
          "output_type": "stream",
          "name": "stdout",
          "text": [
            "372\t File 02ae77ea-c16f-449a-8ac8-3024a5b7f7b0 ACCEPTED\n"
          ]
        },
        {
          "output_type": "stream",
          "name": "stderr",
          "text": [
            "<ipython-input-91-9fc97857c8b5>:47: UserWarning: PySoundFile failed. Trying audioread instead.\n",
            "  audio , _ =  librosa.load(f\"coughvid_20211012/{row['uuid']}.webm\",sr=16000,mono=True)\n",
            "/usr/local/lib/python3.10/dist-packages/librosa/core/audio.py:184: FutureWarning: librosa.core.audio.__audioread_load\n",
            "\tDeprecated as of librosa version 0.10.0.\n",
            "\tIt will be removed in librosa version 1.0.\n",
            "  y, sr_native = __audioread_load(path, offset, duration, dtype)\n"
          ]
        },
        {
          "output_type": "stream",
          "name": "stdout",
          "text": [
            "373\t File 02afa968-2d66-4e60-9a74-5af1d418ad1d ACCEPTED\n"
          ]
        },
        {
          "output_type": "stream",
          "name": "stderr",
          "text": [
            "<ipython-input-91-9fc97857c8b5>:47: UserWarning: PySoundFile failed. Trying audioread instead.\n",
            "  audio , _ =  librosa.load(f\"coughvid_20211012/{row['uuid']}.webm\",sr=16000,mono=True)\n",
            "/usr/local/lib/python3.10/dist-packages/librosa/core/audio.py:184: FutureWarning: librosa.core.audio.__audioread_load\n",
            "\tDeprecated as of librosa version 0.10.0.\n",
            "\tIt will be removed in librosa version 1.0.\n",
            "  y, sr_native = __audioread_load(path, offset, duration, dtype)\n"
          ]
        },
        {
          "output_type": "stream",
          "name": "stdout",
          "text": [
            "374\t File 02b46db8-0a5e-41ea-9274-885e4fcca0b4 ACCEPTED\n",
            "375\t File 02b80927-ead6-492b-aca9-33a009050c27 ACCEPTED\n",
            "376\t File 02bc3e1c-90f6-4484-a36a-1caf3accec30 REJECTED\n",
            "377\t File 02bcadc9-b1d1-41d4-9660-2b70216cb81b ACCEPTED\n",
            "378\t File 02bdbcb9-d294-49de-b276-8a7e8566b965 ACCEPTED\n",
            "379\t File 02bf1a5f-4991-4802-8323-1ebcf4d2e233 REJECTED\n",
            "380\t File 02c07572-26cd-4c8d-a558-e5b144e2d3fb ACCEPTED\n",
            "381\t File 02c09e65-2ea5-441d-803a-3149cb49cc7f REJECTED\n",
            "382\t File 02c26799-c279-4d46-a8a9-0ef82ccba8ec REJECTED\n"
          ]
        },
        {
          "output_type": "stream",
          "name": "stderr",
          "text": [
            "<ipython-input-91-9fc97857c8b5>:47: UserWarning: PySoundFile failed. Trying audioread instead.\n",
            "  audio , _ =  librosa.load(f\"coughvid_20211012/{row['uuid']}.webm\",sr=16000,mono=True)\n",
            "/usr/local/lib/python3.10/dist-packages/librosa/core/audio.py:184: FutureWarning: librosa.core.audio.__audioread_load\n",
            "\tDeprecated as of librosa version 0.10.0.\n",
            "\tIt will be removed in librosa version 1.0.\n",
            "  y, sr_native = __audioread_load(path, offset, duration, dtype)\n",
            "<ipython-input-91-9fc97857c8b5>:47: UserWarning: PySoundFile failed. Trying audioread instead.\n",
            "  audio , _ =  librosa.load(f\"coughvid_20211012/{row['uuid']}.webm\",sr=16000,mono=True)\n",
            "/usr/local/lib/python3.10/dist-packages/librosa/core/audio.py:184: FutureWarning: librosa.core.audio.__audioread_load\n",
            "\tDeprecated as of librosa version 0.10.0.\n",
            "\tIt will be removed in librosa version 1.0.\n",
            "  y, sr_native = __audioread_load(path, offset, duration, dtype)\n",
            "<ipython-input-91-9fc97857c8b5>:47: UserWarning: PySoundFile failed. Trying audioread instead.\n",
            "  audio , _ =  librosa.load(f\"coughvid_20211012/{row['uuid']}.webm\",sr=16000,mono=True)\n",
            "/usr/local/lib/python3.10/dist-packages/librosa/core/audio.py:184: FutureWarning: librosa.core.audio.__audioread_load\n",
            "\tDeprecated as of librosa version 0.10.0.\n",
            "\tIt will be removed in librosa version 1.0.\n",
            "  y, sr_native = __audioread_load(path, offset, duration, dtype)\n",
            "<ipython-input-91-9fc97857c8b5>:47: UserWarning: PySoundFile failed. Trying audioread instead.\n",
            "  audio , _ =  librosa.load(f\"coughvid_20211012/{row['uuid']}.webm\",sr=16000,mono=True)\n",
            "/usr/local/lib/python3.10/dist-packages/librosa/core/audio.py:184: FutureWarning: librosa.core.audio.__audioread_load\n",
            "\tDeprecated as of librosa version 0.10.0.\n",
            "\tIt will be removed in librosa version 1.0.\n",
            "  y, sr_native = __audioread_load(path, offset, duration, dtype)\n",
            "<ipython-input-91-9fc97857c8b5>:47: UserWarning: PySoundFile failed. Trying audioread instead.\n",
            "  audio , _ =  librosa.load(f\"coughvid_20211012/{row['uuid']}.webm\",sr=16000,mono=True)\n",
            "/usr/local/lib/python3.10/dist-packages/librosa/core/audio.py:184: FutureWarning: librosa.core.audio.__audioread_load\n",
            "\tDeprecated as of librosa version 0.10.0.\n",
            "\tIt will be removed in librosa version 1.0.\n",
            "  y, sr_native = __audioread_load(path, offset, duration, dtype)\n"
          ]
        },
        {
          "output_type": "stream",
          "name": "stdout",
          "text": [
            "383\t File 02c4749d-e1b6-4173-b077-d9c71044b31e ACCEPTED\n",
            "384\t File 02c71e30-5390-412b-988c-8d73e73220b0 REJECTED\n",
            "385\t File 02c9f0a0-4c6d-4b99-a66e-14893d7c8bca ACCEPTED\n",
            "386\t File 02cbc546-5378-4f3f-83ad-fe565f460151 ACCEPTED\n",
            "387\t File 02cd9cbd-418f-4536-acc3-1a15e2ef8e34 ACCEPTED\n",
            "388\t File 02d268e0-dcba-4154-b017-7d98d3ae1c5f ACCEPTED\n",
            "389\t File 02d9d3f1-0004-4d00-937a-9c26598ab707 REJECTED\n",
            "390\t File 02d9f444-8432-4207-adfd-ba5ff826225c ACCEPTED\n",
            "391\t File 02def005-fb2b-46aa-97ce-66262fb6f93d REJECTED\n",
            "392\t File 02df470b-ddcf-403a-b726-76be6af905e1 ACCEPTED\n"
          ]
        },
        {
          "output_type": "stream",
          "name": "stderr",
          "text": [
            "<ipython-input-91-9fc97857c8b5>:47: UserWarning: PySoundFile failed. Trying audioread instead.\n",
            "  audio , _ =  librosa.load(f\"coughvid_20211012/{row['uuid']}.webm\",sr=16000,mono=True)\n",
            "/usr/local/lib/python3.10/dist-packages/librosa/core/audio.py:184: FutureWarning: librosa.core.audio.__audioread_load\n",
            "\tDeprecated as of librosa version 0.10.0.\n",
            "\tIt will be removed in librosa version 1.0.\n",
            "  y, sr_native = __audioread_load(path, offset, duration, dtype)\n",
            "<ipython-input-91-9fc97857c8b5>:47: UserWarning: PySoundFile failed. Trying audioread instead.\n",
            "  audio , _ =  librosa.load(f\"coughvid_20211012/{row['uuid']}.webm\",sr=16000,mono=True)\n",
            "/usr/local/lib/python3.10/dist-packages/librosa/core/audio.py:184: FutureWarning: librosa.core.audio.__audioread_load\n",
            "\tDeprecated as of librosa version 0.10.0.\n",
            "\tIt will be removed in librosa version 1.0.\n",
            "  y, sr_native = __audioread_load(path, offset, duration, dtype)\n",
            "<ipython-input-91-9fc97857c8b5>:47: UserWarning: PySoundFile failed. Trying audioread instead.\n",
            "  audio , _ =  librosa.load(f\"coughvid_20211012/{row['uuid']}.webm\",sr=16000,mono=True)\n",
            "/usr/local/lib/python3.10/dist-packages/librosa/core/audio.py:184: FutureWarning: librosa.core.audio.__audioread_load\n",
            "\tDeprecated as of librosa version 0.10.0.\n",
            "\tIt will be removed in librosa version 1.0.\n",
            "  y, sr_native = __audioread_load(path, offset, duration, dtype)\n",
            "<ipython-input-91-9fc97857c8b5>:47: UserWarning: PySoundFile failed. Trying audioread instead.\n",
            "  audio , _ =  librosa.load(f\"coughvid_20211012/{row['uuid']}.webm\",sr=16000,mono=True)\n",
            "/usr/local/lib/python3.10/dist-packages/librosa/core/audio.py:184: FutureWarning: librosa.core.audio.__audioread_load\n",
            "\tDeprecated as of librosa version 0.10.0.\n",
            "\tIt will be removed in librosa version 1.0.\n",
            "  y, sr_native = __audioread_load(path, offset, duration, dtype)\n",
            "<ipython-input-91-9fc97857c8b5>:47: UserWarning: PySoundFile failed. Trying audioread instead.\n",
            "  audio , _ =  librosa.load(f\"coughvid_20211012/{row['uuid']}.webm\",sr=16000,mono=True)\n",
            "/usr/local/lib/python3.10/dist-packages/librosa/core/audio.py:184: FutureWarning: librosa.core.audio.__audioread_load\n",
            "\tDeprecated as of librosa version 0.10.0.\n",
            "\tIt will be removed in librosa version 1.0.\n",
            "  y, sr_native = __audioread_load(path, offset, duration, dtype)\n",
            "<ipython-input-91-9fc97857c8b5>:47: UserWarning: PySoundFile failed. Trying audioread instead.\n",
            "  audio , _ =  librosa.load(f\"coughvid_20211012/{row['uuid']}.webm\",sr=16000,mono=True)\n",
            "/usr/local/lib/python3.10/dist-packages/librosa/core/audio.py:184: FutureWarning: librosa.core.audio.__audioread_load\n",
            "\tDeprecated as of librosa version 0.10.0.\n",
            "\tIt will be removed in librosa version 1.0.\n",
            "  y, sr_native = __audioread_load(path, offset, duration, dtype)\n",
            "<ipython-input-91-9fc97857c8b5>:47: UserWarning: PySoundFile failed. Trying audioread instead.\n",
            "  audio , _ =  librosa.load(f\"coughvid_20211012/{row['uuid']}.webm\",sr=16000,mono=True)\n",
            "/usr/local/lib/python3.10/dist-packages/librosa/core/audio.py:184: FutureWarning: librosa.core.audio.__audioread_load\n",
            "\tDeprecated as of librosa version 0.10.0.\n",
            "\tIt will be removed in librosa version 1.0.\n",
            "  y, sr_native = __audioread_load(path, offset, duration, dtype)\n"
          ]
        },
        {
          "output_type": "stream",
          "name": "stdout",
          "text": [
            "393\t File 02e17ec1-cf4d-40dc-b621-be2c751452bd ACCEPTED\n",
            "394\t File 02e59170-07cd-49eb-8d1f-59f9b0a0bec7 ACCEPTED\n"
          ]
        },
        {
          "output_type": "stream",
          "name": "stderr",
          "text": [
            "<ipython-input-91-9fc97857c8b5>:47: UserWarning: PySoundFile failed. Trying audioread instead.\n",
            "  audio , _ =  librosa.load(f\"coughvid_20211012/{row['uuid']}.webm\",sr=16000,mono=True)\n",
            "/usr/local/lib/python3.10/dist-packages/librosa/core/audio.py:184: FutureWarning: librosa.core.audio.__audioread_load\n",
            "\tDeprecated as of librosa version 0.10.0.\n",
            "\tIt will be removed in librosa version 1.0.\n",
            "  y, sr_native = __audioread_load(path, offset, duration, dtype)\n",
            "<ipython-input-91-9fc97857c8b5>:47: UserWarning: PySoundFile failed. Trying audioread instead.\n",
            "  audio , _ =  librosa.load(f\"coughvid_20211012/{row['uuid']}.webm\",sr=16000,mono=True)\n",
            "/usr/local/lib/python3.10/dist-packages/librosa/core/audio.py:184: FutureWarning: librosa.core.audio.__audioread_load\n",
            "\tDeprecated as of librosa version 0.10.0.\n",
            "\tIt will be removed in librosa version 1.0.\n",
            "  y, sr_native = __audioread_load(path, offset, duration, dtype)\n"
          ]
        },
        {
          "output_type": "stream",
          "name": "stdout",
          "text": [
            "395\t File 02e771ca-0ca9-4aa2-b664-74d44b1ef025 ACCEPTED\n",
            "396\t File 02e89a51-4d5c-4b7b-ac36-dcd2567de74a REJECTED\n",
            "397\t File 02e9b27a-c8eb-4f97-ab3c-8120059282e9 REJECTED\n",
            "398\t File 02ea54d1-9935-4404-80b5-9841dc5f7e00 REJECTED\n",
            "399\t File 02ea913b-5b32-4dd1-8b30-3de025716cfe ACCEPTED\n"
          ]
        },
        {
          "output_type": "stream",
          "name": "stderr",
          "text": [
            "<ipython-input-91-9fc97857c8b5>:47: UserWarning: PySoundFile failed. Trying audioread instead.\n",
            "  audio , _ =  librosa.load(f\"coughvid_20211012/{row['uuid']}.webm\",sr=16000,mono=True)\n",
            "/usr/local/lib/python3.10/dist-packages/librosa/core/audio.py:184: FutureWarning: librosa.core.audio.__audioread_load\n",
            "\tDeprecated as of librosa version 0.10.0.\n",
            "\tIt will be removed in librosa version 1.0.\n",
            "  y, sr_native = __audioread_load(path, offset, duration, dtype)\n",
            "<ipython-input-91-9fc97857c8b5>:47: UserWarning: PySoundFile failed. Trying audioread instead.\n",
            "  audio , _ =  librosa.load(f\"coughvid_20211012/{row['uuid']}.webm\",sr=16000,mono=True)\n",
            "/usr/local/lib/python3.10/dist-packages/librosa/core/audio.py:184: FutureWarning: librosa.core.audio.__audioread_load\n",
            "\tDeprecated as of librosa version 0.10.0.\n",
            "\tIt will be removed in librosa version 1.0.\n",
            "  y, sr_native = __audioread_load(path, offset, duration, dtype)\n"
          ]
        },
        {
          "output_type": "stream",
          "name": "stdout",
          "text": [
            "400\t File 02ebf3aa-981c-40e0-a89d-27183bc8a6a5 ACCEPTED\n",
            "401\t File 02f06fe2-d3e6-4ec0-8156-cc2c308e37d0 ACCEPTED\n"
          ]
        },
        {
          "output_type": "stream",
          "name": "stderr",
          "text": [
            "<ipython-input-91-9fc97857c8b5>:47: UserWarning: PySoundFile failed. Trying audioread instead.\n",
            "  audio , _ =  librosa.load(f\"coughvid_20211012/{row['uuid']}.webm\",sr=16000,mono=True)\n",
            "/usr/local/lib/python3.10/dist-packages/librosa/core/audio.py:184: FutureWarning: librosa.core.audio.__audioread_load\n",
            "\tDeprecated as of librosa version 0.10.0.\n",
            "\tIt will be removed in librosa version 1.0.\n",
            "  y, sr_native = __audioread_load(path, offset, duration, dtype)\n",
            "<ipython-input-91-9fc97857c8b5>:47: UserWarning: PySoundFile failed. Trying audioread instead.\n",
            "  audio , _ =  librosa.load(f\"coughvid_20211012/{row['uuid']}.webm\",sr=16000,mono=True)\n",
            "/usr/local/lib/python3.10/dist-packages/librosa/core/audio.py:184: FutureWarning: librosa.core.audio.__audioread_load\n",
            "\tDeprecated as of librosa version 0.10.0.\n",
            "\tIt will be removed in librosa version 1.0.\n",
            "  y, sr_native = __audioread_load(path, offset, duration, dtype)\n"
          ]
        },
        {
          "output_type": "stream",
          "name": "stdout",
          "text": [
            "402\t File 02f0be6b-a241-4003-8523-5273a2f49049 ACCEPTED\n",
            "403\t File 02f276e7-f935-4154-aa17-39fd7166e929 REJECTED\n",
            "404\t File 02f63c3d-4ef7-43a0-b151-ab37d1e3c1b3 REJECTED\n",
            "405\t File 02f8b7ca-a74f-452b-bc87-0c41d8bff7aa REJECTED\n",
            "406\t File 02f8dd76-2143-490f-969b-321bf1096d5f ACCEPTED\n",
            "407\t File 02fc1795-1917-43f9-8913-22efaf3c64cd REJECTED\n",
            "408\t File 02fc2085-a18c-4f46-a559-94f0e85d5496 ACCEPTED\n",
            "409\t File 02fc9a71-0d51-4ebf-9566-e8e13630f23e ACCEPTED\n",
            "410\t File 02fdfcad-012b-4b10-b10c-4a7ba676e0d7 REJECTED\n",
            "411\t File 02feaeaa-82e9-4175-a604-d0068826ba20 REJECTED\n",
            "412\t File 03017811-1838-4593-8d29-5b8804da6512 ACCEPTED\n",
            "413\t File 0302f00a-da0f-410a-96af-0941dedd8694 ACCEPTED\n",
            "414\t File 030479e5-741a-4b7c-9f54-e2830b1086ef REJECTED\n",
            "415\t File 03049e13-b0d0-486c-a7d7-a3e587c0967f REJECTED\n",
            "416\t File 0304b048-f297-4372-86a3-f1eab23c097d REJECTED\n",
            "417\t File 0304e22f-418d-451b-8630-350effa90713 REJECTED\n",
            "418\t File 030616cc-5fb6-465e-b426-061dedb19915 ACCEPTED\n",
            "419\t File 0306e227-b6c5-4b0c-bed4-e2c9130e7d4a REJECTED\n",
            "420\t File 030be8fd-4ef5-43ea-b3da-58079fb494ba ACCEPTED\n",
            "421\t File 030d21cf-05d5-40e9-8106-0c96b8b5e321 REJECTED\n",
            "422\t File 030e03cb-d3a1-454f-a0ad-b2ba98a7cfeb REJECTED\n",
            "423\t File 030f3727-77b6-4696-9078-a4bbef85759f ACCEPTED\n",
            "424\t File 03109a33-0079-45da-b9be-c45b26527207 REJECTED\n"
          ]
        },
        {
          "output_type": "stream",
          "name": "stderr",
          "text": [
            "<ipython-input-91-9fc97857c8b5>:47: UserWarning: PySoundFile failed. Trying audioread instead.\n",
            "  audio , _ =  librosa.load(f\"coughvid_20211012/{row['uuid']}.webm\",sr=16000,mono=True)\n",
            "/usr/local/lib/python3.10/dist-packages/librosa/core/audio.py:184: FutureWarning: librosa.core.audio.__audioread_load\n",
            "\tDeprecated as of librosa version 0.10.0.\n",
            "\tIt will be removed in librosa version 1.0.\n",
            "  y, sr_native = __audioread_load(path, offset, duration, dtype)\n",
            "<ipython-input-91-9fc97857c8b5>:47: UserWarning: PySoundFile failed. Trying audioread instead.\n",
            "  audio , _ =  librosa.load(f\"coughvid_20211012/{row['uuid']}.webm\",sr=16000,mono=True)\n",
            "/usr/local/lib/python3.10/dist-packages/librosa/core/audio.py:184: FutureWarning: librosa.core.audio.__audioread_load\n",
            "\tDeprecated as of librosa version 0.10.0.\n",
            "\tIt will be removed in librosa version 1.0.\n",
            "  y, sr_native = __audioread_load(path, offset, duration, dtype)\n",
            "<ipython-input-91-9fc97857c8b5>:47: UserWarning: PySoundFile failed. Trying audioread instead.\n",
            "  audio , _ =  librosa.load(f\"coughvid_20211012/{row['uuid']}.webm\",sr=16000,mono=True)\n",
            "/usr/local/lib/python3.10/dist-packages/librosa/core/audio.py:184: FutureWarning: librosa.core.audio.__audioread_load\n",
            "\tDeprecated as of librosa version 0.10.0.\n",
            "\tIt will be removed in librosa version 1.0.\n",
            "  y, sr_native = __audioread_load(path, offset, duration, dtype)\n",
            "<ipython-input-91-9fc97857c8b5>:47: UserWarning: PySoundFile failed. Trying audioread instead.\n",
            "  audio , _ =  librosa.load(f\"coughvid_20211012/{row['uuid']}.webm\",sr=16000,mono=True)\n",
            "/usr/local/lib/python3.10/dist-packages/librosa/core/audio.py:184: FutureWarning: librosa.core.audio.__audioread_load\n",
            "\tDeprecated as of librosa version 0.10.0.\n",
            "\tIt will be removed in librosa version 1.0.\n",
            "  y, sr_native = __audioread_load(path, offset, duration, dtype)\n",
            "<ipython-input-91-9fc97857c8b5>:47: UserWarning: PySoundFile failed. Trying audioread instead.\n",
            "  audio , _ =  librosa.load(f\"coughvid_20211012/{row['uuid']}.webm\",sr=16000,mono=True)\n",
            "/usr/local/lib/python3.10/dist-packages/librosa/core/audio.py:184: FutureWarning: librosa.core.audio.__audioread_load\n",
            "\tDeprecated as of librosa version 0.10.0.\n",
            "\tIt will be removed in librosa version 1.0.\n",
            "  y, sr_native = __audioread_load(path, offset, duration, dtype)\n",
            "<ipython-input-91-9fc97857c8b5>:47: UserWarning: PySoundFile failed. Trying audioread instead.\n",
            "  audio , _ =  librosa.load(f\"coughvid_20211012/{row['uuid']}.webm\",sr=16000,mono=True)\n",
            "/usr/local/lib/python3.10/dist-packages/librosa/core/audio.py:184: FutureWarning: librosa.core.audio.__audioread_load\n",
            "\tDeprecated as of librosa version 0.10.0.\n",
            "\tIt will be removed in librosa version 1.0.\n",
            "  y, sr_native = __audioread_load(path, offset, duration, dtype)\n",
            "<ipython-input-91-9fc97857c8b5>:47: UserWarning: PySoundFile failed. Trying audioread instead.\n",
            "  audio , _ =  librosa.load(f\"coughvid_20211012/{row['uuid']}.webm\",sr=16000,mono=True)\n",
            "/usr/local/lib/python3.10/dist-packages/librosa/core/audio.py:184: FutureWarning: librosa.core.audio.__audioread_load\n",
            "\tDeprecated as of librosa version 0.10.0.\n",
            "\tIt will be removed in librosa version 1.0.\n",
            "  y, sr_native = __audioread_load(path, offset, duration, dtype)\n",
            "<ipython-input-91-9fc97857c8b5>:47: UserWarning: PySoundFile failed. Trying audioread instead.\n",
            "  audio , _ =  librosa.load(f\"coughvid_20211012/{row['uuid']}.webm\",sr=16000,mono=True)\n",
            "/usr/local/lib/python3.10/dist-packages/librosa/core/audio.py:184: FutureWarning: librosa.core.audio.__audioread_load\n",
            "\tDeprecated as of librosa version 0.10.0.\n",
            "\tIt will be removed in librosa version 1.0.\n",
            "  y, sr_native = __audioread_load(path, offset, duration, dtype)\n",
            "<ipython-input-91-9fc97857c8b5>:47: UserWarning: PySoundFile failed. Trying audioread instead.\n",
            "  audio , _ =  librosa.load(f\"coughvid_20211012/{row['uuid']}.webm\",sr=16000,mono=True)\n",
            "/usr/local/lib/python3.10/dist-packages/librosa/core/audio.py:184: FutureWarning: librosa.core.audio.__audioread_load\n",
            "\tDeprecated as of librosa version 0.10.0.\n",
            "\tIt will be removed in librosa version 1.0.\n",
            "  y, sr_native = __audioread_load(path, offset, duration, dtype)\n",
            "<ipython-input-91-9fc97857c8b5>:47: UserWarning: PySoundFile failed. Trying audioread instead.\n",
            "  audio , _ =  librosa.load(f\"coughvid_20211012/{row['uuid']}.webm\",sr=16000,mono=True)\n",
            "/usr/local/lib/python3.10/dist-packages/librosa/core/audio.py:184: FutureWarning: librosa.core.audio.__audioread_load\n",
            "\tDeprecated as of librosa version 0.10.0.\n",
            "\tIt will be removed in librosa version 1.0.\n",
            "  y, sr_native = __audioread_load(path, offset, duration, dtype)\n"
          ]
        },
        {
          "output_type": "stream",
          "name": "stdout",
          "text": [
            "425\t File 0311d036-51c4-4c2e-9402-b58919e411b5 ACCEPTED\n",
            "426\t File 0311ee9e-b265-4767-ba51-f3fc8176747a ACCEPTED\n",
            "427\t File 0315e320-270c-4caf-8d99-1c0f603f112d REJECTED\n",
            "428\t File 0317373f-4136-4980-84b8-ca862927b3a7 REJECTED\n",
            "429\t File 031db289-6d26-44e9-bb7b-3bf74c895154 REJECTED\n"
          ]
        },
        {
          "output_type": "stream",
          "name": "stderr",
          "text": [
            "<ipython-input-91-9fc97857c8b5>:47: UserWarning: PySoundFile failed. Trying audioread instead.\n",
            "  audio , _ =  librosa.load(f\"coughvid_20211012/{row['uuid']}.webm\",sr=16000,mono=True)\n",
            "/usr/local/lib/python3.10/dist-packages/librosa/core/audio.py:184: FutureWarning: librosa.core.audio.__audioread_load\n",
            "\tDeprecated as of librosa version 0.10.0.\n",
            "\tIt will be removed in librosa version 1.0.\n",
            "  y, sr_native = __audioread_load(path, offset, duration, dtype)\n",
            "<ipython-input-91-9fc97857c8b5>:47: UserWarning: PySoundFile failed. Trying audioread instead.\n",
            "  audio , _ =  librosa.load(f\"coughvid_20211012/{row['uuid']}.webm\",sr=16000,mono=True)\n",
            "/usr/local/lib/python3.10/dist-packages/librosa/core/audio.py:184: FutureWarning: librosa.core.audio.__audioread_load\n",
            "\tDeprecated as of librosa version 0.10.0.\n",
            "\tIt will be removed in librosa version 1.0.\n",
            "  y, sr_native = __audioread_load(path, offset, duration, dtype)\n"
          ]
        },
        {
          "output_type": "stream",
          "name": "stdout",
          "text": [
            "430\t File 031fd54a-87b5-4223-9af6-60985127fb7a ACCEPTED\n",
            "431\t File 0321cdc2-3599-4e91-a36e-8b0a44b0f1cd REJECTED\n",
            "432\t File 032246e5-54af-444e-a82b-1bca916a0dcd REJECTED\n",
            "433\t File 0324ac09-9e71-4907-b189-594b7a4dc7b4 REJECTED\n",
            "434\t File 03290d14-dada-48af-8206-86afe0eeb579 ACCEPTED\n",
            "435\t File 032d8941-5802-4883-a8d0-789971c38062 REJECTED\n",
            "436\t File 032e7df9-c964-4120-b738-5cc53eb6152d REJECTED\n",
            "437\t File 032eedc1-ac8a-40cb-9477-abf156ff527d REJECTED\n",
            "438\t File 033010fd-2c99-46b6-9198-6ff053d88c12 REJECTED\n",
            "439\t File 0333e0a7-ea84-41c2-b751-c0fbd89e0e4f REJECTED\n",
            "440\t File 03363606-b502-4f0e-8c3f-326f2ffe8090 ACCEPTED\n",
            "441\t File 0336e68b-83ed-46fd-81be-1c31210af857 ACCEPTED\n",
            "442\t File 033a9492-0bc0-4f85-9045-5154d8ad5325 ACCEPTED\n",
            "443\t File 033b361a-596c-4581-a84a-7fb1b09395a6 REJECTED\n"
          ]
        },
        {
          "output_type": "stream",
          "name": "stderr",
          "text": [
            "<ipython-input-91-9fc97857c8b5>:47: UserWarning: PySoundFile failed. Trying audioread instead.\n",
            "  audio , _ =  librosa.load(f\"coughvid_20211012/{row['uuid']}.webm\",sr=16000,mono=True)\n",
            "/usr/local/lib/python3.10/dist-packages/librosa/core/audio.py:184: FutureWarning: librosa.core.audio.__audioread_load\n",
            "\tDeprecated as of librosa version 0.10.0.\n",
            "\tIt will be removed in librosa version 1.0.\n",
            "  y, sr_native = __audioread_load(path, offset, duration, dtype)\n",
            "<ipython-input-91-9fc97857c8b5>:47: UserWarning: PySoundFile failed. Trying audioread instead.\n",
            "  audio , _ =  librosa.load(f\"coughvid_20211012/{row['uuid']}.webm\",sr=16000,mono=True)\n",
            "/usr/local/lib/python3.10/dist-packages/librosa/core/audio.py:184: FutureWarning: librosa.core.audio.__audioread_load\n",
            "\tDeprecated as of librosa version 0.10.0.\n",
            "\tIt will be removed in librosa version 1.0.\n",
            "  y, sr_native = __audioread_load(path, offset, duration, dtype)\n",
            "<ipython-input-91-9fc97857c8b5>:47: UserWarning: PySoundFile failed. Trying audioread instead.\n",
            "  audio , _ =  librosa.load(f\"coughvid_20211012/{row['uuid']}.webm\",sr=16000,mono=True)\n",
            "/usr/local/lib/python3.10/dist-packages/librosa/core/audio.py:184: FutureWarning: librosa.core.audio.__audioread_load\n",
            "\tDeprecated as of librosa version 0.10.0.\n",
            "\tIt will be removed in librosa version 1.0.\n",
            "  y, sr_native = __audioread_load(path, offset, duration, dtype)\n",
            "<ipython-input-91-9fc97857c8b5>:47: UserWarning: PySoundFile failed. Trying audioread instead.\n",
            "  audio , _ =  librosa.load(f\"coughvid_20211012/{row['uuid']}.webm\",sr=16000,mono=True)\n",
            "/usr/local/lib/python3.10/dist-packages/librosa/core/audio.py:184: FutureWarning: librosa.core.audio.__audioread_load\n",
            "\tDeprecated as of librosa version 0.10.0.\n",
            "\tIt will be removed in librosa version 1.0.\n",
            "  y, sr_native = __audioread_load(path, offset, duration, dtype)\n"
          ]
        },
        {
          "output_type": "stream",
          "name": "stdout",
          "text": [
            "444\t File 033c43c3-3a99-41bb-b662-0c546c3cb37f ACCEPTED\n",
            "445\t File 033da4e3-7365-4adc-9252-7347816e4e77 ACCEPTED\n"
          ]
        },
        {
          "output_type": "stream",
          "name": "stderr",
          "text": [
            "<ipython-input-91-9fc97857c8b5>:47: UserWarning: PySoundFile failed. Trying audioread instead.\n",
            "  audio , _ =  librosa.load(f\"coughvid_20211012/{row['uuid']}.webm\",sr=16000,mono=True)\n",
            "/usr/local/lib/python3.10/dist-packages/librosa/core/audio.py:184: FutureWarning: librosa.core.audio.__audioread_load\n",
            "\tDeprecated as of librosa version 0.10.0.\n",
            "\tIt will be removed in librosa version 1.0.\n",
            "  y, sr_native = __audioread_load(path, offset, duration, dtype)\n",
            "<ipython-input-91-9fc97857c8b5>:47: UserWarning: PySoundFile failed. Trying audioread instead.\n",
            "  audio , _ =  librosa.load(f\"coughvid_20211012/{row['uuid']}.webm\",sr=16000,mono=True)\n",
            "/usr/local/lib/python3.10/dist-packages/librosa/core/audio.py:184: FutureWarning: librosa.core.audio.__audioread_load\n",
            "\tDeprecated as of librosa version 0.10.0.\n",
            "\tIt will be removed in librosa version 1.0.\n",
            "  y, sr_native = __audioread_load(path, offset, duration, dtype)\n"
          ]
        },
        {
          "output_type": "stream",
          "name": "stdout",
          "text": [
            "446\t File 033f3882-da09-4c6b-9c3b-a33473ac78a6 ACCEPTED\n",
            "447\t File 033f4e9f-6873-4846-a5be-c6f5eb5bf0fc ACCEPTED\n",
            "448\t File 0340dbec-da99-4d4f-b8ad-a6a31dee2ca6 REJECTED\n"
          ]
        },
        {
          "output_type": "stream",
          "name": "stderr",
          "text": [
            "<ipython-input-91-9fc97857c8b5>:47: UserWarning: PySoundFile failed. Trying audioread instead.\n",
            "  audio , _ =  librosa.load(f\"coughvid_20211012/{row['uuid']}.webm\",sr=16000,mono=True)\n",
            "/usr/local/lib/python3.10/dist-packages/librosa/core/audio.py:184: FutureWarning: librosa.core.audio.__audioread_load\n",
            "\tDeprecated as of librosa version 0.10.0.\n",
            "\tIt will be removed in librosa version 1.0.\n",
            "  y, sr_native = __audioread_load(path, offset, duration, dtype)\n",
            "<ipython-input-91-9fc97857c8b5>:47: UserWarning: PySoundFile failed. Trying audioread instead.\n",
            "  audio , _ =  librosa.load(f\"coughvid_20211012/{row['uuid']}.webm\",sr=16000,mono=True)\n",
            "/usr/local/lib/python3.10/dist-packages/librosa/core/audio.py:184: FutureWarning: librosa.core.audio.__audioread_load\n",
            "\tDeprecated as of librosa version 0.10.0.\n",
            "\tIt will be removed in librosa version 1.0.\n",
            "  y, sr_native = __audioread_load(path, offset, duration, dtype)\n"
          ]
        },
        {
          "output_type": "stream",
          "name": "stdout",
          "text": [
            "449\t File 0341fb44-3b0d-4754-a32b-8ced68adbc11 ACCEPTED\n",
            "450\t File 03430d6b-4554-4ffe-8c82-507832dc1d52 ACCEPTED\n",
            "451\t File 03438f19-1a33-4a8b-980d-a9e2821e92dc ACCEPTED\n",
            "452\t File 034832ff-2598-40ac-acb0-a892812cec1b ACCEPTED\n",
            "453\t File 0348ad3b-e0b1-4a36-bc8a-ff381e529739 ACCEPTED\n",
            "454\t File 03495344-ae35-497f-99c5-3392b77618b9 ACCEPTED\n",
            "455\t File 034a2518-6303-455a-b6d9-896bc567e95e REJECTED\n",
            "456\t File 034aa6d3-6673-47a1-a319-325aa9be44a2 ACCEPTED\n",
            "457\t File 034ab194-1af2-4f3c-9128-1b82d9f2d98e REJECTED\n",
            "458\t File 0352b80b-3c92-44f2-abbf-d6c056e02ee9 REJECTED\n",
            "459\t File 0353cddc-29b3-48e2-bb6b-2293b9fabf96 REJECTED\n",
            "460\t File 0354141d-4bdf-4270-91b2-e8811714f328 REJECTED\n",
            "461\t File 03587993-6548-4e37-b585-4ed49b4f9a56 ACCEPTED\n",
            "462\t File 0358b80d-4378-4765-a733-5fb2294cb255 ACCEPTED\n",
            "463\t File 035973bd-61a9-4cb5-ad79-45099b519a40 ACCEPTED\n",
            "464\t File 035a5768-a6f3-4462-9ae7-c92f59b9f540 ACCEPTED\n",
            "465\t File 035b6112-a1f4-459f-9993-915b47c776e7 ACCEPTED\n"
          ]
        },
        {
          "output_type": "stream",
          "name": "stderr",
          "text": [
            "<ipython-input-91-9fc97857c8b5>:47: UserWarning: PySoundFile failed. Trying audioread instead.\n",
            "  audio , _ =  librosa.load(f\"coughvid_20211012/{row['uuid']}.webm\",sr=16000,mono=True)\n",
            "/usr/local/lib/python3.10/dist-packages/librosa/core/audio.py:184: FutureWarning: librosa.core.audio.__audioread_load\n",
            "\tDeprecated as of librosa version 0.10.0.\n",
            "\tIt will be removed in librosa version 1.0.\n",
            "  y, sr_native = __audioread_load(path, offset, duration, dtype)\n",
            "<ipython-input-91-9fc97857c8b5>:47: UserWarning: PySoundFile failed. Trying audioread instead.\n",
            "  audio , _ =  librosa.load(f\"coughvid_20211012/{row['uuid']}.webm\",sr=16000,mono=True)\n",
            "/usr/local/lib/python3.10/dist-packages/librosa/core/audio.py:184: FutureWarning: librosa.core.audio.__audioread_load\n",
            "\tDeprecated as of librosa version 0.10.0.\n",
            "\tIt will be removed in librosa version 1.0.\n",
            "  y, sr_native = __audioread_load(path, offset, duration, dtype)\n",
            "<ipython-input-91-9fc97857c8b5>:47: UserWarning: PySoundFile failed. Trying audioread instead.\n",
            "  audio , _ =  librosa.load(f\"coughvid_20211012/{row['uuid']}.webm\",sr=16000,mono=True)\n",
            "/usr/local/lib/python3.10/dist-packages/librosa/core/audio.py:184: FutureWarning: librosa.core.audio.__audioread_load\n",
            "\tDeprecated as of librosa version 0.10.0.\n",
            "\tIt will be removed in librosa version 1.0.\n",
            "  y, sr_native = __audioread_load(path, offset, duration, dtype)\n",
            "<ipython-input-91-9fc97857c8b5>:47: UserWarning: PySoundFile failed. Trying audioread instead.\n",
            "  audio , _ =  librosa.load(f\"coughvid_20211012/{row['uuid']}.webm\",sr=16000,mono=True)\n",
            "/usr/local/lib/python3.10/dist-packages/librosa/core/audio.py:184: FutureWarning: librosa.core.audio.__audioread_load\n",
            "\tDeprecated as of librosa version 0.10.0.\n",
            "\tIt will be removed in librosa version 1.0.\n",
            "  y, sr_native = __audioread_load(path, offset, duration, dtype)\n",
            "<ipython-input-91-9fc97857c8b5>:47: UserWarning: PySoundFile failed. Trying audioread instead.\n",
            "  audio , _ =  librosa.load(f\"coughvid_20211012/{row['uuid']}.webm\",sr=16000,mono=True)\n",
            "/usr/local/lib/python3.10/dist-packages/librosa/core/audio.py:184: FutureWarning: librosa.core.audio.__audioread_load\n",
            "\tDeprecated as of librosa version 0.10.0.\n",
            "\tIt will be removed in librosa version 1.0.\n",
            "  y, sr_native = __audioread_load(path, offset, duration, dtype)\n",
            "<ipython-input-91-9fc97857c8b5>:47: UserWarning: PySoundFile failed. Trying audioread instead.\n",
            "  audio , _ =  librosa.load(f\"coughvid_20211012/{row['uuid']}.webm\",sr=16000,mono=True)\n",
            "/usr/local/lib/python3.10/dist-packages/librosa/core/audio.py:184: FutureWarning: librosa.core.audio.__audioread_load\n",
            "\tDeprecated as of librosa version 0.10.0.\n",
            "\tIt will be removed in librosa version 1.0.\n",
            "  y, sr_native = __audioread_load(path, offset, duration, dtype)\n",
            "<ipython-input-91-9fc97857c8b5>:47: UserWarning: PySoundFile failed. Trying audioread instead.\n",
            "  audio , _ =  librosa.load(f\"coughvid_20211012/{row['uuid']}.webm\",sr=16000,mono=True)\n",
            "/usr/local/lib/python3.10/dist-packages/librosa/core/audio.py:184: FutureWarning: librosa.core.audio.__audioread_load\n",
            "\tDeprecated as of librosa version 0.10.0.\n",
            "\tIt will be removed in librosa version 1.0.\n",
            "  y, sr_native = __audioread_load(path, offset, duration, dtype)\n",
            "<ipython-input-91-9fc97857c8b5>:47: UserWarning: PySoundFile failed. Trying audioread instead.\n",
            "  audio , _ =  librosa.load(f\"coughvid_20211012/{row['uuid']}.webm\",sr=16000,mono=True)\n",
            "/usr/local/lib/python3.10/dist-packages/librosa/core/audio.py:184: FutureWarning: librosa.core.audio.__audioread_load\n",
            "\tDeprecated as of librosa version 0.10.0.\n",
            "\tIt will be removed in librosa version 1.0.\n",
            "  y, sr_native = __audioread_load(path, offset, duration, dtype)\n",
            "<ipython-input-91-9fc97857c8b5>:47: UserWarning: PySoundFile failed. Trying audioread instead.\n",
            "  audio , _ =  librosa.load(f\"coughvid_20211012/{row['uuid']}.webm\",sr=16000,mono=True)\n",
            "/usr/local/lib/python3.10/dist-packages/librosa/core/audio.py:184: FutureWarning: librosa.core.audio.__audioread_load\n",
            "\tDeprecated as of librosa version 0.10.0.\n",
            "\tIt will be removed in librosa version 1.0.\n",
            "  y, sr_native = __audioread_load(path, offset, duration, dtype)\n",
            "<ipython-input-91-9fc97857c8b5>:47: UserWarning: PySoundFile failed. Trying audioread instead.\n",
            "  audio , _ =  librosa.load(f\"coughvid_20211012/{row['uuid']}.webm\",sr=16000,mono=True)\n",
            "/usr/local/lib/python3.10/dist-packages/librosa/core/audio.py:184: FutureWarning: librosa.core.audio.__audioread_load\n",
            "\tDeprecated as of librosa version 0.10.0.\n",
            "\tIt will be removed in librosa version 1.0.\n",
            "  y, sr_native = __audioread_load(path, offset, duration, dtype)\n",
            "<ipython-input-91-9fc97857c8b5>:47: UserWarning: PySoundFile failed. Trying audioread instead.\n",
            "  audio , _ =  librosa.load(f\"coughvid_20211012/{row['uuid']}.webm\",sr=16000,mono=True)\n",
            "/usr/local/lib/python3.10/dist-packages/librosa/core/audio.py:184: FutureWarning: librosa.core.audio.__audioread_load\n",
            "\tDeprecated as of librosa version 0.10.0.\n",
            "\tIt will be removed in librosa version 1.0.\n",
            "  y, sr_native = __audioread_load(path, offset, duration, dtype)\n",
            "<ipython-input-91-9fc97857c8b5>:47: UserWarning: PySoundFile failed. Trying audioread instead.\n",
            "  audio , _ =  librosa.load(f\"coughvid_20211012/{row['uuid']}.webm\",sr=16000,mono=True)\n",
            "/usr/local/lib/python3.10/dist-packages/librosa/core/audio.py:184: FutureWarning: librosa.core.audio.__audioread_load\n",
            "\tDeprecated as of librosa version 0.10.0.\n",
            "\tIt will be removed in librosa version 1.0.\n",
            "  y, sr_native = __audioread_load(path, offset, duration, dtype)\n"
          ]
        },
        {
          "output_type": "stream",
          "name": "stdout",
          "text": [
            "466\t File 035db6e5-5747-4ffb-ab25-a9166be9d659 ACCEPTED\n",
            "467\t File 035efb03-9ace-47a1-b825-0ddef8ba5dc9 ACCEPTED\n",
            "468\t File 0365dc6d-aa38-45e6-baf7-7015810c1555 REJECTED\n",
            "469\t File 0367cf3b-653d-4e68-a2ea-419985f2d28b REJECTED\n",
            "470\t File 036821ca-1454-4ba0-93c1-4c3fe82fe9a7 REJECTED\n",
            "471\t File 0369c200-4fd5-472f-a04b-415ca091901f REJECTED\n",
            "472\t File 036d875c-d39b-45f1-a17f-7f7badf0aa42 ACCEPTED\n"
          ]
        },
        {
          "output_type": "stream",
          "name": "stderr",
          "text": [
            "<ipython-input-91-9fc97857c8b5>:47: UserWarning: PySoundFile failed. Trying audioread instead.\n",
            "  audio , _ =  librosa.load(f\"coughvid_20211012/{row['uuid']}.webm\",sr=16000,mono=True)\n",
            "/usr/local/lib/python3.10/dist-packages/librosa/core/audio.py:184: FutureWarning: librosa.core.audio.__audioread_load\n",
            "\tDeprecated as of librosa version 0.10.0.\n",
            "\tIt will be removed in librosa version 1.0.\n",
            "  y, sr_native = __audioread_load(path, offset, duration, dtype)\n",
            "<ipython-input-91-9fc97857c8b5>:47: UserWarning: PySoundFile failed. Trying audioread instead.\n",
            "  audio , _ =  librosa.load(f\"coughvid_20211012/{row['uuid']}.webm\",sr=16000,mono=True)\n",
            "/usr/local/lib/python3.10/dist-packages/librosa/core/audio.py:184: FutureWarning: librosa.core.audio.__audioread_load\n",
            "\tDeprecated as of librosa version 0.10.0.\n",
            "\tIt will be removed in librosa version 1.0.\n",
            "  y, sr_native = __audioread_load(path, offset, duration, dtype)\n"
          ]
        },
        {
          "output_type": "stream",
          "name": "stdout",
          "text": [
            "473\t File 03741bc1-124e-47a9-931c-f0e6ba3b70fa ACCEPTED\n",
            "474\t File 0374c480-471f-4773-adc0-a64b138cf24a REJECTED\n",
            "475\t File 0375b987-0958-45fc-a761-1aa0cb98de6f REJECTED\n",
            "476\t File 0379c586-c500-483c-83a6-95b63afe6931 ACCEPTED\n"
          ]
        },
        {
          "output_type": "stream",
          "name": "stderr",
          "text": [
            "<ipython-input-91-9fc97857c8b5>:47: UserWarning: PySoundFile failed. Trying audioread instead.\n",
            "  audio , _ =  librosa.load(f\"coughvid_20211012/{row['uuid']}.webm\",sr=16000,mono=True)\n",
            "/usr/local/lib/python3.10/dist-packages/librosa/core/audio.py:184: FutureWarning: librosa.core.audio.__audioread_load\n",
            "\tDeprecated as of librosa version 0.10.0.\n",
            "\tIt will be removed in librosa version 1.0.\n",
            "  y, sr_native = __audioread_load(path, offset, duration, dtype)\n",
            "<ipython-input-91-9fc97857c8b5>:47: UserWarning: PySoundFile failed. Trying audioread instead.\n",
            "  audio , _ =  librosa.load(f\"coughvid_20211012/{row['uuid']}.webm\",sr=16000,mono=True)\n",
            "/usr/local/lib/python3.10/dist-packages/librosa/core/audio.py:184: FutureWarning: librosa.core.audio.__audioread_load\n",
            "\tDeprecated as of librosa version 0.10.0.\n",
            "\tIt will be removed in librosa version 1.0.\n",
            "  y, sr_native = __audioread_load(path, offset, duration, dtype)\n"
          ]
        },
        {
          "output_type": "stream",
          "name": "stdout",
          "text": [
            "477\t File 037a31d1-435a-45ba-b118-5198b451ad07 ACCEPTED\n",
            "478\t File 037b7826-6cd8-4ac0-a4d4-ec9563816e4a REJECTED\n",
            "479\t File 037f628e-1a10-4364-8191-9f49191cfe5c REJECTED\n",
            "480\t File 0380acf5-16f8-4198-bedb-b61f9a017b4d REJECTED\n",
            "481\t File 0381caa3-fe32-4b67-9870-e254c9518e44 REJECTED\n",
            "482\t File 0382e9af-26ed-4482-b570-37b8d2a7d76b ACCEPTED\n",
            "483\t File 038592cb-c8db-4f55-8052-e20059146cb5 ACCEPTED\n",
            "484\t File 038593b5-6baa-4b8f-84fa-96ddda9736b0 REJECTED\n"
          ]
        },
        {
          "output_type": "stream",
          "name": "stderr",
          "text": [
            "<ipython-input-91-9fc97857c8b5>:47: UserWarning: PySoundFile failed. Trying audioread instead.\n",
            "  audio , _ =  librosa.load(f\"coughvid_20211012/{row['uuid']}.webm\",sr=16000,mono=True)\n",
            "/usr/local/lib/python3.10/dist-packages/librosa/core/audio.py:184: FutureWarning: librosa.core.audio.__audioread_load\n",
            "\tDeprecated as of librosa version 0.10.0.\n",
            "\tIt will be removed in librosa version 1.0.\n",
            "  y, sr_native = __audioread_load(path, offset, duration, dtype)\n",
            "<ipython-input-91-9fc97857c8b5>:47: UserWarning: PySoundFile failed. Trying audioread instead.\n",
            "  audio , _ =  librosa.load(f\"coughvid_20211012/{row['uuid']}.webm\",sr=16000,mono=True)\n",
            "/usr/local/lib/python3.10/dist-packages/librosa/core/audio.py:184: FutureWarning: librosa.core.audio.__audioread_load\n",
            "\tDeprecated as of librosa version 0.10.0.\n",
            "\tIt will be removed in librosa version 1.0.\n",
            "  y, sr_native = __audioread_load(path, offset, duration, dtype)\n",
            "<ipython-input-91-9fc97857c8b5>:47: UserWarning: PySoundFile failed. Trying audioread instead.\n",
            "  audio , _ =  librosa.load(f\"coughvid_20211012/{row['uuid']}.webm\",sr=16000,mono=True)\n",
            "/usr/local/lib/python3.10/dist-packages/librosa/core/audio.py:184: FutureWarning: librosa.core.audio.__audioread_load\n",
            "\tDeprecated as of librosa version 0.10.0.\n",
            "\tIt will be removed in librosa version 1.0.\n",
            "  y, sr_native = __audioread_load(path, offset, duration, dtype)\n"
          ]
        },
        {
          "output_type": "stream",
          "name": "stdout",
          "text": [
            "485\t File 038835bc-5c44-4192-a213-5d56343b1626 ACCEPTED\n",
            "486\t File 038c5b29-8502-419f-8519-86dae1f030a0 REJECTED\n",
            "487\t File 038dc4cb-9b48-408d-8828-3cc51d042a61 REJECTED\n",
            "488\t File 038e47f4-22af-48b9-b51b-6b6445a5e7ad REJECTED\n",
            "489\t File 0391f007-68c2-420c-a5cc-b6f4314b2d57 REJECTED\n",
            "490\t File 0392fe28-aa22-4e1d-ba14-0c6f5fed03f0 ACCEPTED\n",
            "491\t File 0393ca2f-73c6-4608-88dc-5db6e3340e0c REJECTED\n",
            "492\t File 0396af0f-7982-4edc-add4-a60b35aa89a1 ACCEPTED\n",
            "493\t File 0397e4f9-19a2-43fa-8924-b5e135e1d7ae REJECTED\n",
            "494\t File 039a9170-b492-45bf-9289-29b863f3fc81 REJECTED\n",
            "495\t File 039d4fc1-28f7-4b06-bcaa-0de5d48e69c8 REJECTED\n",
            "496\t File 039eb795-1356-4651-bb38-a28bdba075df ACCEPTED\n",
            "497\t File 03a6d625-5b66-405a-9e09-f99ed2c42d41 ACCEPTED\n",
            "498\t File 03a81c51-6167-4045-8746-04e82af983b2 REJECTED\n",
            "499\t File 03a90760-828d-4a2c-b10d-ddc8e86eeee8 ACCEPTED\n",
            "500\t File 03ad0e21-81ba-4617-a218-3070ebe69e3d REJECTED\n"
          ]
        },
        {
          "output_type": "stream",
          "name": "stderr",
          "text": [
            "<ipython-input-91-9fc97857c8b5>:47: UserWarning: PySoundFile failed. Trying audioread instead.\n",
            "  audio , _ =  librosa.load(f\"coughvid_20211012/{row['uuid']}.webm\",sr=16000,mono=True)\n",
            "/usr/local/lib/python3.10/dist-packages/librosa/core/audio.py:184: FutureWarning: librosa.core.audio.__audioread_load\n",
            "\tDeprecated as of librosa version 0.10.0.\n",
            "\tIt will be removed in librosa version 1.0.\n",
            "  y, sr_native = __audioread_load(path, offset, duration, dtype)\n",
            "<ipython-input-91-9fc97857c8b5>:47: UserWarning: PySoundFile failed. Trying audioread instead.\n",
            "  audio , _ =  librosa.load(f\"coughvid_20211012/{row['uuid']}.webm\",sr=16000,mono=True)\n",
            "/usr/local/lib/python3.10/dist-packages/librosa/core/audio.py:184: FutureWarning: librosa.core.audio.__audioread_load\n",
            "\tDeprecated as of librosa version 0.10.0.\n",
            "\tIt will be removed in librosa version 1.0.\n",
            "  y, sr_native = __audioread_load(path, offset, duration, dtype)\n",
            "<ipython-input-91-9fc97857c8b5>:47: UserWarning: PySoundFile failed. Trying audioread instead.\n",
            "  audio , _ =  librosa.load(f\"coughvid_20211012/{row['uuid']}.webm\",sr=16000,mono=True)\n",
            "/usr/local/lib/python3.10/dist-packages/librosa/core/audio.py:184: FutureWarning: librosa.core.audio.__audioread_load\n",
            "\tDeprecated as of librosa version 0.10.0.\n",
            "\tIt will be removed in librosa version 1.0.\n",
            "  y, sr_native = __audioread_load(path, offset, duration, dtype)\n",
            "<ipython-input-91-9fc97857c8b5>:47: UserWarning: PySoundFile failed. Trying audioread instead.\n",
            "  audio , _ =  librosa.load(f\"coughvid_20211012/{row['uuid']}.webm\",sr=16000,mono=True)\n",
            "/usr/local/lib/python3.10/dist-packages/librosa/core/audio.py:184: FutureWarning: librosa.core.audio.__audioread_load\n",
            "\tDeprecated as of librosa version 0.10.0.\n",
            "\tIt will be removed in librosa version 1.0.\n",
            "  y, sr_native = __audioread_load(path, offset, duration, dtype)\n",
            "<ipython-input-91-9fc97857c8b5>:47: UserWarning: PySoundFile failed. Trying audioread instead.\n",
            "  audio , _ =  librosa.load(f\"coughvid_20211012/{row['uuid']}.webm\",sr=16000,mono=True)\n",
            "/usr/local/lib/python3.10/dist-packages/librosa/core/audio.py:184: FutureWarning: librosa.core.audio.__audioread_load\n",
            "\tDeprecated as of librosa version 0.10.0.\n",
            "\tIt will be removed in librosa version 1.0.\n",
            "  y, sr_native = __audioread_load(path, offset, duration, dtype)\n",
            "<ipython-input-91-9fc97857c8b5>:47: UserWarning: PySoundFile failed. Trying audioread instead.\n",
            "  audio , _ =  librosa.load(f\"coughvid_20211012/{row['uuid']}.webm\",sr=16000,mono=True)\n",
            "/usr/local/lib/python3.10/dist-packages/librosa/core/audio.py:184: FutureWarning: librosa.core.audio.__audioread_load\n",
            "\tDeprecated as of librosa version 0.10.0.\n",
            "\tIt will be removed in librosa version 1.0.\n",
            "  y, sr_native = __audioread_load(path, offset, duration, dtype)\n"
          ]
        },
        {
          "output_type": "stream",
          "name": "stdout",
          "text": [
            "501\t File 03ad83d5-4fef-4d78-b945-fa0d996054e6 ACCEPTED\n",
            "502\t File 03b09e90-c894-4cf3-8b02-c6fdbe41c5b6 ACCEPTED\n"
          ]
        },
        {
          "output_type": "stream",
          "name": "stderr",
          "text": [
            "<ipython-input-91-9fc97857c8b5>:47: UserWarning: PySoundFile failed. Trying audioread instead.\n",
            "  audio , _ =  librosa.load(f\"coughvid_20211012/{row['uuid']}.webm\",sr=16000,mono=True)\n",
            "/usr/local/lib/python3.10/dist-packages/librosa/core/audio.py:184: FutureWarning: librosa.core.audio.__audioread_load\n",
            "\tDeprecated as of librosa version 0.10.0.\n",
            "\tIt will be removed in librosa version 1.0.\n",
            "  y, sr_native = __audioread_load(path, offset, duration, dtype)\n",
            "<ipython-input-91-9fc97857c8b5>:47: UserWarning: PySoundFile failed. Trying audioread instead.\n",
            "  audio , _ =  librosa.load(f\"coughvid_20211012/{row['uuid']}.webm\",sr=16000,mono=True)\n",
            "/usr/local/lib/python3.10/dist-packages/librosa/core/audio.py:184: FutureWarning: librosa.core.audio.__audioread_load\n",
            "\tDeprecated as of librosa version 0.10.0.\n",
            "\tIt will be removed in librosa version 1.0.\n",
            "  y, sr_native = __audioread_load(path, offset, duration, dtype)\n"
          ]
        },
        {
          "output_type": "stream",
          "name": "stdout",
          "text": [
            "503\t File 03b2c772-9baf-4350-ab9d-bb65bc51e3d8 ACCEPTED\n",
            "504\t File 03b3815a-71e9-4b45-a4d0-5e7af01c0880 REJECTED\n",
            "505\t File 03b3c127-5487-4340-b3c9-b371facc6ca5 REJECTED\n",
            "506\t File 03b402a3-5318-4289-b746-7bfa40546709 ACCEPTED\n",
            "507\t File 03b7911f-7d3f-4ec7-b7ef-7549cf990e14 REJECTED\n",
            "508\t File 03b86090-0064-4138-96d9-6ef168586797 REJECTED\n"
          ]
        },
        {
          "output_type": "stream",
          "name": "stderr",
          "text": [
            "<ipython-input-91-9fc97857c8b5>:47: UserWarning: PySoundFile failed. Trying audioread instead.\n",
            "  audio , _ =  librosa.load(f\"coughvid_20211012/{row['uuid']}.webm\",sr=16000,mono=True)\n",
            "/usr/local/lib/python3.10/dist-packages/librosa/core/audio.py:184: FutureWarning: librosa.core.audio.__audioread_load\n",
            "\tDeprecated as of librosa version 0.10.0.\n",
            "\tIt will be removed in librosa version 1.0.\n",
            "  y, sr_native = __audioread_load(path, offset, duration, dtype)\n",
            "<ipython-input-91-9fc97857c8b5>:47: UserWarning: PySoundFile failed. Trying audioread instead.\n",
            "  audio , _ =  librosa.load(f\"coughvid_20211012/{row['uuid']}.webm\",sr=16000,mono=True)\n",
            "/usr/local/lib/python3.10/dist-packages/librosa/core/audio.py:184: FutureWarning: librosa.core.audio.__audioread_load\n",
            "\tDeprecated as of librosa version 0.10.0.\n",
            "\tIt will be removed in librosa version 1.0.\n",
            "  y, sr_native = __audioread_load(path, offset, duration, dtype)\n"
          ]
        },
        {
          "output_type": "stream",
          "name": "stdout",
          "text": [
            "509\t File 03bc7116-7785-40fc-9217-b273b1803bad ACCEPTED\n",
            "510\t File 03bcf102-df78-4d03-abd6-32fa1f4dd89b REJECTED\n",
            "511\t File 03be828c-26af-40be-aa8a-423e74718749 ACCEPTED\n"
          ]
        },
        {
          "output_type": "stream",
          "name": "stderr",
          "text": [
            "<ipython-input-91-9fc97857c8b5>:47: UserWarning: PySoundFile failed. Trying audioread instead.\n",
            "  audio , _ =  librosa.load(f\"coughvid_20211012/{row['uuid']}.webm\",sr=16000,mono=True)\n",
            "/usr/local/lib/python3.10/dist-packages/librosa/core/audio.py:184: FutureWarning: librosa.core.audio.__audioread_load\n",
            "\tDeprecated as of librosa version 0.10.0.\n",
            "\tIt will be removed in librosa version 1.0.\n",
            "  y, sr_native = __audioread_load(path, offset, duration, dtype)\n",
            "<ipython-input-91-9fc97857c8b5>:47: UserWarning: PySoundFile failed. Trying audioread instead.\n",
            "  audio , _ =  librosa.load(f\"coughvid_20211012/{row['uuid']}.webm\",sr=16000,mono=True)\n",
            "/usr/local/lib/python3.10/dist-packages/librosa/core/audio.py:184: FutureWarning: librosa.core.audio.__audioread_load\n",
            "\tDeprecated as of librosa version 0.10.0.\n",
            "\tIt will be removed in librosa version 1.0.\n",
            "  y, sr_native = __audioread_load(path, offset, duration, dtype)\n"
          ]
        },
        {
          "output_type": "stream",
          "name": "stdout",
          "text": [
            "512\t File 03c1afa7-eee5-4c18-bd40-c4d91e6d320e ACCEPTED\n",
            "513\t File 03c33278-ad87-4a37-bf8f-3b1fdf69ecfd ACCEPTED\n",
            "514\t File 03c8796e-547e-4158-ae5f-7c613aaeb02f ACCEPTED\n",
            "515\t File 03c95fac-9565-4a1a-ada2-0bde9f9fc320 REJECTED\n"
          ]
        },
        {
          "output_type": "stream",
          "name": "stderr",
          "text": [
            "<ipython-input-91-9fc97857c8b5>:47: UserWarning: PySoundFile failed. Trying audioread instead.\n",
            "  audio , _ =  librosa.load(f\"coughvid_20211012/{row['uuid']}.webm\",sr=16000,mono=True)\n",
            "/usr/local/lib/python3.10/dist-packages/librosa/core/audio.py:184: FutureWarning: librosa.core.audio.__audioread_load\n",
            "\tDeprecated as of librosa version 0.10.0.\n",
            "\tIt will be removed in librosa version 1.0.\n",
            "  y, sr_native = __audioread_load(path, offset, duration, dtype)\n",
            "<ipython-input-91-9fc97857c8b5>:47: UserWarning: PySoundFile failed. Trying audioread instead.\n",
            "  audio , _ =  librosa.load(f\"coughvid_20211012/{row['uuid']}.webm\",sr=16000,mono=True)\n",
            "/usr/local/lib/python3.10/dist-packages/librosa/core/audio.py:184: FutureWarning: librosa.core.audio.__audioread_load\n",
            "\tDeprecated as of librosa version 0.10.0.\n",
            "\tIt will be removed in librosa version 1.0.\n",
            "  y, sr_native = __audioread_load(path, offset, duration, dtype)\n",
            "<ipython-input-91-9fc97857c8b5>:47: UserWarning: PySoundFile failed. Trying audioread instead.\n",
            "  audio , _ =  librosa.load(f\"coughvid_20211012/{row['uuid']}.webm\",sr=16000,mono=True)\n",
            "/usr/local/lib/python3.10/dist-packages/librosa/core/audio.py:184: FutureWarning: librosa.core.audio.__audioread_load\n",
            "\tDeprecated as of librosa version 0.10.0.\n",
            "\tIt will be removed in librosa version 1.0.\n",
            "  y, sr_native = __audioread_load(path, offset, duration, dtype)\n"
          ]
        },
        {
          "output_type": "stream",
          "name": "stdout",
          "text": [
            "516\t File 03cad1b0-fe70-42e8-9a03-d38220320b18 ACCEPTED\n",
            "517\t File 03cd38e3-549b-4fe3-84f2-5b6c4e60ff55 ACCEPTED\n",
            "518\t File 03cdf3cc-ce0b-4314-85a2-9a5eaecd6288 REJECTED\n"
          ]
        },
        {
          "output_type": "stream",
          "name": "stderr",
          "text": [
            "<ipython-input-91-9fc97857c8b5>:47: UserWarning: PySoundFile failed. Trying audioread instead.\n",
            "  audio , _ =  librosa.load(f\"coughvid_20211012/{row['uuid']}.webm\",sr=16000,mono=True)\n",
            "/usr/local/lib/python3.10/dist-packages/librosa/core/audio.py:184: FutureWarning: librosa.core.audio.__audioread_load\n",
            "\tDeprecated as of librosa version 0.10.0.\n",
            "\tIt will be removed in librosa version 1.0.\n",
            "  y, sr_native = __audioread_load(path, offset, duration, dtype)\n",
            "<ipython-input-91-9fc97857c8b5>:47: UserWarning: PySoundFile failed. Trying audioread instead.\n",
            "  audio , _ =  librosa.load(f\"coughvid_20211012/{row['uuid']}.webm\",sr=16000,mono=True)\n",
            "/usr/local/lib/python3.10/dist-packages/librosa/core/audio.py:184: FutureWarning: librosa.core.audio.__audioread_load\n",
            "\tDeprecated as of librosa version 0.10.0.\n",
            "\tIt will be removed in librosa version 1.0.\n",
            "  y, sr_native = __audioread_load(path, offset, duration, dtype)\n"
          ]
        },
        {
          "output_type": "stream",
          "name": "stdout",
          "text": [
            "519\t File 03ce7093-c71f-442f-a86d-7718c677fed3 ACCEPTED\n"
          ]
        },
        {
          "output_type": "stream",
          "name": "stderr",
          "text": [
            "<ipython-input-91-9fc97857c8b5>:47: UserWarning: PySoundFile failed. Trying audioread instead.\n",
            "  audio , _ =  librosa.load(f\"coughvid_20211012/{row['uuid']}.webm\",sr=16000,mono=True)\n",
            "/usr/local/lib/python3.10/dist-packages/librosa/core/audio.py:184: FutureWarning: librosa.core.audio.__audioread_load\n",
            "\tDeprecated as of librosa version 0.10.0.\n",
            "\tIt will be removed in librosa version 1.0.\n",
            "  y, sr_native = __audioread_load(path, offset, duration, dtype)\n"
          ]
        },
        {
          "output_type": "stream",
          "name": "stdout",
          "text": [
            "520\t File 03cee8a7-2437-43d8-98d4-34cc0f4fd259 ACCEPTED\n",
            "521\t File 03cfc75c-88a0-4ca9-8ca4-4aa61e2dec37 ACCEPTED\n",
            "522\t File 03d0f7ca-e854-4b62-bc48-2d773961ec26 REJECTED\n",
            "523\t File 03d18e63-714f-4287-8be6-505c9dc32232 REJECTED\n",
            "524\t File 03d30b8b-03f8-4089-bda8-0e14deec7d82 ACCEPTED\n",
            "525\t File 03d43c6d-7f8e-40a5-91c2-3ac2b9e5210b ACCEPTED\n",
            "526\t File 03d7243a-8f11-4be3-9d12-52936ee6fe76 REJECTED\n",
            "527\t File 03d7a49c-6ea0-4a9f-91e5-82bfcd08cdcd ACCEPTED\n",
            "528\t File 03d858ee-ed0d-4c4a-8bae-7a6b9e66311a REJECTED\n",
            "529\t File 03dda3e1-b0d7-47a0-bafe-c5e12e50fe24 ACCEPTED\n",
            "530\t File 03e648df-d318-4280-aeaa-47938036c54e REJECTED\n",
            "531\t File 03e6943b-c3e6-420d-8ded-a667f4ddc565 REJECTED\n"
          ]
        },
        {
          "output_type": "stream",
          "name": "stderr",
          "text": [
            "<ipython-input-91-9fc97857c8b5>:47: UserWarning: PySoundFile failed. Trying audioread instead.\n",
            "  audio , _ =  librosa.load(f\"coughvid_20211012/{row['uuid']}.webm\",sr=16000,mono=True)\n",
            "/usr/local/lib/python3.10/dist-packages/librosa/core/audio.py:184: FutureWarning: librosa.core.audio.__audioread_load\n",
            "\tDeprecated as of librosa version 0.10.0.\n",
            "\tIt will be removed in librosa version 1.0.\n",
            "  y, sr_native = __audioread_load(path, offset, duration, dtype)\n",
            "<ipython-input-91-9fc97857c8b5>:47: UserWarning: PySoundFile failed. Trying audioread instead.\n",
            "  audio , _ =  librosa.load(f\"coughvid_20211012/{row['uuid']}.webm\",sr=16000,mono=True)\n",
            "/usr/local/lib/python3.10/dist-packages/librosa/core/audio.py:184: FutureWarning: librosa.core.audio.__audioread_load\n",
            "\tDeprecated as of librosa version 0.10.0.\n",
            "\tIt will be removed in librosa version 1.0.\n",
            "  y, sr_native = __audioread_load(path, offset, duration, dtype)\n",
            "<ipython-input-91-9fc97857c8b5>:47: UserWarning: PySoundFile failed. Trying audioread instead.\n",
            "  audio , _ =  librosa.load(f\"coughvid_20211012/{row['uuid']}.webm\",sr=16000,mono=True)\n",
            "/usr/local/lib/python3.10/dist-packages/librosa/core/audio.py:184: FutureWarning: librosa.core.audio.__audioread_load\n",
            "\tDeprecated as of librosa version 0.10.0.\n",
            "\tIt will be removed in librosa version 1.0.\n",
            "  y, sr_native = __audioread_load(path, offset, duration, dtype)\n",
            "<ipython-input-91-9fc97857c8b5>:47: UserWarning: PySoundFile failed. Trying audioread instead.\n",
            "  audio , _ =  librosa.load(f\"coughvid_20211012/{row['uuid']}.webm\",sr=16000,mono=True)\n",
            "/usr/local/lib/python3.10/dist-packages/librosa/core/audio.py:184: FutureWarning: librosa.core.audio.__audioread_load\n",
            "\tDeprecated as of librosa version 0.10.0.\n",
            "\tIt will be removed in librosa version 1.0.\n",
            "  y, sr_native = __audioread_load(path, offset, duration, dtype)\n",
            "<ipython-input-91-9fc97857c8b5>:47: UserWarning: PySoundFile failed. Trying audioread instead.\n",
            "  audio , _ =  librosa.load(f\"coughvid_20211012/{row['uuid']}.webm\",sr=16000,mono=True)\n",
            "/usr/local/lib/python3.10/dist-packages/librosa/core/audio.py:184: FutureWarning: librosa.core.audio.__audioread_load\n",
            "\tDeprecated as of librosa version 0.10.0.\n",
            "\tIt will be removed in librosa version 1.0.\n",
            "  y, sr_native = __audioread_load(path, offset, duration, dtype)\n",
            "<ipython-input-91-9fc97857c8b5>:47: UserWarning: PySoundFile failed. Trying audioread instead.\n",
            "  audio , _ =  librosa.load(f\"coughvid_20211012/{row['uuid']}.webm\",sr=16000,mono=True)\n",
            "/usr/local/lib/python3.10/dist-packages/librosa/core/audio.py:184: FutureWarning: librosa.core.audio.__audioread_load\n",
            "\tDeprecated as of librosa version 0.10.0.\n",
            "\tIt will be removed in librosa version 1.0.\n",
            "  y, sr_native = __audioread_load(path, offset, duration, dtype)\n"
          ]
        },
        {
          "output_type": "stream",
          "name": "stdout",
          "text": [
            "532\t File 03e6b285-99d4-4ab1-b0f7-308ee42f9561 ACCEPTED\n",
            "533\t File 03e9fa81-9913-43ba-adae-db81a7b3a6a7 ACCEPTED\n",
            "534\t File 03ea5f2d-9baa-494f-a0cf-d96e181dfff2 ACCEPTED\n",
            "535\t File 03ee3447-a840-435b-9114-476182d438be REJECTED\n",
            "536\t File 03ef96d6-e234-455e-aca1-3525b4b6c392 REJECTED\n",
            "537\t File 03f32b55-cdd4-4878-8f1a-b07f9dafe5f9 REJECTED\n",
            "538\t File 03f8bed9-cf24-46bb-9ef4-636ae9dcd343 REJECTED\n",
            "539\t File 03f9552c-97e5-4178-b809-c9b09dcff9de REJECTED\n",
            "540\t File 03fca101-9ce7-4eb9-aeae-a6f8d4ee5599 ACCEPTED\n",
            "541\t File 03ff1a5d-8179-4af9-842f-eecf80cc2ffc REJECTED\n",
            "542\t File 03ff6ecc-d846-46df-beaf-5e53b9317a28 REJECTED\n"
          ]
        },
        {
          "output_type": "stream",
          "name": "stderr",
          "text": [
            "<ipython-input-91-9fc97857c8b5>:47: UserWarning: PySoundFile failed. Trying audioread instead.\n",
            "  audio , _ =  librosa.load(f\"coughvid_20211012/{row['uuid']}.webm\",sr=16000,mono=True)\n",
            "/usr/local/lib/python3.10/dist-packages/librosa/core/audio.py:184: FutureWarning: librosa.core.audio.__audioread_load\n",
            "\tDeprecated as of librosa version 0.10.0.\n",
            "\tIt will be removed in librosa version 1.0.\n",
            "  y, sr_native = __audioread_load(path, offset, duration, dtype)\n",
            "<ipython-input-91-9fc97857c8b5>:47: UserWarning: PySoundFile failed. Trying audioread instead.\n",
            "  audio , _ =  librosa.load(f\"coughvid_20211012/{row['uuid']}.webm\",sr=16000,mono=True)\n",
            "/usr/local/lib/python3.10/dist-packages/librosa/core/audio.py:184: FutureWarning: librosa.core.audio.__audioread_load\n",
            "\tDeprecated as of librosa version 0.10.0.\n",
            "\tIt will be removed in librosa version 1.0.\n",
            "  y, sr_native = __audioread_load(path, offset, duration, dtype)\n",
            "<ipython-input-91-9fc97857c8b5>:47: UserWarning: PySoundFile failed. Trying audioread instead.\n",
            "  audio , _ =  librosa.load(f\"coughvid_20211012/{row['uuid']}.webm\",sr=16000,mono=True)\n",
            "/usr/local/lib/python3.10/dist-packages/librosa/core/audio.py:184: FutureWarning: librosa.core.audio.__audioread_load\n",
            "\tDeprecated as of librosa version 0.10.0.\n",
            "\tIt will be removed in librosa version 1.0.\n",
            "  y, sr_native = __audioread_load(path, offset, duration, dtype)\n"
          ]
        },
        {
          "output_type": "stream",
          "name": "stdout",
          "text": [
            "543\t File 040095eb-4103-49c6-95e0-d0182613a046 ACCEPTED\n"
          ]
        },
        {
          "output_type": "stream",
          "name": "stderr",
          "text": [
            "<ipython-input-91-9fc97857c8b5>:47: UserWarning: PySoundFile failed. Trying audioread instead.\n",
            "  audio , _ =  librosa.load(f\"coughvid_20211012/{row['uuid']}.webm\",sr=16000,mono=True)\n",
            "/usr/local/lib/python3.10/dist-packages/librosa/core/audio.py:184: FutureWarning: librosa.core.audio.__audioread_load\n",
            "\tDeprecated as of librosa version 0.10.0.\n",
            "\tIt will be removed in librosa version 1.0.\n",
            "  y, sr_native = __audioread_load(path, offset, duration, dtype)\n"
          ]
        },
        {
          "output_type": "stream",
          "name": "stdout",
          "text": [
            "544\t File 0400e7a7-8556-4956-84d2-b56bb1453bd9 ACCEPTED\n",
            "545\t File 04072756-d782-4880-ae30-3c1057484993 ACCEPTED\n"
          ]
        },
        {
          "output_type": "stream",
          "name": "stderr",
          "text": [
            "<ipython-input-91-9fc97857c8b5>:47: UserWarning: PySoundFile failed. Trying audioread instead.\n",
            "  audio , _ =  librosa.load(f\"coughvid_20211012/{row['uuid']}.webm\",sr=16000,mono=True)\n",
            "/usr/local/lib/python3.10/dist-packages/librosa/core/audio.py:184: FutureWarning: librosa.core.audio.__audioread_load\n",
            "\tDeprecated as of librosa version 0.10.0.\n",
            "\tIt will be removed in librosa version 1.0.\n",
            "  y, sr_native = __audioread_load(path, offset, duration, dtype)\n",
            "<ipython-input-91-9fc97857c8b5>:47: UserWarning: PySoundFile failed. Trying audioread instead.\n",
            "  audio , _ =  librosa.load(f\"coughvid_20211012/{row['uuid']}.webm\",sr=16000,mono=True)\n",
            "/usr/local/lib/python3.10/dist-packages/librosa/core/audio.py:184: FutureWarning: librosa.core.audio.__audioread_load\n",
            "\tDeprecated as of librosa version 0.10.0.\n",
            "\tIt will be removed in librosa version 1.0.\n",
            "  y, sr_native = __audioread_load(path, offset, duration, dtype)\n"
          ]
        },
        {
          "output_type": "stream",
          "name": "stdout",
          "text": [
            "546\t File 040921e2-b76e-49ec-8122-203064b38510 ACCEPTED\n",
            "547\t File 040bccc5-2b64-47c4-89ab-ae6db07e40b0 ACCEPTED\n",
            "548\t File 040d3594-ae9f-4dec-af7f-b33c8b721412 ACCEPTED\n",
            "549\t File 040dace5-b013-4d35-b83e-2cd52bef6717 REJECTED\n",
            "550\t File 040e6a1c-dcbe-47aa-8b9d-51abd8136d91 ACCEPTED\n"
          ]
        },
        {
          "output_type": "stream",
          "name": "stderr",
          "text": [
            "<ipython-input-91-9fc97857c8b5>:47: UserWarning: PySoundFile failed. Trying audioread instead.\n",
            "  audio , _ =  librosa.load(f\"coughvid_20211012/{row['uuid']}.webm\",sr=16000,mono=True)\n",
            "/usr/local/lib/python3.10/dist-packages/librosa/core/audio.py:184: FutureWarning: librosa.core.audio.__audioread_load\n",
            "\tDeprecated as of librosa version 0.10.0.\n",
            "\tIt will be removed in librosa version 1.0.\n",
            "  y, sr_native = __audioread_load(path, offset, duration, dtype)\n",
            "<ipython-input-91-9fc97857c8b5>:47: UserWarning: PySoundFile failed. Trying audioread instead.\n",
            "  audio , _ =  librosa.load(f\"coughvid_20211012/{row['uuid']}.webm\",sr=16000,mono=True)\n",
            "/usr/local/lib/python3.10/dist-packages/librosa/core/audio.py:184: FutureWarning: librosa.core.audio.__audioread_load\n",
            "\tDeprecated as of librosa version 0.10.0.\n",
            "\tIt will be removed in librosa version 1.0.\n",
            "  y, sr_native = __audioread_load(path, offset, duration, dtype)\n",
            "<ipython-input-91-9fc97857c8b5>:47: UserWarning: PySoundFile failed. Trying audioread instead.\n",
            "  audio , _ =  librosa.load(f\"coughvid_20211012/{row['uuid']}.webm\",sr=16000,mono=True)\n",
            "/usr/local/lib/python3.10/dist-packages/librosa/core/audio.py:184: FutureWarning: librosa.core.audio.__audioread_load\n",
            "\tDeprecated as of librosa version 0.10.0.\n",
            "\tIt will be removed in librosa version 1.0.\n",
            "  y, sr_native = __audioread_load(path, offset, duration, dtype)\n",
            "<ipython-input-91-9fc97857c8b5>:47: UserWarning: PySoundFile failed. Trying audioread instead.\n",
            "  audio , _ =  librosa.load(f\"coughvid_20211012/{row['uuid']}.webm\",sr=16000,mono=True)\n",
            "/usr/local/lib/python3.10/dist-packages/librosa/core/audio.py:184: FutureWarning: librosa.core.audio.__audioread_load\n",
            "\tDeprecated as of librosa version 0.10.0.\n",
            "\tIt will be removed in librosa version 1.0.\n",
            "  y, sr_native = __audioread_load(path, offset, duration, dtype)\n"
          ]
        },
        {
          "output_type": "stream",
          "name": "stdout",
          "text": [
            "551\t File 040f3aa7-2afc-4ca4-925a-e7e25591fe56 ACCEPTED\n"
          ]
        },
        {
          "output_type": "stream",
          "name": "stderr",
          "text": [
            "<ipython-input-91-9fc97857c8b5>:47: UserWarning: PySoundFile failed. Trying audioread instead.\n",
            "  audio , _ =  librosa.load(f\"coughvid_20211012/{row['uuid']}.webm\",sr=16000,mono=True)\n",
            "/usr/local/lib/python3.10/dist-packages/librosa/core/audio.py:184: FutureWarning: librosa.core.audio.__audioread_load\n",
            "\tDeprecated as of librosa version 0.10.0.\n",
            "\tIt will be removed in librosa version 1.0.\n",
            "  y, sr_native = __audioread_load(path, offset, duration, dtype)\n"
          ]
        },
        {
          "output_type": "stream",
          "name": "stdout",
          "text": [
            "552\t File 0412de51-1d87-4523-bcb8-22917b92e868 ACCEPTED\n",
            "553\t File 04146659-df4f-45bb-8c4d-ec129605a615 ACCEPTED\n",
            "554\t File 04174778-75d8-4a11-b599-59fb55ce19db REJECTED\n",
            "555\t File 041b02e6-2228-47df-9e5a-11898dd78b4b REJECTED\n",
            "556\t File 041fbbcb-e6cb-4a4f-97cb-f1e389d5fae6 ACCEPTED\n",
            "557\t File 0424dadf-c684-458f-958c-2cb162604d05 ACCEPTED\n",
            "558\t File 0426d177-b458-438c-93d6-2213f85fafe9 REJECTED\n"
          ]
        },
        {
          "output_type": "stream",
          "name": "stderr",
          "text": [
            "<ipython-input-91-9fc97857c8b5>:47: UserWarning: PySoundFile failed. Trying audioread instead.\n",
            "  audio , _ =  librosa.load(f\"coughvid_20211012/{row['uuid']}.webm\",sr=16000,mono=True)\n",
            "/usr/local/lib/python3.10/dist-packages/librosa/core/audio.py:184: FutureWarning: librosa.core.audio.__audioread_load\n",
            "\tDeprecated as of librosa version 0.10.0.\n",
            "\tIt will be removed in librosa version 1.0.\n",
            "  y, sr_native = __audioread_load(path, offset, duration, dtype)\n",
            "<ipython-input-91-9fc97857c8b5>:47: UserWarning: PySoundFile failed. Trying audioread instead.\n",
            "  audio , _ =  librosa.load(f\"coughvid_20211012/{row['uuid']}.webm\",sr=16000,mono=True)\n",
            "/usr/local/lib/python3.10/dist-packages/librosa/core/audio.py:184: FutureWarning: librosa.core.audio.__audioread_load\n",
            "\tDeprecated as of librosa version 0.10.0.\n",
            "\tIt will be removed in librosa version 1.0.\n",
            "  y, sr_native = __audioread_load(path, offset, duration, dtype)\n",
            "<ipython-input-91-9fc97857c8b5>:47: UserWarning: PySoundFile failed. Trying audioread instead.\n",
            "  audio , _ =  librosa.load(f\"coughvid_20211012/{row['uuid']}.webm\",sr=16000,mono=True)\n",
            "/usr/local/lib/python3.10/dist-packages/librosa/core/audio.py:184: FutureWarning: librosa.core.audio.__audioread_load\n",
            "\tDeprecated as of librosa version 0.10.0.\n",
            "\tIt will be removed in librosa version 1.0.\n",
            "  y, sr_native = __audioread_load(path, offset, duration, dtype)\n",
            "<ipython-input-91-9fc97857c8b5>:47: UserWarning: PySoundFile failed. Trying audioread instead.\n",
            "  audio , _ =  librosa.load(f\"coughvid_20211012/{row['uuid']}.webm\",sr=16000,mono=True)\n",
            "/usr/local/lib/python3.10/dist-packages/librosa/core/audio.py:184: FutureWarning: librosa.core.audio.__audioread_load\n",
            "\tDeprecated as of librosa version 0.10.0.\n",
            "\tIt will be removed in librosa version 1.0.\n",
            "  y, sr_native = __audioread_load(path, offset, duration, dtype)\n"
          ]
        },
        {
          "output_type": "stream",
          "name": "stdout",
          "text": [
            "559\t File 04284e37-83bb-42d5-9c90-d2a2d1c2aa60 ACCEPTED\n",
            "560\t File 042bc0d7-a5c7-4898-a5a7-0ccaa37af420 REJECTED\n",
            "561\t File 042bc6d4-9f0a-4ad2-8164-03a81c9a4592 REJECTED\n",
            "562\t File 042d1e63-ae29-4a23-b290-82a148b089a7 REJECTED\n",
            "563\t File 042db93b-61f6-4a2f-9780-a7225cf0efa2 REJECTED\n",
            "564\t File 0430faa0-34f5-4fbc-ac29-e339303d4fdf REJECTED\n",
            "565\t File 043490d6-0066-4403-8c73-c96accfe664b REJECTED\n",
            "566\t File 0434bfff-4965-4500-9e0a-380a236cbc73 REJECTED\n"
          ]
        },
        {
          "output_type": "stream",
          "name": "stderr",
          "text": [
            "<ipython-input-91-9fc97857c8b5>:47: UserWarning: PySoundFile failed. Trying audioread instead.\n",
            "  audio , _ =  librosa.load(f\"coughvid_20211012/{row['uuid']}.webm\",sr=16000,mono=True)\n",
            "/usr/local/lib/python3.10/dist-packages/librosa/core/audio.py:184: FutureWarning: librosa.core.audio.__audioread_load\n",
            "\tDeprecated as of librosa version 0.10.0.\n",
            "\tIt will be removed in librosa version 1.0.\n",
            "  y, sr_native = __audioread_load(path, offset, duration, dtype)\n"
          ]
        },
        {
          "output_type": "stream",
          "name": "stdout",
          "text": [
            "567\t File 043505d8-0df5-4113-9c5b-3c95c8766374 ACCEPTED\n",
            "568\t File 0438a2af-3b19-46b1-9680-f416975db70c REJECTED\n"
          ]
        },
        {
          "output_type": "stream",
          "name": "stderr",
          "text": [
            "<ipython-input-91-9fc97857c8b5>:47: UserWarning: PySoundFile failed. Trying audioread instead.\n",
            "  audio , _ =  librosa.load(f\"coughvid_20211012/{row['uuid']}.webm\",sr=16000,mono=True)\n",
            "/usr/local/lib/python3.10/dist-packages/librosa/core/audio.py:184: FutureWarning: librosa.core.audio.__audioread_load\n",
            "\tDeprecated as of librosa version 0.10.0.\n",
            "\tIt will be removed in librosa version 1.0.\n",
            "  y, sr_native = __audioread_load(path, offset, duration, dtype)\n"
          ]
        },
        {
          "output_type": "stream",
          "name": "stdout",
          "text": [
            "569\t File 0439ac1a-2886-4005-b2fc-e8e1bc85fe44 ACCEPTED\n",
            "570\t File 043e6bf3-8924-4d51-9109-0074d5afa9e1 REJECTED\n",
            "571\t File 043f5530-fe11-4a76-82ca-135ebdf04ab9 ACCEPTED\n"
          ]
        },
        {
          "output_type": "stream",
          "name": "stderr",
          "text": [
            "<ipython-input-91-9fc97857c8b5>:47: UserWarning: PySoundFile failed. Trying audioread instead.\n",
            "  audio , _ =  librosa.load(f\"coughvid_20211012/{row['uuid']}.webm\",sr=16000,mono=True)\n",
            "/usr/local/lib/python3.10/dist-packages/librosa/core/audio.py:184: FutureWarning: librosa.core.audio.__audioread_load\n",
            "\tDeprecated as of librosa version 0.10.0.\n",
            "\tIt will be removed in librosa version 1.0.\n",
            "  y, sr_native = __audioread_load(path, offset, duration, dtype)\n",
            "<ipython-input-91-9fc97857c8b5>:47: UserWarning: PySoundFile failed. Trying audioread instead.\n",
            "  audio , _ =  librosa.load(f\"coughvid_20211012/{row['uuid']}.webm\",sr=16000,mono=True)\n",
            "/usr/local/lib/python3.10/dist-packages/librosa/core/audio.py:184: FutureWarning: librosa.core.audio.__audioread_load\n",
            "\tDeprecated as of librosa version 0.10.0.\n",
            "\tIt will be removed in librosa version 1.0.\n",
            "  y, sr_native = __audioread_load(path, offset, duration, dtype)\n"
          ]
        },
        {
          "output_type": "stream",
          "name": "stdout",
          "text": [
            "572\t File 043fc80b-ce29-4aea-9abd-a23f9347bc51 ACCEPTED\n",
            "573\t File 0443dad7-0cf7-4232-a997-f227478866a9 REJECTED\n",
            "574\t File 044625b1-6173-4e9c-b1e4-d75602628f7c ACCEPTED\n"
          ]
        },
        {
          "output_type": "stream",
          "name": "stderr",
          "text": [
            "<ipython-input-91-9fc97857c8b5>:47: UserWarning: PySoundFile failed. Trying audioread instead.\n",
            "  audio , _ =  librosa.load(f\"coughvid_20211012/{row['uuid']}.webm\",sr=16000,mono=True)\n",
            "/usr/local/lib/python3.10/dist-packages/librosa/core/audio.py:184: FutureWarning: librosa.core.audio.__audioread_load\n",
            "\tDeprecated as of librosa version 0.10.0.\n",
            "\tIt will be removed in librosa version 1.0.\n",
            "  y, sr_native = __audioread_load(path, offset, duration, dtype)\n",
            "<ipython-input-91-9fc97857c8b5>:47: UserWarning: PySoundFile failed. Trying audioread instead.\n",
            "  audio , _ =  librosa.load(f\"coughvid_20211012/{row['uuid']}.webm\",sr=16000,mono=True)\n",
            "/usr/local/lib/python3.10/dist-packages/librosa/core/audio.py:184: FutureWarning: librosa.core.audio.__audioread_load\n",
            "\tDeprecated as of librosa version 0.10.0.\n",
            "\tIt will be removed in librosa version 1.0.\n",
            "  y, sr_native = __audioread_load(path, offset, duration, dtype)\n"
          ]
        },
        {
          "output_type": "stream",
          "name": "stdout",
          "text": [
            "575\t File 044a7213-4ddc-4a80-bcf4-885a6de7b863 ACCEPTED\n",
            "576\t File 044ae753-66d0-4ce8-98d7-225c07667c90 ACCEPTED\n"
          ]
        },
        {
          "output_type": "stream",
          "name": "stderr",
          "text": [
            "<ipython-input-91-9fc97857c8b5>:47: UserWarning: PySoundFile failed. Trying audioread instead.\n",
            "  audio , _ =  librosa.load(f\"coughvid_20211012/{row['uuid']}.webm\",sr=16000,mono=True)\n",
            "/usr/local/lib/python3.10/dist-packages/librosa/core/audio.py:184: FutureWarning: librosa.core.audio.__audioread_load\n",
            "\tDeprecated as of librosa version 0.10.0.\n",
            "\tIt will be removed in librosa version 1.0.\n",
            "  y, sr_native = __audioread_load(path, offset, duration, dtype)\n",
            "<ipython-input-91-9fc97857c8b5>:47: UserWarning: PySoundFile failed. Trying audioread instead.\n",
            "  audio , _ =  librosa.load(f\"coughvid_20211012/{row['uuid']}.webm\",sr=16000,mono=True)\n",
            "/usr/local/lib/python3.10/dist-packages/librosa/core/audio.py:184: FutureWarning: librosa.core.audio.__audioread_load\n",
            "\tDeprecated as of librosa version 0.10.0.\n",
            "\tIt will be removed in librosa version 1.0.\n",
            "  y, sr_native = __audioread_load(path, offset, duration, dtype)\n"
          ]
        },
        {
          "output_type": "stream",
          "name": "stdout",
          "text": [
            "577\t File 044bef15-95d2-4ce6-8feb-667d81868c74 ACCEPTED\n",
            "578\t File 045364d1-30c3-4784-a51f-48f791b913a1 REJECTED\n",
            "579\t File 045404f5-fd32-49e9-b48f-d0cd6569fd4b REJECTED\n",
            "580\t File 0455c7b8-672f-4b69-b0b4-79764cc4c035 REJECTED\n",
            "581\t File 04584889-9373-497c-99ed-91e1e3aa4e01 ACCEPTED\n",
            "582\t File 045cc2cc-b296-41cd-9f06-31a6b9666fc5 REJECTED\n"
          ]
        },
        {
          "output_type": "stream",
          "name": "stderr",
          "text": [
            "<ipython-input-91-9fc97857c8b5>:47: UserWarning: PySoundFile failed. Trying audioread instead.\n",
            "  audio , _ =  librosa.load(f\"coughvid_20211012/{row['uuid']}.webm\",sr=16000,mono=True)\n",
            "/usr/local/lib/python3.10/dist-packages/librosa/core/audio.py:184: FutureWarning: librosa.core.audio.__audioread_load\n",
            "\tDeprecated as of librosa version 0.10.0.\n",
            "\tIt will be removed in librosa version 1.0.\n",
            "  y, sr_native = __audioread_load(path, offset, duration, dtype)\n",
            "<ipython-input-91-9fc97857c8b5>:47: UserWarning: PySoundFile failed. Trying audioread instead.\n",
            "  audio , _ =  librosa.load(f\"coughvid_20211012/{row['uuid']}.webm\",sr=16000,mono=True)\n",
            "/usr/local/lib/python3.10/dist-packages/librosa/core/audio.py:184: FutureWarning: librosa.core.audio.__audioread_load\n",
            "\tDeprecated as of librosa version 0.10.0.\n",
            "\tIt will be removed in librosa version 1.0.\n",
            "  y, sr_native = __audioread_load(path, offset, duration, dtype)\n"
          ]
        },
        {
          "output_type": "stream",
          "name": "stdout",
          "text": [
            "583\t File 045daa57-6df5-4bf9-86dd-eb1c3876c01f ACCEPTED\n",
            "584\t File 045e4374-a671-4b01-bd12-00450c9f12e9 REJECTED\n",
            "585\t File 045eb02b-8fff-4e2a-af69-3f1e6e300314 REJECTED\n",
            "586\t File 045fc748-ffdb-444a-a65b-8938ab1e553d REJECTED\n",
            "587\t File 045fd90f-c1ba-42e9-abda-2a85a9514377 ACCEPTED\n",
            "588\t File 046167aa-fb52-4182-9c95-5c4df88bb910 REJECTED\n",
            "589\t File 04631973-4576-4f42-a428-9a1ebc35ef7d REJECTED\n",
            "590\t File 046405b9-ee61-4a96-84e5-6f23fe763df6 ACCEPTED\n",
            "591\t File 046487f9-ed2e-4282-9f0b-d6a98c06df48 ACCEPTED\n",
            "592\t File 046545bc-7f2c-4425-9be2-ffc22bba515e ACCEPTED\n",
            "593\t File 046aabdd-4af1-49ea-9ec1-537492269edb REJECTED\n",
            "594\t File 046b583a-7775-4bd2-a3e6-63e81f10959b ACCEPTED\n"
          ]
        },
        {
          "output_type": "stream",
          "name": "stderr",
          "text": [
            "<ipython-input-91-9fc97857c8b5>:47: UserWarning: PySoundFile failed. Trying audioread instead.\n",
            "  audio , _ =  librosa.load(f\"coughvid_20211012/{row['uuid']}.webm\",sr=16000,mono=True)\n",
            "/usr/local/lib/python3.10/dist-packages/librosa/core/audio.py:184: FutureWarning: librosa.core.audio.__audioread_load\n",
            "\tDeprecated as of librosa version 0.10.0.\n",
            "\tIt will be removed in librosa version 1.0.\n",
            "  y, sr_native = __audioread_load(path, offset, duration, dtype)\n",
            "<ipython-input-91-9fc97857c8b5>:47: UserWarning: PySoundFile failed. Trying audioread instead.\n",
            "  audio , _ =  librosa.load(f\"coughvid_20211012/{row['uuid']}.webm\",sr=16000,mono=True)\n",
            "/usr/local/lib/python3.10/dist-packages/librosa/core/audio.py:184: FutureWarning: librosa.core.audio.__audioread_load\n",
            "\tDeprecated as of librosa version 0.10.0.\n",
            "\tIt will be removed in librosa version 1.0.\n",
            "  y, sr_native = __audioread_load(path, offset, duration, dtype)\n",
            "<ipython-input-91-9fc97857c8b5>:47: UserWarning: PySoundFile failed. Trying audioread instead.\n",
            "  audio , _ =  librosa.load(f\"coughvid_20211012/{row['uuid']}.webm\",sr=16000,mono=True)\n",
            "/usr/local/lib/python3.10/dist-packages/librosa/core/audio.py:184: FutureWarning: librosa.core.audio.__audioread_load\n",
            "\tDeprecated as of librosa version 0.10.0.\n",
            "\tIt will be removed in librosa version 1.0.\n",
            "  y, sr_native = __audioread_load(path, offset, duration, dtype)\n",
            "<ipython-input-91-9fc97857c8b5>:47: UserWarning: PySoundFile failed. Trying audioread instead.\n",
            "  audio , _ =  librosa.load(f\"coughvid_20211012/{row['uuid']}.webm\",sr=16000,mono=True)\n",
            "/usr/local/lib/python3.10/dist-packages/librosa/core/audio.py:184: FutureWarning: librosa.core.audio.__audioread_load\n",
            "\tDeprecated as of librosa version 0.10.0.\n",
            "\tIt will be removed in librosa version 1.0.\n",
            "  y, sr_native = __audioread_load(path, offset, duration, dtype)\n",
            "<ipython-input-91-9fc97857c8b5>:47: UserWarning: PySoundFile failed. Trying audioread instead.\n",
            "  audio , _ =  librosa.load(f\"coughvid_20211012/{row['uuid']}.webm\",sr=16000,mono=True)\n",
            "/usr/local/lib/python3.10/dist-packages/librosa/core/audio.py:184: FutureWarning: librosa.core.audio.__audioread_load\n",
            "\tDeprecated as of librosa version 0.10.0.\n",
            "\tIt will be removed in librosa version 1.0.\n",
            "  y, sr_native = __audioread_load(path, offset, duration, dtype)\n",
            "<ipython-input-91-9fc97857c8b5>:47: UserWarning: PySoundFile failed. Trying audioread instead.\n",
            "  audio , _ =  librosa.load(f\"coughvid_20211012/{row['uuid']}.webm\",sr=16000,mono=True)\n",
            "/usr/local/lib/python3.10/dist-packages/librosa/core/audio.py:184: FutureWarning: librosa.core.audio.__audioread_load\n",
            "\tDeprecated as of librosa version 0.10.0.\n",
            "\tIt will be removed in librosa version 1.0.\n",
            "  y, sr_native = __audioread_load(path, offset, duration, dtype)\n"
          ]
        },
        {
          "output_type": "stream",
          "name": "stdout",
          "text": [
            "595\t File 046be510-76c0-4876-9c17-1c097e4efcb9 ACCEPTED\n",
            "596\t File 046f2601-fe31-4480-96d6-4f3b7144f821 REJECTED\n",
            "597\t File 046fc793-5435-405c-9f5f-7dae0181b2da REJECTED\n",
            "598\t File 04719b98-ad6c-43e5-9dce-0c65af15f43e REJECTED\n",
            "599\t File 0474efff-abb4-4926-a47b-f21bce7dace1 ACCEPTED\n",
            "600\t File 04750ecc-f689-4982-a751-899d8c73992c REJECTED\n",
            "601\t File 047595d0-4e3f-40b8-9270-d86697763e49 ACCEPTED\n",
            "602\t File 04778d3e-da84-4727-89aa-ead32cd84f19 REJECTED\n"
          ]
        },
        {
          "output_type": "stream",
          "name": "stderr",
          "text": [
            "<ipython-input-91-9fc97857c8b5>:47: UserWarning: PySoundFile failed. Trying audioread instead.\n",
            "  audio , _ =  librosa.load(f\"coughvid_20211012/{row['uuid']}.webm\",sr=16000,mono=True)\n",
            "/usr/local/lib/python3.10/dist-packages/librosa/core/audio.py:184: FutureWarning: librosa.core.audio.__audioread_load\n",
            "\tDeprecated as of librosa version 0.10.0.\n",
            "\tIt will be removed in librosa version 1.0.\n",
            "  y, sr_native = __audioread_load(path, offset, duration, dtype)\n",
            "<ipython-input-91-9fc97857c8b5>:47: UserWarning: PySoundFile failed. Trying audioread instead.\n",
            "  audio , _ =  librosa.load(f\"coughvid_20211012/{row['uuid']}.webm\",sr=16000,mono=True)\n",
            "/usr/local/lib/python3.10/dist-packages/librosa/core/audio.py:184: FutureWarning: librosa.core.audio.__audioread_load\n",
            "\tDeprecated as of librosa version 0.10.0.\n",
            "\tIt will be removed in librosa version 1.0.\n",
            "  y, sr_native = __audioread_load(path, offset, duration, dtype)\n",
            "<ipython-input-91-9fc97857c8b5>:47: UserWarning: PySoundFile failed. Trying audioread instead.\n",
            "  audio , _ =  librosa.load(f\"coughvid_20211012/{row['uuid']}.webm\",sr=16000,mono=True)\n",
            "/usr/local/lib/python3.10/dist-packages/librosa/core/audio.py:184: FutureWarning: librosa.core.audio.__audioread_load\n",
            "\tDeprecated as of librosa version 0.10.0.\n",
            "\tIt will be removed in librosa version 1.0.\n",
            "  y, sr_native = __audioread_load(path, offset, duration, dtype)\n"
          ]
        },
        {
          "output_type": "stream",
          "name": "stdout",
          "text": [
            "603\t File 04793326-24d1-4e36-8f4d-f54d48522d5f ACCEPTED\n",
            "604\t File 047a865e-c8fa-4bc0-a71f-168618bbee65 ACCEPTED\n",
            "605\t File 047c9119-efff-4e8c-bc73-590abf907c63 REJECTED\n",
            "606\t File 04804757-231a-4e78-947a-8622a888062f REJECTED\n"
          ]
        },
        {
          "output_type": "stream",
          "name": "stderr",
          "text": [
            "<ipython-input-91-9fc97857c8b5>:47: UserWarning: PySoundFile failed. Trying audioread instead.\n",
            "  audio , _ =  librosa.load(f\"coughvid_20211012/{row['uuid']}.webm\",sr=16000,mono=True)\n",
            "/usr/local/lib/python3.10/dist-packages/librosa/core/audio.py:184: FutureWarning: librosa.core.audio.__audioread_load\n",
            "\tDeprecated as of librosa version 0.10.0.\n",
            "\tIt will be removed in librosa version 1.0.\n",
            "  y, sr_native = __audioread_load(path, offset, duration, dtype)\n",
            "<ipython-input-91-9fc97857c8b5>:47: UserWarning: PySoundFile failed. Trying audioread instead.\n",
            "  audio , _ =  librosa.load(f\"coughvid_20211012/{row['uuid']}.webm\",sr=16000,mono=True)\n",
            "/usr/local/lib/python3.10/dist-packages/librosa/core/audio.py:184: FutureWarning: librosa.core.audio.__audioread_load\n",
            "\tDeprecated as of librosa version 0.10.0.\n",
            "\tIt will be removed in librosa version 1.0.\n",
            "  y, sr_native = __audioread_load(path, offset, duration, dtype)\n"
          ]
        },
        {
          "output_type": "stream",
          "name": "stdout",
          "text": [
            "607\t File 048143a5-d877-452d-9bb3-4926112b27bd ACCEPTED\n",
            "608\t File 0482e1ca-d28f-4621-ac33-bd29aa8375f5 ACCEPTED\n"
          ]
        },
        {
          "output_type": "stream",
          "name": "stderr",
          "text": [
            "<ipython-input-91-9fc97857c8b5>:47: UserWarning: PySoundFile failed. Trying audioread instead.\n",
            "  audio , _ =  librosa.load(f\"coughvid_20211012/{row['uuid']}.webm\",sr=16000,mono=True)\n",
            "/usr/local/lib/python3.10/dist-packages/librosa/core/audio.py:184: FutureWarning: librosa.core.audio.__audioread_load\n",
            "\tDeprecated as of librosa version 0.10.0.\n",
            "\tIt will be removed in librosa version 1.0.\n",
            "  y, sr_native = __audioread_load(path, offset, duration, dtype)\n",
            "<ipython-input-91-9fc97857c8b5>:47: UserWarning: PySoundFile failed. Trying audioread instead.\n",
            "  audio , _ =  librosa.load(f\"coughvid_20211012/{row['uuid']}.webm\",sr=16000,mono=True)\n",
            "/usr/local/lib/python3.10/dist-packages/librosa/core/audio.py:184: FutureWarning: librosa.core.audio.__audioread_load\n",
            "\tDeprecated as of librosa version 0.10.0.\n",
            "\tIt will be removed in librosa version 1.0.\n",
            "  y, sr_native = __audioread_load(path, offset, duration, dtype)\n"
          ]
        },
        {
          "output_type": "stream",
          "name": "stdout",
          "text": [
            "609\t File 0487b5cb-fa6b-4234-9c50-88cb4e2693a2 ACCEPTED\n",
            "610\t File 0491d878-5d22-4857-a166-e9a26c905987 REJECTED\n",
            "611\t File 04931778-d627-4378-8e15-79f123a776e5 REJECTED\n",
            "612\t File 0496f63f-f352-4f48-84e7-4eabb8acf92c ACCEPTED\n",
            "613\t File 04983e54-f26e-4baf-bce1-51a36a0b9a6b ACCEPTED\n"
          ]
        },
        {
          "output_type": "stream",
          "name": "stderr",
          "text": [
            "<ipython-input-91-9fc97857c8b5>:47: UserWarning: PySoundFile failed. Trying audioread instead.\n",
            "  audio , _ =  librosa.load(f\"coughvid_20211012/{row['uuid']}.webm\",sr=16000,mono=True)\n",
            "/usr/local/lib/python3.10/dist-packages/librosa/core/audio.py:184: FutureWarning: librosa.core.audio.__audioread_load\n",
            "\tDeprecated as of librosa version 0.10.0.\n",
            "\tIt will be removed in librosa version 1.0.\n",
            "  y, sr_native = __audioread_load(path, offset, duration, dtype)\n",
            "<ipython-input-91-9fc97857c8b5>:47: UserWarning: PySoundFile failed. Trying audioread instead.\n",
            "  audio , _ =  librosa.load(f\"coughvid_20211012/{row['uuid']}.webm\",sr=16000,mono=True)\n",
            "/usr/local/lib/python3.10/dist-packages/librosa/core/audio.py:184: FutureWarning: librosa.core.audio.__audioread_load\n",
            "\tDeprecated as of librosa version 0.10.0.\n",
            "\tIt will be removed in librosa version 1.0.\n",
            "  y, sr_native = __audioread_load(path, offset, duration, dtype)\n",
            "<ipython-input-91-9fc97857c8b5>:47: UserWarning: PySoundFile failed. Trying audioread instead.\n",
            "  audio , _ =  librosa.load(f\"coughvid_20211012/{row['uuid']}.webm\",sr=16000,mono=True)\n",
            "/usr/local/lib/python3.10/dist-packages/librosa/core/audio.py:184: FutureWarning: librosa.core.audio.__audioread_load\n",
            "\tDeprecated as of librosa version 0.10.0.\n",
            "\tIt will be removed in librosa version 1.0.\n",
            "  y, sr_native = __audioread_load(path, offset, duration, dtype)\n"
          ]
        },
        {
          "output_type": "stream",
          "name": "stdout",
          "text": [
            "614\t File 049e4398-b98b-4a11-9181-b5942c16f68d ACCEPTED\n",
            "615\t File 049e4c7a-b151-47cd-b95c-62c260eec889 ACCEPTED\n",
            "616\t File 049f35fd-d793-4879-b888-ee12e6242f37 REJECTED\n",
            "617\t File 04a1838e-ecea-47b5-8806-fb4c7250e958 REJECTED\n"
          ]
        },
        {
          "output_type": "stream",
          "name": "stderr",
          "text": [
            "<ipython-input-91-9fc97857c8b5>:47: UserWarning: PySoundFile failed. Trying audioread instead.\n",
            "  audio , _ =  librosa.load(f\"coughvid_20211012/{row['uuid']}.webm\",sr=16000,mono=True)\n",
            "/usr/local/lib/python3.10/dist-packages/librosa/core/audio.py:184: FutureWarning: librosa.core.audio.__audioread_load\n",
            "\tDeprecated as of librosa version 0.10.0.\n",
            "\tIt will be removed in librosa version 1.0.\n",
            "  y, sr_native = __audioread_load(path, offset, duration, dtype)\n",
            "<ipython-input-91-9fc97857c8b5>:47: UserWarning: PySoundFile failed. Trying audioread instead.\n",
            "  audio , _ =  librosa.load(f\"coughvid_20211012/{row['uuid']}.webm\",sr=16000,mono=True)\n",
            "/usr/local/lib/python3.10/dist-packages/librosa/core/audio.py:184: FutureWarning: librosa.core.audio.__audioread_load\n",
            "\tDeprecated as of librosa version 0.10.0.\n",
            "\tIt will be removed in librosa version 1.0.\n",
            "  y, sr_native = __audioread_load(path, offset, duration, dtype)\n"
          ]
        },
        {
          "output_type": "stream",
          "name": "stdout",
          "text": [
            "618\t File 04a1be29-f565-4a29-97e6-0497ec7f19ae ACCEPTED\n",
            "619\t File 04a474fd-2546-479f-8753-5e4a291f6df6 ACCEPTED\n",
            "620\t File 04a60f2a-e4bc-4dd9-bd75-8598de152d45 REJECTED\n",
            "621\t File 04a67611-1458-4270-990e-6aa64e6bcef5 REJECTED\n"
          ]
        },
        {
          "output_type": "stream",
          "name": "stderr",
          "text": [
            "<ipython-input-91-9fc97857c8b5>:47: UserWarning: PySoundFile failed. Trying audioread instead.\n",
            "  audio , _ =  librosa.load(f\"coughvid_20211012/{row['uuid']}.webm\",sr=16000,mono=True)\n",
            "/usr/local/lib/python3.10/dist-packages/librosa/core/audio.py:184: FutureWarning: librosa.core.audio.__audioread_load\n",
            "\tDeprecated as of librosa version 0.10.0.\n",
            "\tIt will be removed in librosa version 1.0.\n",
            "  y, sr_native = __audioread_load(path, offset, duration, dtype)\n",
            "<ipython-input-91-9fc97857c8b5>:47: UserWarning: PySoundFile failed. Trying audioread instead.\n",
            "  audio , _ =  librosa.load(f\"coughvid_20211012/{row['uuid']}.webm\",sr=16000,mono=True)\n",
            "/usr/local/lib/python3.10/dist-packages/librosa/core/audio.py:184: FutureWarning: librosa.core.audio.__audioread_load\n",
            "\tDeprecated as of librosa version 0.10.0.\n",
            "\tIt will be removed in librosa version 1.0.\n",
            "  y, sr_native = __audioread_load(path, offset, duration, dtype)\n"
          ]
        },
        {
          "output_type": "stream",
          "name": "stdout",
          "text": [
            "622\t File 04a6e2f4-c848-47e8-be54-0556f0e01909 ACCEPTED\n",
            "623\t File 04a70241-004c-4d40-9151-829edf4f9a24 REJECTED\n",
            "624\t File 04a78ea7-0344-4a1c-85c1-c3fc1ece0c41 REJECTED\n",
            "625\t File 04ac6217-c9f0-47c6-ba48-9078c985e367 ACCEPTED\n"
          ]
        },
        {
          "output_type": "stream",
          "name": "stderr",
          "text": [
            "<ipython-input-91-9fc97857c8b5>:47: UserWarning: PySoundFile failed. Trying audioread instead.\n",
            "  audio , _ =  librosa.load(f\"coughvid_20211012/{row['uuid']}.webm\",sr=16000,mono=True)\n",
            "/usr/local/lib/python3.10/dist-packages/librosa/core/audio.py:184: FutureWarning: librosa.core.audio.__audioread_load\n",
            "\tDeprecated as of librosa version 0.10.0.\n",
            "\tIt will be removed in librosa version 1.0.\n",
            "  y, sr_native = __audioread_load(path, offset, duration, dtype)\n",
            "<ipython-input-91-9fc97857c8b5>:47: UserWarning: PySoundFile failed. Trying audioread instead.\n",
            "  audio , _ =  librosa.load(f\"coughvid_20211012/{row['uuid']}.webm\",sr=16000,mono=True)\n",
            "/usr/local/lib/python3.10/dist-packages/librosa/core/audio.py:184: FutureWarning: librosa.core.audio.__audioread_load\n",
            "\tDeprecated as of librosa version 0.10.0.\n",
            "\tIt will be removed in librosa version 1.0.\n",
            "  y, sr_native = __audioread_load(path, offset, duration, dtype)\n"
          ]
        },
        {
          "output_type": "stream",
          "name": "stdout",
          "text": [
            "626\t File 04acd541-e200-4e18-9a9a-67114e8d3710 ACCEPTED\n",
            "627\t File 04ae59f0-9c86-4fb1-a538-7526b9e650bf REJECTED\n",
            "628\t File 04b1785d-605e-4028-b5a7-173d05c923f9 REJECTED\n",
            "629\t File 04b709e3-2aae-4f51-b81a-3fc157ba2994 REJECTED\n",
            "630\t File 04bac3e9-b2cd-4bef-bd23-c42a65dd646b ACCEPTED\n"
          ]
        },
        {
          "output_type": "stream",
          "name": "stderr",
          "text": [
            "<ipython-input-91-9fc97857c8b5>:47: UserWarning: PySoundFile failed. Trying audioread instead.\n",
            "  audio , _ =  librosa.load(f\"coughvid_20211012/{row['uuid']}.webm\",sr=16000,mono=True)\n",
            "/usr/local/lib/python3.10/dist-packages/librosa/core/audio.py:184: FutureWarning: librosa.core.audio.__audioread_load\n",
            "\tDeprecated as of librosa version 0.10.0.\n",
            "\tIt will be removed in librosa version 1.0.\n",
            "  y, sr_native = __audioread_load(path, offset, duration, dtype)\n",
            "<ipython-input-91-9fc97857c8b5>:47: UserWarning: PySoundFile failed. Trying audioread instead.\n",
            "  audio , _ =  librosa.load(f\"coughvid_20211012/{row['uuid']}.webm\",sr=16000,mono=True)\n",
            "/usr/local/lib/python3.10/dist-packages/librosa/core/audio.py:184: FutureWarning: librosa.core.audio.__audioread_load\n",
            "\tDeprecated as of librosa version 0.10.0.\n",
            "\tIt will be removed in librosa version 1.0.\n",
            "  y, sr_native = __audioread_load(path, offset, duration, dtype)\n"
          ]
        },
        {
          "output_type": "stream",
          "name": "stdout",
          "text": [
            "631\t File 04bb0caf-266f-4b5e-9ec6-67f63d503050 ACCEPTED\n",
            "632\t File 04bb5b20-f7a1-42ce-b427-32c2285b7f87 ACCEPTED\n",
            "633\t File 04bdc2ac-d6da-4b04-be21-ec7e7165944d REJECTED\n",
            "634\t File 04bdc77b-1796-4d47-b933-4ffc5a522070 REJECTED\n"
          ]
        },
        {
          "output_type": "stream",
          "name": "stderr",
          "text": [
            "<ipython-input-91-9fc97857c8b5>:47: UserWarning: PySoundFile failed. Trying audioread instead.\n",
            "  audio , _ =  librosa.load(f\"coughvid_20211012/{row['uuid']}.webm\",sr=16000,mono=True)\n",
            "/usr/local/lib/python3.10/dist-packages/librosa/core/audio.py:184: FutureWarning: librosa.core.audio.__audioread_load\n",
            "\tDeprecated as of librosa version 0.10.0.\n",
            "\tIt will be removed in librosa version 1.0.\n",
            "  y, sr_native = __audioread_load(path, offset, duration, dtype)\n",
            "<ipython-input-91-9fc97857c8b5>:47: UserWarning: PySoundFile failed. Trying audioread instead.\n",
            "  audio , _ =  librosa.load(f\"coughvid_20211012/{row['uuid']}.webm\",sr=16000,mono=True)\n",
            "/usr/local/lib/python3.10/dist-packages/librosa/core/audio.py:184: FutureWarning: librosa.core.audio.__audioread_load\n",
            "\tDeprecated as of librosa version 0.10.0.\n",
            "\tIt will be removed in librosa version 1.0.\n",
            "  y, sr_native = __audioread_load(path, offset, duration, dtype)\n"
          ]
        },
        {
          "output_type": "stream",
          "name": "stdout",
          "text": [
            "635\t File 04bf1c74-dca7-45f8-a26a-e0415e54d109 ACCEPTED\n",
            "636\t File 04c25afd-6ac0-4e19-bb74-a4c5da4e41c7 ACCEPTED\n",
            "637\t File 04c3c6ef-d087-42ea-9205-863e6abeeb79 ACCEPTED\n",
            "638\t File 04c3d6a6-4773-4544-97aa-e25058686a0e REJECTED\n",
            "639\t File 04c5aaa1-2197-4975-b93a-023331c80a33 REJECTED\n"
          ]
        },
        {
          "output_type": "stream",
          "name": "stderr",
          "text": [
            "<ipython-input-91-9fc97857c8b5>:47: UserWarning: PySoundFile failed. Trying audioread instead.\n",
            "  audio , _ =  librosa.load(f\"coughvid_20211012/{row['uuid']}.webm\",sr=16000,mono=True)\n",
            "/usr/local/lib/python3.10/dist-packages/librosa/core/audio.py:184: FutureWarning: librosa.core.audio.__audioread_load\n",
            "\tDeprecated as of librosa version 0.10.0.\n",
            "\tIt will be removed in librosa version 1.0.\n",
            "  y, sr_native = __audioread_load(path, offset, duration, dtype)\n",
            "<ipython-input-91-9fc97857c8b5>:47: UserWarning: PySoundFile failed. Trying audioread instead.\n",
            "  audio , _ =  librosa.load(f\"coughvid_20211012/{row['uuid']}.webm\",sr=16000,mono=True)\n",
            "/usr/local/lib/python3.10/dist-packages/librosa/core/audio.py:184: FutureWarning: librosa.core.audio.__audioread_load\n",
            "\tDeprecated as of librosa version 0.10.0.\n",
            "\tIt will be removed in librosa version 1.0.\n",
            "  y, sr_native = __audioread_load(path, offset, duration, dtype)\n",
            "<ipython-input-91-9fc97857c8b5>:47: UserWarning: PySoundFile failed. Trying audioread instead.\n",
            "  audio , _ =  librosa.load(f\"coughvid_20211012/{row['uuid']}.webm\",sr=16000,mono=True)\n",
            "/usr/local/lib/python3.10/dist-packages/librosa/core/audio.py:184: FutureWarning: librosa.core.audio.__audioread_load\n",
            "\tDeprecated as of librosa version 0.10.0.\n",
            "\tIt will be removed in librosa version 1.0.\n",
            "  y, sr_native = __audioread_load(path, offset, duration, dtype)\n"
          ]
        },
        {
          "output_type": "stream",
          "name": "stdout",
          "text": [
            "640\t File 04c60cde-024d-4829-838e-a469363c8ca3 ACCEPTED\n",
            "641\t File 04c6e040-b980-4bfd-9041-42e3bdb9e980 REJECTED\n",
            "642\t File 04cbcf6f-5f10-446a-8611-f7ce58ad352c REJECTED\n",
            "643\t File 04cc2c07-2d87-46a8-a60a-27edf382b7ce ACCEPTED\n"
          ]
        },
        {
          "output_type": "stream",
          "name": "stderr",
          "text": [
            "<ipython-input-91-9fc97857c8b5>:47: UserWarning: PySoundFile failed. Trying audioread instead.\n",
            "  audio , _ =  librosa.load(f\"coughvid_20211012/{row['uuid']}.webm\",sr=16000,mono=True)\n",
            "/usr/local/lib/python3.10/dist-packages/librosa/core/audio.py:184: FutureWarning: librosa.core.audio.__audioread_load\n",
            "\tDeprecated as of librosa version 0.10.0.\n",
            "\tIt will be removed in librosa version 1.0.\n",
            "  y, sr_native = __audioread_load(path, offset, duration, dtype)\n",
            "<ipython-input-91-9fc97857c8b5>:47: UserWarning: PySoundFile failed. Trying audioread instead.\n",
            "  audio , _ =  librosa.load(f\"coughvid_20211012/{row['uuid']}.webm\",sr=16000,mono=True)\n",
            "/usr/local/lib/python3.10/dist-packages/librosa/core/audio.py:184: FutureWarning: librosa.core.audio.__audioread_load\n",
            "\tDeprecated as of librosa version 0.10.0.\n",
            "\tIt will be removed in librosa version 1.0.\n",
            "  y, sr_native = __audioread_load(path, offset, duration, dtype)\n"
          ]
        },
        {
          "output_type": "stream",
          "name": "stdout",
          "text": [
            "644\t File 04ccec17-82e0-4393-838d-923e3f6a0ad4 ACCEPTED\n",
            "645\t File 04ce5607-9364-410e-91a0-0cce4febe4f0 ACCEPTED\n"
          ]
        },
        {
          "output_type": "stream",
          "name": "stderr",
          "text": [
            "<ipython-input-91-9fc97857c8b5>:47: UserWarning: PySoundFile failed. Trying audioread instead.\n",
            "  audio , _ =  librosa.load(f\"coughvid_20211012/{row['uuid']}.webm\",sr=16000,mono=True)\n",
            "/usr/local/lib/python3.10/dist-packages/librosa/core/audio.py:184: FutureWarning: librosa.core.audio.__audioread_load\n",
            "\tDeprecated as of librosa version 0.10.0.\n",
            "\tIt will be removed in librosa version 1.0.\n",
            "  y, sr_native = __audioread_load(path, offset, duration, dtype)\n",
            "<ipython-input-91-9fc97857c8b5>:47: UserWarning: PySoundFile failed. Trying audioread instead.\n",
            "  audio , _ =  librosa.load(f\"coughvid_20211012/{row['uuid']}.webm\",sr=16000,mono=True)\n",
            "/usr/local/lib/python3.10/dist-packages/librosa/core/audio.py:184: FutureWarning: librosa.core.audio.__audioread_load\n",
            "\tDeprecated as of librosa version 0.10.0.\n",
            "\tIt will be removed in librosa version 1.0.\n",
            "  y, sr_native = __audioread_load(path, offset, duration, dtype)\n"
          ]
        },
        {
          "output_type": "stream",
          "name": "stdout",
          "text": [
            "646\t File 04d61a5c-fa41-4c26-b949-ec6f8d172607 ACCEPTED\n",
            "647\t File 04d803be-3d00-43ef-9bce-6f8303d0bead REJECTED\n",
            "648\t File 04d93340-fba9-4027-ade5-614cb8a21297 ACCEPTED\n",
            "649\t File 04dc09f2-896e-438b-9509-7a0f30989bc8 ACCEPTED\n",
            "650\t File 04dd2462-3053-4011-a97a-a2eb3bdad587 REJECTED\n",
            "651\t File 04e10696-ab11-47b4-a393-90d557da1fb3 REJECTED\n"
          ]
        },
        {
          "output_type": "stream",
          "name": "stderr",
          "text": [
            "<ipython-input-91-9fc97857c8b5>:47: UserWarning: PySoundFile failed. Trying audioread instead.\n",
            "  audio , _ =  librosa.load(f\"coughvid_20211012/{row['uuid']}.webm\",sr=16000,mono=True)\n",
            "/usr/local/lib/python3.10/dist-packages/librosa/core/audio.py:184: FutureWarning: librosa.core.audio.__audioread_load\n",
            "\tDeprecated as of librosa version 0.10.0.\n",
            "\tIt will be removed in librosa version 1.0.\n",
            "  y, sr_native = __audioread_load(path, offset, duration, dtype)\n",
            "<ipython-input-91-9fc97857c8b5>:47: UserWarning: PySoundFile failed. Trying audioread instead.\n",
            "  audio , _ =  librosa.load(f\"coughvid_20211012/{row['uuid']}.webm\",sr=16000,mono=True)\n",
            "/usr/local/lib/python3.10/dist-packages/librosa/core/audio.py:184: FutureWarning: librosa.core.audio.__audioread_load\n",
            "\tDeprecated as of librosa version 0.10.0.\n",
            "\tIt will be removed in librosa version 1.0.\n",
            "  y, sr_native = __audioread_load(path, offset, duration, dtype)\n",
            "<ipython-input-91-9fc97857c8b5>:47: UserWarning: PySoundFile failed. Trying audioread instead.\n",
            "  audio , _ =  librosa.load(f\"coughvid_20211012/{row['uuid']}.webm\",sr=16000,mono=True)\n",
            "/usr/local/lib/python3.10/dist-packages/librosa/core/audio.py:184: FutureWarning: librosa.core.audio.__audioread_load\n",
            "\tDeprecated as of librosa version 0.10.0.\n",
            "\tIt will be removed in librosa version 1.0.\n",
            "  y, sr_native = __audioread_load(path, offset, duration, dtype)\n"
          ]
        },
        {
          "output_type": "stream",
          "name": "stdout",
          "text": [
            "652\t File 04e1c81e-eada-4c40-a58b-d350bbcd383f ACCEPTED\n",
            "653\t File 04e83821-5ff3-41fe-9b5d-034f5d4d885c REJECTED\n",
            "654\t File 04e9d33a-f084-4c39-95a0-b97cdd278e33 ACCEPTED\n"
          ]
        },
        {
          "output_type": "stream",
          "name": "stderr",
          "text": [
            "<ipython-input-91-9fc97857c8b5>:47: UserWarning: PySoundFile failed. Trying audioread instead.\n",
            "  audio , _ =  librosa.load(f\"coughvid_20211012/{row['uuid']}.webm\",sr=16000,mono=True)\n",
            "/usr/local/lib/python3.10/dist-packages/librosa/core/audio.py:184: FutureWarning: librosa.core.audio.__audioread_load\n",
            "\tDeprecated as of librosa version 0.10.0.\n",
            "\tIt will be removed in librosa version 1.0.\n",
            "  y, sr_native = __audioread_load(path, offset, duration, dtype)\n",
            "<ipython-input-91-9fc97857c8b5>:47: UserWarning: PySoundFile failed. Trying audioread instead.\n",
            "  audio , _ =  librosa.load(f\"coughvid_20211012/{row['uuid']}.webm\",sr=16000,mono=True)\n",
            "/usr/local/lib/python3.10/dist-packages/librosa/core/audio.py:184: FutureWarning: librosa.core.audio.__audioread_load\n",
            "\tDeprecated as of librosa version 0.10.0.\n",
            "\tIt will be removed in librosa version 1.0.\n",
            "  y, sr_native = __audioread_load(path, offset, duration, dtype)\n"
          ]
        },
        {
          "output_type": "stream",
          "name": "stdout",
          "text": [
            "655\t File 04eab744-7d2a-4a40-b9ce-1cde226faafb ACCEPTED\n",
            "656\t File 04f0e019-d9d2-4dcd-b49b-6174d689287b REJECTED\n",
            "657\t File 04f19d7f-2740-45ea-8bf6-aafb0c062d25 REJECTED\n",
            "658\t File 04f247f1-6167-4bdf-a3ba-0428a5ed07d4 ACCEPTED\n",
            "659\t File 04fb9f54-00f2-477a-a79f-7db1ddfae415 REJECTED\n"
          ]
        },
        {
          "output_type": "stream",
          "name": "stderr",
          "text": [
            "<ipython-input-91-9fc97857c8b5>:47: UserWarning: PySoundFile failed. Trying audioread instead.\n",
            "  audio , _ =  librosa.load(f\"coughvid_20211012/{row['uuid']}.webm\",sr=16000,mono=True)\n",
            "/usr/local/lib/python3.10/dist-packages/librosa/core/audio.py:184: FutureWarning: librosa.core.audio.__audioread_load\n",
            "\tDeprecated as of librosa version 0.10.0.\n",
            "\tIt will be removed in librosa version 1.0.\n",
            "  y, sr_native = __audioread_load(path, offset, duration, dtype)\n",
            "<ipython-input-91-9fc97857c8b5>:47: UserWarning: PySoundFile failed. Trying audioread instead.\n",
            "  audio , _ =  librosa.load(f\"coughvid_20211012/{row['uuid']}.webm\",sr=16000,mono=True)\n",
            "/usr/local/lib/python3.10/dist-packages/librosa/core/audio.py:184: FutureWarning: librosa.core.audio.__audioread_load\n",
            "\tDeprecated as of librosa version 0.10.0.\n",
            "\tIt will be removed in librosa version 1.0.\n",
            "  y, sr_native = __audioread_load(path, offset, duration, dtype)\n"
          ]
        },
        {
          "output_type": "stream",
          "name": "stdout",
          "text": [
            "660\t File 04fedb0b-3f11-4cc4-b1ef-c9919fdfbe78 ACCEPTED\n",
            "661\t File 05010000-fdb0-4c15-b828-616402d0d17e REJECTED\n",
            "662\t File 05019f3a-9602-418d-8a08-c0cb182d8d5e REJECTED\n",
            "663\t File 0501b264-3cd7-49f2-aa71-9cdcc6a3a6aa REJECTED\n",
            "664\t File 05025477-8ae1-49a7-9c35-d750666af7d6 ACCEPTED\n",
            "665\t File 0505ecdd-4c8a-4cdf-bcc8-eba88044e97b ACCEPTED\n",
            "666\t File 050f1a15-36d3-4116-96e5-cd6dbf703530 REJECTED\n",
            "667\t File 0511d1df-13db-4b61-b6b1-04044b42a557 ACCEPTED\n",
            "668\t File 0512e4fa-684b-4d81-8dda-a38ffd0b67a9 ACCEPTED\n",
            "669\t File 05137f19-0400-4830-aab9-569b8b0b6f52 ACCEPTED\n",
            "670\t File 05156104-ac89-477c-b46d-9cf84636236c REJECTED\n",
            "671\t File 05183d44-cf30-4047-aa37-0bfa72fe4d30 REJECTED\n",
            "672\t File 05189b46-8871-460b-9c7b-01c9df7c58f8 ACCEPTED\n"
          ]
        },
        {
          "output_type": "stream",
          "name": "stderr",
          "text": [
            "<ipython-input-91-9fc97857c8b5>:47: UserWarning: PySoundFile failed. Trying audioread instead.\n",
            "  audio , _ =  librosa.load(f\"coughvid_20211012/{row['uuid']}.webm\",sr=16000,mono=True)\n",
            "/usr/local/lib/python3.10/dist-packages/librosa/core/audio.py:184: FutureWarning: librosa.core.audio.__audioread_load\n",
            "\tDeprecated as of librosa version 0.10.0.\n",
            "\tIt will be removed in librosa version 1.0.\n",
            "  y, sr_native = __audioread_load(path, offset, duration, dtype)\n",
            "<ipython-input-91-9fc97857c8b5>:47: UserWarning: PySoundFile failed. Trying audioread instead.\n",
            "  audio , _ =  librosa.load(f\"coughvid_20211012/{row['uuid']}.webm\",sr=16000,mono=True)\n",
            "/usr/local/lib/python3.10/dist-packages/librosa/core/audio.py:184: FutureWarning: librosa.core.audio.__audioread_load\n",
            "\tDeprecated as of librosa version 0.10.0.\n",
            "\tIt will be removed in librosa version 1.0.\n",
            "  y, sr_native = __audioread_load(path, offset, duration, dtype)\n",
            "<ipython-input-91-9fc97857c8b5>:47: UserWarning: PySoundFile failed. Trying audioread instead.\n",
            "  audio , _ =  librosa.load(f\"coughvid_20211012/{row['uuid']}.webm\",sr=16000,mono=True)\n",
            "/usr/local/lib/python3.10/dist-packages/librosa/core/audio.py:184: FutureWarning: librosa.core.audio.__audioread_load\n",
            "\tDeprecated as of librosa version 0.10.0.\n",
            "\tIt will be removed in librosa version 1.0.\n",
            "  y, sr_native = __audioread_load(path, offset, duration, dtype)\n",
            "<ipython-input-91-9fc97857c8b5>:47: UserWarning: PySoundFile failed. Trying audioread instead.\n",
            "  audio , _ =  librosa.load(f\"coughvid_20211012/{row['uuid']}.webm\",sr=16000,mono=True)\n",
            "/usr/local/lib/python3.10/dist-packages/librosa/core/audio.py:184: FutureWarning: librosa.core.audio.__audioread_load\n",
            "\tDeprecated as of librosa version 0.10.0.\n",
            "\tIt will be removed in librosa version 1.0.\n",
            "  y, sr_native = __audioread_load(path, offset, duration, dtype)\n",
            "<ipython-input-91-9fc97857c8b5>:47: UserWarning: PySoundFile failed. Trying audioread instead.\n",
            "  audio , _ =  librosa.load(f\"coughvid_20211012/{row['uuid']}.webm\",sr=16000,mono=True)\n",
            "/usr/local/lib/python3.10/dist-packages/librosa/core/audio.py:184: FutureWarning: librosa.core.audio.__audioread_load\n",
            "\tDeprecated as of librosa version 0.10.0.\n",
            "\tIt will be removed in librosa version 1.0.\n",
            "  y, sr_native = __audioread_load(path, offset, duration, dtype)\n",
            "<ipython-input-91-9fc97857c8b5>:47: UserWarning: PySoundFile failed. Trying audioread instead.\n",
            "  audio , _ =  librosa.load(f\"coughvid_20211012/{row['uuid']}.webm\",sr=16000,mono=True)\n",
            "/usr/local/lib/python3.10/dist-packages/librosa/core/audio.py:184: FutureWarning: librosa.core.audio.__audioread_load\n",
            "\tDeprecated as of librosa version 0.10.0.\n",
            "\tIt will be removed in librosa version 1.0.\n",
            "  y, sr_native = __audioread_load(path, offset, duration, dtype)\n",
            "<ipython-input-91-9fc97857c8b5>:47: UserWarning: PySoundFile failed. Trying audioread instead.\n",
            "  audio , _ =  librosa.load(f\"coughvid_20211012/{row['uuid']}.webm\",sr=16000,mono=True)\n",
            "/usr/local/lib/python3.10/dist-packages/librosa/core/audio.py:184: FutureWarning: librosa.core.audio.__audioread_load\n",
            "\tDeprecated as of librosa version 0.10.0.\n",
            "\tIt will be removed in librosa version 1.0.\n",
            "  y, sr_native = __audioread_load(path, offset, duration, dtype)\n"
          ]
        },
        {
          "output_type": "stream",
          "name": "stdout",
          "text": [
            "673\t File 05191b34-794e-432d-b6ea-254c570c5e17 ACCEPTED\n",
            "674\t File 051c8fc4-0fbc-450d-aeea-df25bebdb18c REJECTED\n",
            "675\t File 051e4b7c-a3a2-49c3-b3e8-e31099e5a932 REJECTED\n",
            "676\t File 051fbf77-f9d4-4ffa-a43d-3b97664f13ca ACCEPTED\n",
            "677\t File 052539bc-a188-4dff-8aed-d24696708bec ACCEPTED\n",
            "678\t File 05262cfb-48fe-44c2-b303-56c9d5a4534d REJECTED\n",
            "679\t File 0526e565-ec8c-435b-b965-3c23cfb43f44 ACCEPTED\n",
            "680\t File 0527be95-d7f1-4156-8e37-1587355661ca ACCEPTED\n",
            "681\t File 052a9406-0d4a-42f5-b583-58564d911fb9 REJECTED\n",
            "682\t File 052aff1e-8050-456c-bf53-28647fae7445 REJECTED\n",
            "683\t File 052c282a-a9a0-451c-bdf0-6f7c3ebe81d5 ACCEPTED\n",
            "684\t File 052de337-80be-4a35-a9e5-4140683c655f ACCEPTED\n",
            "685\t File 052e2fea-d565-434f-bb1f-0ef315248a04 REJECTED\n",
            "686\t File 052fc88d-aa01-4422-85fd-f0ddebb8bd95 ACCEPTED\n"
          ]
        },
        {
          "output_type": "stream",
          "name": "stderr",
          "text": [
            "<ipython-input-91-9fc97857c8b5>:47: UserWarning: PySoundFile failed. Trying audioread instead.\n",
            "  audio , _ =  librosa.load(f\"coughvid_20211012/{row['uuid']}.webm\",sr=16000,mono=True)\n",
            "/usr/local/lib/python3.10/dist-packages/librosa/core/audio.py:184: FutureWarning: librosa.core.audio.__audioread_load\n",
            "\tDeprecated as of librosa version 0.10.0.\n",
            "\tIt will be removed in librosa version 1.0.\n",
            "  y, sr_native = __audioread_load(path, offset, duration, dtype)\n",
            "<ipython-input-91-9fc97857c8b5>:47: UserWarning: PySoundFile failed. Trying audioread instead.\n",
            "  audio , _ =  librosa.load(f\"coughvid_20211012/{row['uuid']}.webm\",sr=16000,mono=True)\n",
            "/usr/local/lib/python3.10/dist-packages/librosa/core/audio.py:184: FutureWarning: librosa.core.audio.__audioread_load\n",
            "\tDeprecated as of librosa version 0.10.0.\n",
            "\tIt will be removed in librosa version 1.0.\n",
            "  y, sr_native = __audioread_load(path, offset, duration, dtype)\n",
            "<ipython-input-91-9fc97857c8b5>:47: UserWarning: PySoundFile failed. Trying audioread instead.\n",
            "  audio , _ =  librosa.load(f\"coughvid_20211012/{row['uuid']}.webm\",sr=16000,mono=True)\n",
            "/usr/local/lib/python3.10/dist-packages/librosa/core/audio.py:184: FutureWarning: librosa.core.audio.__audioread_load\n",
            "\tDeprecated as of librosa version 0.10.0.\n",
            "\tIt will be removed in librosa version 1.0.\n",
            "  y, sr_native = __audioread_load(path, offset, duration, dtype)\n",
            "<ipython-input-91-9fc97857c8b5>:47: UserWarning: PySoundFile failed. Trying audioread instead.\n",
            "  audio , _ =  librosa.load(f\"coughvid_20211012/{row['uuid']}.webm\",sr=16000,mono=True)\n",
            "/usr/local/lib/python3.10/dist-packages/librosa/core/audio.py:184: FutureWarning: librosa.core.audio.__audioread_load\n",
            "\tDeprecated as of librosa version 0.10.0.\n",
            "\tIt will be removed in librosa version 1.0.\n",
            "  y, sr_native = __audioread_load(path, offset, duration, dtype)\n",
            "<ipython-input-91-9fc97857c8b5>:47: UserWarning: PySoundFile failed. Trying audioread instead.\n",
            "  audio , _ =  librosa.load(f\"coughvid_20211012/{row['uuid']}.webm\",sr=16000,mono=True)\n",
            "/usr/local/lib/python3.10/dist-packages/librosa/core/audio.py:184: FutureWarning: librosa.core.audio.__audioread_load\n",
            "\tDeprecated as of librosa version 0.10.0.\n",
            "\tIt will be removed in librosa version 1.0.\n",
            "  y, sr_native = __audioread_load(path, offset, duration, dtype)\n",
            "<ipython-input-91-9fc97857c8b5>:47: UserWarning: PySoundFile failed. Trying audioread instead.\n",
            "  audio , _ =  librosa.load(f\"coughvid_20211012/{row['uuid']}.webm\",sr=16000,mono=True)\n",
            "/usr/local/lib/python3.10/dist-packages/librosa/core/audio.py:184: FutureWarning: librosa.core.audio.__audioread_load\n",
            "\tDeprecated as of librosa version 0.10.0.\n",
            "\tIt will be removed in librosa version 1.0.\n",
            "  y, sr_native = __audioread_load(path, offset, duration, dtype)\n",
            "<ipython-input-91-9fc97857c8b5>:47: UserWarning: PySoundFile failed. Trying audioread instead.\n",
            "  audio , _ =  librosa.load(f\"coughvid_20211012/{row['uuid']}.webm\",sr=16000,mono=True)\n",
            "/usr/local/lib/python3.10/dist-packages/librosa/core/audio.py:184: FutureWarning: librosa.core.audio.__audioread_load\n",
            "\tDeprecated as of librosa version 0.10.0.\n",
            "\tIt will be removed in librosa version 1.0.\n",
            "  y, sr_native = __audioread_load(path, offset, duration, dtype)\n",
            "<ipython-input-91-9fc97857c8b5>:47: UserWarning: PySoundFile failed. Trying audioread instead.\n",
            "  audio , _ =  librosa.load(f\"coughvid_20211012/{row['uuid']}.webm\",sr=16000,mono=True)\n",
            "/usr/local/lib/python3.10/dist-packages/librosa/core/audio.py:184: FutureWarning: librosa.core.audio.__audioread_load\n",
            "\tDeprecated as of librosa version 0.10.0.\n",
            "\tIt will be removed in librosa version 1.0.\n",
            "  y, sr_native = __audioread_load(path, offset, duration, dtype)\n"
          ]
        },
        {
          "output_type": "stream",
          "name": "stdout",
          "text": [
            "687\t File 0535ff82-0de0-4a86-9cf0-793040020ca7 ACCEPTED\n",
            "688\t File 0537bff1-3559-41a7-9ac3-b050130bf82b REJECTED\n",
            "689\t File 0537c0b0-f0ed-455c-9bab-2f917b1007b3 REJECTED\n",
            "690\t File 0537eb92-3412-4515-be2c-4a125d4dd96f REJECTED\n",
            "691\t File 0537f988-f63e-4af7-a1d1-cc55e6cb0d1d ACCEPTED\n"
          ]
        },
        {
          "output_type": "stream",
          "name": "stderr",
          "text": [
            "<ipython-input-91-9fc97857c8b5>:47: UserWarning: PySoundFile failed. Trying audioread instead.\n",
            "  audio , _ =  librosa.load(f\"coughvid_20211012/{row['uuid']}.webm\",sr=16000,mono=True)\n",
            "/usr/local/lib/python3.10/dist-packages/librosa/core/audio.py:184: FutureWarning: librosa.core.audio.__audioread_load\n",
            "\tDeprecated as of librosa version 0.10.0.\n",
            "\tIt will be removed in librosa version 1.0.\n",
            "  y, sr_native = __audioread_load(path, offset, duration, dtype)\n",
            "<ipython-input-91-9fc97857c8b5>:47: UserWarning: PySoundFile failed. Trying audioread instead.\n",
            "  audio , _ =  librosa.load(f\"coughvid_20211012/{row['uuid']}.webm\",sr=16000,mono=True)\n",
            "/usr/local/lib/python3.10/dist-packages/librosa/core/audio.py:184: FutureWarning: librosa.core.audio.__audioread_load\n",
            "\tDeprecated as of librosa version 0.10.0.\n",
            "\tIt will be removed in librosa version 1.0.\n",
            "  y, sr_native = __audioread_load(path, offset, duration, dtype)\n"
          ]
        },
        {
          "output_type": "stream",
          "name": "stdout",
          "text": [
            "692\t File 053af9b8-aea0-4496-9db0-d28f7531ede8 ACCEPTED\n",
            "693\t File 053b59c7-d5cb-4015-8726-1fbb06f6c721 ACCEPTED\n"
          ]
        },
        {
          "output_type": "stream",
          "name": "stderr",
          "text": [
            "<ipython-input-91-9fc97857c8b5>:47: UserWarning: PySoundFile failed. Trying audioread instead.\n",
            "  audio , _ =  librosa.load(f\"coughvid_20211012/{row['uuid']}.webm\",sr=16000,mono=True)\n",
            "/usr/local/lib/python3.10/dist-packages/librosa/core/audio.py:184: FutureWarning: librosa.core.audio.__audioread_load\n",
            "\tDeprecated as of librosa version 0.10.0.\n",
            "\tIt will be removed in librosa version 1.0.\n",
            "  y, sr_native = __audioread_load(path, offset, duration, dtype)\n",
            "<ipython-input-91-9fc97857c8b5>:47: UserWarning: PySoundFile failed. Trying audioread instead.\n",
            "  audio , _ =  librosa.load(f\"coughvid_20211012/{row['uuid']}.webm\",sr=16000,mono=True)\n",
            "/usr/local/lib/python3.10/dist-packages/librosa/core/audio.py:184: FutureWarning: librosa.core.audio.__audioread_load\n",
            "\tDeprecated as of librosa version 0.10.0.\n",
            "\tIt will be removed in librosa version 1.0.\n",
            "  y, sr_native = __audioread_load(path, offset, duration, dtype)\n"
          ]
        },
        {
          "output_type": "stream",
          "name": "stdout",
          "text": [
            "694\t File 053e7819-efbb-4ac0-bdfb-5f3861493bb1 ACCEPTED\n",
            "695\t File 053f46d0-4500-454e-976a-ea94bfeb778c ACCEPTED\n"
          ]
        },
        {
          "output_type": "stream",
          "name": "stderr",
          "text": [
            "<ipython-input-91-9fc97857c8b5>:47: UserWarning: PySoundFile failed. Trying audioread instead.\n",
            "  audio , _ =  librosa.load(f\"coughvid_20211012/{row['uuid']}.webm\",sr=16000,mono=True)\n",
            "/usr/local/lib/python3.10/dist-packages/librosa/core/audio.py:184: FutureWarning: librosa.core.audio.__audioread_load\n",
            "\tDeprecated as of librosa version 0.10.0.\n",
            "\tIt will be removed in librosa version 1.0.\n",
            "  y, sr_native = __audioread_load(path, offset, duration, dtype)\n",
            "<ipython-input-91-9fc97857c8b5>:47: UserWarning: PySoundFile failed. Trying audioread instead.\n",
            "  audio , _ =  librosa.load(f\"coughvid_20211012/{row['uuid']}.webm\",sr=16000,mono=True)\n",
            "/usr/local/lib/python3.10/dist-packages/librosa/core/audio.py:184: FutureWarning: librosa.core.audio.__audioread_load\n",
            "\tDeprecated as of librosa version 0.10.0.\n",
            "\tIt will be removed in librosa version 1.0.\n",
            "  y, sr_native = __audioread_load(path, offset, duration, dtype)\n"
          ]
        },
        {
          "output_type": "stream",
          "name": "stdout",
          "text": [
            "696\t File 053fa0de-9629-4bdf-91e6-dc34e7ec3bed ACCEPTED\n",
            "697\t File 05448e18-d176-42a9-aa7e-33f1711911f7 REJECTED\n"
          ]
        },
        {
          "output_type": "stream",
          "name": "stderr",
          "text": [
            "<ipython-input-91-9fc97857c8b5>:47: UserWarning: PySoundFile failed. Trying audioread instead.\n",
            "  audio , _ =  librosa.load(f\"coughvid_20211012/{row['uuid']}.webm\",sr=16000,mono=True)\n",
            "/usr/local/lib/python3.10/dist-packages/librosa/core/audio.py:184: FutureWarning: librosa.core.audio.__audioread_load\n",
            "\tDeprecated as of librosa version 0.10.0.\n",
            "\tIt will be removed in librosa version 1.0.\n",
            "  y, sr_native = __audioread_load(path, offset, duration, dtype)\n"
          ]
        },
        {
          "output_type": "stream",
          "name": "stdout",
          "text": [
            "698\t File 05458ac9-b4d3-4558-b6b2-b2bf7036f16c ACCEPTED\n",
            "699\t File 0545d1c0-f8ef-46a6-891f-34a2a6a70a66 REJECTED\n"
          ]
        },
        {
          "output_type": "stream",
          "name": "stderr",
          "text": [
            "<ipython-input-91-9fc97857c8b5>:47: UserWarning: PySoundFile failed. Trying audioread instead.\n",
            "  audio , _ =  librosa.load(f\"coughvid_20211012/{row['uuid']}.webm\",sr=16000,mono=True)\n",
            "/usr/local/lib/python3.10/dist-packages/librosa/core/audio.py:184: FutureWarning: librosa.core.audio.__audioread_load\n",
            "\tDeprecated as of librosa version 0.10.0.\n",
            "\tIt will be removed in librosa version 1.0.\n",
            "  y, sr_native = __audioread_load(path, offset, duration, dtype)\n"
          ]
        },
        {
          "output_type": "stream",
          "name": "stdout",
          "text": [
            "700\t File 054881f8-340c-4e3a-b8f3-f62c791e19a6 ACCEPTED\n",
            "701\t File 0549abe7-9d99-4c3d-9075-029e88d0e93f ACCEPTED\n",
            "702\t File 054ba6b6-35c9-4b73-9016-0a132bb6d166 ACCEPTED\n",
            "703\t File 054e3aa3-a0d0-44d4-a843-95ca28517b8f REJECTED\n",
            "704\t File 054f357f-9089-4343-94f6-09c1b16d10ba REJECTED\n",
            "705\t File 05507eef-9568-44f0-8e80-e95c137903f4 REJECTED\n",
            "706\t File 0553e2c4-dbe4-4f37-8685-887e17a63a8e REJECTED\n",
            "707\t File 0554ee51-20ef-4b0d-89f2-f3a28fbffece ACCEPTED\n"
          ]
        },
        {
          "output_type": "stream",
          "name": "stderr",
          "text": [
            "<ipython-input-91-9fc97857c8b5>:47: UserWarning: PySoundFile failed. Trying audioread instead.\n",
            "  audio , _ =  librosa.load(f\"coughvid_20211012/{row['uuid']}.webm\",sr=16000,mono=True)\n",
            "/usr/local/lib/python3.10/dist-packages/librosa/core/audio.py:184: FutureWarning: librosa.core.audio.__audioread_load\n",
            "\tDeprecated as of librosa version 0.10.0.\n",
            "\tIt will be removed in librosa version 1.0.\n",
            "  y, sr_native = __audioread_load(path, offset, duration, dtype)\n",
            "<ipython-input-91-9fc97857c8b5>:47: UserWarning: PySoundFile failed. Trying audioread instead.\n",
            "  audio , _ =  librosa.load(f\"coughvid_20211012/{row['uuid']}.webm\",sr=16000,mono=True)\n",
            "/usr/local/lib/python3.10/dist-packages/librosa/core/audio.py:184: FutureWarning: librosa.core.audio.__audioread_load\n",
            "\tDeprecated as of librosa version 0.10.0.\n",
            "\tIt will be removed in librosa version 1.0.\n",
            "  y, sr_native = __audioread_load(path, offset, duration, dtype)\n",
            "<ipython-input-91-9fc97857c8b5>:47: UserWarning: PySoundFile failed. Trying audioread instead.\n",
            "  audio , _ =  librosa.load(f\"coughvid_20211012/{row['uuid']}.webm\",sr=16000,mono=True)\n",
            "/usr/local/lib/python3.10/dist-packages/librosa/core/audio.py:184: FutureWarning: librosa.core.audio.__audioread_load\n",
            "\tDeprecated as of librosa version 0.10.0.\n",
            "\tIt will be removed in librosa version 1.0.\n",
            "  y, sr_native = __audioread_load(path, offset, duration, dtype)\n",
            "<ipython-input-91-9fc97857c8b5>:47: UserWarning: PySoundFile failed. Trying audioread instead.\n",
            "  audio , _ =  librosa.load(f\"coughvid_20211012/{row['uuid']}.webm\",sr=16000,mono=True)\n",
            "/usr/local/lib/python3.10/dist-packages/librosa/core/audio.py:184: FutureWarning: librosa.core.audio.__audioread_load\n",
            "\tDeprecated as of librosa version 0.10.0.\n",
            "\tIt will be removed in librosa version 1.0.\n",
            "  y, sr_native = __audioread_load(path, offset, duration, dtype)\n"
          ]
        },
        {
          "output_type": "stream",
          "name": "stdout",
          "text": [
            "708\t File 0554f7bb-13d0-4a8c-861e-7395b6b22972 ACCEPTED\n",
            "709\t File 05563abd-0ed1-438a-a7d3-2bf4128b2d18 REJECTED\n",
            "710\t File 05565509-d28c-4d2a-9326-25f99afa7fcf REJECTED\n",
            "711\t File 0557559a-7845-4093-b4a3-5ac4a7cdff46 REJECTED\n",
            "712\t File 055a7209-46f8-485d-9933-af57e8dff7ec ACCEPTED\n",
            "713\t File 055dea93-51f5-4ec6-a6ee-1d2551e9a048 REJECTED\n",
            "714\t File 055e244e-a318-4074-8c61-472573ed971c REJECTED\n"
          ]
        },
        {
          "output_type": "stream",
          "name": "stderr",
          "text": [
            "<ipython-input-91-9fc97857c8b5>:47: UserWarning: PySoundFile failed. Trying audioread instead.\n",
            "  audio , _ =  librosa.load(f\"coughvid_20211012/{row['uuid']}.webm\",sr=16000,mono=True)\n",
            "/usr/local/lib/python3.10/dist-packages/librosa/core/audio.py:184: FutureWarning: librosa.core.audio.__audioread_load\n",
            "\tDeprecated as of librosa version 0.10.0.\n",
            "\tIt will be removed in librosa version 1.0.\n",
            "  y, sr_native = __audioread_load(path, offset, duration, dtype)\n"
          ]
        },
        {
          "output_type": "stream",
          "name": "stdout",
          "text": [
            "715\t File 056379f3-faca-437c-82d2-f26831d8ed0a ACCEPTED\n",
            "716\t File 05658bed-0c23-4812-b9aa-7897c2cef3c8 REJECTED\n",
            "717\t File 05661a22-18f7-4292-a1f7-2bbb433374cd REJECTED\n",
            "718\t File 0567082b-6e02-4f22-931f-18fc256667ce REJECTED\n",
            "719\t File 05688744-5e34-43b5-9bcc-ced86fb0fc68 REJECTED\n"
          ]
        },
        {
          "output_type": "stream",
          "name": "stderr",
          "text": [
            "<ipython-input-91-9fc97857c8b5>:47: UserWarning: PySoundFile failed. Trying audioread instead.\n",
            "  audio , _ =  librosa.load(f\"coughvid_20211012/{row['uuid']}.webm\",sr=16000,mono=True)\n",
            "/usr/local/lib/python3.10/dist-packages/librosa/core/audio.py:184: FutureWarning: librosa.core.audio.__audioread_load\n",
            "\tDeprecated as of librosa version 0.10.0.\n",
            "\tIt will be removed in librosa version 1.0.\n",
            "  y, sr_native = __audioread_load(path, offset, duration, dtype)\n"
          ]
        },
        {
          "output_type": "stream",
          "name": "stdout",
          "text": [
            "720\t File 0569d979-384b-4a30-b0ca-2b19e8c8650b ACCEPTED\n",
            "721\t File 05752eb9-5da5-4068-97e5-1b7c96f9bbb3 ACCEPTED\n",
            "722\t File 05760334-aed2-4666-aa2c-28975d77f6b5 REJECTED\n",
            "723\t File 05765d34-69e5-4a39-92da-d51b2ab8ffb6 ACCEPTED\n",
            "724\t File 057c961c-d916-4a91-930c-704da93d6a1a REJECTED\n",
            "725\t File 057cf598-c778-46a1-bd5d-1bf5ebb8b354 REJECTED\n"
          ]
        },
        {
          "output_type": "stream",
          "name": "stderr",
          "text": [
            "<ipython-input-91-9fc97857c8b5>:47: UserWarning: PySoundFile failed. Trying audioread instead.\n",
            "  audio , _ =  librosa.load(f\"coughvid_20211012/{row['uuid']}.webm\",sr=16000,mono=True)\n",
            "/usr/local/lib/python3.10/dist-packages/librosa/core/audio.py:184: FutureWarning: librosa.core.audio.__audioread_load\n",
            "\tDeprecated as of librosa version 0.10.0.\n",
            "\tIt will be removed in librosa version 1.0.\n",
            "  y, sr_native = __audioread_load(path, offset, duration, dtype)\n",
            "<ipython-input-91-9fc97857c8b5>:47: UserWarning: PySoundFile failed. Trying audioread instead.\n",
            "  audio , _ =  librosa.load(f\"coughvid_20211012/{row['uuid']}.webm\",sr=16000,mono=True)\n",
            "/usr/local/lib/python3.10/dist-packages/librosa/core/audio.py:184: FutureWarning: librosa.core.audio.__audioread_load\n",
            "\tDeprecated as of librosa version 0.10.0.\n",
            "\tIt will be removed in librosa version 1.0.\n",
            "  y, sr_native = __audioread_load(path, offset, duration, dtype)\n",
            "<ipython-input-91-9fc97857c8b5>:47: UserWarning: PySoundFile failed. Trying audioread instead.\n",
            "  audio , _ =  librosa.load(f\"coughvid_20211012/{row['uuid']}.webm\",sr=16000,mono=True)\n",
            "/usr/local/lib/python3.10/dist-packages/librosa/core/audio.py:184: FutureWarning: librosa.core.audio.__audioread_load\n",
            "\tDeprecated as of librosa version 0.10.0.\n",
            "\tIt will be removed in librosa version 1.0.\n",
            "  y, sr_native = __audioread_load(path, offset, duration, dtype)\n"
          ]
        },
        {
          "output_type": "stream",
          "name": "stdout",
          "text": [
            "726\t File 057f02e2-865c-4f4b-b08d-1538d1145ffd ACCEPTED\n"
          ]
        },
        {
          "output_type": "stream",
          "name": "stderr",
          "text": [
            "<ipython-input-91-9fc97857c8b5>:47: UserWarning: PySoundFile failed. Trying audioread instead.\n",
            "  audio , _ =  librosa.load(f\"coughvid_20211012/{row['uuid']}.webm\",sr=16000,mono=True)\n",
            "/usr/local/lib/python3.10/dist-packages/librosa/core/audio.py:184: FutureWarning: librosa.core.audio.__audioread_load\n",
            "\tDeprecated as of librosa version 0.10.0.\n",
            "\tIt will be removed in librosa version 1.0.\n",
            "  y, sr_native = __audioread_load(path, offset, duration, dtype)\n"
          ]
        },
        {
          "output_type": "stream",
          "name": "stdout",
          "text": [
            "727\t File 0580f7a3-775c-485c-badc-3612bb2e14db ACCEPTED\n",
            "728\t File 0587279e-daf2-474e-b11c-c4c6e868c8a2 REJECTED\n",
            "729\t File 05883807-4893-4a37-9db7-b4815b4f22fe REJECTED\n",
            "730\t File 0588fbb6-1403-4b1c-8fd7-8a573fd16b0f REJECTED\n",
            "731\t File 0589b52b-c56e-406e-98c7-2aa7db77ef40 REJECTED\n",
            "732\t File 058ae3db-9ce9-4ada-bca9-4f07e36b0279 REJECTED\n"
          ]
        },
        {
          "output_type": "stream",
          "name": "stderr",
          "text": [
            "<ipython-input-91-9fc97857c8b5>:47: UserWarning: PySoundFile failed. Trying audioread instead.\n",
            "  audio , _ =  librosa.load(f\"coughvid_20211012/{row['uuid']}.webm\",sr=16000,mono=True)\n",
            "/usr/local/lib/python3.10/dist-packages/librosa/core/audio.py:184: FutureWarning: librosa.core.audio.__audioread_load\n",
            "\tDeprecated as of librosa version 0.10.0.\n",
            "\tIt will be removed in librosa version 1.0.\n",
            "  y, sr_native = __audioread_load(path, offset, duration, dtype)\n"
          ]
        },
        {
          "output_type": "stream",
          "name": "stdout",
          "text": [
            "733\t File 058afaf0-570d-4a9b-8f1a-f49bb3289e5c ACCEPTED\n",
            "734\t File 058dc7ae-8ddc-4718-a93b-34d115a19b10 REJECTED\n",
            "735\t File 058dfab8-e74f-48cd-bab0-12c16f037aef ACCEPTED\n",
            "736\t File 058e2950-12ac-4ebb-a56c-ba4a6943d8f6 ACCEPTED\n",
            "737\t File 058eaa1d-bdc3-4f45-8cb2-4e241b608ca1 REJECTED\n",
            "738\t File 059091a7-891b-4439-a585-be8774d0d5b3 REJECTED\n",
            "739\t File 0593e9bf-e162-46c2-b1d5-3bc34ef1fc6f ACCEPTED\n",
            "740\t File 05941a72-f63b-45c7-bb1f-6e0a76440674 ACCEPTED\n",
            "741\t File 059ae242-fffd-44c7-b821-9d73f93449aa ACCEPTED\n",
            "742\t File 059d7b66-b597-4662-90e5-3dcafad0efb0 ACCEPTED\n",
            "743\t File 059e83b9-d04c-437c-b12b-311675add267 ACCEPTED\n",
            "744\t File 059eb180-bd06-4f60-aa98-8f24a2a79a0a ACCEPTED\n",
            "745\t File 059f0582-58ef-4c6e-abc8-8721474248d8 ACCEPTED\n",
            "746\t File 05a0cd2c-94c5-49d9-9890-e9c8f2aec10d ACCEPTED\n",
            "747\t File 05a41bcd-353b-4f3a-a8a1-cfdbeb17147b REJECTED\n",
            "748\t File 05a69903-1154-48e3-a55a-f31f85f020c7 ACCEPTED\n",
            "749\t File 05a78ad3-27d6-4c38-bc5d-d2c5f389db17 ACCEPTED\n",
            "750\t File 05a98293-2ff3-4d00-b79f-ad49ba5b64f1 REJECTED\n",
            "751\t File 05aa99b5-8d64-4d04-8f5d-a2a32ac5fe94 REJECTED\n"
          ]
        },
        {
          "output_type": "stream",
          "name": "stderr",
          "text": [
            "<ipython-input-91-9fc97857c8b5>:47: UserWarning: PySoundFile failed. Trying audioread instead.\n",
            "  audio , _ =  librosa.load(f\"coughvid_20211012/{row['uuid']}.webm\",sr=16000,mono=True)\n",
            "/usr/local/lib/python3.10/dist-packages/librosa/core/audio.py:184: FutureWarning: librosa.core.audio.__audioread_load\n",
            "\tDeprecated as of librosa version 0.10.0.\n",
            "\tIt will be removed in librosa version 1.0.\n",
            "  y, sr_native = __audioread_load(path, offset, duration, dtype)\n",
            "<ipython-input-91-9fc97857c8b5>:47: UserWarning: PySoundFile failed. Trying audioread instead.\n",
            "  audio , _ =  librosa.load(f\"coughvid_20211012/{row['uuid']}.webm\",sr=16000,mono=True)\n",
            "/usr/local/lib/python3.10/dist-packages/librosa/core/audio.py:184: FutureWarning: librosa.core.audio.__audioread_load\n",
            "\tDeprecated as of librosa version 0.10.0.\n",
            "\tIt will be removed in librosa version 1.0.\n",
            "  y, sr_native = __audioread_load(path, offset, duration, dtype)\n",
            "<ipython-input-91-9fc97857c8b5>:47: UserWarning: PySoundFile failed. Trying audioread instead.\n",
            "  audio , _ =  librosa.load(f\"coughvid_20211012/{row['uuid']}.webm\",sr=16000,mono=True)\n",
            "/usr/local/lib/python3.10/dist-packages/librosa/core/audio.py:184: FutureWarning: librosa.core.audio.__audioread_load\n",
            "\tDeprecated as of librosa version 0.10.0.\n",
            "\tIt will be removed in librosa version 1.0.\n",
            "  y, sr_native = __audioread_load(path, offset, duration, dtype)\n",
            "<ipython-input-91-9fc97857c8b5>:47: UserWarning: PySoundFile failed. Trying audioread instead.\n",
            "  audio , _ =  librosa.load(f\"coughvid_20211012/{row['uuid']}.webm\",sr=16000,mono=True)\n",
            "/usr/local/lib/python3.10/dist-packages/librosa/core/audio.py:184: FutureWarning: librosa.core.audio.__audioread_load\n",
            "\tDeprecated as of librosa version 0.10.0.\n",
            "\tIt will be removed in librosa version 1.0.\n",
            "  y, sr_native = __audioread_load(path, offset, duration, dtype)\n",
            "<ipython-input-91-9fc97857c8b5>:47: UserWarning: PySoundFile failed. Trying audioread instead.\n",
            "  audio , _ =  librosa.load(f\"coughvid_20211012/{row['uuid']}.webm\",sr=16000,mono=True)\n",
            "/usr/local/lib/python3.10/dist-packages/librosa/core/audio.py:184: FutureWarning: librosa.core.audio.__audioread_load\n",
            "\tDeprecated as of librosa version 0.10.0.\n",
            "\tIt will be removed in librosa version 1.0.\n",
            "  y, sr_native = __audioread_load(path, offset, duration, dtype)\n",
            "<ipython-input-91-9fc97857c8b5>:47: UserWarning: PySoundFile failed. Trying audioread instead.\n",
            "  audio , _ =  librosa.load(f\"coughvid_20211012/{row['uuid']}.webm\",sr=16000,mono=True)\n",
            "/usr/local/lib/python3.10/dist-packages/librosa/core/audio.py:184: FutureWarning: librosa.core.audio.__audioread_load\n",
            "\tDeprecated as of librosa version 0.10.0.\n",
            "\tIt will be removed in librosa version 1.0.\n",
            "  y, sr_native = __audioread_load(path, offset, duration, dtype)\n",
            "<ipython-input-91-9fc97857c8b5>:47: UserWarning: PySoundFile failed. Trying audioread instead.\n",
            "  audio , _ =  librosa.load(f\"coughvid_20211012/{row['uuid']}.webm\",sr=16000,mono=True)\n",
            "/usr/local/lib/python3.10/dist-packages/librosa/core/audio.py:184: FutureWarning: librosa.core.audio.__audioread_load\n",
            "\tDeprecated as of librosa version 0.10.0.\n",
            "\tIt will be removed in librosa version 1.0.\n",
            "  y, sr_native = __audioread_load(path, offset, duration, dtype)\n",
            "<ipython-input-91-9fc97857c8b5>:47: UserWarning: PySoundFile failed. Trying audioread instead.\n",
            "  audio , _ =  librosa.load(f\"coughvid_20211012/{row['uuid']}.webm\",sr=16000,mono=True)\n",
            "/usr/local/lib/python3.10/dist-packages/librosa/core/audio.py:184: FutureWarning: librosa.core.audio.__audioread_load\n",
            "\tDeprecated as of librosa version 0.10.0.\n",
            "\tIt will be removed in librosa version 1.0.\n",
            "  y, sr_native = __audioread_load(path, offset, duration, dtype)\n",
            "<ipython-input-91-9fc97857c8b5>:47: UserWarning: PySoundFile failed. Trying audioread instead.\n",
            "  audio , _ =  librosa.load(f\"coughvid_20211012/{row['uuid']}.webm\",sr=16000,mono=True)\n",
            "/usr/local/lib/python3.10/dist-packages/librosa/core/audio.py:184: FutureWarning: librosa.core.audio.__audioread_load\n",
            "\tDeprecated as of librosa version 0.10.0.\n",
            "\tIt will be removed in librosa version 1.0.\n",
            "  y, sr_native = __audioread_load(path, offset, duration, dtype)\n",
            "<ipython-input-91-9fc97857c8b5>:47: UserWarning: PySoundFile failed. Trying audioread instead.\n",
            "  audio , _ =  librosa.load(f\"coughvid_20211012/{row['uuid']}.webm\",sr=16000,mono=True)\n",
            "/usr/local/lib/python3.10/dist-packages/librosa/core/audio.py:184: FutureWarning: librosa.core.audio.__audioread_load\n",
            "\tDeprecated as of librosa version 0.10.0.\n",
            "\tIt will be removed in librosa version 1.0.\n",
            "  y, sr_native = __audioread_load(path, offset, duration, dtype)\n",
            "<ipython-input-91-9fc97857c8b5>:47: UserWarning: PySoundFile failed. Trying audioread instead.\n",
            "  audio , _ =  librosa.load(f\"coughvid_20211012/{row['uuid']}.webm\",sr=16000,mono=True)\n",
            "/usr/local/lib/python3.10/dist-packages/librosa/core/audio.py:184: FutureWarning: librosa.core.audio.__audioread_load\n",
            "\tDeprecated as of librosa version 0.10.0.\n",
            "\tIt will be removed in librosa version 1.0.\n",
            "  y, sr_native = __audioread_load(path, offset, duration, dtype)\n",
            "<ipython-input-91-9fc97857c8b5>:47: UserWarning: PySoundFile failed. Trying audioread instead.\n",
            "  audio , _ =  librosa.load(f\"coughvid_20211012/{row['uuid']}.webm\",sr=16000,mono=True)\n",
            "/usr/local/lib/python3.10/dist-packages/librosa/core/audio.py:184: FutureWarning: librosa.core.audio.__audioread_load\n",
            "\tDeprecated as of librosa version 0.10.0.\n",
            "\tIt will be removed in librosa version 1.0.\n",
            "  y, sr_native = __audioread_load(path, offset, duration, dtype)\n",
            "<ipython-input-91-9fc97857c8b5>:47: UserWarning: PySoundFile failed. Trying audioread instead.\n",
            "  audio , _ =  librosa.load(f\"coughvid_20211012/{row['uuid']}.webm\",sr=16000,mono=True)\n",
            "/usr/local/lib/python3.10/dist-packages/librosa/core/audio.py:184: FutureWarning: librosa.core.audio.__audioread_load\n",
            "\tDeprecated as of librosa version 0.10.0.\n",
            "\tIt will be removed in librosa version 1.0.\n",
            "  y, sr_native = __audioread_load(path, offset, duration, dtype)\n"
          ]
        },
        {
          "output_type": "stream",
          "name": "stdout",
          "text": [
            "752\t File 05aabbeb-5f9a-4427-951c-991a139daebb ACCEPTED\n",
            "753\t File 05ac39f1-b29c-477c-8386-9083e29ae8f7 REJECTED\n",
            "754\t File 05acbd66-7ec8-49d3-ba60-f21ba1e32d17 ACCEPTED\n",
            "755\t File 05adce1a-2129-4f5d-9669-a5c0a1f5f431 REJECTED\n",
            "756\t File 05b7bdc8-e278-48de-affb-acd93791a873 REJECTED\n",
            "757\t File 05b8fc06-0d7d-4625-b2f1-3b12af8aa552 REJECTED\n",
            "758\t File 05b90c1f-8f5a-40bb-95ff-a0e885e8c32b REJECTED\n",
            "759\t File 05b90c5e-cff8-4460-bf20-a0a9fdd97328 ACCEPTED\n",
            "760\t File 05ba535f-3c8b-4438-b976-99cb2fb014f1 ACCEPTED\n"
          ]
        },
        {
          "output_type": "stream",
          "name": "stderr",
          "text": [
            "<ipython-input-91-9fc97857c8b5>:47: UserWarning: PySoundFile failed. Trying audioread instead.\n",
            "  audio , _ =  librosa.load(f\"coughvid_20211012/{row['uuid']}.webm\",sr=16000,mono=True)\n",
            "/usr/local/lib/python3.10/dist-packages/librosa/core/audio.py:184: FutureWarning: librosa.core.audio.__audioread_load\n",
            "\tDeprecated as of librosa version 0.10.0.\n",
            "\tIt will be removed in librosa version 1.0.\n",
            "  y, sr_native = __audioread_load(path, offset, duration, dtype)\n",
            "<ipython-input-91-9fc97857c8b5>:47: UserWarning: PySoundFile failed. Trying audioread instead.\n",
            "  audio , _ =  librosa.load(f\"coughvid_20211012/{row['uuid']}.webm\",sr=16000,mono=True)\n",
            "/usr/local/lib/python3.10/dist-packages/librosa/core/audio.py:184: FutureWarning: librosa.core.audio.__audioread_load\n",
            "\tDeprecated as of librosa version 0.10.0.\n",
            "\tIt will be removed in librosa version 1.0.\n",
            "  y, sr_native = __audioread_load(path, offset, duration, dtype)\n",
            "<ipython-input-91-9fc97857c8b5>:47: UserWarning: PySoundFile failed. Trying audioread instead.\n",
            "  audio , _ =  librosa.load(f\"coughvid_20211012/{row['uuid']}.webm\",sr=16000,mono=True)\n",
            "/usr/local/lib/python3.10/dist-packages/librosa/core/audio.py:184: FutureWarning: librosa.core.audio.__audioread_load\n",
            "\tDeprecated as of librosa version 0.10.0.\n",
            "\tIt will be removed in librosa version 1.0.\n",
            "  y, sr_native = __audioread_load(path, offset, duration, dtype)\n",
            "<ipython-input-91-9fc97857c8b5>:47: UserWarning: PySoundFile failed. Trying audioread instead.\n",
            "  audio , _ =  librosa.load(f\"coughvid_20211012/{row['uuid']}.webm\",sr=16000,mono=True)\n",
            "/usr/local/lib/python3.10/dist-packages/librosa/core/audio.py:184: FutureWarning: librosa.core.audio.__audioread_load\n",
            "\tDeprecated as of librosa version 0.10.0.\n",
            "\tIt will be removed in librosa version 1.0.\n",
            "  y, sr_native = __audioread_load(path, offset, duration, dtype)\n"
          ]
        },
        {
          "output_type": "stream",
          "name": "stdout",
          "text": [
            "761\t File 05bb63c1-bff1-4faf-bb2a-b887e7016f69 ACCEPTED\n",
            "762\t File 05be20c3-1595-470c-843d-2b30fb5182e3 REJECTED\n",
            "763\t File 05bff12e-b4c3-4769-a647-89566dec0940 ACCEPTED\n",
            "764\t File 05c283cd-6c4c-46c2-a9df-2946b35e695a REJECTED\n",
            "765\t File 05c425eb-06da-4f7b-940e-73beba2894d0 REJECTED\n",
            "766\t File 05c462a2-cefc-4787-baa4-8b4d5b6698c0 REJECTED\n",
            "767\t File 05c72a6d-a5d0-443b-874e-97e63f996be2 REJECTED\n"
          ]
        },
        {
          "output_type": "stream",
          "name": "stderr",
          "text": [
            "<ipython-input-91-9fc97857c8b5>:47: UserWarning: PySoundFile failed. Trying audioread instead.\n",
            "  audio , _ =  librosa.load(f\"coughvid_20211012/{row['uuid']}.webm\",sr=16000,mono=True)\n",
            "/usr/local/lib/python3.10/dist-packages/librosa/core/audio.py:184: FutureWarning: librosa.core.audio.__audioread_load\n",
            "\tDeprecated as of librosa version 0.10.0.\n",
            "\tIt will be removed in librosa version 1.0.\n",
            "  y, sr_native = __audioread_load(path, offset, duration, dtype)\n",
            "<ipython-input-91-9fc97857c8b5>:47: UserWarning: PySoundFile failed. Trying audioread instead.\n",
            "  audio , _ =  librosa.load(f\"coughvid_20211012/{row['uuid']}.webm\",sr=16000,mono=True)\n",
            "/usr/local/lib/python3.10/dist-packages/librosa/core/audio.py:184: FutureWarning: librosa.core.audio.__audioread_load\n",
            "\tDeprecated as of librosa version 0.10.0.\n",
            "\tIt will be removed in librosa version 1.0.\n",
            "  y, sr_native = __audioread_load(path, offset, duration, dtype)\n"
          ]
        },
        {
          "output_type": "stream",
          "name": "stdout",
          "text": [
            "768\t File 05c74476-c82f-40ec-8335-61c0076fe358 ACCEPTED\n",
            "769\t File 05c96bfd-2284-41c1-b5e1-2d3cd7b10dff REJECTED\n",
            "770\t File 05ca2c26-0e93-48a7-8100-169dec2c3934 ACCEPTED\n",
            "771\t File 05d0e04a-2805-4a00-8bf1-9a7f5445bf6b REJECTED\n"
          ]
        },
        {
          "output_type": "stream",
          "name": "stderr",
          "text": [
            "<ipython-input-91-9fc97857c8b5>:47: UserWarning: PySoundFile failed. Trying audioread instead.\n",
            "  audio , _ =  librosa.load(f\"coughvid_20211012/{row['uuid']}.webm\",sr=16000,mono=True)\n",
            "/usr/local/lib/python3.10/dist-packages/librosa/core/audio.py:184: FutureWarning: librosa.core.audio.__audioread_load\n",
            "\tDeprecated as of librosa version 0.10.0.\n",
            "\tIt will be removed in librosa version 1.0.\n",
            "  y, sr_native = __audioread_load(path, offset, duration, dtype)\n",
            "<ipython-input-91-9fc97857c8b5>:47: UserWarning: PySoundFile failed. Trying audioread instead.\n",
            "  audio , _ =  librosa.load(f\"coughvid_20211012/{row['uuid']}.webm\",sr=16000,mono=True)\n",
            "/usr/local/lib/python3.10/dist-packages/librosa/core/audio.py:184: FutureWarning: librosa.core.audio.__audioread_load\n",
            "\tDeprecated as of librosa version 0.10.0.\n",
            "\tIt will be removed in librosa version 1.0.\n",
            "  y, sr_native = __audioread_load(path, offset, duration, dtype)\n"
          ]
        },
        {
          "output_type": "stream",
          "name": "stdout",
          "text": [
            "772\t File 05d2f42a-da81-4b11-8e1c-a68f8638b003 ACCEPTED\n",
            "773\t File 05d6f0ac-ecd7-4aa7-96e1-613d31207fb0 ACCEPTED\n",
            "774\t File 05da8104-bfa3-48ee-8540-013123f31bb4 ACCEPTED\n"
          ]
        },
        {
          "output_type": "stream",
          "name": "stderr",
          "text": [
            "<ipython-input-91-9fc97857c8b5>:47: UserWarning: PySoundFile failed. Trying audioread instead.\n",
            "  audio , _ =  librosa.load(f\"coughvid_20211012/{row['uuid']}.webm\",sr=16000,mono=True)\n",
            "/usr/local/lib/python3.10/dist-packages/librosa/core/audio.py:184: FutureWarning: librosa.core.audio.__audioread_load\n",
            "\tDeprecated as of librosa version 0.10.0.\n",
            "\tIt will be removed in librosa version 1.0.\n",
            "  y, sr_native = __audioread_load(path, offset, duration, dtype)\n",
            "<ipython-input-91-9fc97857c8b5>:47: UserWarning: PySoundFile failed. Trying audioread instead.\n",
            "  audio , _ =  librosa.load(f\"coughvid_20211012/{row['uuid']}.webm\",sr=16000,mono=True)\n",
            "/usr/local/lib/python3.10/dist-packages/librosa/core/audio.py:184: FutureWarning: librosa.core.audio.__audioread_load\n",
            "\tDeprecated as of librosa version 0.10.0.\n",
            "\tIt will be removed in librosa version 1.0.\n",
            "  y, sr_native = __audioread_load(path, offset, duration, dtype)\n",
            "<ipython-input-91-9fc97857c8b5>:47: UserWarning: PySoundFile failed. Trying audioread instead.\n",
            "  audio , _ =  librosa.load(f\"coughvid_20211012/{row['uuid']}.webm\",sr=16000,mono=True)\n",
            "/usr/local/lib/python3.10/dist-packages/librosa/core/audio.py:184: FutureWarning: librosa.core.audio.__audioread_load\n",
            "\tDeprecated as of librosa version 0.10.0.\n",
            "\tIt will be removed in librosa version 1.0.\n",
            "  y, sr_native = __audioread_load(path, offset, duration, dtype)\n"
          ]
        },
        {
          "output_type": "stream",
          "name": "stdout",
          "text": [
            "775\t File 05db06a5-4d1d-465e-9648-04efded46de4 ACCEPTED\n",
            "776\t File 05dc1633-0eb0-45e1-a8c4-edf0ccb088bf REJECTED\n",
            "777\t File 05dd90db-56ac-41e9-a325-3e76ec7a40d9 ACCEPTED\n",
            "778\t File 05dfcc0c-b03c-49a9-b61f-7c09d06261dd REJECTED\n",
            "779\t File 05e22d2a-0eff-475f-b663-1d39283cb42d REJECTED\n"
          ]
        },
        {
          "output_type": "stream",
          "name": "stderr",
          "text": [
            "<ipython-input-91-9fc97857c8b5>:47: UserWarning: PySoundFile failed. Trying audioread instead.\n",
            "  audio , _ =  librosa.load(f\"coughvid_20211012/{row['uuid']}.webm\",sr=16000,mono=True)\n",
            "/usr/local/lib/python3.10/dist-packages/librosa/core/audio.py:184: FutureWarning: librosa.core.audio.__audioread_load\n",
            "\tDeprecated as of librosa version 0.10.0.\n",
            "\tIt will be removed in librosa version 1.0.\n",
            "  y, sr_native = __audioread_load(path, offset, duration, dtype)\n",
            "<ipython-input-91-9fc97857c8b5>:47: UserWarning: PySoundFile failed. Trying audioread instead.\n",
            "  audio , _ =  librosa.load(f\"coughvid_20211012/{row['uuid']}.webm\",sr=16000,mono=True)\n",
            "/usr/local/lib/python3.10/dist-packages/librosa/core/audio.py:184: FutureWarning: librosa.core.audio.__audioread_load\n",
            "\tDeprecated as of librosa version 0.10.0.\n",
            "\tIt will be removed in librosa version 1.0.\n",
            "  y, sr_native = __audioread_load(path, offset, duration, dtype)\n"
          ]
        },
        {
          "output_type": "stream",
          "name": "stdout",
          "text": [
            "780\t File 05e280f3-0fc1-475b-a235-306f6ca0960c ACCEPTED\n",
            "781\t File 05e2eb37-45ed-4f10-a250-2ae0189fd5be ACCEPTED\n",
            "782\t File 05e30a14-5dee-4e61-b248-f49b1b4ad4dd REJECTED\n",
            "783\t File 05e3941b-8fda-4fb8-ab7f-4912344dac57 ACCEPTED\n",
            "784\t File 05e45cc5-76b2-46d8-b260-93a7e6da9229 ACCEPTED\n",
            "785\t File 05e6422c-fac4-4dc3-bc69-3030839f7caf REJECTED\n"
          ]
        },
        {
          "output_type": "stream",
          "name": "stderr",
          "text": [
            "<ipython-input-91-9fc97857c8b5>:47: UserWarning: PySoundFile failed. Trying audioread instead.\n",
            "  audio , _ =  librosa.load(f\"coughvid_20211012/{row['uuid']}.webm\",sr=16000,mono=True)\n",
            "/usr/local/lib/python3.10/dist-packages/librosa/core/audio.py:184: FutureWarning: librosa.core.audio.__audioread_load\n",
            "\tDeprecated as of librosa version 0.10.0.\n",
            "\tIt will be removed in librosa version 1.0.\n",
            "  y, sr_native = __audioread_load(path, offset, duration, dtype)\n",
            "<ipython-input-91-9fc97857c8b5>:47: UserWarning: PySoundFile failed. Trying audioread instead.\n",
            "  audio , _ =  librosa.load(f\"coughvid_20211012/{row['uuid']}.webm\",sr=16000,mono=True)\n",
            "/usr/local/lib/python3.10/dist-packages/librosa/core/audio.py:184: FutureWarning: librosa.core.audio.__audioread_load\n",
            "\tDeprecated as of librosa version 0.10.0.\n",
            "\tIt will be removed in librosa version 1.0.\n",
            "  y, sr_native = __audioread_load(path, offset, duration, dtype)\n",
            "<ipython-input-91-9fc97857c8b5>:47: UserWarning: PySoundFile failed. Trying audioread instead.\n",
            "  audio , _ =  librosa.load(f\"coughvid_20211012/{row['uuid']}.webm\",sr=16000,mono=True)\n",
            "/usr/local/lib/python3.10/dist-packages/librosa/core/audio.py:184: FutureWarning: librosa.core.audio.__audioread_load\n",
            "\tDeprecated as of librosa version 0.10.0.\n",
            "\tIt will be removed in librosa version 1.0.\n",
            "  y, sr_native = __audioread_load(path, offset, duration, dtype)\n",
            "<ipython-input-91-9fc97857c8b5>:47: UserWarning: PySoundFile failed. Trying audioread instead.\n",
            "  audio , _ =  librosa.load(f\"coughvid_20211012/{row['uuid']}.webm\",sr=16000,mono=True)\n",
            "/usr/local/lib/python3.10/dist-packages/librosa/core/audio.py:184: FutureWarning: librosa.core.audio.__audioread_load\n",
            "\tDeprecated as of librosa version 0.10.0.\n",
            "\tIt will be removed in librosa version 1.0.\n",
            "  y, sr_native = __audioread_load(path, offset, duration, dtype)\n"
          ]
        },
        {
          "output_type": "stream",
          "name": "stdout",
          "text": [
            "786\t File 05e8f29d-b13c-417c-81ef-9a9db75d41b3 ACCEPTED\n",
            "787\t File 05e92725-4a2b-4af2-bae3-d6b2e4555170 ACCEPTED\n"
          ]
        },
        {
          "output_type": "stream",
          "name": "stderr",
          "text": [
            "<ipython-input-91-9fc97857c8b5>:47: UserWarning: PySoundFile failed. Trying audioread instead.\n",
            "  audio , _ =  librosa.load(f\"coughvid_20211012/{row['uuid']}.webm\",sr=16000,mono=True)\n",
            "/usr/local/lib/python3.10/dist-packages/librosa/core/audio.py:184: FutureWarning: librosa.core.audio.__audioread_load\n",
            "\tDeprecated as of librosa version 0.10.0.\n",
            "\tIt will be removed in librosa version 1.0.\n",
            "  y, sr_native = __audioread_load(path, offset, duration, dtype)\n",
            "<ipython-input-91-9fc97857c8b5>:47: UserWarning: PySoundFile failed. Trying audioread instead.\n",
            "  audio , _ =  librosa.load(f\"coughvid_20211012/{row['uuid']}.webm\",sr=16000,mono=True)\n",
            "/usr/local/lib/python3.10/dist-packages/librosa/core/audio.py:184: FutureWarning: librosa.core.audio.__audioread_load\n",
            "\tDeprecated as of librosa version 0.10.0.\n",
            "\tIt will be removed in librosa version 1.0.\n",
            "  y, sr_native = __audioread_load(path, offset, duration, dtype)\n"
          ]
        },
        {
          "output_type": "stream",
          "name": "stdout",
          "text": [
            "788\t File 05eae3a5-8352-4b3e-b8a3-ff97ec528636 ACCEPTED\n",
            "789\t File 05f1e301-619c-412e-8dee-8ebbadba6f12 ACCEPTED\n"
          ]
        },
        {
          "output_type": "stream",
          "name": "stderr",
          "text": [
            "<ipython-input-91-9fc97857c8b5>:47: UserWarning: PySoundFile failed. Trying audioread instead.\n",
            "  audio , _ =  librosa.load(f\"coughvid_20211012/{row['uuid']}.webm\",sr=16000,mono=True)\n",
            "/usr/local/lib/python3.10/dist-packages/librosa/core/audio.py:184: FutureWarning: librosa.core.audio.__audioread_load\n",
            "\tDeprecated as of librosa version 0.10.0.\n",
            "\tIt will be removed in librosa version 1.0.\n",
            "  y, sr_native = __audioread_load(path, offset, duration, dtype)\n",
            "<ipython-input-91-9fc97857c8b5>:47: UserWarning: PySoundFile failed. Trying audioread instead.\n",
            "  audio , _ =  librosa.load(f\"coughvid_20211012/{row['uuid']}.webm\",sr=16000,mono=True)\n",
            "/usr/local/lib/python3.10/dist-packages/librosa/core/audio.py:184: FutureWarning: librosa.core.audio.__audioread_load\n",
            "\tDeprecated as of librosa version 0.10.0.\n",
            "\tIt will be removed in librosa version 1.0.\n",
            "  y, sr_native = __audioread_load(path, offset, duration, dtype)\n"
          ]
        },
        {
          "output_type": "stream",
          "name": "stdout",
          "text": [
            "790\t File 05f2d808-7044-4c4b-8fbd-baff611383da ACCEPTED\n",
            "791\t File 05f3ed50-3e4c-4b68-b0c2-51b701c694d1 ACCEPTED\n",
            "792\t File 05f472dc-1bb0-4b91-aefb-565f44e15b78 ACCEPTED\n",
            "793\t File 05f53b1e-3bac-45aa-ba32-f8b5405366da ACCEPTED\n",
            "794\t File 05f8cafe-68a6-4e51-ad12-dcd3d97e4684 ACCEPTED\n",
            "795\t File 05fb304c-6c7c-4170-9b7c-b5dac79c091f ACCEPTED\n",
            "796\t File 05fb57ae-be1b-4879-9bf4-f7fe7493f20c ACCEPTED\n",
            "797\t File 05fcd4e7-9ed6-4ed6-ae56-333af5aefd6d REJECTED\n",
            "798\t File 05fd0bcc-c0b4-4d2a-ad69-39420fd5de94 REJECTED\n",
            "799\t File 05fdfb43-8f07-485a-9458-ef5e1081362d REJECTED\n",
            "800\t File 0602176c-332e-4545-9a28-27e0d92ee381 REJECTED\n",
            "801\t File 0602586d-27d7-4328-ac44-b8446713ea24 REJECTED\n",
            "802\t File 06027906-1d51-42af-907c-a8cd461d9350 ACCEPTED\n"
          ]
        },
        {
          "output_type": "stream",
          "name": "stderr",
          "text": [
            "<ipython-input-91-9fc97857c8b5>:47: UserWarning: PySoundFile failed. Trying audioread instead.\n",
            "  audio , _ =  librosa.load(f\"coughvid_20211012/{row['uuid']}.webm\",sr=16000,mono=True)\n",
            "/usr/local/lib/python3.10/dist-packages/librosa/core/audio.py:184: FutureWarning: librosa.core.audio.__audioread_load\n",
            "\tDeprecated as of librosa version 0.10.0.\n",
            "\tIt will be removed in librosa version 1.0.\n",
            "  y, sr_native = __audioread_load(path, offset, duration, dtype)\n",
            "<ipython-input-91-9fc97857c8b5>:47: UserWarning: PySoundFile failed. Trying audioread instead.\n",
            "  audio , _ =  librosa.load(f\"coughvid_20211012/{row['uuid']}.webm\",sr=16000,mono=True)\n",
            "/usr/local/lib/python3.10/dist-packages/librosa/core/audio.py:184: FutureWarning: librosa.core.audio.__audioread_load\n",
            "\tDeprecated as of librosa version 0.10.0.\n",
            "\tIt will be removed in librosa version 1.0.\n",
            "  y, sr_native = __audioread_load(path, offset, duration, dtype)\n",
            "<ipython-input-91-9fc97857c8b5>:47: UserWarning: PySoundFile failed. Trying audioread instead.\n",
            "  audio , _ =  librosa.load(f\"coughvid_20211012/{row['uuid']}.webm\",sr=16000,mono=True)\n",
            "/usr/local/lib/python3.10/dist-packages/librosa/core/audio.py:184: FutureWarning: librosa.core.audio.__audioread_load\n",
            "\tDeprecated as of librosa version 0.10.0.\n",
            "\tIt will be removed in librosa version 1.0.\n",
            "  y, sr_native = __audioread_load(path, offset, duration, dtype)\n",
            "<ipython-input-91-9fc97857c8b5>:47: UserWarning: PySoundFile failed. Trying audioread instead.\n",
            "  audio , _ =  librosa.load(f\"coughvid_20211012/{row['uuid']}.webm\",sr=16000,mono=True)\n",
            "/usr/local/lib/python3.10/dist-packages/librosa/core/audio.py:184: FutureWarning: librosa.core.audio.__audioread_load\n",
            "\tDeprecated as of librosa version 0.10.0.\n",
            "\tIt will be removed in librosa version 1.0.\n",
            "  y, sr_native = __audioread_load(path, offset, duration, dtype)\n",
            "<ipython-input-91-9fc97857c8b5>:47: UserWarning: PySoundFile failed. Trying audioread instead.\n",
            "  audio , _ =  librosa.load(f\"coughvid_20211012/{row['uuid']}.webm\",sr=16000,mono=True)\n",
            "/usr/local/lib/python3.10/dist-packages/librosa/core/audio.py:184: FutureWarning: librosa.core.audio.__audioread_load\n",
            "\tDeprecated as of librosa version 0.10.0.\n",
            "\tIt will be removed in librosa version 1.0.\n",
            "  y, sr_native = __audioread_load(path, offset, duration, dtype)\n",
            "<ipython-input-91-9fc97857c8b5>:47: UserWarning: PySoundFile failed. Trying audioread instead.\n",
            "  audio , _ =  librosa.load(f\"coughvid_20211012/{row['uuid']}.webm\",sr=16000,mono=True)\n",
            "/usr/local/lib/python3.10/dist-packages/librosa/core/audio.py:184: FutureWarning: librosa.core.audio.__audioread_load\n",
            "\tDeprecated as of librosa version 0.10.0.\n",
            "\tIt will be removed in librosa version 1.0.\n",
            "  y, sr_native = __audioread_load(path, offset, duration, dtype)\n",
            "<ipython-input-91-9fc97857c8b5>:47: UserWarning: PySoundFile failed. Trying audioread instead.\n",
            "  audio , _ =  librosa.load(f\"coughvid_20211012/{row['uuid']}.webm\",sr=16000,mono=True)\n",
            "/usr/local/lib/python3.10/dist-packages/librosa/core/audio.py:184: FutureWarning: librosa.core.audio.__audioread_load\n",
            "\tDeprecated as of librosa version 0.10.0.\n",
            "\tIt will be removed in librosa version 1.0.\n",
            "  y, sr_native = __audioread_load(path, offset, duration, dtype)\n",
            "<ipython-input-91-9fc97857c8b5>:47: UserWarning: PySoundFile failed. Trying audioread instead.\n",
            "  audio , _ =  librosa.load(f\"coughvid_20211012/{row['uuid']}.webm\",sr=16000,mono=True)\n",
            "/usr/local/lib/python3.10/dist-packages/librosa/core/audio.py:184: FutureWarning: librosa.core.audio.__audioread_load\n",
            "\tDeprecated as of librosa version 0.10.0.\n",
            "\tIt will be removed in librosa version 1.0.\n",
            "  y, sr_native = __audioread_load(path, offset, duration, dtype)\n"
          ]
        },
        {
          "output_type": "stream",
          "name": "stdout",
          "text": [
            "803\t File 060aba6c-7cdb-4977-b016-a0343ac38fc4 ACCEPTED\n",
            "804\t File 060ac963-b7bc-43d5-81d0-aa9f5778bea3 ACCEPTED\n",
            "805\t File 060ad6a0-be09-4ddc-9cbc-7776f3703a44 REJECTED\n"
          ]
        },
        {
          "output_type": "stream",
          "name": "stderr",
          "text": [
            "<ipython-input-91-9fc97857c8b5>:47: UserWarning: PySoundFile failed. Trying audioread instead.\n",
            "  audio , _ =  librosa.load(f\"coughvid_20211012/{row['uuid']}.webm\",sr=16000,mono=True)\n",
            "/usr/local/lib/python3.10/dist-packages/librosa/core/audio.py:184: FutureWarning: librosa.core.audio.__audioread_load\n",
            "\tDeprecated as of librosa version 0.10.0.\n",
            "\tIt will be removed in librosa version 1.0.\n",
            "  y, sr_native = __audioread_load(path, offset, duration, dtype)\n",
            "<ipython-input-91-9fc97857c8b5>:47: UserWarning: PySoundFile failed. Trying audioread instead.\n",
            "  audio , _ =  librosa.load(f\"coughvid_20211012/{row['uuid']}.webm\",sr=16000,mono=True)\n",
            "/usr/local/lib/python3.10/dist-packages/librosa/core/audio.py:184: FutureWarning: librosa.core.audio.__audioread_load\n",
            "\tDeprecated as of librosa version 0.10.0.\n",
            "\tIt will be removed in librosa version 1.0.\n",
            "  y, sr_native = __audioread_load(path, offset, duration, dtype)\n"
          ]
        },
        {
          "output_type": "stream",
          "name": "stdout",
          "text": [
            "806\t File 060ed3ba-522c-424a-8660-40a19c7963e6 ACCEPTED\n",
            "807\t File 060f1438-0d7b-4484-99e6-1e4afdf1a33b REJECTED\n",
            "808\t File 06144bba-80b2-4132-aa15-8bae41e48c9f REJECTED\n",
            "809\t File 0619abe4-5ccc-42e6-99b8-5e8946e19d4e ACCEPTED\n"
          ]
        },
        {
          "output_type": "stream",
          "name": "stderr",
          "text": [
            "<ipython-input-91-9fc97857c8b5>:47: UserWarning: PySoundFile failed. Trying audioread instead.\n",
            "  audio , _ =  librosa.load(f\"coughvid_20211012/{row['uuid']}.webm\",sr=16000,mono=True)\n",
            "/usr/local/lib/python3.10/dist-packages/librosa/core/audio.py:184: FutureWarning: librosa.core.audio.__audioread_load\n",
            "\tDeprecated as of librosa version 0.10.0.\n",
            "\tIt will be removed in librosa version 1.0.\n",
            "  y, sr_native = __audioread_load(path, offset, duration, dtype)\n",
            "<ipython-input-91-9fc97857c8b5>:47: UserWarning: PySoundFile failed. Trying audioread instead.\n",
            "  audio , _ =  librosa.load(f\"coughvid_20211012/{row['uuid']}.webm\",sr=16000,mono=True)\n",
            "/usr/local/lib/python3.10/dist-packages/librosa/core/audio.py:184: FutureWarning: librosa.core.audio.__audioread_load\n",
            "\tDeprecated as of librosa version 0.10.0.\n",
            "\tIt will be removed in librosa version 1.0.\n",
            "  y, sr_native = __audioread_load(path, offset, duration, dtype)\n"
          ]
        },
        {
          "output_type": "stream",
          "name": "stdout",
          "text": [
            "810\t File 061c17d1-3ac7-429c-aa9c-b3252a5bd73e ACCEPTED\n",
            "811\t File 061f1682-9b72-45a5-a219-04a53f815e1d ACCEPTED\n",
            "812\t File 06242f43-3250-4995-b226-ac49448fae01 REJECTED\n",
            "813\t File 0625295b-3d0f-416d-9642-94966f083fb6 REJECTED\n",
            "814\t File 06267380-6bab-4437-a8a0-e5a7e5dada9d ACCEPTED\n",
            "815\t File 0629b197-b8c1-4b57-a48c-062a31563a03 REJECTED\n"
          ]
        },
        {
          "output_type": "stream",
          "name": "stderr",
          "text": [
            "<ipython-input-91-9fc97857c8b5>:47: UserWarning: PySoundFile failed. Trying audioread instead.\n",
            "  audio , _ =  librosa.load(f\"coughvid_20211012/{row['uuid']}.webm\",sr=16000,mono=True)\n",
            "/usr/local/lib/python3.10/dist-packages/librosa/core/audio.py:184: FutureWarning: librosa.core.audio.__audioread_load\n",
            "\tDeprecated as of librosa version 0.10.0.\n",
            "\tIt will be removed in librosa version 1.0.\n",
            "  y, sr_native = __audioread_load(path, offset, duration, dtype)\n",
            "<ipython-input-91-9fc97857c8b5>:47: UserWarning: PySoundFile failed. Trying audioread instead.\n",
            "  audio , _ =  librosa.load(f\"coughvid_20211012/{row['uuid']}.webm\",sr=16000,mono=True)\n",
            "/usr/local/lib/python3.10/dist-packages/librosa/core/audio.py:184: FutureWarning: librosa.core.audio.__audioread_load\n",
            "\tDeprecated as of librosa version 0.10.0.\n",
            "\tIt will be removed in librosa version 1.0.\n",
            "  y, sr_native = __audioread_load(path, offset, duration, dtype)\n",
            "<ipython-input-91-9fc97857c8b5>:47: UserWarning: PySoundFile failed. Trying audioread instead.\n",
            "  audio , _ =  librosa.load(f\"coughvid_20211012/{row['uuid']}.webm\",sr=16000,mono=True)\n",
            "/usr/local/lib/python3.10/dist-packages/librosa/core/audio.py:184: FutureWarning: librosa.core.audio.__audioread_load\n",
            "\tDeprecated as of librosa version 0.10.0.\n",
            "\tIt will be removed in librosa version 1.0.\n",
            "  y, sr_native = __audioread_load(path, offset, duration, dtype)\n"
          ]
        },
        {
          "output_type": "stream",
          "name": "stdout",
          "text": [
            "816\t File 062b77b9-9326-4d91-9b2a-9b10b41d1cd8 ACCEPTED\n",
            "817\t File 062c3a7f-a783-4b43-806e-6db83aa0da15 ACCEPTED\n",
            "818\t File 062c5731-0937-4f1c-8222-fd80b16f310d REJECTED\n",
            "819\t File 062e6942-8fe1-4b53-aca8-d51da618f11a ACCEPTED\n",
            "820\t File 062fa5d6-9a7c-4679-86f1-ebb1998352f9 REJECTED\n",
            "821\t File 063013e3-a63f-40b5-97dc-b2e1de393b00 ACCEPTED\n",
            "822\t File 0631efe3-78db-47e3-90a5-6cdf95cb0574 ACCEPTED\n",
            "823\t File 06333bd8-f7d2-48ef-8fb3-c88a8ec48e36 ACCEPTED\n",
            "824\t File 06347148-8cfb-4fb8-86a9-5a32792dd811 ACCEPTED\n",
            "825\t File 0634b504-6bd3-4863-862d-b97e0044b75c ACCEPTED\n",
            "826\t File 063986a3-8766-4584-aab6-06495a8cd9c4 REJECTED\n",
            "827\t File 063af074-6f63-4485-967e-8e85338206be REJECTED\n",
            "828\t File 063cb72a-e2ec-472a-a96e-04c5cec2b1b1 REJECTED\n",
            "829\t File 063ce221-0379-4af2-a322-ac0094c664a3 ACCEPTED\n",
            "830\t File 0640716b-e287-4181-a653-5b798e8308c8 ACCEPTED\n",
            "831\t File 06426fac-4d2c-410d-9f0c-add2818119e4 REJECTED\n",
            "832\t File 06461575-204a-4d14-9a4c-20e9936aee6d ACCEPTED\n",
            "833\t File 06472bb6-6fd2-4209-834a-942c32aefdd5 REJECTED\n"
          ]
        },
        {
          "output_type": "stream",
          "name": "stderr",
          "text": [
            "<ipython-input-91-9fc97857c8b5>:47: UserWarning: PySoundFile failed. Trying audioread instead.\n",
            "  audio , _ =  librosa.load(f\"coughvid_20211012/{row['uuid']}.webm\",sr=16000,mono=True)\n",
            "/usr/local/lib/python3.10/dist-packages/librosa/core/audio.py:184: FutureWarning: librosa.core.audio.__audioread_load\n",
            "\tDeprecated as of librosa version 0.10.0.\n",
            "\tIt will be removed in librosa version 1.0.\n",
            "  y, sr_native = __audioread_load(path, offset, duration, dtype)\n",
            "<ipython-input-91-9fc97857c8b5>:47: UserWarning: PySoundFile failed. Trying audioread instead.\n",
            "  audio , _ =  librosa.load(f\"coughvid_20211012/{row['uuid']}.webm\",sr=16000,mono=True)\n",
            "/usr/local/lib/python3.10/dist-packages/librosa/core/audio.py:184: FutureWarning: librosa.core.audio.__audioread_load\n",
            "\tDeprecated as of librosa version 0.10.0.\n",
            "\tIt will be removed in librosa version 1.0.\n",
            "  y, sr_native = __audioread_load(path, offset, duration, dtype)\n",
            "<ipython-input-91-9fc97857c8b5>:47: UserWarning: PySoundFile failed. Trying audioread instead.\n",
            "  audio , _ =  librosa.load(f\"coughvid_20211012/{row['uuid']}.webm\",sr=16000,mono=True)\n",
            "/usr/local/lib/python3.10/dist-packages/librosa/core/audio.py:184: FutureWarning: librosa.core.audio.__audioread_load\n",
            "\tDeprecated as of librosa version 0.10.0.\n",
            "\tIt will be removed in librosa version 1.0.\n",
            "  y, sr_native = __audioread_load(path, offset, duration, dtype)\n",
            "<ipython-input-91-9fc97857c8b5>:47: UserWarning: PySoundFile failed. Trying audioread instead.\n",
            "  audio , _ =  librosa.load(f\"coughvid_20211012/{row['uuid']}.webm\",sr=16000,mono=True)\n",
            "/usr/local/lib/python3.10/dist-packages/librosa/core/audio.py:184: FutureWarning: librosa.core.audio.__audioread_load\n",
            "\tDeprecated as of librosa version 0.10.0.\n",
            "\tIt will be removed in librosa version 1.0.\n",
            "  y, sr_native = __audioread_load(path, offset, duration, dtype)\n",
            "<ipython-input-91-9fc97857c8b5>:47: UserWarning: PySoundFile failed. Trying audioread instead.\n",
            "  audio , _ =  librosa.load(f\"coughvid_20211012/{row['uuid']}.webm\",sr=16000,mono=True)\n",
            "/usr/local/lib/python3.10/dist-packages/librosa/core/audio.py:184: FutureWarning: librosa.core.audio.__audioread_load\n",
            "\tDeprecated as of librosa version 0.10.0.\n",
            "\tIt will be removed in librosa version 1.0.\n",
            "  y, sr_native = __audioread_load(path, offset, duration, dtype)\n",
            "<ipython-input-91-9fc97857c8b5>:47: UserWarning: PySoundFile failed. Trying audioread instead.\n",
            "  audio , _ =  librosa.load(f\"coughvid_20211012/{row['uuid']}.webm\",sr=16000,mono=True)\n",
            "/usr/local/lib/python3.10/dist-packages/librosa/core/audio.py:184: FutureWarning: librosa.core.audio.__audioread_load\n",
            "\tDeprecated as of librosa version 0.10.0.\n",
            "\tIt will be removed in librosa version 1.0.\n",
            "  y, sr_native = __audioread_load(path, offset, duration, dtype)\n",
            "<ipython-input-91-9fc97857c8b5>:47: UserWarning: PySoundFile failed. Trying audioread instead.\n",
            "  audio , _ =  librosa.load(f\"coughvid_20211012/{row['uuid']}.webm\",sr=16000,mono=True)\n",
            "/usr/local/lib/python3.10/dist-packages/librosa/core/audio.py:184: FutureWarning: librosa.core.audio.__audioread_load\n",
            "\tDeprecated as of librosa version 0.10.0.\n",
            "\tIt will be removed in librosa version 1.0.\n",
            "  y, sr_native = __audioread_load(path, offset, duration, dtype)\n",
            "<ipython-input-91-9fc97857c8b5>:47: UserWarning: PySoundFile failed. Trying audioread instead.\n",
            "  audio , _ =  librosa.load(f\"coughvid_20211012/{row['uuid']}.webm\",sr=16000,mono=True)\n",
            "/usr/local/lib/python3.10/dist-packages/librosa/core/audio.py:184: FutureWarning: librosa.core.audio.__audioread_load\n",
            "\tDeprecated as of librosa version 0.10.0.\n",
            "\tIt will be removed in librosa version 1.0.\n",
            "  y, sr_native = __audioread_load(path, offset, duration, dtype)\n",
            "<ipython-input-91-9fc97857c8b5>:47: UserWarning: PySoundFile failed. Trying audioread instead.\n",
            "  audio , _ =  librosa.load(f\"coughvid_20211012/{row['uuid']}.webm\",sr=16000,mono=True)\n",
            "/usr/local/lib/python3.10/dist-packages/librosa/core/audio.py:184: FutureWarning: librosa.core.audio.__audioread_load\n",
            "\tDeprecated as of librosa version 0.10.0.\n",
            "\tIt will be removed in librosa version 1.0.\n",
            "  y, sr_native = __audioread_load(path, offset, duration, dtype)\n",
            "<ipython-input-91-9fc97857c8b5>:47: UserWarning: PySoundFile failed. Trying audioread instead.\n",
            "  audio , _ =  librosa.load(f\"coughvid_20211012/{row['uuid']}.webm\",sr=16000,mono=True)\n",
            "/usr/local/lib/python3.10/dist-packages/librosa/core/audio.py:184: FutureWarning: librosa.core.audio.__audioread_load\n",
            "\tDeprecated as of librosa version 0.10.0.\n",
            "\tIt will be removed in librosa version 1.0.\n",
            "  y, sr_native = __audioread_load(path, offset, duration, dtype)\n",
            "<ipython-input-91-9fc97857c8b5>:47: UserWarning: PySoundFile failed. Trying audioread instead.\n",
            "  audio , _ =  librosa.load(f\"coughvid_20211012/{row['uuid']}.webm\",sr=16000,mono=True)\n",
            "/usr/local/lib/python3.10/dist-packages/librosa/core/audio.py:184: FutureWarning: librosa.core.audio.__audioread_load\n",
            "\tDeprecated as of librosa version 0.10.0.\n",
            "\tIt will be removed in librosa version 1.0.\n",
            "  y, sr_native = __audioread_load(path, offset, duration, dtype)\n"
          ]
        },
        {
          "output_type": "stream",
          "name": "stdout",
          "text": [
            "834\t File 0648ae90-f159-4ea2-a0b8-ed965d27c72b ACCEPTED\n",
            "835\t File 06490dff-c979-43cf-8b45-2d820874684d REJECTED\n",
            "836\t File 0649d149-658c-4f97-a49d-21427a2cc056 ACCEPTED\n",
            "837\t File 064a270a-b0cf-46b9-bd90-b0fddb73e723 REJECTED\n"
          ]
        },
        {
          "output_type": "stream",
          "name": "stderr",
          "text": [
            "<ipython-input-91-9fc97857c8b5>:47: UserWarning: PySoundFile failed. Trying audioread instead.\n",
            "  audio , _ =  librosa.load(f\"coughvid_20211012/{row['uuid']}.webm\",sr=16000,mono=True)\n",
            "/usr/local/lib/python3.10/dist-packages/librosa/core/audio.py:184: FutureWarning: librosa.core.audio.__audioread_load\n",
            "\tDeprecated as of librosa version 0.10.0.\n",
            "\tIt will be removed in librosa version 1.0.\n",
            "  y, sr_native = __audioread_load(path, offset, duration, dtype)\n",
            "<ipython-input-91-9fc97857c8b5>:47: UserWarning: PySoundFile failed. Trying audioread instead.\n",
            "  audio , _ =  librosa.load(f\"coughvid_20211012/{row['uuid']}.webm\",sr=16000,mono=True)\n",
            "/usr/local/lib/python3.10/dist-packages/librosa/core/audio.py:184: FutureWarning: librosa.core.audio.__audioread_load\n",
            "\tDeprecated as of librosa version 0.10.0.\n",
            "\tIt will be removed in librosa version 1.0.\n",
            "  y, sr_native = __audioread_load(path, offset, duration, dtype)\n"
          ]
        },
        {
          "output_type": "stream",
          "name": "stdout",
          "text": [
            "838\t File 064c7981-0fa2-4a96-9d16-7d13a2b02904 ACCEPTED\n",
            "839\t File 0651b541-90ed-4575-a2d9-9c0b54646df5 ACCEPTED\n",
            "840\t File 0657ef2c-797c-4c05-b68f-7b0203add61e REJECTED\n",
            "841\t File 06586e35-18f4-488d-ab58-2c08f335d056 REJECTED\n",
            "842\t File 065aa2a8-7252-4f50-a50c-a464941c9417 ACCEPTED\n",
            "843\t File 065e20d5-e0fc-4271-a05a-ca52f6e2ac8c REJECTED\n",
            "844\t File 065f241f-6db2-4cbb-9f3e-107230272e10 ACCEPTED\n",
            "845\t File 0662032b-bb9d-40db-ab6e-543f77dc8714 REJECTED\n",
            "846\t File 066310ad-4ff3-48be-80e0-37bb13885ec5 ACCEPTED\n",
            "847\t File 06632a5b-1179-48b1-8607-af2df9db6482 ACCEPTED\n",
            "848\t File 066583c2-d718-41c8-8e9c-9c4b1e0f17df REJECTED\n",
            "849\t File 066cbd80-3e67-4eb9-977b-7bf3be62aa07 REJECTED\n"
          ]
        },
        {
          "output_type": "stream",
          "name": "stderr",
          "text": [
            "<ipython-input-91-9fc97857c8b5>:47: UserWarning: PySoundFile failed. Trying audioread instead.\n",
            "  audio , _ =  librosa.load(f\"coughvid_20211012/{row['uuid']}.webm\",sr=16000,mono=True)\n",
            "/usr/local/lib/python3.10/dist-packages/librosa/core/audio.py:184: FutureWarning: librosa.core.audio.__audioread_load\n",
            "\tDeprecated as of librosa version 0.10.0.\n",
            "\tIt will be removed in librosa version 1.0.\n",
            "  y, sr_native = __audioread_load(path, offset, duration, dtype)\n",
            "<ipython-input-91-9fc97857c8b5>:47: UserWarning: PySoundFile failed. Trying audioread instead.\n",
            "  audio , _ =  librosa.load(f\"coughvid_20211012/{row['uuid']}.webm\",sr=16000,mono=True)\n",
            "/usr/local/lib/python3.10/dist-packages/librosa/core/audio.py:184: FutureWarning: librosa.core.audio.__audioread_load\n",
            "\tDeprecated as of librosa version 0.10.0.\n",
            "\tIt will be removed in librosa version 1.0.\n",
            "  y, sr_native = __audioread_load(path, offset, duration, dtype)\n",
            "<ipython-input-91-9fc97857c8b5>:47: UserWarning: PySoundFile failed. Trying audioread instead.\n",
            "  audio , _ =  librosa.load(f\"coughvid_20211012/{row['uuid']}.webm\",sr=16000,mono=True)\n",
            "/usr/local/lib/python3.10/dist-packages/librosa/core/audio.py:184: FutureWarning: librosa.core.audio.__audioread_load\n",
            "\tDeprecated as of librosa version 0.10.0.\n",
            "\tIt will be removed in librosa version 1.0.\n",
            "  y, sr_native = __audioread_load(path, offset, duration, dtype)\n",
            "<ipython-input-91-9fc97857c8b5>:47: UserWarning: PySoundFile failed. Trying audioread instead.\n",
            "  audio , _ =  librosa.load(f\"coughvid_20211012/{row['uuid']}.webm\",sr=16000,mono=True)\n",
            "/usr/local/lib/python3.10/dist-packages/librosa/core/audio.py:184: FutureWarning: librosa.core.audio.__audioread_load\n",
            "\tDeprecated as of librosa version 0.10.0.\n",
            "\tIt will be removed in librosa version 1.0.\n",
            "  y, sr_native = __audioread_load(path, offset, duration, dtype)\n",
            "<ipython-input-91-9fc97857c8b5>:47: UserWarning: PySoundFile failed. Trying audioread instead.\n",
            "  audio , _ =  librosa.load(f\"coughvid_20211012/{row['uuid']}.webm\",sr=16000,mono=True)\n",
            "/usr/local/lib/python3.10/dist-packages/librosa/core/audio.py:184: FutureWarning: librosa.core.audio.__audioread_load\n",
            "\tDeprecated as of librosa version 0.10.0.\n",
            "\tIt will be removed in librosa version 1.0.\n",
            "  y, sr_native = __audioread_load(path, offset, duration, dtype)\n",
            "<ipython-input-91-9fc97857c8b5>:47: UserWarning: PySoundFile failed. Trying audioread instead.\n",
            "  audio , _ =  librosa.load(f\"coughvid_20211012/{row['uuid']}.webm\",sr=16000,mono=True)\n",
            "/usr/local/lib/python3.10/dist-packages/librosa/core/audio.py:184: FutureWarning: librosa.core.audio.__audioread_load\n",
            "\tDeprecated as of librosa version 0.10.0.\n",
            "\tIt will be removed in librosa version 1.0.\n",
            "  y, sr_native = __audioread_load(path, offset, duration, dtype)\n"
          ]
        },
        {
          "output_type": "stream",
          "name": "stdout",
          "text": [
            "850\t File 06758627-449a-4cad-9d89-0e95ae08a7d8 ACCEPTED\n",
            "851\t File 0677ade4-63b3-4a0f-a51c-26a776e52874 ACCEPTED\n",
            "852\t File 067d3e42-427d-4b57-bc26-783b11c11939 REJECTED\n",
            "853\t File 067d6e15-ac46-4810-b139-38b974b5efaa ACCEPTED\n",
            "854\t File 06849175-9a90-4ec1-bba0-3be9a7fb8576 REJECTED\n",
            "855\t File 0685f966-6594-44ec-803f-d1330a3a8145 REJECTED\n",
            "856\t File 068a0cf4-90fb-4ef7-b286-c60d0924ec66 ACCEPTED\n",
            "857\t File 068caea6-96e8-482d-b53e-9d4d48bae595 REJECTED\n",
            "858\t File 068f9715-623a-45be-a17a-055a9028b4c6 ACCEPTED\n",
            "859\t File 068fe6a8-3918-4f06-81de-123d132bff40 ACCEPTED\n",
            "860\t File 0690312b-cc91-4cb0-8934-cca89cf99bce REJECTED\n",
            "861\t File 0690849b-1de5-44b7-bf7e-f2e5d574f44e REJECTED\n"
          ]
        },
        {
          "output_type": "stream",
          "name": "stderr",
          "text": [
            "<ipython-input-91-9fc97857c8b5>:47: UserWarning: PySoundFile failed. Trying audioread instead.\n",
            "  audio , _ =  librosa.load(f\"coughvid_20211012/{row['uuid']}.webm\",sr=16000,mono=True)\n",
            "/usr/local/lib/python3.10/dist-packages/librosa/core/audio.py:184: FutureWarning: librosa.core.audio.__audioread_load\n",
            "\tDeprecated as of librosa version 0.10.0.\n",
            "\tIt will be removed in librosa version 1.0.\n",
            "  y, sr_native = __audioread_load(path, offset, duration, dtype)\n",
            "<ipython-input-91-9fc97857c8b5>:47: UserWarning: PySoundFile failed. Trying audioread instead.\n",
            "  audio , _ =  librosa.load(f\"coughvid_20211012/{row['uuid']}.webm\",sr=16000,mono=True)\n",
            "/usr/local/lib/python3.10/dist-packages/librosa/core/audio.py:184: FutureWarning: librosa.core.audio.__audioread_load\n",
            "\tDeprecated as of librosa version 0.10.0.\n",
            "\tIt will be removed in librosa version 1.0.\n",
            "  y, sr_native = __audioread_load(path, offset, duration, dtype)\n",
            "<ipython-input-91-9fc97857c8b5>:47: UserWarning: PySoundFile failed. Trying audioread instead.\n",
            "  audio , _ =  librosa.load(f\"coughvid_20211012/{row['uuid']}.webm\",sr=16000,mono=True)\n",
            "/usr/local/lib/python3.10/dist-packages/librosa/core/audio.py:184: FutureWarning: librosa.core.audio.__audioread_load\n",
            "\tDeprecated as of librosa version 0.10.0.\n",
            "\tIt will be removed in librosa version 1.0.\n",
            "  y, sr_native = __audioread_load(path, offset, duration, dtype)\n",
            "<ipython-input-91-9fc97857c8b5>:47: UserWarning: PySoundFile failed. Trying audioread instead.\n",
            "  audio , _ =  librosa.load(f\"coughvid_20211012/{row['uuid']}.webm\",sr=16000,mono=True)\n",
            "/usr/local/lib/python3.10/dist-packages/librosa/core/audio.py:184: FutureWarning: librosa.core.audio.__audioread_load\n",
            "\tDeprecated as of librosa version 0.10.0.\n",
            "\tIt will be removed in librosa version 1.0.\n",
            "  y, sr_native = __audioread_load(path, offset, duration, dtype)\n",
            "<ipython-input-91-9fc97857c8b5>:47: UserWarning: PySoundFile failed. Trying audioread instead.\n",
            "  audio , _ =  librosa.load(f\"coughvid_20211012/{row['uuid']}.webm\",sr=16000,mono=True)\n",
            "/usr/local/lib/python3.10/dist-packages/librosa/core/audio.py:184: FutureWarning: librosa.core.audio.__audioread_load\n",
            "\tDeprecated as of librosa version 0.10.0.\n",
            "\tIt will be removed in librosa version 1.0.\n",
            "  y, sr_native = __audioread_load(path, offset, duration, dtype)\n",
            "<ipython-input-91-9fc97857c8b5>:47: UserWarning: PySoundFile failed. Trying audioread instead.\n",
            "  audio , _ =  librosa.load(f\"coughvid_20211012/{row['uuid']}.webm\",sr=16000,mono=True)\n",
            "/usr/local/lib/python3.10/dist-packages/librosa/core/audio.py:184: FutureWarning: librosa.core.audio.__audioread_load\n",
            "\tDeprecated as of librosa version 0.10.0.\n",
            "\tIt will be removed in librosa version 1.0.\n",
            "  y, sr_native = __audioread_load(path, offset, duration, dtype)\n"
          ]
        },
        {
          "output_type": "stream",
          "name": "stdout",
          "text": [
            "862\t File 069326da-d290-435a-8ba9-01db55fdb2d7 ACCEPTED\n",
            "863\t File 0696a4c7-c31d-4425-aae9-aaaddc932173 ACCEPTED\n"
          ]
        },
        {
          "output_type": "stream",
          "name": "stderr",
          "text": [
            "<ipython-input-91-9fc97857c8b5>:47: UserWarning: PySoundFile failed. Trying audioread instead.\n",
            "  audio , _ =  librosa.load(f\"coughvid_20211012/{row['uuid']}.webm\",sr=16000,mono=True)\n",
            "/usr/local/lib/python3.10/dist-packages/librosa/core/audio.py:184: FutureWarning: librosa.core.audio.__audioread_load\n",
            "\tDeprecated as of librosa version 0.10.0.\n",
            "\tIt will be removed in librosa version 1.0.\n",
            "  y, sr_native = __audioread_load(path, offset, duration, dtype)\n",
            "<ipython-input-91-9fc97857c8b5>:47: UserWarning: PySoundFile failed. Trying audioread instead.\n",
            "  audio , _ =  librosa.load(f\"coughvid_20211012/{row['uuid']}.webm\",sr=16000,mono=True)\n",
            "/usr/local/lib/python3.10/dist-packages/librosa/core/audio.py:184: FutureWarning: librosa.core.audio.__audioread_load\n",
            "\tDeprecated as of librosa version 0.10.0.\n",
            "\tIt will be removed in librosa version 1.0.\n",
            "  y, sr_native = __audioread_load(path, offset, duration, dtype)\n"
          ]
        },
        {
          "output_type": "stream",
          "name": "stdout",
          "text": [
            "864\t File 06993140-c36d-4d03-befe-713c646e3408 ACCEPTED\n",
            "865\t File 069ae431-30e2-46ae-98b9-c2e6183b6356 REJECTED\n",
            "866\t File 069d5228-2e48-4c91-a29a-f419c63ffebd ACCEPTED\n",
            "867\t File 069e1372-e17e-4222-a7b1-b5f1d42c31bb REJECTED\n",
            "868\t File 069e6694-eadb-4864-82fe-532c07d22bc6 ACCEPTED\n",
            "869\t File 06a017b7-3bf9-44d2-be83-42d7761778d1 REJECTED\n",
            "870\t File 06a1387c-bdc8-46f9-b2ec-523d3a12d208 ACCEPTED\n"
          ]
        },
        {
          "output_type": "stream",
          "name": "stderr",
          "text": [
            "<ipython-input-91-9fc97857c8b5>:47: UserWarning: PySoundFile failed. Trying audioread instead.\n",
            "  audio , _ =  librosa.load(f\"coughvid_20211012/{row['uuid']}.webm\",sr=16000,mono=True)\n",
            "/usr/local/lib/python3.10/dist-packages/librosa/core/audio.py:184: FutureWarning: librosa.core.audio.__audioread_load\n",
            "\tDeprecated as of librosa version 0.10.0.\n",
            "\tIt will be removed in librosa version 1.0.\n",
            "  y, sr_native = __audioread_load(path, offset, duration, dtype)\n",
            "<ipython-input-91-9fc97857c8b5>:47: UserWarning: PySoundFile failed. Trying audioread instead.\n",
            "  audio , _ =  librosa.load(f\"coughvid_20211012/{row['uuid']}.webm\",sr=16000,mono=True)\n",
            "/usr/local/lib/python3.10/dist-packages/librosa/core/audio.py:184: FutureWarning: librosa.core.audio.__audioread_load\n",
            "\tDeprecated as of librosa version 0.10.0.\n",
            "\tIt will be removed in librosa version 1.0.\n",
            "  y, sr_native = __audioread_load(path, offset, duration, dtype)\n",
            "<ipython-input-91-9fc97857c8b5>:47: UserWarning: PySoundFile failed. Trying audioread instead.\n",
            "  audio , _ =  librosa.load(f\"coughvid_20211012/{row['uuid']}.webm\",sr=16000,mono=True)\n",
            "/usr/local/lib/python3.10/dist-packages/librosa/core/audio.py:184: FutureWarning: librosa.core.audio.__audioread_load\n",
            "\tDeprecated as of librosa version 0.10.0.\n",
            "\tIt will be removed in librosa version 1.0.\n",
            "  y, sr_native = __audioread_load(path, offset, duration, dtype)\n",
            "<ipython-input-91-9fc97857c8b5>:47: UserWarning: PySoundFile failed. Trying audioread instead.\n",
            "  audio , _ =  librosa.load(f\"coughvid_20211012/{row['uuid']}.webm\",sr=16000,mono=True)\n",
            "/usr/local/lib/python3.10/dist-packages/librosa/core/audio.py:184: FutureWarning: librosa.core.audio.__audioread_load\n",
            "\tDeprecated as of librosa version 0.10.0.\n",
            "\tIt will be removed in librosa version 1.0.\n",
            "  y, sr_native = __audioread_load(path, offset, duration, dtype)\n"
          ]
        },
        {
          "output_type": "stream",
          "name": "stdout",
          "text": [
            "871\t File 06a1aa18-19d2-4717-a4e5-8537c3eccce4 ACCEPTED\n",
            "872\t File 06a3ee3b-05c0-4f77-a669-0cbaffcdbdf0 REJECTED\n",
            "873\t File 06a4e544-d7e6-42b3-b484-9263a00c1030 REJECTED\n",
            "874\t File 06a6d9d3-cdcb-44c1-b006-4470ecc509b0 REJECTED\n",
            "875\t File 06a8ccad-3f53-4665-a418-2713596f0672 REJECTED\n",
            "876\t File 06a944c5-d756-45ca-9e9f-ded9e77fbf6f REJECTED\n"
          ]
        },
        {
          "output_type": "stream",
          "name": "stderr",
          "text": [
            "<ipython-input-91-9fc97857c8b5>:47: UserWarning: PySoundFile failed. Trying audioread instead.\n",
            "  audio , _ =  librosa.load(f\"coughvid_20211012/{row['uuid']}.webm\",sr=16000,mono=True)\n",
            "/usr/local/lib/python3.10/dist-packages/librosa/core/audio.py:184: FutureWarning: librosa.core.audio.__audioread_load\n",
            "\tDeprecated as of librosa version 0.10.0.\n",
            "\tIt will be removed in librosa version 1.0.\n",
            "  y, sr_native = __audioread_load(path, offset, duration, dtype)\n"
          ]
        },
        {
          "output_type": "stream",
          "name": "stdout",
          "text": [
            "877\t File 06ad9cc8-27ff-4d9e-bfec-f88a660d9253 ACCEPTED\n",
            "878\t File 06afeb36-c7d4-434e-8f55-a8844a733901 REJECTED\n"
          ]
        },
        {
          "output_type": "stream",
          "name": "stderr",
          "text": [
            "<ipython-input-91-9fc97857c8b5>:47: UserWarning: PySoundFile failed. Trying audioread instead.\n",
            "  audio , _ =  librosa.load(f\"coughvid_20211012/{row['uuid']}.webm\",sr=16000,mono=True)\n",
            "/usr/local/lib/python3.10/dist-packages/librosa/core/audio.py:184: FutureWarning: librosa.core.audio.__audioread_load\n",
            "\tDeprecated as of librosa version 0.10.0.\n",
            "\tIt will be removed in librosa version 1.0.\n",
            "  y, sr_native = __audioread_load(path, offset, duration, dtype)\n"
          ]
        },
        {
          "output_type": "stream",
          "name": "stdout",
          "text": [
            "879\t File 06b49798-22b7-4570-85b9-1390947ff34d ACCEPTED\n",
            "880\t File 06b55e46-5023-48e6-96c5-434261268ab8 REJECTED\n",
            "881\t File 06b568b5-b9f8-4334-816c-c16009bb5de7 ACCEPTED\n",
            "882\t File 06b56e5a-a581-45e9-a746-de8e94d9d9d6 REJECTED\n"
          ]
        },
        {
          "output_type": "stream",
          "name": "stderr",
          "text": [
            "<ipython-input-91-9fc97857c8b5>:47: UserWarning: PySoundFile failed. Trying audioread instead.\n",
            "  audio , _ =  librosa.load(f\"coughvid_20211012/{row['uuid']}.webm\",sr=16000,mono=True)\n",
            "/usr/local/lib/python3.10/dist-packages/librosa/core/audio.py:184: FutureWarning: librosa.core.audio.__audioread_load\n",
            "\tDeprecated as of librosa version 0.10.0.\n",
            "\tIt will be removed in librosa version 1.0.\n",
            "  y, sr_native = __audioread_load(path, offset, duration, dtype)\n",
            "<ipython-input-91-9fc97857c8b5>:47: UserWarning: PySoundFile failed. Trying audioread instead.\n",
            "  audio , _ =  librosa.load(f\"coughvid_20211012/{row['uuid']}.webm\",sr=16000,mono=True)\n",
            "/usr/local/lib/python3.10/dist-packages/librosa/core/audio.py:184: FutureWarning: librosa.core.audio.__audioread_load\n",
            "\tDeprecated as of librosa version 0.10.0.\n",
            "\tIt will be removed in librosa version 1.0.\n",
            "  y, sr_native = __audioread_load(path, offset, duration, dtype)\n"
          ]
        },
        {
          "output_type": "stream",
          "name": "stdout",
          "text": [
            "883\t File 06b58ff7-42e9-49d8-8b56-dd82e7b18ace ACCEPTED\n",
            "884\t File 06bd337a-55ad-4a92-ae44-f8c2856cc4d1 REJECTED\n",
            "885\t File 06be6999-caeb-41b7-ae84-83064cdf8575 REJECTED\n",
            "886\t File 06c38629-33f6-4567-9764-e3f5847663dc REJECTED\n",
            "887\t File 06c3acd2-d6e2-4e80-a3d5-9ea2b819b541 REJECTED\n",
            "888\t File 06c494d0-1772-434f-9f6f-ea4a9ed735d3 REJECTED\n"
          ]
        },
        {
          "output_type": "stream",
          "name": "stderr",
          "text": [
            "<ipython-input-91-9fc97857c8b5>:47: UserWarning: PySoundFile failed. Trying audioread instead.\n",
            "  audio , _ =  librosa.load(f\"coughvid_20211012/{row['uuid']}.webm\",sr=16000,mono=True)\n",
            "/usr/local/lib/python3.10/dist-packages/librosa/core/audio.py:184: FutureWarning: librosa.core.audio.__audioread_load\n",
            "\tDeprecated as of librosa version 0.10.0.\n",
            "\tIt will be removed in librosa version 1.0.\n",
            "  y, sr_native = __audioread_load(path, offset, duration, dtype)\n"
          ]
        },
        {
          "output_type": "stream",
          "name": "stdout",
          "text": [
            "889\t File 06c4f102-237b-4ae6-8f79-8f2f2bfe4856 ACCEPTED\n",
            "890\t File 06cb0167-f7f3-41d8-9f4d-b9d98f38a251 REJECTED\n",
            "891\t File 06cbe68d-8daa-49f9-8b53-0f1515f11b91 REJECTED\n",
            "892\t File 06d6157c-78e5-48ed-b30e-346dd90e2fa9 REJECTED\n",
            "893\t File 06d775c2-628a-4184-ba65-b0c8b05893b2 REJECTED\n",
            "894\t File 06dd5b7a-0d94-48a6-ba9b-e7617aa7da13 REJECTED\n"
          ]
        },
        {
          "output_type": "stream",
          "name": "stderr",
          "text": [
            "<ipython-input-91-9fc97857c8b5>:47: UserWarning: PySoundFile failed. Trying audioread instead.\n",
            "  audio , _ =  librosa.load(f\"coughvid_20211012/{row['uuid']}.webm\",sr=16000,mono=True)\n",
            "/usr/local/lib/python3.10/dist-packages/librosa/core/audio.py:184: FutureWarning: librosa.core.audio.__audioread_load\n",
            "\tDeprecated as of librosa version 0.10.0.\n",
            "\tIt will be removed in librosa version 1.0.\n",
            "  y, sr_native = __audioread_load(path, offset, duration, dtype)\n"
          ]
        },
        {
          "output_type": "stream",
          "name": "stdout",
          "text": [
            "895\t File 06de9bc2-cdfa-4585-a947-e84d0b62f512 ACCEPTED\n",
            "896\t File 06e003e0-fe47-4712-bb14-23ba989b9f85 REJECTED\n",
            "897\t File 06e04bfb-244c-4522-8cec-c68654b6a614 ACCEPTED\n",
            "898\t File 06e19cfa-165a-4e45-9180-dceefbe94db8 REJECTED\n",
            "899\t File 06e1d8e6-482a-4311-85fe-b87b5feb03d2 REJECTED\n"
          ]
        },
        {
          "output_type": "stream",
          "name": "stderr",
          "text": [
            "<ipython-input-91-9fc97857c8b5>:47: UserWarning: PySoundFile failed. Trying audioread instead.\n",
            "  audio , _ =  librosa.load(f\"coughvid_20211012/{row['uuid']}.webm\",sr=16000,mono=True)\n",
            "/usr/local/lib/python3.10/dist-packages/librosa/core/audio.py:184: FutureWarning: librosa.core.audio.__audioread_load\n",
            "\tDeprecated as of librosa version 0.10.0.\n",
            "\tIt will be removed in librosa version 1.0.\n",
            "  y, sr_native = __audioread_load(path, offset, duration, dtype)\n",
            "<ipython-input-91-9fc97857c8b5>:47: UserWarning: PySoundFile failed. Trying audioread instead.\n",
            "  audio , _ =  librosa.load(f\"coughvid_20211012/{row['uuid']}.webm\",sr=16000,mono=True)\n",
            "/usr/local/lib/python3.10/dist-packages/librosa/core/audio.py:184: FutureWarning: librosa.core.audio.__audioread_load\n",
            "\tDeprecated as of librosa version 0.10.0.\n",
            "\tIt will be removed in librosa version 1.0.\n",
            "  y, sr_native = __audioread_load(path, offset, duration, dtype)\n"
          ]
        },
        {
          "output_type": "stream",
          "name": "stdout",
          "text": [
            "900\t File 06e39517-d17d-47f0-a8bc-dc6bc8b8813c ACCEPTED\n",
            "901\t File 06e44691-c282-41a4-8216-b32b052ed69e REJECTED\n"
          ]
        },
        {
          "output_type": "stream",
          "name": "stderr",
          "text": [
            "<ipython-input-91-9fc97857c8b5>:47: UserWarning: PySoundFile failed. Trying audioread instead.\n",
            "  audio , _ =  librosa.load(f\"coughvid_20211012/{row['uuid']}.webm\",sr=16000,mono=True)\n",
            "/usr/local/lib/python3.10/dist-packages/librosa/core/audio.py:184: FutureWarning: librosa.core.audio.__audioread_load\n",
            "\tDeprecated as of librosa version 0.10.0.\n",
            "\tIt will be removed in librosa version 1.0.\n",
            "  y, sr_native = __audioread_load(path, offset, duration, dtype)\n"
          ]
        },
        {
          "output_type": "stream",
          "name": "stdout",
          "text": [
            "902\t File 06e70376-02ca-4abb-bb56-58d987176d08 ACCEPTED\n"
          ]
        },
        {
          "output_type": "stream",
          "name": "stderr",
          "text": [
            "<ipython-input-91-9fc97857c8b5>:47: UserWarning: PySoundFile failed. Trying audioread instead.\n",
            "  audio , _ =  librosa.load(f\"coughvid_20211012/{row['uuid']}.webm\",sr=16000,mono=True)\n",
            "/usr/local/lib/python3.10/dist-packages/librosa/core/audio.py:184: FutureWarning: librosa.core.audio.__audioread_load\n",
            "\tDeprecated as of librosa version 0.10.0.\n",
            "\tIt will be removed in librosa version 1.0.\n",
            "  y, sr_native = __audioread_load(path, offset, duration, dtype)\n"
          ]
        },
        {
          "output_type": "stream",
          "name": "stdout",
          "text": [
            "903\t File 06e80bb5-d35b-4251-8631-03c35c7f3ce3 ACCEPTED\n"
          ]
        },
        {
          "output_type": "stream",
          "name": "stderr",
          "text": [
            "<ipython-input-91-9fc97857c8b5>:47: UserWarning: PySoundFile failed. Trying audioread instead.\n",
            "  audio , _ =  librosa.load(f\"coughvid_20211012/{row['uuid']}.webm\",sr=16000,mono=True)\n",
            "/usr/local/lib/python3.10/dist-packages/librosa/core/audio.py:184: FutureWarning: librosa.core.audio.__audioread_load\n",
            "\tDeprecated as of librosa version 0.10.0.\n",
            "\tIt will be removed in librosa version 1.0.\n",
            "  y, sr_native = __audioread_load(path, offset, duration, dtype)\n"
          ]
        },
        {
          "output_type": "stream",
          "name": "stdout",
          "text": [
            "904\t File 06e9197b-9b40-4bde-bde8-9e78242a60ac ACCEPTED\n",
            "905\t File 06e989e7-b76d-4a36-8c5c-c59ef0d9d663 ACCEPTED\n",
            "906\t File 06f20af8-689b-4d6e-83e8-485834a32acc REJECTED\n",
            "907\t File 06f254fc-c2c3-416c-a8cd-c714518c2a39 REJECTED\n",
            "908\t File 06f45cd2-eb04-430b-ad65-0f7e2f8695ec ACCEPTED\n",
            "909\t File 06f4913f-6eaf-4521-9c3e-a8ff4fdf4133 REJECTED\n"
          ]
        },
        {
          "output_type": "stream",
          "name": "stderr",
          "text": [
            "<ipython-input-91-9fc97857c8b5>:47: UserWarning: PySoundFile failed. Trying audioread instead.\n",
            "  audio , _ =  librosa.load(f\"coughvid_20211012/{row['uuid']}.webm\",sr=16000,mono=True)\n",
            "/usr/local/lib/python3.10/dist-packages/librosa/core/audio.py:184: FutureWarning: librosa.core.audio.__audioread_load\n",
            "\tDeprecated as of librosa version 0.10.0.\n",
            "\tIt will be removed in librosa version 1.0.\n",
            "  y, sr_native = __audioread_load(path, offset, duration, dtype)\n",
            "<ipython-input-91-9fc97857c8b5>:47: UserWarning: PySoundFile failed. Trying audioread instead.\n",
            "  audio , _ =  librosa.load(f\"coughvid_20211012/{row['uuid']}.webm\",sr=16000,mono=True)\n",
            "/usr/local/lib/python3.10/dist-packages/librosa/core/audio.py:184: FutureWarning: librosa.core.audio.__audioread_load\n",
            "\tDeprecated as of librosa version 0.10.0.\n",
            "\tIt will be removed in librosa version 1.0.\n",
            "  y, sr_native = __audioread_load(path, offset, duration, dtype)\n",
            "<ipython-input-91-9fc97857c8b5>:47: UserWarning: PySoundFile failed. Trying audioread instead.\n",
            "  audio , _ =  librosa.load(f\"coughvid_20211012/{row['uuid']}.webm\",sr=16000,mono=True)\n",
            "/usr/local/lib/python3.10/dist-packages/librosa/core/audio.py:184: FutureWarning: librosa.core.audio.__audioread_load\n",
            "\tDeprecated as of librosa version 0.10.0.\n",
            "\tIt will be removed in librosa version 1.0.\n",
            "  y, sr_native = __audioread_load(path, offset, duration, dtype)\n"
          ]
        },
        {
          "output_type": "stream",
          "name": "stdout",
          "text": [
            "910\t File 06f5496f-6134-4f24-becc-1ba5b8059086 ACCEPTED\n",
            "911\t File 06f6d0c7-fa3e-4a0d-8119-1b633812589e REJECTED\n"
          ]
        },
        {
          "output_type": "stream",
          "name": "stderr",
          "text": [
            "<ipython-input-91-9fc97857c8b5>:47: UserWarning: PySoundFile failed. Trying audioread instead.\n",
            "  audio , _ =  librosa.load(f\"coughvid_20211012/{row['uuid']}.webm\",sr=16000,mono=True)\n",
            "/usr/local/lib/python3.10/dist-packages/librosa/core/audio.py:184: FutureWarning: librosa.core.audio.__audioread_load\n",
            "\tDeprecated as of librosa version 0.10.0.\n",
            "\tIt will be removed in librosa version 1.0.\n",
            "  y, sr_native = __audioread_load(path, offset, duration, dtype)\n"
          ]
        },
        {
          "output_type": "stream",
          "name": "stdout",
          "text": [
            "912\t File 06f6fa1d-6ff1-47b3-b6d5-203256a93c17 ACCEPTED\n",
            "913\t File 06f98cf6-69ec-415c-baa9-016349efdb25 REJECTED\n",
            "914\t File 06fb4eb4-3f97-4e95-9ba7-0a436dffc7cf REJECTED\n",
            "915\t File 06fbfb8f-164c-4c97-a626-0b7d56543751 ACCEPTED\n"
          ]
        },
        {
          "output_type": "stream",
          "name": "stderr",
          "text": [
            "<ipython-input-91-9fc97857c8b5>:47: UserWarning: PySoundFile failed. Trying audioread instead.\n",
            "  audio , _ =  librosa.load(f\"coughvid_20211012/{row['uuid']}.webm\",sr=16000,mono=True)\n",
            "/usr/local/lib/python3.10/dist-packages/librosa/core/audio.py:184: FutureWarning: librosa.core.audio.__audioread_load\n",
            "\tDeprecated as of librosa version 0.10.0.\n",
            "\tIt will be removed in librosa version 1.0.\n",
            "  y, sr_native = __audioread_load(path, offset, duration, dtype)\n",
            "<ipython-input-91-9fc97857c8b5>:47: UserWarning: PySoundFile failed. Trying audioread instead.\n",
            "  audio , _ =  librosa.load(f\"coughvid_20211012/{row['uuid']}.webm\",sr=16000,mono=True)\n",
            "/usr/local/lib/python3.10/dist-packages/librosa/core/audio.py:184: FutureWarning: librosa.core.audio.__audioread_load\n",
            "\tDeprecated as of librosa version 0.10.0.\n",
            "\tIt will be removed in librosa version 1.0.\n",
            "  y, sr_native = __audioread_load(path, offset, duration, dtype)\n"
          ]
        },
        {
          "output_type": "stream",
          "name": "stdout",
          "text": [
            "916\t File 06ff33f5-6b37-4f83-8fb4-1aec88d8d460 ACCEPTED\n"
          ]
        },
        {
          "output_type": "stream",
          "name": "stderr",
          "text": [
            "<ipython-input-91-9fc97857c8b5>:47: UserWarning: PySoundFile failed. Trying audioread instead.\n",
            "  audio , _ =  librosa.load(f\"coughvid_20211012/{row['uuid']}.webm\",sr=16000,mono=True)\n",
            "/usr/local/lib/python3.10/dist-packages/librosa/core/audio.py:184: FutureWarning: librosa.core.audio.__audioread_load\n",
            "\tDeprecated as of librosa version 0.10.0.\n",
            "\tIt will be removed in librosa version 1.0.\n",
            "  y, sr_native = __audioread_load(path, offset, duration, dtype)\n"
          ]
        },
        {
          "output_type": "stream",
          "name": "stdout",
          "text": [
            "917\t File 07002f60-5d29-43e2-9ecc-7b324ee344c6 ACCEPTED\n",
            "918\t File 07079805-0f2a-4ff0-b16f-0bdecac81b2d REJECTED\n",
            "919\t File 07088239-9c6e-4e69-9d7e-6d01c6e1f20c REJECTED\n"
          ]
        },
        {
          "output_type": "stream",
          "name": "stderr",
          "text": [
            "<ipython-input-91-9fc97857c8b5>:47: UserWarning: PySoundFile failed. Trying audioread instead.\n",
            "  audio , _ =  librosa.load(f\"coughvid_20211012/{row['uuid']}.webm\",sr=16000,mono=True)\n",
            "/usr/local/lib/python3.10/dist-packages/librosa/core/audio.py:184: FutureWarning: librosa.core.audio.__audioread_load\n",
            "\tDeprecated as of librosa version 0.10.0.\n",
            "\tIt will be removed in librosa version 1.0.\n",
            "  y, sr_native = __audioread_load(path, offset, duration, dtype)\n"
          ]
        },
        {
          "output_type": "stream",
          "name": "stdout",
          "text": [
            "920\t File 070a72d5-5de2-4188-8a5a-3876b32f3afc ACCEPTED\n"
          ]
        },
        {
          "output_type": "stream",
          "name": "stderr",
          "text": [
            "<ipython-input-91-9fc97857c8b5>:47: UserWarning: PySoundFile failed. Trying audioread instead.\n",
            "  audio , _ =  librosa.load(f\"coughvid_20211012/{row['uuid']}.webm\",sr=16000,mono=True)\n",
            "/usr/local/lib/python3.10/dist-packages/librosa/core/audio.py:184: FutureWarning: librosa.core.audio.__audioread_load\n",
            "\tDeprecated as of librosa version 0.10.0.\n",
            "\tIt will be removed in librosa version 1.0.\n",
            "  y, sr_native = __audioread_load(path, offset, duration, dtype)\n"
          ]
        },
        {
          "output_type": "stream",
          "name": "stdout",
          "text": [
            "921\t File 070b0e1c-bd43-489b-8a59-a4893497effd ACCEPTED\n",
            "922\t File 070b4c08-88e7-4a9d-9462-3d26fe792c2a REJECTED\n",
            "923\t File 070ea964-aa40-4c01-a101-be6032d49869 ACCEPTED\n",
            "924\t File 070f44d5-294d-403f-a6f0-dcacf91807b4 REJECTED\n",
            "925\t File 07106861-91e6-44f1-a1c1-a31213170942 ACCEPTED\n",
            "926\t File 0714739b-8d92-4f45-bd8b-22e19ed9e72a ACCEPTED\n",
            "927\t File 07155b87-4529-4237-808a-2648e9e94b7a REJECTED\n",
            "928\t File 071572b1-e5bb-4fc4-a10d-4e81bb1339f2 ACCEPTED\n",
            "929\t File 07180406-2080-4a7e-9164-8c8f6a7a053a REJECTED\n",
            "930\t File 07181f58-c37d-49ea-b0a8-efba0cb7b24d REJECTED\n",
            "931\t File 0718a0db-2728-402c-8b89-c8669e37aa8f ACCEPTED\n",
            "932\t File 0719412c-8d8c-439d-9f89-cc21409594c1 REJECTED\n",
            "933\t File 071bce7a-2bbe-4077-bbe0-62a377807169 ACCEPTED\n",
            "934\t File 071da517-8148-4a3a-9d49-fbb22938741c ACCEPTED\n",
            "935\t File 0722c6a9-56f1-4411-a2a6-68a89acd785a REJECTED\n",
            "936\t File 072a5281-e989-42ca-81e1-e22edb839fb5 REJECTED\n",
            "937\t File 072da4ff-d899-429a-a719-a7f8ebff9647 ACCEPTED\n",
            "938\t File 072fdfd5-9418-4db4-88e5-8a574b40d51e ACCEPTED\n",
            "939\t File 0733f882-d7fd-4dc5-a1b0-8aeec64fc112 ACCEPTED\n",
            "940\t File 073543e2-8675-415d-bbb8-d63a4bfc9128 REJECTED\n",
            "941\t File 07356956-3d7c-43b9-8973-39f830a4f3d3 REJECTED\n",
            "942\t File 0738b0e2-cce6-419d-a3e2-dec2fe5f6149 ACCEPTED\n",
            "943\t File 07397e2f-b124-469f-8179-2d90c60d5fc4 REJECTED\n",
            "944\t File 0739e54f-d530-48a7-ba35-3fa3c0e4dd1f ACCEPTED\n"
          ]
        },
        {
          "output_type": "stream",
          "name": "stderr",
          "text": [
            "<ipython-input-91-9fc97857c8b5>:47: UserWarning: PySoundFile failed. Trying audioread instead.\n",
            "  audio , _ =  librosa.load(f\"coughvid_20211012/{row['uuid']}.webm\",sr=16000,mono=True)\n",
            "/usr/local/lib/python3.10/dist-packages/librosa/core/audio.py:184: FutureWarning: librosa.core.audio.__audioread_load\n",
            "\tDeprecated as of librosa version 0.10.0.\n",
            "\tIt will be removed in librosa version 1.0.\n",
            "  y, sr_native = __audioread_load(path, offset, duration, dtype)\n",
            "<ipython-input-91-9fc97857c8b5>:47: UserWarning: PySoundFile failed. Trying audioread instead.\n",
            "  audio , _ =  librosa.load(f\"coughvid_20211012/{row['uuid']}.webm\",sr=16000,mono=True)\n",
            "/usr/local/lib/python3.10/dist-packages/librosa/core/audio.py:184: FutureWarning: librosa.core.audio.__audioread_load\n",
            "\tDeprecated as of librosa version 0.10.0.\n",
            "\tIt will be removed in librosa version 1.0.\n",
            "  y, sr_native = __audioread_load(path, offset, duration, dtype)\n",
            "<ipython-input-91-9fc97857c8b5>:47: UserWarning: PySoundFile failed. Trying audioread instead.\n",
            "  audio , _ =  librosa.load(f\"coughvid_20211012/{row['uuid']}.webm\",sr=16000,mono=True)\n",
            "/usr/local/lib/python3.10/dist-packages/librosa/core/audio.py:184: FutureWarning: librosa.core.audio.__audioread_load\n",
            "\tDeprecated as of librosa version 0.10.0.\n",
            "\tIt will be removed in librosa version 1.0.\n",
            "  y, sr_native = __audioread_load(path, offset, duration, dtype)\n",
            "<ipython-input-91-9fc97857c8b5>:47: UserWarning: PySoundFile failed. Trying audioread instead.\n",
            "  audio , _ =  librosa.load(f\"coughvid_20211012/{row['uuid']}.webm\",sr=16000,mono=True)\n",
            "/usr/local/lib/python3.10/dist-packages/librosa/core/audio.py:184: FutureWarning: librosa.core.audio.__audioread_load\n",
            "\tDeprecated as of librosa version 0.10.0.\n",
            "\tIt will be removed in librosa version 1.0.\n",
            "  y, sr_native = __audioread_load(path, offset, duration, dtype)\n",
            "<ipython-input-91-9fc97857c8b5>:47: UserWarning: PySoundFile failed. Trying audioread instead.\n",
            "  audio , _ =  librosa.load(f\"coughvid_20211012/{row['uuid']}.webm\",sr=16000,mono=True)\n",
            "/usr/local/lib/python3.10/dist-packages/librosa/core/audio.py:184: FutureWarning: librosa.core.audio.__audioread_load\n",
            "\tDeprecated as of librosa version 0.10.0.\n",
            "\tIt will be removed in librosa version 1.0.\n",
            "  y, sr_native = __audioread_load(path, offset, duration, dtype)\n",
            "<ipython-input-91-9fc97857c8b5>:47: UserWarning: PySoundFile failed. Trying audioread instead.\n",
            "  audio , _ =  librosa.load(f\"coughvid_20211012/{row['uuid']}.webm\",sr=16000,mono=True)\n",
            "/usr/local/lib/python3.10/dist-packages/librosa/core/audio.py:184: FutureWarning: librosa.core.audio.__audioread_load\n",
            "\tDeprecated as of librosa version 0.10.0.\n",
            "\tIt will be removed in librosa version 1.0.\n",
            "  y, sr_native = __audioread_load(path, offset, duration, dtype)\n",
            "<ipython-input-91-9fc97857c8b5>:47: UserWarning: PySoundFile failed. Trying audioread instead.\n",
            "  audio , _ =  librosa.load(f\"coughvid_20211012/{row['uuid']}.webm\",sr=16000,mono=True)\n",
            "/usr/local/lib/python3.10/dist-packages/librosa/core/audio.py:184: FutureWarning: librosa.core.audio.__audioread_load\n",
            "\tDeprecated as of librosa version 0.10.0.\n",
            "\tIt will be removed in librosa version 1.0.\n",
            "  y, sr_native = __audioread_load(path, offset, duration, dtype)\n",
            "<ipython-input-91-9fc97857c8b5>:47: UserWarning: PySoundFile failed. Trying audioread instead.\n",
            "  audio , _ =  librosa.load(f\"coughvid_20211012/{row['uuid']}.webm\",sr=16000,mono=True)\n",
            "/usr/local/lib/python3.10/dist-packages/librosa/core/audio.py:184: FutureWarning: librosa.core.audio.__audioread_load\n",
            "\tDeprecated as of librosa version 0.10.0.\n",
            "\tIt will be removed in librosa version 1.0.\n",
            "  y, sr_native = __audioread_load(path, offset, duration, dtype)\n",
            "<ipython-input-91-9fc97857c8b5>:47: UserWarning: PySoundFile failed. Trying audioread instead.\n",
            "  audio , _ =  librosa.load(f\"coughvid_20211012/{row['uuid']}.webm\",sr=16000,mono=True)\n",
            "/usr/local/lib/python3.10/dist-packages/librosa/core/audio.py:184: FutureWarning: librosa.core.audio.__audioread_load\n",
            "\tDeprecated as of librosa version 0.10.0.\n",
            "\tIt will be removed in librosa version 1.0.\n",
            "  y, sr_native = __audioread_load(path, offset, duration, dtype)\n",
            "<ipython-input-91-9fc97857c8b5>:47: UserWarning: PySoundFile failed. Trying audioread instead.\n",
            "  audio , _ =  librosa.load(f\"coughvid_20211012/{row['uuid']}.webm\",sr=16000,mono=True)\n",
            "/usr/local/lib/python3.10/dist-packages/librosa/core/audio.py:184: FutureWarning: librosa.core.audio.__audioread_load\n",
            "\tDeprecated as of librosa version 0.10.0.\n",
            "\tIt will be removed in librosa version 1.0.\n",
            "  y, sr_native = __audioread_load(path, offset, duration, dtype)\n",
            "<ipython-input-91-9fc97857c8b5>:47: UserWarning: PySoundFile failed. Trying audioread instead.\n",
            "  audio , _ =  librosa.load(f\"coughvid_20211012/{row['uuid']}.webm\",sr=16000,mono=True)\n",
            "/usr/local/lib/python3.10/dist-packages/librosa/core/audio.py:184: FutureWarning: librosa.core.audio.__audioread_load\n",
            "\tDeprecated as of librosa version 0.10.0.\n",
            "\tIt will be removed in librosa version 1.0.\n",
            "  y, sr_native = __audioread_load(path, offset, duration, dtype)\n",
            "<ipython-input-91-9fc97857c8b5>:47: UserWarning: PySoundFile failed. Trying audioread instead.\n",
            "  audio , _ =  librosa.load(f\"coughvid_20211012/{row['uuid']}.webm\",sr=16000,mono=True)\n",
            "/usr/local/lib/python3.10/dist-packages/librosa/core/audio.py:184: FutureWarning: librosa.core.audio.__audioread_load\n",
            "\tDeprecated as of librosa version 0.10.0.\n",
            "\tIt will be removed in librosa version 1.0.\n",
            "  y, sr_native = __audioread_load(path, offset, duration, dtype)\n",
            "<ipython-input-91-9fc97857c8b5>:47: UserWarning: PySoundFile failed. Trying audioread instead.\n",
            "  audio , _ =  librosa.load(f\"coughvid_20211012/{row['uuid']}.webm\",sr=16000,mono=True)\n",
            "/usr/local/lib/python3.10/dist-packages/librosa/core/audio.py:184: FutureWarning: librosa.core.audio.__audioread_load\n",
            "\tDeprecated as of librosa version 0.10.0.\n",
            "\tIt will be removed in librosa version 1.0.\n",
            "  y, sr_native = __audioread_load(path, offset, duration, dtype)\n"
          ]
        },
        {
          "output_type": "stream",
          "name": "stdout",
          "text": [
            "945\t File 073df77f-c717-42d6-9b29-d9a863456432 ACCEPTED\n",
            "946\t File 073f7002-813c-4e33-995c-6c9e18e727d0 REJECTED\n",
            "947\t File 073fc0fc-91f9-421d-8c1d-df57619f1437 REJECTED\n",
            "948\t File 0741b646-894f-41fa-a1dd-fe0e100fc9eb REJECTED\n",
            "949\t File 0741cb7a-e069-469b-b13e-ea2dc6580c1c ACCEPTED\n"
          ]
        },
        {
          "output_type": "stream",
          "name": "stderr",
          "text": [
            "<ipython-input-91-9fc97857c8b5>:47: UserWarning: PySoundFile failed. Trying audioread instead.\n",
            "  audio , _ =  librosa.load(f\"coughvid_20211012/{row['uuid']}.webm\",sr=16000,mono=True)\n",
            "/usr/local/lib/python3.10/dist-packages/librosa/core/audio.py:184: FutureWarning: librosa.core.audio.__audioread_load\n",
            "\tDeprecated as of librosa version 0.10.0.\n",
            "\tIt will be removed in librosa version 1.0.\n",
            "  y, sr_native = __audioread_load(path, offset, duration, dtype)\n",
            "<ipython-input-91-9fc97857c8b5>:47: UserWarning: PySoundFile failed. Trying audioread instead.\n",
            "  audio , _ =  librosa.load(f\"coughvid_20211012/{row['uuid']}.webm\",sr=16000,mono=True)\n",
            "/usr/local/lib/python3.10/dist-packages/librosa/core/audio.py:184: FutureWarning: librosa.core.audio.__audioread_load\n",
            "\tDeprecated as of librosa version 0.10.0.\n",
            "\tIt will be removed in librosa version 1.0.\n",
            "  y, sr_native = __audioread_load(path, offset, duration, dtype)\n"
          ]
        },
        {
          "output_type": "stream",
          "name": "stdout",
          "text": [
            "950\t File 07440dae-62f1-4379-932a-078e888844c6 ACCEPTED\n",
            "951\t File 0744becc-affd-449a-aa2a-274ed1f096c4 ACCEPTED\n"
          ]
        },
        {
          "output_type": "stream",
          "name": "stderr",
          "text": [
            "<ipython-input-91-9fc97857c8b5>:47: UserWarning: PySoundFile failed. Trying audioread instead.\n",
            "  audio , _ =  librosa.load(f\"coughvid_20211012/{row['uuid']}.webm\",sr=16000,mono=True)\n",
            "/usr/local/lib/python3.10/dist-packages/librosa/core/audio.py:184: FutureWarning: librosa.core.audio.__audioread_load\n",
            "\tDeprecated as of librosa version 0.10.0.\n",
            "\tIt will be removed in librosa version 1.0.\n",
            "  y, sr_native = __audioread_load(path, offset, duration, dtype)\n",
            "<ipython-input-91-9fc97857c8b5>:47: UserWarning: PySoundFile failed. Trying audioread instead.\n",
            "  audio , _ =  librosa.load(f\"coughvid_20211012/{row['uuid']}.webm\",sr=16000,mono=True)\n",
            "/usr/local/lib/python3.10/dist-packages/librosa/core/audio.py:184: FutureWarning: librosa.core.audio.__audioread_load\n",
            "\tDeprecated as of librosa version 0.10.0.\n",
            "\tIt will be removed in librosa version 1.0.\n",
            "  y, sr_native = __audioread_load(path, offset, duration, dtype)\n"
          ]
        },
        {
          "output_type": "stream",
          "name": "stdout",
          "text": [
            "952\t File 0745a6ed-bcab-49eb-9d2a-17819c2bf9b8 ACCEPTED\n",
            "953\t File 0749e308-0d31-4e99-bf24-ec0022c5332a REJECTED\n",
            "954\t File 074a6d0d-626a-49b4-8e42-81e2c0f30595 REJECTED\n",
            "955\t File 074c47fe-3eb4-48da-99b0-e58d3c631add ACCEPTED\n",
            "956\t File 0750786a-538d-48c2-9db1-ada9e2ea1fdd ACCEPTED\n"
          ]
        },
        {
          "output_type": "stream",
          "name": "stderr",
          "text": [
            "<ipython-input-91-9fc97857c8b5>:47: UserWarning: PySoundFile failed. Trying audioread instead.\n",
            "  audio , _ =  librosa.load(f\"coughvid_20211012/{row['uuid']}.webm\",sr=16000,mono=True)\n",
            "/usr/local/lib/python3.10/dist-packages/librosa/core/audio.py:184: FutureWarning: librosa.core.audio.__audioread_load\n",
            "\tDeprecated as of librosa version 0.10.0.\n",
            "\tIt will be removed in librosa version 1.0.\n",
            "  y, sr_native = __audioread_load(path, offset, duration, dtype)\n",
            "<ipython-input-91-9fc97857c8b5>:47: UserWarning: PySoundFile failed. Trying audioread instead.\n",
            "  audio , _ =  librosa.load(f\"coughvid_20211012/{row['uuid']}.webm\",sr=16000,mono=True)\n",
            "/usr/local/lib/python3.10/dist-packages/librosa/core/audio.py:184: FutureWarning: librosa.core.audio.__audioread_load\n",
            "\tDeprecated as of librosa version 0.10.0.\n",
            "\tIt will be removed in librosa version 1.0.\n",
            "  y, sr_native = __audioread_load(path, offset, duration, dtype)\n",
            "<ipython-input-91-9fc97857c8b5>:47: UserWarning: PySoundFile failed. Trying audioread instead.\n",
            "  audio , _ =  librosa.load(f\"coughvid_20211012/{row['uuid']}.webm\",sr=16000,mono=True)\n",
            "/usr/local/lib/python3.10/dist-packages/librosa/core/audio.py:184: FutureWarning: librosa.core.audio.__audioread_load\n",
            "\tDeprecated as of librosa version 0.10.0.\n",
            "\tIt will be removed in librosa version 1.0.\n",
            "  y, sr_native = __audioread_load(path, offset, duration, dtype)\n"
          ]
        },
        {
          "output_type": "stream",
          "name": "stdout",
          "text": [
            "957\t File 0755730a-3c52-4eeb-a66c-baeb83187827 ACCEPTED\n",
            "958\t File 0757b02b-8544-4fdc-b634-9e5b72f7a1e7 ACCEPTED\n",
            "959\t File 0758f54f-ba9d-4ac2-b4bd-8466ca65905c REJECTED\n"
          ]
        },
        {
          "output_type": "stream",
          "name": "stderr",
          "text": [
            "<ipython-input-91-9fc97857c8b5>:47: UserWarning: PySoundFile failed. Trying audioread instead.\n",
            "  audio , _ =  librosa.load(f\"coughvid_20211012/{row['uuid']}.webm\",sr=16000,mono=True)\n",
            "/usr/local/lib/python3.10/dist-packages/librosa/core/audio.py:184: FutureWarning: librosa.core.audio.__audioread_load\n",
            "\tDeprecated as of librosa version 0.10.0.\n",
            "\tIt will be removed in librosa version 1.0.\n",
            "  y, sr_native = __audioread_load(path, offset, duration, dtype)\n",
            "<ipython-input-91-9fc97857c8b5>:47: UserWarning: PySoundFile failed. Trying audioread instead.\n",
            "  audio , _ =  librosa.load(f\"coughvid_20211012/{row['uuid']}.webm\",sr=16000,mono=True)\n",
            "/usr/local/lib/python3.10/dist-packages/librosa/core/audio.py:184: FutureWarning: librosa.core.audio.__audioread_load\n",
            "\tDeprecated as of librosa version 0.10.0.\n",
            "\tIt will be removed in librosa version 1.0.\n",
            "  y, sr_native = __audioread_load(path, offset, duration, dtype)\n"
          ]
        },
        {
          "output_type": "stream",
          "name": "stdout",
          "text": [
            "960\t File 075bc6b3-8011-4cfe-a866-6d3b5e95f8e2 ACCEPTED\n",
            "961\t File 075c2fc3-7c84-442b-b138-3345db4f31fd ACCEPTED\n"
          ]
        },
        {
          "output_type": "stream",
          "name": "stderr",
          "text": [
            "<ipython-input-91-9fc97857c8b5>:47: UserWarning: PySoundFile failed. Trying audioread instead.\n",
            "  audio , _ =  librosa.load(f\"coughvid_20211012/{row['uuid']}.webm\",sr=16000,mono=True)\n",
            "/usr/local/lib/python3.10/dist-packages/librosa/core/audio.py:184: FutureWarning: librosa.core.audio.__audioread_load\n",
            "\tDeprecated as of librosa version 0.10.0.\n",
            "\tIt will be removed in librosa version 1.0.\n",
            "  y, sr_native = __audioread_load(path, offset, duration, dtype)\n",
            "<ipython-input-91-9fc97857c8b5>:47: UserWarning: PySoundFile failed. Trying audioread instead.\n",
            "  audio , _ =  librosa.load(f\"coughvid_20211012/{row['uuid']}.webm\",sr=16000,mono=True)\n",
            "/usr/local/lib/python3.10/dist-packages/librosa/core/audio.py:184: FutureWarning: librosa.core.audio.__audioread_load\n",
            "\tDeprecated as of librosa version 0.10.0.\n",
            "\tIt will be removed in librosa version 1.0.\n",
            "  y, sr_native = __audioread_load(path, offset, duration, dtype)\n"
          ]
        },
        {
          "output_type": "stream",
          "name": "stdout",
          "text": [
            "962\t File 075cdb5a-5c29-4266-84ea-c44963bd0454 ACCEPTED\n",
            "963\t File 075eb140-d61d-4a3f-9fce-4b2559e0a4b5 ACCEPTED\n"
          ]
        },
        {
          "output_type": "stream",
          "name": "stderr",
          "text": [
            "<ipython-input-91-9fc97857c8b5>:47: UserWarning: PySoundFile failed. Trying audioread instead.\n",
            "  audio , _ =  librosa.load(f\"coughvid_20211012/{row['uuid']}.webm\",sr=16000,mono=True)\n",
            "/usr/local/lib/python3.10/dist-packages/librosa/core/audio.py:184: FutureWarning: librosa.core.audio.__audioread_load\n",
            "\tDeprecated as of librosa version 0.10.0.\n",
            "\tIt will be removed in librosa version 1.0.\n",
            "  y, sr_native = __audioread_load(path, offset, duration, dtype)\n",
            "<ipython-input-91-9fc97857c8b5>:47: UserWarning: PySoundFile failed. Trying audioread instead.\n",
            "  audio , _ =  librosa.load(f\"coughvid_20211012/{row['uuid']}.webm\",sr=16000,mono=True)\n",
            "/usr/local/lib/python3.10/dist-packages/librosa/core/audio.py:184: FutureWarning: librosa.core.audio.__audioread_load\n",
            "\tDeprecated as of librosa version 0.10.0.\n",
            "\tIt will be removed in librosa version 1.0.\n",
            "  y, sr_native = __audioread_load(path, offset, duration, dtype)\n"
          ]
        },
        {
          "output_type": "stream",
          "name": "stdout",
          "text": [
            "964\t File 07605d5e-6800-4f1c-83de-0cab036d59bd ACCEPTED\n",
            "965\t File 0762a05c-1356-4058-af32-ed09fc495f84 REJECTED\n",
            "966\t File 0762cd0a-5ce6-4b1b-9374-5d4396c218ed ACCEPTED\n",
            "967\t File 0767b8f8-5719-464b-b181-27ecf8684cab ACCEPTED\n",
            "968\t File 076976aa-90d0-47fb-a855-b433210e1943 REJECTED\n"
          ]
        },
        {
          "output_type": "stream",
          "name": "stderr",
          "text": [
            "<ipython-input-91-9fc97857c8b5>:47: UserWarning: PySoundFile failed. Trying audioread instead.\n",
            "  audio , _ =  librosa.load(f\"coughvid_20211012/{row['uuid']}.webm\",sr=16000,mono=True)\n",
            "/usr/local/lib/python3.10/dist-packages/librosa/core/audio.py:184: FutureWarning: librosa.core.audio.__audioread_load\n",
            "\tDeprecated as of librosa version 0.10.0.\n",
            "\tIt will be removed in librosa version 1.0.\n",
            "  y, sr_native = __audioread_load(path, offset, duration, dtype)\n",
            "<ipython-input-91-9fc97857c8b5>:47: UserWarning: PySoundFile failed. Trying audioread instead.\n",
            "  audio , _ =  librosa.load(f\"coughvid_20211012/{row['uuid']}.webm\",sr=16000,mono=True)\n",
            "/usr/local/lib/python3.10/dist-packages/librosa/core/audio.py:184: FutureWarning: librosa.core.audio.__audioread_load\n",
            "\tDeprecated as of librosa version 0.10.0.\n",
            "\tIt will be removed in librosa version 1.0.\n",
            "  y, sr_native = __audioread_load(path, offset, duration, dtype)\n",
            "<ipython-input-91-9fc97857c8b5>:47: UserWarning: PySoundFile failed. Trying audioread instead.\n",
            "  audio , _ =  librosa.load(f\"coughvid_20211012/{row['uuid']}.webm\",sr=16000,mono=True)\n",
            "/usr/local/lib/python3.10/dist-packages/librosa/core/audio.py:184: FutureWarning: librosa.core.audio.__audioread_load\n",
            "\tDeprecated as of librosa version 0.10.0.\n",
            "\tIt will be removed in librosa version 1.0.\n",
            "  y, sr_native = __audioread_load(path, offset, duration, dtype)\n"
          ]
        },
        {
          "output_type": "stream",
          "name": "stdout",
          "text": [
            "969\t File 076b4f38-d326-4688-b0bb-6cf542b3aa61 ACCEPTED\n",
            "970\t File 076be268-7b95-4ea4-96f8-479e36a37578 ACCEPTED\n",
            "971\t File 076f59de-0637-4ee1-951c-f2e0784e8a53 REJECTED\n"
          ]
        },
        {
          "output_type": "stream",
          "name": "stderr",
          "text": [
            "<ipython-input-91-9fc97857c8b5>:47: UserWarning: PySoundFile failed. Trying audioread instead.\n",
            "  audio , _ =  librosa.load(f\"coughvid_20211012/{row['uuid']}.webm\",sr=16000,mono=True)\n",
            "/usr/local/lib/python3.10/dist-packages/librosa/core/audio.py:184: FutureWarning: librosa.core.audio.__audioread_load\n",
            "\tDeprecated as of librosa version 0.10.0.\n",
            "\tIt will be removed in librosa version 1.0.\n",
            "  y, sr_native = __audioread_load(path, offset, duration, dtype)\n",
            "<ipython-input-91-9fc97857c8b5>:47: UserWarning: PySoundFile failed. Trying audioread instead.\n",
            "  audio , _ =  librosa.load(f\"coughvid_20211012/{row['uuid']}.webm\",sr=16000,mono=True)\n",
            "/usr/local/lib/python3.10/dist-packages/librosa/core/audio.py:184: FutureWarning: librosa.core.audio.__audioread_load\n",
            "\tDeprecated as of librosa version 0.10.0.\n",
            "\tIt will be removed in librosa version 1.0.\n",
            "  y, sr_native = __audioread_load(path, offset, duration, dtype)\n"
          ]
        },
        {
          "output_type": "stream",
          "name": "stdout",
          "text": [
            "972\t File 07725e13-714a-43b7-816c-c29ec6e6d300 ACCEPTED\n",
            "973\t File 0777b7a2-40c4-4e67-ad23-9828e33e5ccf REJECTED\n",
            "974\t File 077ccf6a-f8c4-4b13-9752-7a6126638c81 ACCEPTED\n",
            "975\t File 077edc1c-7f85-41a3-941a-cac380f9243a ACCEPTED\n",
            "976\t File 07805392-7307-4c93-b4e0-ac98b3a1237f REJECTED\n",
            "977\t File 07809b76-1f10-424e-853b-cbf4756a8ba2 ACCEPTED\n",
            "978\t File 0781ff8a-3b0f-451b-920c-dd43328d56d4 REJECTED\n"
          ]
        },
        {
          "output_type": "stream",
          "name": "stderr",
          "text": [
            "<ipython-input-91-9fc97857c8b5>:47: UserWarning: PySoundFile failed. Trying audioread instead.\n",
            "  audio , _ =  librosa.load(f\"coughvid_20211012/{row['uuid']}.webm\",sr=16000,mono=True)\n",
            "/usr/local/lib/python3.10/dist-packages/librosa/core/audio.py:184: FutureWarning: librosa.core.audio.__audioread_load\n",
            "\tDeprecated as of librosa version 0.10.0.\n",
            "\tIt will be removed in librosa version 1.0.\n",
            "  y, sr_native = __audioread_load(path, offset, duration, dtype)\n",
            "<ipython-input-91-9fc97857c8b5>:47: UserWarning: PySoundFile failed. Trying audioread instead.\n",
            "  audio , _ =  librosa.load(f\"coughvid_20211012/{row['uuid']}.webm\",sr=16000,mono=True)\n",
            "/usr/local/lib/python3.10/dist-packages/librosa/core/audio.py:184: FutureWarning: librosa.core.audio.__audioread_load\n",
            "\tDeprecated as of librosa version 0.10.0.\n",
            "\tIt will be removed in librosa version 1.0.\n",
            "  y, sr_native = __audioread_load(path, offset, duration, dtype)\n",
            "<ipython-input-91-9fc97857c8b5>:47: UserWarning: PySoundFile failed. Trying audioread instead.\n",
            "  audio , _ =  librosa.load(f\"coughvid_20211012/{row['uuid']}.webm\",sr=16000,mono=True)\n",
            "/usr/local/lib/python3.10/dist-packages/librosa/core/audio.py:184: FutureWarning: librosa.core.audio.__audioread_load\n",
            "\tDeprecated as of librosa version 0.10.0.\n",
            "\tIt will be removed in librosa version 1.0.\n",
            "  y, sr_native = __audioread_load(path, offset, duration, dtype)\n",
            "<ipython-input-91-9fc97857c8b5>:47: UserWarning: PySoundFile failed. Trying audioread instead.\n",
            "  audio , _ =  librosa.load(f\"coughvid_20211012/{row['uuid']}.webm\",sr=16000,mono=True)\n",
            "/usr/local/lib/python3.10/dist-packages/librosa/core/audio.py:184: FutureWarning: librosa.core.audio.__audioread_load\n",
            "\tDeprecated as of librosa version 0.10.0.\n",
            "\tIt will be removed in librosa version 1.0.\n",
            "  y, sr_native = __audioread_load(path, offset, duration, dtype)\n"
          ]
        },
        {
          "output_type": "stream",
          "name": "stdout",
          "text": [
            "979\t File 07834bca-28e3-4227-8c7d-0801da0fe907 ACCEPTED\n",
            "980\t File 0784be62-03af-4305-a527-0461fe084306 REJECTED\n",
            "981\t File 07856135-3e9a-4695-94c6-d015b295fc47 ACCEPTED\n"
          ]
        },
        {
          "output_type": "stream",
          "name": "stderr",
          "text": [
            "<ipython-input-91-9fc97857c8b5>:47: UserWarning: PySoundFile failed. Trying audioread instead.\n",
            "  audio , _ =  librosa.load(f\"coughvid_20211012/{row['uuid']}.webm\",sr=16000,mono=True)\n",
            "/usr/local/lib/python3.10/dist-packages/librosa/core/audio.py:184: FutureWarning: librosa.core.audio.__audioread_load\n",
            "\tDeprecated as of librosa version 0.10.0.\n",
            "\tIt will be removed in librosa version 1.0.\n",
            "  y, sr_native = __audioread_load(path, offset, duration, dtype)\n",
            "<ipython-input-91-9fc97857c8b5>:47: UserWarning: PySoundFile failed. Trying audioread instead.\n",
            "  audio , _ =  librosa.load(f\"coughvid_20211012/{row['uuid']}.webm\",sr=16000,mono=True)\n",
            "/usr/local/lib/python3.10/dist-packages/librosa/core/audio.py:184: FutureWarning: librosa.core.audio.__audioread_load\n",
            "\tDeprecated as of librosa version 0.10.0.\n",
            "\tIt will be removed in librosa version 1.0.\n",
            "  y, sr_native = __audioread_load(path, offset, duration, dtype)\n"
          ]
        },
        {
          "output_type": "stream",
          "name": "stdout",
          "text": [
            "982\t File 07897418-6288-44f7-badd-a7d18d11f160 ACCEPTED\n",
            "983\t File 078c3b81-af35-4d56-aa72-4c2174b5e44b REJECTED\n",
            "984\t File 078cd942-977e-47c2-8038-ae0af9d9d28a REJECTED\n",
            "985\t File 078e7a82-f99f-40d1-b4f7-3e983ba1184d REJECTED\n",
            "986\t File 078e7b5d-4c60-451a-b5a5-ff90ca220aba REJECTED\n",
            "987\t File 0792759a-37b5-414a-a1e6-f34aa944e28f REJECTED\n",
            "988\t File 0797f05b-5b4b-4c63-8834-9ebaba94a0dd REJECTED\n",
            "989\t File 07a11431-18b8-4b58-9a4c-8187f0584cd4 REJECTED\n",
            "990\t File 07a762da-332e-41a9-8374-136552397b04 REJECTED\n",
            "991\t File 07a7a81c-dda7-4b5c-8175-c20580dda9b9 ACCEPTED\n",
            "992\t File 07a9abb6-4f52-49c5-8f65-b569e15d2894 REJECTED\n"
          ]
        },
        {
          "output_type": "stream",
          "name": "stderr",
          "text": [
            "<ipython-input-91-9fc97857c8b5>:47: UserWarning: PySoundFile failed. Trying audioread instead.\n",
            "  audio , _ =  librosa.load(f\"coughvid_20211012/{row['uuid']}.webm\",sr=16000,mono=True)\n",
            "/usr/local/lib/python3.10/dist-packages/librosa/core/audio.py:184: FutureWarning: librosa.core.audio.__audioread_load\n",
            "\tDeprecated as of librosa version 0.10.0.\n",
            "\tIt will be removed in librosa version 1.0.\n",
            "  y, sr_native = __audioread_load(path, offset, duration, dtype)\n",
            "<ipython-input-91-9fc97857c8b5>:47: UserWarning: PySoundFile failed. Trying audioread instead.\n",
            "  audio , _ =  librosa.load(f\"coughvid_20211012/{row['uuid']}.webm\",sr=16000,mono=True)\n",
            "/usr/local/lib/python3.10/dist-packages/librosa/core/audio.py:184: FutureWarning: librosa.core.audio.__audioread_load\n",
            "\tDeprecated as of librosa version 0.10.0.\n",
            "\tIt will be removed in librosa version 1.0.\n",
            "  y, sr_native = __audioread_load(path, offset, duration, dtype)\n"
          ]
        },
        {
          "output_type": "stream",
          "name": "stdout",
          "text": [
            "993\t File 07aa5fe5-abd1-4ec2-8653-e39cde4eff8f ACCEPTED\n",
            "994\t File 07ab08e5-1fdc-43c7-8b71-9a53346e8a96 ACCEPTED\n",
            "995\t File 07aca471-23b8-42f0-9ca7-aeb1a7e57dab REJECTED\n"
          ]
        },
        {
          "output_type": "stream",
          "name": "stderr",
          "text": [
            "<ipython-input-91-9fc97857c8b5>:47: UserWarning: PySoundFile failed. Trying audioread instead.\n",
            "  audio , _ =  librosa.load(f\"coughvid_20211012/{row['uuid']}.webm\",sr=16000,mono=True)\n",
            "/usr/local/lib/python3.10/dist-packages/librosa/core/audio.py:184: FutureWarning: librosa.core.audio.__audioread_load\n",
            "\tDeprecated as of librosa version 0.10.0.\n",
            "\tIt will be removed in librosa version 1.0.\n",
            "  y, sr_native = __audioread_load(path, offset, duration, dtype)\n",
            "<ipython-input-91-9fc97857c8b5>:47: UserWarning: PySoundFile failed. Trying audioread instead.\n",
            "  audio , _ =  librosa.load(f\"coughvid_20211012/{row['uuid']}.webm\",sr=16000,mono=True)\n",
            "/usr/local/lib/python3.10/dist-packages/librosa/core/audio.py:184: FutureWarning: librosa.core.audio.__audioread_load\n",
            "\tDeprecated as of librosa version 0.10.0.\n",
            "\tIt will be removed in librosa version 1.0.\n",
            "  y, sr_native = __audioread_load(path, offset, duration, dtype)\n"
          ]
        },
        {
          "output_type": "stream",
          "name": "stdout",
          "text": [
            "996\t File 07ad7c07-1eaa-49de-be52-601d08f1adf1 ACCEPTED\n",
            "997\t File 07ad99ec-8e29-4cb4-9193-7c87d8b7a26d ACCEPTED\n",
            "998\t File 07afc022-3ccd-4123-a2aa-fbc3b110e763 REJECTED\n"
          ]
        },
        {
          "output_type": "stream",
          "name": "stderr",
          "text": [
            "<ipython-input-91-9fc97857c8b5>:47: UserWarning: PySoundFile failed. Trying audioread instead.\n",
            "  audio , _ =  librosa.load(f\"coughvid_20211012/{row['uuid']}.webm\",sr=16000,mono=True)\n",
            "/usr/local/lib/python3.10/dist-packages/librosa/core/audio.py:184: FutureWarning: librosa.core.audio.__audioread_load\n",
            "\tDeprecated as of librosa version 0.10.0.\n",
            "\tIt will be removed in librosa version 1.0.\n",
            "  y, sr_native = __audioread_load(path, offset, duration, dtype)\n",
            "<ipython-input-91-9fc97857c8b5>:47: UserWarning: PySoundFile failed. Trying audioread instead.\n",
            "  audio , _ =  librosa.load(f\"coughvid_20211012/{row['uuid']}.webm\",sr=16000,mono=True)\n",
            "/usr/local/lib/python3.10/dist-packages/librosa/core/audio.py:184: FutureWarning: librosa.core.audio.__audioread_load\n",
            "\tDeprecated as of librosa version 0.10.0.\n",
            "\tIt will be removed in librosa version 1.0.\n",
            "  y, sr_native = __audioread_load(path, offset, duration, dtype)\n"
          ]
        },
        {
          "output_type": "stream",
          "name": "stdout",
          "text": [
            "999\t File 07b0beea-f37a-4131-8a7e-6dcbe182e7f3 ACCEPTED\n",
            "1000\t File 07b12dc7-a138-458a-b1df-d321600ff929 ACCEPTED\n"
          ]
        },
        {
          "output_type": "stream",
          "name": "stderr",
          "text": [
            "<ipython-input-91-9fc97857c8b5>:47: UserWarning: PySoundFile failed. Trying audioread instead.\n",
            "  audio , _ =  librosa.load(f\"coughvid_20211012/{row['uuid']}.webm\",sr=16000,mono=True)\n",
            "/usr/local/lib/python3.10/dist-packages/librosa/core/audio.py:184: FutureWarning: librosa.core.audio.__audioread_load\n",
            "\tDeprecated as of librosa version 0.10.0.\n",
            "\tIt will be removed in librosa version 1.0.\n",
            "  y, sr_native = __audioread_load(path, offset, duration, dtype)\n",
            "<ipython-input-91-9fc97857c8b5>:47: UserWarning: PySoundFile failed. Trying audioread instead.\n",
            "  audio , _ =  librosa.load(f\"coughvid_20211012/{row['uuid']}.webm\",sr=16000,mono=True)\n",
            "/usr/local/lib/python3.10/dist-packages/librosa/core/audio.py:184: FutureWarning: librosa.core.audio.__audioread_load\n",
            "\tDeprecated as of librosa version 0.10.0.\n",
            "\tIt will be removed in librosa version 1.0.\n",
            "  y, sr_native = __audioread_load(path, offset, duration, dtype)\n"
          ]
        },
        {
          "output_type": "stream",
          "name": "stdout",
          "text": [
            "1001\t File 07b6b60a-8d1b-468c-ae0c-c87f3d3b2bf5 ACCEPTED\n",
            "1002\t File 07b94a4a-aa63-41ae-ae98-d2e16108e286 REJECTED\n",
            "1003\t File 07bbae9a-d98a-45dc-85ae-97c41e0f14bf ACCEPTED\n",
            "1004\t File 07bc3bc4-82c3-470c-9906-6b22875910a3 ACCEPTED\n",
            "1005\t File 07bd3353-49b4-4bf7-8bbd-c2c891f5a0f2 REJECTED\n",
            "1006\t File 07bf75a2-081a-403d-a831-68b9065ed1bd ACCEPTED\n",
            "1007\t File 07c0e340-a181-40df-b9a7-636861501658 REJECTED\n",
            "1008\t File 07c0ecc4-5fb3-4d37-b522-dcdbc04f8975 ACCEPTED\n",
            "1009\t File 07c16495-d19c-47ad-ba39-d2e24f31d6e4 ACCEPTED\n",
            "1010\t File 07c16ae1-79cf-4a3f-aa12-4396f0bca506 ACCEPTED\n",
            "1011\t File 07c2becb-f533-460e-9d43-8bbce332a9c3 REJECTED\n"
          ]
        },
        {
          "output_type": "stream",
          "name": "stderr",
          "text": [
            "<ipython-input-91-9fc97857c8b5>:47: UserWarning: PySoundFile failed. Trying audioread instead.\n",
            "  audio , _ =  librosa.load(f\"coughvid_20211012/{row['uuid']}.webm\",sr=16000,mono=True)\n",
            "/usr/local/lib/python3.10/dist-packages/librosa/core/audio.py:184: FutureWarning: librosa.core.audio.__audioread_load\n",
            "\tDeprecated as of librosa version 0.10.0.\n",
            "\tIt will be removed in librosa version 1.0.\n",
            "  y, sr_native = __audioread_load(path, offset, duration, dtype)\n",
            "<ipython-input-91-9fc97857c8b5>:47: UserWarning: PySoundFile failed. Trying audioread instead.\n",
            "  audio , _ =  librosa.load(f\"coughvid_20211012/{row['uuid']}.webm\",sr=16000,mono=True)\n",
            "/usr/local/lib/python3.10/dist-packages/librosa/core/audio.py:184: FutureWarning: librosa.core.audio.__audioread_load\n",
            "\tDeprecated as of librosa version 0.10.0.\n",
            "\tIt will be removed in librosa version 1.0.\n",
            "  y, sr_native = __audioread_load(path, offset, duration, dtype)\n",
            "<ipython-input-91-9fc97857c8b5>:47: UserWarning: PySoundFile failed. Trying audioread instead.\n",
            "  audio , _ =  librosa.load(f\"coughvid_20211012/{row['uuid']}.webm\",sr=16000,mono=True)\n",
            "/usr/local/lib/python3.10/dist-packages/librosa/core/audio.py:184: FutureWarning: librosa.core.audio.__audioread_load\n",
            "\tDeprecated as of librosa version 0.10.0.\n",
            "\tIt will be removed in librosa version 1.0.\n",
            "  y, sr_native = __audioread_load(path, offset, duration, dtype)\n",
            "<ipython-input-91-9fc97857c8b5>:47: UserWarning: PySoundFile failed. Trying audioread instead.\n",
            "  audio , _ =  librosa.load(f\"coughvid_20211012/{row['uuid']}.webm\",sr=16000,mono=True)\n",
            "/usr/local/lib/python3.10/dist-packages/librosa/core/audio.py:184: FutureWarning: librosa.core.audio.__audioread_load\n",
            "\tDeprecated as of librosa version 0.10.0.\n",
            "\tIt will be removed in librosa version 1.0.\n",
            "  y, sr_native = __audioread_load(path, offset, duration, dtype)\n",
            "<ipython-input-91-9fc97857c8b5>:47: UserWarning: PySoundFile failed. Trying audioread instead.\n",
            "  audio , _ =  librosa.load(f\"coughvid_20211012/{row['uuid']}.webm\",sr=16000,mono=True)\n",
            "/usr/local/lib/python3.10/dist-packages/librosa/core/audio.py:184: FutureWarning: librosa.core.audio.__audioread_load\n",
            "\tDeprecated as of librosa version 0.10.0.\n",
            "\tIt will be removed in librosa version 1.0.\n",
            "  y, sr_native = __audioread_load(path, offset, duration, dtype)\n",
            "<ipython-input-91-9fc97857c8b5>:47: UserWarning: PySoundFile failed. Trying audioread instead.\n",
            "  audio , _ =  librosa.load(f\"coughvid_20211012/{row['uuid']}.webm\",sr=16000,mono=True)\n",
            "/usr/local/lib/python3.10/dist-packages/librosa/core/audio.py:184: FutureWarning: librosa.core.audio.__audioread_load\n",
            "\tDeprecated as of librosa version 0.10.0.\n",
            "\tIt will be removed in librosa version 1.0.\n",
            "  y, sr_native = __audioread_load(path, offset, duration, dtype)\n",
            "<ipython-input-91-9fc97857c8b5>:47: UserWarning: PySoundFile failed. Trying audioread instead.\n",
            "  audio , _ =  librosa.load(f\"coughvid_20211012/{row['uuid']}.webm\",sr=16000,mono=True)\n",
            "/usr/local/lib/python3.10/dist-packages/librosa/core/audio.py:184: FutureWarning: librosa.core.audio.__audioread_load\n",
            "\tDeprecated as of librosa version 0.10.0.\n",
            "\tIt will be removed in librosa version 1.0.\n",
            "  y, sr_native = __audioread_load(path, offset, duration, dtype)\n"
          ]
        },
        {
          "output_type": "stream",
          "name": "stdout",
          "text": [
            "1012\t File 07c69d0b-5cbf-4f19-a2dd-083757b4c944 ACCEPTED\n",
            "1013\t File 07c91673-7815-4a45-b926-47f260fc44ef ACCEPTED\n",
            "1014\t File 07ca29c3-6f49-4071-ac73-60c2ff5a1954 ACCEPTED\n",
            "1015\t File 07cb3302-bc17-4377-a8e8-006da7b2a059 REJECTED\n",
            "1016\t File 07cc6177-40df-4ef1-b11d-26b13e622473 REJECTED\n",
            "1017\t File 07d08674-978e-45e5-8b76-c96961656880 REJECTED\n"
          ]
        },
        {
          "output_type": "stream",
          "name": "stderr",
          "text": [
            "<ipython-input-91-9fc97857c8b5>:47: UserWarning: PySoundFile failed. Trying audioread instead.\n",
            "  audio , _ =  librosa.load(f\"coughvid_20211012/{row['uuid']}.webm\",sr=16000,mono=True)\n",
            "/usr/local/lib/python3.10/dist-packages/librosa/core/audio.py:184: FutureWarning: librosa.core.audio.__audioread_load\n",
            "\tDeprecated as of librosa version 0.10.0.\n",
            "\tIt will be removed in librosa version 1.0.\n",
            "  y, sr_native = __audioread_load(path, offset, duration, dtype)\n",
            "<ipython-input-91-9fc97857c8b5>:47: UserWarning: PySoundFile failed. Trying audioread instead.\n",
            "  audio , _ =  librosa.load(f\"coughvid_20211012/{row['uuid']}.webm\",sr=16000,mono=True)\n",
            "/usr/local/lib/python3.10/dist-packages/librosa/core/audio.py:184: FutureWarning: librosa.core.audio.__audioread_load\n",
            "\tDeprecated as of librosa version 0.10.0.\n",
            "\tIt will be removed in librosa version 1.0.\n",
            "  y, sr_native = __audioread_load(path, offset, duration, dtype)\n",
            "<ipython-input-91-9fc97857c8b5>:47: UserWarning: PySoundFile failed. Trying audioread instead.\n",
            "  audio , _ =  librosa.load(f\"coughvid_20211012/{row['uuid']}.webm\",sr=16000,mono=True)\n",
            "/usr/local/lib/python3.10/dist-packages/librosa/core/audio.py:184: FutureWarning: librosa.core.audio.__audioread_load\n",
            "\tDeprecated as of librosa version 0.10.0.\n",
            "\tIt will be removed in librosa version 1.0.\n",
            "  y, sr_native = __audioread_load(path, offset, duration, dtype)\n"
          ]
        },
        {
          "output_type": "stream",
          "name": "stdout",
          "text": [
            "1018\t File 07d0c622-560c-4f1a-9117-e702f5227026 ACCEPTED\n",
            "1019\t File 07d6710e-7280-48d7-8a2d-54ce9fdc33bd ACCEPTED\n",
            "1020\t File 07d7219d-9308-42ae-a1fc-800c497efd27 REJECTED\n",
            "1021\t File 07d9be20-2b83-4c7c-9210-7cb02b690bed REJECTED\n"
          ]
        },
        {
          "output_type": "stream",
          "name": "stderr",
          "text": [
            "<ipython-input-91-9fc97857c8b5>:47: UserWarning: PySoundFile failed. Trying audioread instead.\n",
            "  audio , _ =  librosa.load(f\"coughvid_20211012/{row['uuid']}.webm\",sr=16000,mono=True)\n",
            "/usr/local/lib/python3.10/dist-packages/librosa/core/audio.py:184: FutureWarning: librosa.core.audio.__audioread_load\n",
            "\tDeprecated as of librosa version 0.10.0.\n",
            "\tIt will be removed in librosa version 1.0.\n",
            "  y, sr_native = __audioread_load(path, offset, duration, dtype)\n",
            "<ipython-input-91-9fc97857c8b5>:47: UserWarning: PySoundFile failed. Trying audioread instead.\n",
            "  audio , _ =  librosa.load(f\"coughvid_20211012/{row['uuid']}.webm\",sr=16000,mono=True)\n",
            "/usr/local/lib/python3.10/dist-packages/librosa/core/audio.py:184: FutureWarning: librosa.core.audio.__audioread_load\n",
            "\tDeprecated as of librosa version 0.10.0.\n",
            "\tIt will be removed in librosa version 1.0.\n",
            "  y, sr_native = __audioread_load(path, offset, duration, dtype)\n"
          ]
        },
        {
          "output_type": "stream",
          "name": "stdout",
          "text": [
            "1022\t File 07da44f9-24a3-49c6-8006-9142bad88a5b ACCEPTED\n",
            "1023\t File 07dc8748-2498-4e20-b322-03cae7dc306e REJECTED\n",
            "1024\t File 07df9613-e8e2-49c1-8e67-00f4baef27e7 REJECTED\n",
            "1025\t File 07e02fee-791d-497a-970b-f9fdc6f857e9 ACCEPTED\n",
            "1026\t File 07e0a829-aefd-4087-aefa-92d98c29e102 REJECTED\n",
            "1027\t File 07e0f037-e745-499c-8d24-df7a4ac4caae REJECTED\n",
            "1028\t File 07e2ab52-5dc3-456e-a89c-5761c5d74e6a REJECTED\n",
            "1029\t File 07e2f7e1-8e9b-4962-8701-fbe1224de7ef ACCEPTED\n"
          ]
        },
        {
          "output_type": "stream",
          "name": "stderr",
          "text": [
            "<ipython-input-91-9fc97857c8b5>:47: UserWarning: PySoundFile failed. Trying audioread instead.\n",
            "  audio , _ =  librosa.load(f\"coughvid_20211012/{row['uuid']}.webm\",sr=16000,mono=True)\n",
            "/usr/local/lib/python3.10/dist-packages/librosa/core/audio.py:184: FutureWarning: librosa.core.audio.__audioread_load\n",
            "\tDeprecated as of librosa version 0.10.0.\n",
            "\tIt will be removed in librosa version 1.0.\n",
            "  y, sr_native = __audioread_load(path, offset, duration, dtype)\n",
            "<ipython-input-91-9fc97857c8b5>:47: UserWarning: PySoundFile failed. Trying audioread instead.\n",
            "  audio , _ =  librosa.load(f\"coughvid_20211012/{row['uuid']}.webm\",sr=16000,mono=True)\n",
            "/usr/local/lib/python3.10/dist-packages/librosa/core/audio.py:184: FutureWarning: librosa.core.audio.__audioread_load\n",
            "\tDeprecated as of librosa version 0.10.0.\n",
            "\tIt will be removed in librosa version 1.0.\n",
            "  y, sr_native = __audioread_load(path, offset, duration, dtype)\n",
            "<ipython-input-91-9fc97857c8b5>:47: UserWarning: PySoundFile failed. Trying audioread instead.\n",
            "  audio , _ =  librosa.load(f\"coughvid_20211012/{row['uuid']}.webm\",sr=16000,mono=True)\n",
            "/usr/local/lib/python3.10/dist-packages/librosa/core/audio.py:184: FutureWarning: librosa.core.audio.__audioread_load\n",
            "\tDeprecated as of librosa version 0.10.0.\n",
            "\tIt will be removed in librosa version 1.0.\n",
            "  y, sr_native = __audioread_load(path, offset, duration, dtype)\n"
          ]
        },
        {
          "output_type": "stream",
          "name": "stdout",
          "text": [
            "1030\t File 07e33d6b-560d-4c16-8d7e-ecd5ddb3b195 ACCEPTED\n",
            "1031\t File 07e3ad35-6c0c-4aa3-83a0-f525ce50d41d ACCEPTED\n"
          ]
        },
        {
          "output_type": "stream",
          "name": "stderr",
          "text": [
            "<ipython-input-91-9fc97857c8b5>:47: UserWarning: PySoundFile failed. Trying audioread instead.\n",
            "  audio , _ =  librosa.load(f\"coughvid_20211012/{row['uuid']}.webm\",sr=16000,mono=True)\n",
            "/usr/local/lib/python3.10/dist-packages/librosa/core/audio.py:184: FutureWarning: librosa.core.audio.__audioread_load\n",
            "\tDeprecated as of librosa version 0.10.0.\n",
            "\tIt will be removed in librosa version 1.0.\n",
            "  y, sr_native = __audioread_load(path, offset, duration, dtype)\n",
            "<ipython-input-91-9fc97857c8b5>:47: UserWarning: PySoundFile failed. Trying audioread instead.\n",
            "  audio , _ =  librosa.load(f\"coughvid_20211012/{row['uuid']}.webm\",sr=16000,mono=True)\n",
            "/usr/local/lib/python3.10/dist-packages/librosa/core/audio.py:184: FutureWarning: librosa.core.audio.__audioread_load\n",
            "\tDeprecated as of librosa version 0.10.0.\n",
            "\tIt will be removed in librosa version 1.0.\n",
            "  y, sr_native = __audioread_load(path, offset, duration, dtype)\n"
          ]
        },
        {
          "output_type": "stream",
          "name": "stdout",
          "text": [
            "1032\t File 07e46718-3a9a-437c-b511-13167a2c9f1a ACCEPTED\n",
            "1033\t File 07e5e50e-200b-4280-a8f7-8736a24d5a9f REJECTED\n",
            "1034\t File 07e9842a-3e2a-4005-a7a6-24bb2c0d6763 ACCEPTED\n"
          ]
        },
        {
          "output_type": "stream",
          "name": "stderr",
          "text": [
            "<ipython-input-91-9fc97857c8b5>:47: UserWarning: PySoundFile failed. Trying audioread instead.\n",
            "  audio , _ =  librosa.load(f\"coughvid_20211012/{row['uuid']}.webm\",sr=16000,mono=True)\n",
            "/usr/local/lib/python3.10/dist-packages/librosa/core/audio.py:184: FutureWarning: librosa.core.audio.__audioread_load\n",
            "\tDeprecated as of librosa version 0.10.0.\n",
            "\tIt will be removed in librosa version 1.0.\n",
            "  y, sr_native = __audioread_load(path, offset, duration, dtype)\n",
            "<ipython-input-91-9fc97857c8b5>:47: UserWarning: PySoundFile failed. Trying audioread instead.\n",
            "  audio , _ =  librosa.load(f\"coughvid_20211012/{row['uuid']}.webm\",sr=16000,mono=True)\n",
            "/usr/local/lib/python3.10/dist-packages/librosa/core/audio.py:184: FutureWarning: librosa.core.audio.__audioread_load\n",
            "\tDeprecated as of librosa version 0.10.0.\n",
            "\tIt will be removed in librosa version 1.0.\n",
            "  y, sr_native = __audioread_load(path, offset, duration, dtype)\n"
          ]
        },
        {
          "output_type": "stream",
          "name": "stdout",
          "text": [
            "1035\t File 07ea47fd-d89a-4ff9-9697-e848e0c7c8c6 ACCEPTED\n",
            "1036\t File 07eaad4b-d65e-439d-b146-6eb28aa6585a ACCEPTED\n",
            "1037\t File 07eae492-1111-4602-b806-6a6d936d1981 REJECTED\n"
          ]
        },
        {
          "output_type": "stream",
          "name": "stderr",
          "text": [
            "<ipython-input-91-9fc97857c8b5>:47: UserWarning: PySoundFile failed. Trying audioread instead.\n",
            "  audio , _ =  librosa.load(f\"coughvid_20211012/{row['uuid']}.webm\",sr=16000,mono=True)\n",
            "/usr/local/lib/python3.10/dist-packages/librosa/core/audio.py:184: FutureWarning: librosa.core.audio.__audioread_load\n",
            "\tDeprecated as of librosa version 0.10.0.\n",
            "\tIt will be removed in librosa version 1.0.\n",
            "  y, sr_native = __audioread_load(path, offset, duration, dtype)\n",
            "<ipython-input-91-9fc97857c8b5>:47: UserWarning: PySoundFile failed. Trying audioread instead.\n",
            "  audio , _ =  librosa.load(f\"coughvid_20211012/{row['uuid']}.webm\",sr=16000,mono=True)\n",
            "/usr/local/lib/python3.10/dist-packages/librosa/core/audio.py:184: FutureWarning: librosa.core.audio.__audioread_load\n",
            "\tDeprecated as of librosa version 0.10.0.\n",
            "\tIt will be removed in librosa version 1.0.\n",
            "  y, sr_native = __audioread_load(path, offset, duration, dtype)\n"
          ]
        },
        {
          "output_type": "stream",
          "name": "stdout",
          "text": [
            "1038\t File 07ed3a48-a0cb-48d6-a353-2103bc80367f ACCEPTED\n",
            "1039\t File 07ee327d-632f-45f4-aeee-0a5430fd79b7 REJECTED\n",
            "1040\t File 07efbe1d-9a6a-480f-b4d0-37f25fd83ce2 ACCEPTED\n",
            "1041\t File 07f03f9d-3bae-4c7a-a441-17ecf5a8cd51 ACCEPTED\n",
            "1042\t File 07f3af06-32cd-40ff-9bae-8c1c4365d919 REJECTED\n",
            "1043\t File 07f69d0a-e82f-4d98-aad1-61badf33acf6 ACCEPTED\n",
            "1044\t File 07f8318c-d1a7-4b6c-a6e5-e50f97311d56 ACCEPTED\n",
            "1045\t File 07f95718-2edc-4baa-9e18-3c6e04eb6e39 ACCEPTED\n",
            "1046\t File 07fb12c1-5a28-495f-b972-058c46674ae3 REJECTED\n",
            "1047\t File 07fcc0af-e219-4421-bf02-4562284e2d92 REJECTED\n",
            "1048\t File 07fd8cbd-4198-4bfe-b024-32d1ec9de1c0 REJECTED\n",
            "1049\t File 07fda61f-b265-4b00-b01b-43e4a8912e06 ACCEPTED\n",
            "1050\t File 07ff4319-4b1c-4913-a69b-291482cb142a ACCEPTED\n",
            "1051\t File 08007ddf-d099-48ad-b8fb-7a469d3e0d9a REJECTED\n",
            "1052\t File 08018d35-e337-406f-99c9-5832197bba18 ACCEPTED\n",
            "1053\t File 0801ef4f-795a-4755-b861-adcaa52f1818 REJECTED\n"
          ]
        },
        {
          "output_type": "stream",
          "name": "stderr",
          "text": [
            "<ipython-input-91-9fc97857c8b5>:47: UserWarning: PySoundFile failed. Trying audioread instead.\n",
            "  audio , _ =  librosa.load(f\"coughvid_20211012/{row['uuid']}.webm\",sr=16000,mono=True)\n",
            "/usr/local/lib/python3.10/dist-packages/librosa/core/audio.py:184: FutureWarning: librosa.core.audio.__audioread_load\n",
            "\tDeprecated as of librosa version 0.10.0.\n",
            "\tIt will be removed in librosa version 1.0.\n",
            "  y, sr_native = __audioread_load(path, offset, duration, dtype)\n",
            "<ipython-input-91-9fc97857c8b5>:47: UserWarning: PySoundFile failed. Trying audioread instead.\n",
            "  audio , _ =  librosa.load(f\"coughvid_20211012/{row['uuid']}.webm\",sr=16000,mono=True)\n",
            "/usr/local/lib/python3.10/dist-packages/librosa/core/audio.py:184: FutureWarning: librosa.core.audio.__audioread_load\n",
            "\tDeprecated as of librosa version 0.10.0.\n",
            "\tIt will be removed in librosa version 1.0.\n",
            "  y, sr_native = __audioread_load(path, offset, duration, dtype)\n",
            "<ipython-input-91-9fc97857c8b5>:47: UserWarning: PySoundFile failed. Trying audioread instead.\n",
            "  audio , _ =  librosa.load(f\"coughvid_20211012/{row['uuid']}.webm\",sr=16000,mono=True)\n",
            "/usr/local/lib/python3.10/dist-packages/librosa/core/audio.py:184: FutureWarning: librosa.core.audio.__audioread_load\n",
            "\tDeprecated as of librosa version 0.10.0.\n",
            "\tIt will be removed in librosa version 1.0.\n",
            "  y, sr_native = __audioread_load(path, offset, duration, dtype)\n",
            "<ipython-input-91-9fc97857c8b5>:47: UserWarning: PySoundFile failed. Trying audioread instead.\n",
            "  audio , _ =  librosa.load(f\"coughvid_20211012/{row['uuid']}.webm\",sr=16000,mono=True)\n",
            "/usr/local/lib/python3.10/dist-packages/librosa/core/audio.py:184: FutureWarning: librosa.core.audio.__audioread_load\n",
            "\tDeprecated as of librosa version 0.10.0.\n",
            "\tIt will be removed in librosa version 1.0.\n",
            "  y, sr_native = __audioread_load(path, offset, duration, dtype)\n",
            "<ipython-input-91-9fc97857c8b5>:47: UserWarning: PySoundFile failed. Trying audioread instead.\n",
            "  audio , _ =  librosa.load(f\"coughvid_20211012/{row['uuid']}.webm\",sr=16000,mono=True)\n",
            "/usr/local/lib/python3.10/dist-packages/librosa/core/audio.py:184: FutureWarning: librosa.core.audio.__audioread_load\n",
            "\tDeprecated as of librosa version 0.10.0.\n",
            "\tIt will be removed in librosa version 1.0.\n",
            "  y, sr_native = __audioread_load(path, offset, duration, dtype)\n",
            "<ipython-input-91-9fc97857c8b5>:47: UserWarning: PySoundFile failed. Trying audioread instead.\n",
            "  audio , _ =  librosa.load(f\"coughvid_20211012/{row['uuid']}.webm\",sr=16000,mono=True)\n",
            "/usr/local/lib/python3.10/dist-packages/librosa/core/audio.py:184: FutureWarning: librosa.core.audio.__audioread_load\n",
            "\tDeprecated as of librosa version 0.10.0.\n",
            "\tIt will be removed in librosa version 1.0.\n",
            "  y, sr_native = __audioread_load(path, offset, duration, dtype)\n",
            "<ipython-input-91-9fc97857c8b5>:47: UserWarning: PySoundFile failed. Trying audioread instead.\n",
            "  audio , _ =  librosa.load(f\"coughvid_20211012/{row['uuid']}.webm\",sr=16000,mono=True)\n",
            "/usr/local/lib/python3.10/dist-packages/librosa/core/audio.py:184: FutureWarning: librosa.core.audio.__audioread_load\n",
            "\tDeprecated as of librosa version 0.10.0.\n",
            "\tIt will be removed in librosa version 1.0.\n",
            "  y, sr_native = __audioread_load(path, offset, duration, dtype)\n",
            "<ipython-input-91-9fc97857c8b5>:47: UserWarning: PySoundFile failed. Trying audioread instead.\n",
            "  audio , _ =  librosa.load(f\"coughvid_20211012/{row['uuid']}.webm\",sr=16000,mono=True)\n",
            "/usr/local/lib/python3.10/dist-packages/librosa/core/audio.py:184: FutureWarning: librosa.core.audio.__audioread_load\n",
            "\tDeprecated as of librosa version 0.10.0.\n",
            "\tIt will be removed in librosa version 1.0.\n",
            "  y, sr_native = __audioread_load(path, offset, duration, dtype)\n",
            "<ipython-input-91-9fc97857c8b5>:47: UserWarning: PySoundFile failed. Trying audioread instead.\n",
            "  audio , _ =  librosa.load(f\"coughvid_20211012/{row['uuid']}.webm\",sr=16000,mono=True)\n",
            "/usr/local/lib/python3.10/dist-packages/librosa/core/audio.py:184: FutureWarning: librosa.core.audio.__audioread_load\n",
            "\tDeprecated as of librosa version 0.10.0.\n",
            "\tIt will be removed in librosa version 1.0.\n",
            "  y, sr_native = __audioread_load(path, offset, duration, dtype)\n"
          ]
        },
        {
          "output_type": "stream",
          "name": "stdout",
          "text": [
            "1054\t File 08024f8a-88fb-4298-9656-04da97112ae6 ACCEPTED\n",
            "1055\t File 0803473a-6bab-4bd3-a1a2-1e0423a28749 REJECTED\n",
            "1056\t File 080597cb-f0c1-4c83-87ad-441fc4bc23aa ACCEPTED\n",
            "1057\t File 0808d0f6-f273-457c-907b-7c2e1ef0451b ACCEPTED\n",
            "1058\t File 080a1ecf-fb8c-426e-94a7-d80582d086ef ACCEPTED\n",
            "1059\t File 080b6119-f1ab-4337-93dd-aaccf73b4ee1 ACCEPTED\n",
            "1060\t File 080f2f73-c1cd-4624-9f2f-5194315e9423 ACCEPTED\n"
          ]
        },
        {
          "output_type": "stream",
          "name": "stderr",
          "text": [
            "<ipython-input-91-9fc97857c8b5>:47: UserWarning: PySoundFile failed. Trying audioread instead.\n",
            "  audio , _ =  librosa.load(f\"coughvid_20211012/{row['uuid']}.webm\",sr=16000,mono=True)\n",
            "/usr/local/lib/python3.10/dist-packages/librosa/core/audio.py:184: FutureWarning: librosa.core.audio.__audioread_load\n",
            "\tDeprecated as of librosa version 0.10.0.\n",
            "\tIt will be removed in librosa version 1.0.\n",
            "  y, sr_native = __audioread_load(path, offset, duration, dtype)\n",
            "<ipython-input-91-9fc97857c8b5>:47: UserWarning: PySoundFile failed. Trying audioread instead.\n",
            "  audio , _ =  librosa.load(f\"coughvid_20211012/{row['uuid']}.webm\",sr=16000,mono=True)\n",
            "/usr/local/lib/python3.10/dist-packages/librosa/core/audio.py:184: FutureWarning: librosa.core.audio.__audioread_load\n",
            "\tDeprecated as of librosa version 0.10.0.\n",
            "\tIt will be removed in librosa version 1.0.\n",
            "  y, sr_native = __audioread_load(path, offset, duration, dtype)\n",
            "<ipython-input-91-9fc97857c8b5>:47: UserWarning: PySoundFile failed. Trying audioread instead.\n",
            "  audio , _ =  librosa.load(f\"coughvid_20211012/{row['uuid']}.webm\",sr=16000,mono=True)\n",
            "/usr/local/lib/python3.10/dist-packages/librosa/core/audio.py:184: FutureWarning: librosa.core.audio.__audioread_load\n",
            "\tDeprecated as of librosa version 0.10.0.\n",
            "\tIt will be removed in librosa version 1.0.\n",
            "  y, sr_native = __audioread_load(path, offset, duration, dtype)\n",
            "<ipython-input-91-9fc97857c8b5>:47: UserWarning: PySoundFile failed. Trying audioread instead.\n",
            "  audio , _ =  librosa.load(f\"coughvid_20211012/{row['uuid']}.webm\",sr=16000,mono=True)\n",
            "/usr/local/lib/python3.10/dist-packages/librosa/core/audio.py:184: FutureWarning: librosa.core.audio.__audioread_load\n",
            "\tDeprecated as of librosa version 0.10.0.\n",
            "\tIt will be removed in librosa version 1.0.\n",
            "  y, sr_native = __audioread_load(path, offset, duration, dtype)\n",
            "<ipython-input-91-9fc97857c8b5>:47: UserWarning: PySoundFile failed. Trying audioread instead.\n",
            "  audio , _ =  librosa.load(f\"coughvid_20211012/{row['uuid']}.webm\",sr=16000,mono=True)\n",
            "/usr/local/lib/python3.10/dist-packages/librosa/core/audio.py:184: FutureWarning: librosa.core.audio.__audioread_load\n",
            "\tDeprecated as of librosa version 0.10.0.\n",
            "\tIt will be removed in librosa version 1.0.\n",
            "  y, sr_native = __audioread_load(path, offset, duration, dtype)\n",
            "<ipython-input-91-9fc97857c8b5>:47: UserWarning: PySoundFile failed. Trying audioread instead.\n",
            "  audio , _ =  librosa.load(f\"coughvid_20211012/{row['uuid']}.webm\",sr=16000,mono=True)\n",
            "/usr/local/lib/python3.10/dist-packages/librosa/core/audio.py:184: FutureWarning: librosa.core.audio.__audioread_load\n",
            "\tDeprecated as of librosa version 0.10.0.\n",
            "\tIt will be removed in librosa version 1.0.\n",
            "  y, sr_native = __audioread_load(path, offset, duration, dtype)\n"
          ]
        },
        {
          "output_type": "stream",
          "name": "stdout",
          "text": [
            "1061\t File 08121409-c27c-4c45-9269-8543230ee9d1 ACCEPTED\n",
            "1062\t File 081b09d8-4629-4703-afaf-319fac3c692b REJECTED\n",
            "1063\t File 081b9f15-2c2d-4753-a855-a5de06d78ff7 REJECTED\n",
            "1064\t File 081c1de4-5154-4134-9a1a-eef753eafe23 REJECTED\n",
            "1065\t File 08202eda-c430-4c41-bb4d-33d7a969cee5 REJECTED\n"
          ]
        },
        {
          "output_type": "stream",
          "name": "stderr",
          "text": [
            "<ipython-input-91-9fc97857c8b5>:47: UserWarning: PySoundFile failed. Trying audioread instead.\n",
            "  audio , _ =  librosa.load(f\"coughvid_20211012/{row['uuid']}.webm\",sr=16000,mono=True)\n",
            "/usr/local/lib/python3.10/dist-packages/librosa/core/audio.py:184: FutureWarning: librosa.core.audio.__audioread_load\n",
            "\tDeprecated as of librosa version 0.10.0.\n",
            "\tIt will be removed in librosa version 1.0.\n",
            "  y, sr_native = __audioread_load(path, offset, duration, dtype)\n"
          ]
        },
        {
          "output_type": "stream",
          "name": "stdout",
          "text": [
            "1066\t File 08212daa-993c-44e9-9089-f546e726376b ACCEPTED\n"
          ]
        },
        {
          "output_type": "stream",
          "name": "stderr",
          "text": [
            "<ipython-input-91-9fc97857c8b5>:47: UserWarning: PySoundFile failed. Trying audioread instead.\n",
            "  audio , _ =  librosa.load(f\"coughvid_20211012/{row['uuid']}.webm\",sr=16000,mono=True)\n",
            "/usr/local/lib/python3.10/dist-packages/librosa/core/audio.py:184: FutureWarning: librosa.core.audio.__audioread_load\n",
            "\tDeprecated as of librosa version 0.10.0.\n",
            "\tIt will be removed in librosa version 1.0.\n",
            "  y, sr_native = __audioread_load(path, offset, duration, dtype)\n"
          ]
        },
        {
          "output_type": "stream",
          "name": "stdout",
          "text": [
            "1067\t File 08214c21-a909-4889-b059-9f5df4a3b6bb ACCEPTED\n",
            "1068\t File 08270d2c-8262-45e4-a1e7-21ae13a089eb REJECTED\n",
            "1069\t File 082715bc-4102-4116-a718-f8e87325680d ACCEPTED\n"
          ]
        },
        {
          "output_type": "stream",
          "name": "stderr",
          "text": [
            "<ipython-input-91-9fc97857c8b5>:47: UserWarning: PySoundFile failed. Trying audioread instead.\n",
            "  audio , _ =  librosa.load(f\"coughvid_20211012/{row['uuid']}.webm\",sr=16000,mono=True)\n",
            "/usr/local/lib/python3.10/dist-packages/librosa/core/audio.py:184: FutureWarning: librosa.core.audio.__audioread_load\n",
            "\tDeprecated as of librosa version 0.10.0.\n",
            "\tIt will be removed in librosa version 1.0.\n",
            "  y, sr_native = __audioread_load(path, offset, duration, dtype)\n",
            "<ipython-input-91-9fc97857c8b5>:47: UserWarning: PySoundFile failed. Trying audioread instead.\n",
            "  audio , _ =  librosa.load(f\"coughvid_20211012/{row['uuid']}.webm\",sr=16000,mono=True)\n",
            "/usr/local/lib/python3.10/dist-packages/librosa/core/audio.py:184: FutureWarning: librosa.core.audio.__audioread_load\n",
            "\tDeprecated as of librosa version 0.10.0.\n",
            "\tIt will be removed in librosa version 1.0.\n",
            "  y, sr_native = __audioread_load(path, offset, duration, dtype)\n"
          ]
        },
        {
          "output_type": "stream",
          "name": "stdout",
          "text": [
            "1070\t File 08276c5f-ee65-424f-8b54-5ec531279c19 ACCEPTED\n"
          ]
        },
        {
          "output_type": "stream",
          "name": "stderr",
          "text": [
            "<ipython-input-91-9fc97857c8b5>:47: UserWarning: PySoundFile failed. Trying audioread instead.\n",
            "  audio , _ =  librosa.load(f\"coughvid_20211012/{row['uuid']}.webm\",sr=16000,mono=True)\n",
            "/usr/local/lib/python3.10/dist-packages/librosa/core/audio.py:184: FutureWarning: librosa.core.audio.__audioread_load\n",
            "\tDeprecated as of librosa version 0.10.0.\n",
            "\tIt will be removed in librosa version 1.0.\n",
            "  y, sr_native = __audioread_load(path, offset, duration, dtype)\n"
          ]
        },
        {
          "output_type": "stream",
          "name": "stdout",
          "text": [
            "1071\t File 082991fb-ee66-4970-91dd-50890f4cc9b1 ACCEPTED\n",
            "1072\t File 082b3f77-a48c-4a1a-98db-c5ad3bb648b4 REJECTED\n",
            "1073\t File 082bd6f2-b8ac-4df8-89b3-892eb2c44f44 ACCEPTED\n",
            "1074\t File 082cc80e-abda-4bea-a372-b8359d3602b0 ACCEPTED\n"
          ]
        },
        {
          "output_type": "stream",
          "name": "stderr",
          "text": [
            "<ipython-input-91-9fc97857c8b5>:47: UserWarning: PySoundFile failed. Trying audioread instead.\n",
            "  audio , _ =  librosa.load(f\"coughvid_20211012/{row['uuid']}.webm\",sr=16000,mono=True)\n",
            "/usr/local/lib/python3.10/dist-packages/librosa/core/audio.py:184: FutureWarning: librosa.core.audio.__audioread_load\n",
            "\tDeprecated as of librosa version 0.10.0.\n",
            "\tIt will be removed in librosa version 1.0.\n",
            "  y, sr_native = __audioread_load(path, offset, duration, dtype)\n",
            "<ipython-input-91-9fc97857c8b5>:47: UserWarning: PySoundFile failed. Trying audioread instead.\n",
            "  audio , _ =  librosa.load(f\"coughvid_20211012/{row['uuid']}.webm\",sr=16000,mono=True)\n",
            "/usr/local/lib/python3.10/dist-packages/librosa/core/audio.py:184: FutureWarning: librosa.core.audio.__audioread_load\n",
            "\tDeprecated as of librosa version 0.10.0.\n",
            "\tIt will be removed in librosa version 1.0.\n",
            "  y, sr_native = __audioread_load(path, offset, duration, dtype)\n",
            "<ipython-input-91-9fc97857c8b5>:47: UserWarning: PySoundFile failed. Trying audioread instead.\n",
            "  audio , _ =  librosa.load(f\"coughvid_20211012/{row['uuid']}.webm\",sr=16000,mono=True)\n",
            "/usr/local/lib/python3.10/dist-packages/librosa/core/audio.py:184: FutureWarning: librosa.core.audio.__audioread_load\n",
            "\tDeprecated as of librosa version 0.10.0.\n",
            "\tIt will be removed in librosa version 1.0.\n",
            "  y, sr_native = __audioread_load(path, offset, duration, dtype)\n"
          ]
        },
        {
          "output_type": "stream",
          "name": "stdout",
          "text": [
            "1075\t File 082d58d7-5ac2-41b9-920f-b48f761d6127 ACCEPTED\n",
            "1076\t File 082ec50d-4f8e-4247-8101-522a350e0d44 REJECTED\n",
            "1077\t File 082f8c41-4025-4fed-a7a2-400ce23b50f4 REJECTED\n"
          ]
        },
        {
          "output_type": "stream",
          "name": "stderr",
          "text": [
            "<ipython-input-91-9fc97857c8b5>:47: UserWarning: PySoundFile failed. Trying audioread instead.\n",
            "  audio , _ =  librosa.load(f\"coughvid_20211012/{row['uuid']}.webm\",sr=16000,mono=True)\n",
            "/usr/local/lib/python3.10/dist-packages/librosa/core/audio.py:184: FutureWarning: librosa.core.audio.__audioread_load\n",
            "\tDeprecated as of librosa version 0.10.0.\n",
            "\tIt will be removed in librosa version 1.0.\n",
            "  y, sr_native = __audioread_load(path, offset, duration, dtype)\n"
          ]
        },
        {
          "output_type": "stream",
          "name": "stdout",
          "text": [
            "1078\t File 0832d6e0-979d-4ecb-a367-26417cf3ad86 ACCEPTED\n"
          ]
        },
        {
          "output_type": "stream",
          "name": "stderr",
          "text": [
            "<ipython-input-91-9fc97857c8b5>:47: UserWarning: PySoundFile failed. Trying audioread instead.\n",
            "  audio , _ =  librosa.load(f\"coughvid_20211012/{row['uuid']}.webm\",sr=16000,mono=True)\n",
            "/usr/local/lib/python3.10/dist-packages/librosa/core/audio.py:184: FutureWarning: librosa.core.audio.__audioread_load\n",
            "\tDeprecated as of librosa version 0.10.0.\n",
            "\tIt will be removed in librosa version 1.0.\n",
            "  y, sr_native = __audioread_load(path, offset, duration, dtype)\n"
          ]
        },
        {
          "output_type": "stream",
          "name": "stdout",
          "text": [
            "1079\t File 08337128-a1a0-4dce-a7c1-cb130ad34c75 ACCEPTED\n"
          ]
        },
        {
          "output_type": "stream",
          "name": "stderr",
          "text": [
            "<ipython-input-91-9fc97857c8b5>:47: UserWarning: PySoundFile failed. Trying audioread instead.\n",
            "  audio , _ =  librosa.load(f\"coughvid_20211012/{row['uuid']}.webm\",sr=16000,mono=True)\n",
            "/usr/local/lib/python3.10/dist-packages/librosa/core/audio.py:184: FutureWarning: librosa.core.audio.__audioread_load\n",
            "\tDeprecated as of librosa version 0.10.0.\n",
            "\tIt will be removed in librosa version 1.0.\n",
            "  y, sr_native = __audioread_load(path, offset, duration, dtype)\n"
          ]
        },
        {
          "output_type": "stream",
          "name": "stdout",
          "text": [
            "1080\t File 0834ef21-c5be-48c3-a096-455c661b6f72 ACCEPTED\n",
            "1081\t File 083713d0-0ec0-4842-8435-b708c7164cb1 ACCEPTED\n",
            "1082\t File 0837bd59-09c5-4098-afe3-4bcbfb0fb0e2 ACCEPTED\n",
            "1083\t File 08385378-34df-4dda-b39b-1e2a90355591 REJECTED\n",
            "1084\t File 0838c02d-1666-480f-9413-c6b7ab751fff REJECTED\n",
            "1085\t File 083a006d-9df2-4f70-9663-b61334144eeb ACCEPTED\n",
            "1086\t File 083b44e7-3bf3-4fec-b3a1-6efd516d4fc6 ACCEPTED\n",
            "1087\t File 0845d79a-6236-4b1c-80b1-7762b4b24f20 ACCEPTED\n",
            "1088\t File 084a9d57-2c42-442e-9662-6070642c8d9a ACCEPTED\n",
            "1089\t File 084c8a7b-90d7-4e93-8554-76bd7e863f40 REJECTED\n",
            "1090\t File 084f6ab1-5c65-4524-a8e0-1d68395f0f2e ACCEPTED\n",
            "1091\t File 084faa84-3f67-4c04-803d-d99b9d3e02cd ACCEPTED\n",
            "1092\t File 0854f8b4-edf9-48cf-9f56-d0257be67794 REJECTED\n",
            "1093\t File 085593a4-654c-4b5e-9a42-8cfd841dc012 ACCEPTED\n",
            "1094\t File 08560916-01b5-4b74-8b57-51dddd4c1848 ACCEPTED\n",
            "1095\t File 08578a1c-1e7a-448d-a171-aacdad4c13b5 REJECTED\n",
            "1096\t File 0858f063-e812-4481-91aa-90a713c815fd REJECTED\n",
            "1097\t File 085b3f3d-eacb-4637-999f-c7aaf5aba3b9 REJECTED\n",
            "1098\t File 085c22f5-f9aa-4b42-9c20-59c67baf52a5 ACCEPTED\n"
          ]
        },
        {
          "output_type": "stream",
          "name": "stderr",
          "text": [
            "<ipython-input-91-9fc97857c8b5>:47: UserWarning: PySoundFile failed. Trying audioread instead.\n",
            "  audio , _ =  librosa.load(f\"coughvid_20211012/{row['uuid']}.webm\",sr=16000,mono=True)\n",
            "/usr/local/lib/python3.10/dist-packages/librosa/core/audio.py:184: FutureWarning: librosa.core.audio.__audioread_load\n",
            "\tDeprecated as of librosa version 0.10.0.\n",
            "\tIt will be removed in librosa version 1.0.\n",
            "  y, sr_native = __audioread_load(path, offset, duration, dtype)\n",
            "<ipython-input-91-9fc97857c8b5>:47: UserWarning: PySoundFile failed. Trying audioread instead.\n",
            "  audio , _ =  librosa.load(f\"coughvid_20211012/{row['uuid']}.webm\",sr=16000,mono=True)\n",
            "/usr/local/lib/python3.10/dist-packages/librosa/core/audio.py:184: FutureWarning: librosa.core.audio.__audioread_load\n",
            "\tDeprecated as of librosa version 0.10.0.\n",
            "\tIt will be removed in librosa version 1.0.\n",
            "  y, sr_native = __audioread_load(path, offset, duration, dtype)\n",
            "<ipython-input-91-9fc97857c8b5>:47: UserWarning: PySoundFile failed. Trying audioread instead.\n",
            "  audio , _ =  librosa.load(f\"coughvid_20211012/{row['uuid']}.webm\",sr=16000,mono=True)\n",
            "/usr/local/lib/python3.10/dist-packages/librosa/core/audio.py:184: FutureWarning: librosa.core.audio.__audioread_load\n",
            "\tDeprecated as of librosa version 0.10.0.\n",
            "\tIt will be removed in librosa version 1.0.\n",
            "  y, sr_native = __audioread_load(path, offset, duration, dtype)\n",
            "<ipython-input-91-9fc97857c8b5>:47: UserWarning: PySoundFile failed. Trying audioread instead.\n",
            "  audio , _ =  librosa.load(f\"coughvid_20211012/{row['uuid']}.webm\",sr=16000,mono=True)\n",
            "/usr/local/lib/python3.10/dist-packages/librosa/core/audio.py:184: FutureWarning: librosa.core.audio.__audioread_load\n",
            "\tDeprecated as of librosa version 0.10.0.\n",
            "\tIt will be removed in librosa version 1.0.\n",
            "  y, sr_native = __audioread_load(path, offset, duration, dtype)\n",
            "<ipython-input-91-9fc97857c8b5>:47: UserWarning: PySoundFile failed. Trying audioread instead.\n",
            "  audio , _ =  librosa.load(f\"coughvid_20211012/{row['uuid']}.webm\",sr=16000,mono=True)\n",
            "/usr/local/lib/python3.10/dist-packages/librosa/core/audio.py:184: FutureWarning: librosa.core.audio.__audioread_load\n",
            "\tDeprecated as of librosa version 0.10.0.\n",
            "\tIt will be removed in librosa version 1.0.\n",
            "  y, sr_native = __audioread_load(path, offset, duration, dtype)\n",
            "<ipython-input-91-9fc97857c8b5>:47: UserWarning: PySoundFile failed. Trying audioread instead.\n",
            "  audio , _ =  librosa.load(f\"coughvid_20211012/{row['uuid']}.webm\",sr=16000,mono=True)\n",
            "/usr/local/lib/python3.10/dist-packages/librosa/core/audio.py:184: FutureWarning: librosa.core.audio.__audioread_load\n",
            "\tDeprecated as of librosa version 0.10.0.\n",
            "\tIt will be removed in librosa version 1.0.\n",
            "  y, sr_native = __audioread_load(path, offset, duration, dtype)\n",
            "<ipython-input-91-9fc97857c8b5>:47: UserWarning: PySoundFile failed. Trying audioread instead.\n",
            "  audio , _ =  librosa.load(f\"coughvid_20211012/{row['uuid']}.webm\",sr=16000,mono=True)\n",
            "/usr/local/lib/python3.10/dist-packages/librosa/core/audio.py:184: FutureWarning: librosa.core.audio.__audioread_load\n",
            "\tDeprecated as of librosa version 0.10.0.\n",
            "\tIt will be removed in librosa version 1.0.\n",
            "  y, sr_native = __audioread_load(path, offset, duration, dtype)\n",
            "<ipython-input-91-9fc97857c8b5>:47: UserWarning: PySoundFile failed. Trying audioread instead.\n",
            "  audio , _ =  librosa.load(f\"coughvid_20211012/{row['uuid']}.webm\",sr=16000,mono=True)\n",
            "/usr/local/lib/python3.10/dist-packages/librosa/core/audio.py:184: FutureWarning: librosa.core.audio.__audioread_load\n",
            "\tDeprecated as of librosa version 0.10.0.\n",
            "\tIt will be removed in librosa version 1.0.\n",
            "  y, sr_native = __audioread_load(path, offset, duration, dtype)\n",
            "<ipython-input-91-9fc97857c8b5>:47: UserWarning: PySoundFile failed. Trying audioread instead.\n",
            "  audio , _ =  librosa.load(f\"coughvid_20211012/{row['uuid']}.webm\",sr=16000,mono=True)\n",
            "/usr/local/lib/python3.10/dist-packages/librosa/core/audio.py:184: FutureWarning: librosa.core.audio.__audioread_load\n",
            "\tDeprecated as of librosa version 0.10.0.\n",
            "\tIt will be removed in librosa version 1.0.\n",
            "  y, sr_native = __audioread_load(path, offset, duration, dtype)\n",
            "<ipython-input-91-9fc97857c8b5>:47: UserWarning: PySoundFile failed. Trying audioread instead.\n",
            "  audio , _ =  librosa.load(f\"coughvid_20211012/{row['uuid']}.webm\",sr=16000,mono=True)\n",
            "/usr/local/lib/python3.10/dist-packages/librosa/core/audio.py:184: FutureWarning: librosa.core.audio.__audioread_load\n",
            "\tDeprecated as of librosa version 0.10.0.\n",
            "\tIt will be removed in librosa version 1.0.\n",
            "  y, sr_native = __audioread_load(path, offset, duration, dtype)\n",
            "<ipython-input-91-9fc97857c8b5>:47: UserWarning: PySoundFile failed. Trying audioread instead.\n",
            "  audio , _ =  librosa.load(f\"coughvid_20211012/{row['uuid']}.webm\",sr=16000,mono=True)\n",
            "/usr/local/lib/python3.10/dist-packages/librosa/core/audio.py:184: FutureWarning: librosa.core.audio.__audioread_load\n",
            "\tDeprecated as of librosa version 0.10.0.\n",
            "\tIt will be removed in librosa version 1.0.\n",
            "  y, sr_native = __audioread_load(path, offset, duration, dtype)\n",
            "<ipython-input-91-9fc97857c8b5>:47: UserWarning: PySoundFile failed. Trying audioread instead.\n",
            "  audio , _ =  librosa.load(f\"coughvid_20211012/{row['uuid']}.webm\",sr=16000,mono=True)\n",
            "/usr/local/lib/python3.10/dist-packages/librosa/core/audio.py:184: FutureWarning: librosa.core.audio.__audioread_load\n",
            "\tDeprecated as of librosa version 0.10.0.\n",
            "\tIt will be removed in librosa version 1.0.\n",
            "  y, sr_native = __audioread_load(path, offset, duration, dtype)\n"
          ]
        },
        {
          "output_type": "stream",
          "name": "stdout",
          "text": [
            "1099\t File 0860d3ff-c6d5-47ff-aa91-59cdc03d1504 ACCEPTED\n",
            "1100\t File 08628684-4263-4c84-b36c-47159bfdda64 ACCEPTED\n",
            "1101\t File 086533e2-3043-4596-8bc4-47d0caccfade ACCEPTED\n",
            "1102\t File 08692a43-52e9-401d-a92d-04ad1529b48e REJECTED\n"
          ]
        },
        {
          "output_type": "stream",
          "name": "stderr",
          "text": [
            "<ipython-input-91-9fc97857c8b5>:47: UserWarning: PySoundFile failed. Trying audioread instead.\n",
            "  audio , _ =  librosa.load(f\"coughvid_20211012/{row['uuid']}.webm\",sr=16000,mono=True)\n",
            "/usr/local/lib/python3.10/dist-packages/librosa/core/audio.py:184: FutureWarning: librosa.core.audio.__audioread_load\n",
            "\tDeprecated as of librosa version 0.10.0.\n",
            "\tIt will be removed in librosa version 1.0.\n",
            "  y, sr_native = __audioread_load(path, offset, duration, dtype)\n",
            "<ipython-input-91-9fc97857c8b5>:47: UserWarning: PySoundFile failed. Trying audioread instead.\n",
            "  audio , _ =  librosa.load(f\"coughvid_20211012/{row['uuid']}.webm\",sr=16000,mono=True)\n",
            "/usr/local/lib/python3.10/dist-packages/librosa/core/audio.py:184: FutureWarning: librosa.core.audio.__audioread_load\n",
            "\tDeprecated as of librosa version 0.10.0.\n",
            "\tIt will be removed in librosa version 1.0.\n",
            "  y, sr_native = __audioread_load(path, offset, duration, dtype)\n",
            "<ipython-input-91-9fc97857c8b5>:47: UserWarning: PySoundFile failed. Trying audioread instead.\n",
            "  audio , _ =  librosa.load(f\"coughvid_20211012/{row['uuid']}.webm\",sr=16000,mono=True)\n",
            "/usr/local/lib/python3.10/dist-packages/librosa/core/audio.py:184: FutureWarning: librosa.core.audio.__audioread_load\n",
            "\tDeprecated as of librosa version 0.10.0.\n",
            "\tIt will be removed in librosa version 1.0.\n",
            "  y, sr_native = __audioread_load(path, offset, duration, dtype)\n"
          ]
        },
        {
          "output_type": "stream",
          "name": "stdout",
          "text": [
            "1103\t File 086a56fc-e5e9-43ea-928d-1dd0bd1f34ec ACCEPTED\n",
            "1104\t File 086ab51f-8057-4c99-b450-1cdf69ae2572 ACCEPTED\n",
            "1105\t File 086adc23-4f95-4a60-ab36-8798519648bd REJECTED\n"
          ]
        },
        {
          "output_type": "stream",
          "name": "stderr",
          "text": [
            "<ipython-input-91-9fc97857c8b5>:47: UserWarning: PySoundFile failed. Trying audioread instead.\n",
            "  audio , _ =  librosa.load(f\"coughvid_20211012/{row['uuid']}.webm\",sr=16000,mono=True)\n",
            "/usr/local/lib/python3.10/dist-packages/librosa/core/audio.py:184: FutureWarning: librosa.core.audio.__audioread_load\n",
            "\tDeprecated as of librosa version 0.10.0.\n",
            "\tIt will be removed in librosa version 1.0.\n",
            "  y, sr_native = __audioread_load(path, offset, duration, dtype)\n",
            "<ipython-input-91-9fc97857c8b5>:47: UserWarning: PySoundFile failed. Trying audioread instead.\n",
            "  audio , _ =  librosa.load(f\"coughvid_20211012/{row['uuid']}.webm\",sr=16000,mono=True)\n",
            "/usr/local/lib/python3.10/dist-packages/librosa/core/audio.py:184: FutureWarning: librosa.core.audio.__audioread_load\n",
            "\tDeprecated as of librosa version 0.10.0.\n",
            "\tIt will be removed in librosa version 1.0.\n",
            "  y, sr_native = __audioread_load(path, offset, duration, dtype)\n"
          ]
        },
        {
          "output_type": "stream",
          "name": "stdout",
          "text": [
            "1106\t File 086bd8e7-10da-44cd-aac6-fba42c67babb ACCEPTED\n",
            "1107\t File 086fc6aa-cd6b-4cc1-8f90-b9aef3542361 REJECTED\n",
            "1108\t File 0871ac97-ec59-4aa8-852e-c5d0c2d3193d ACCEPTED\n",
            "1109\t File 08723fdc-fa4e-4a5e-9407-880611ce8295 REJECTED\n"
          ]
        },
        {
          "output_type": "stream",
          "name": "stderr",
          "text": [
            "<ipython-input-91-9fc97857c8b5>:47: UserWarning: PySoundFile failed. Trying audioread instead.\n",
            "  audio , _ =  librosa.load(f\"coughvid_20211012/{row['uuid']}.webm\",sr=16000,mono=True)\n",
            "/usr/local/lib/python3.10/dist-packages/librosa/core/audio.py:184: FutureWarning: librosa.core.audio.__audioread_load\n",
            "\tDeprecated as of librosa version 0.10.0.\n",
            "\tIt will be removed in librosa version 1.0.\n",
            "  y, sr_native = __audioread_load(path, offset, duration, dtype)\n",
            "<ipython-input-91-9fc97857c8b5>:47: UserWarning: PySoundFile failed. Trying audioread instead.\n",
            "  audio , _ =  librosa.load(f\"coughvid_20211012/{row['uuid']}.webm\",sr=16000,mono=True)\n",
            "/usr/local/lib/python3.10/dist-packages/librosa/core/audio.py:184: FutureWarning: librosa.core.audio.__audioread_load\n",
            "\tDeprecated as of librosa version 0.10.0.\n",
            "\tIt will be removed in librosa version 1.0.\n",
            "  y, sr_native = __audioread_load(path, offset, duration, dtype)\n"
          ]
        },
        {
          "output_type": "stream",
          "name": "stdout",
          "text": [
            "1110\t File 08727219-4c45-4f2d-ac8d-76bdcd4efdda ACCEPTED\n",
            "1111\t File 087749f6-e253-464f-b576-e85f6ed62cae ACCEPTED\n",
            "1112\t File 087b2eb4-8460-4e09-a385-c6f21d38558a ACCEPTED\n",
            "1113\t File 087dc493-776a-4b99-9b7e-777fb43ec009 ACCEPTED\n",
            "1114\t File 087dd364-5924-42b3-8b9c-17866c835a52 ACCEPTED\n",
            "1115\t File 087fdb9f-8760-4b29-a290-e5b6e58eea62 REJECTED\n",
            "1116\t File 087fe1dc-3936-421e-ab52-bfcb37847933 ACCEPTED\n",
            "1117\t File 087fffc2-f686-4ec2-8970-22b55097e01f ACCEPTED\n"
          ]
        },
        {
          "output_type": "stream",
          "name": "stderr",
          "text": [
            "<ipython-input-91-9fc97857c8b5>:47: UserWarning: PySoundFile failed. Trying audioread instead.\n",
            "  audio , _ =  librosa.load(f\"coughvid_20211012/{row['uuid']}.webm\",sr=16000,mono=True)\n",
            "/usr/local/lib/python3.10/dist-packages/librosa/core/audio.py:184: FutureWarning: librosa.core.audio.__audioread_load\n",
            "\tDeprecated as of librosa version 0.10.0.\n",
            "\tIt will be removed in librosa version 1.0.\n",
            "  y, sr_native = __audioread_load(path, offset, duration, dtype)\n",
            "<ipython-input-91-9fc97857c8b5>:47: UserWarning: PySoundFile failed. Trying audioread instead.\n",
            "  audio , _ =  librosa.load(f\"coughvid_20211012/{row['uuid']}.webm\",sr=16000,mono=True)\n",
            "/usr/local/lib/python3.10/dist-packages/librosa/core/audio.py:184: FutureWarning: librosa.core.audio.__audioread_load\n",
            "\tDeprecated as of librosa version 0.10.0.\n",
            "\tIt will be removed in librosa version 1.0.\n",
            "  y, sr_native = __audioread_load(path, offset, duration, dtype)\n",
            "<ipython-input-91-9fc97857c8b5>:47: UserWarning: PySoundFile failed. Trying audioread instead.\n",
            "  audio , _ =  librosa.load(f\"coughvid_20211012/{row['uuid']}.webm\",sr=16000,mono=True)\n",
            "/usr/local/lib/python3.10/dist-packages/librosa/core/audio.py:184: FutureWarning: librosa.core.audio.__audioread_load\n",
            "\tDeprecated as of librosa version 0.10.0.\n",
            "\tIt will be removed in librosa version 1.0.\n",
            "  y, sr_native = __audioread_load(path, offset, duration, dtype)\n",
            "<ipython-input-91-9fc97857c8b5>:47: UserWarning: PySoundFile failed. Trying audioread instead.\n",
            "  audio , _ =  librosa.load(f\"coughvid_20211012/{row['uuid']}.webm\",sr=16000,mono=True)\n",
            "/usr/local/lib/python3.10/dist-packages/librosa/core/audio.py:184: FutureWarning: librosa.core.audio.__audioread_load\n",
            "\tDeprecated as of librosa version 0.10.0.\n",
            "\tIt will be removed in librosa version 1.0.\n",
            "  y, sr_native = __audioread_load(path, offset, duration, dtype)\n",
            "<ipython-input-91-9fc97857c8b5>:47: UserWarning: PySoundFile failed. Trying audioread instead.\n",
            "  audio , _ =  librosa.load(f\"coughvid_20211012/{row['uuid']}.webm\",sr=16000,mono=True)\n",
            "/usr/local/lib/python3.10/dist-packages/librosa/core/audio.py:184: FutureWarning: librosa.core.audio.__audioread_load\n",
            "\tDeprecated as of librosa version 0.10.0.\n",
            "\tIt will be removed in librosa version 1.0.\n",
            "  y, sr_native = __audioread_load(path, offset, duration, dtype)\n",
            "<ipython-input-91-9fc97857c8b5>:47: UserWarning: PySoundFile failed. Trying audioread instead.\n",
            "  audio , _ =  librosa.load(f\"coughvid_20211012/{row['uuid']}.webm\",sr=16000,mono=True)\n",
            "/usr/local/lib/python3.10/dist-packages/librosa/core/audio.py:184: FutureWarning: librosa.core.audio.__audioread_load\n",
            "\tDeprecated as of librosa version 0.10.0.\n",
            "\tIt will be removed in librosa version 1.0.\n",
            "  y, sr_native = __audioread_load(path, offset, duration, dtype)\n",
            "<ipython-input-91-9fc97857c8b5>:47: UserWarning: PySoundFile failed. Trying audioread instead.\n",
            "  audio , _ =  librosa.load(f\"coughvid_20211012/{row['uuid']}.webm\",sr=16000,mono=True)\n",
            "/usr/local/lib/python3.10/dist-packages/librosa/core/audio.py:184: FutureWarning: librosa.core.audio.__audioread_load\n",
            "\tDeprecated as of librosa version 0.10.0.\n",
            "\tIt will be removed in librosa version 1.0.\n",
            "  y, sr_native = __audioread_load(path, offset, duration, dtype)\n"
          ]
        },
        {
          "output_type": "stream",
          "name": "stdout",
          "text": [
            "1118\t File 08818420-ae8d-4683-a8a5-519f60128028 ACCEPTED\n",
            "1119\t File 0886c74c-725a-4539-83ea-7bbdd1ca093c REJECTED\n",
            "1120\t File 0886f2df-34b9-4818-a1d5-b9d4d497fdda REJECTED\n",
            "1121\t File 08871905-26a9-425d-8c21-e72632ca7ef8 REJECTED\n",
            "1122\t File 088a7475-abc7-4b83-835b-0eeceb35441f REJECTED\n",
            "1123\t File 088b89ac-9f69-4293-a59f-a655d2a3d6ff ACCEPTED\n",
            "1124\t File 088e7929-7a27-4836-91f6-aea12de1bfca REJECTED\n",
            "1125\t File 088f20a0-6a2a-4ab0-ac62-76096d550767 ACCEPTED\n",
            "1126\t File 089100f6-5afb-4992-b85f-6ab7b89f64f0 ACCEPTED\n"
          ]
        },
        {
          "output_type": "stream",
          "name": "stderr",
          "text": [
            "<ipython-input-91-9fc97857c8b5>:47: UserWarning: PySoundFile failed. Trying audioread instead.\n",
            "  audio , _ =  librosa.load(f\"coughvid_20211012/{row['uuid']}.webm\",sr=16000,mono=True)\n",
            "/usr/local/lib/python3.10/dist-packages/librosa/core/audio.py:184: FutureWarning: librosa.core.audio.__audioread_load\n",
            "\tDeprecated as of librosa version 0.10.0.\n",
            "\tIt will be removed in librosa version 1.0.\n",
            "  y, sr_native = __audioread_load(path, offset, duration, dtype)\n",
            "<ipython-input-91-9fc97857c8b5>:47: UserWarning: PySoundFile failed. Trying audioread instead.\n",
            "  audio , _ =  librosa.load(f\"coughvid_20211012/{row['uuid']}.webm\",sr=16000,mono=True)\n",
            "/usr/local/lib/python3.10/dist-packages/librosa/core/audio.py:184: FutureWarning: librosa.core.audio.__audioread_load\n",
            "\tDeprecated as of librosa version 0.10.0.\n",
            "\tIt will be removed in librosa version 1.0.\n",
            "  y, sr_native = __audioread_load(path, offset, duration, dtype)\n",
            "<ipython-input-91-9fc97857c8b5>:47: UserWarning: PySoundFile failed. Trying audioread instead.\n",
            "  audio , _ =  librosa.load(f\"coughvid_20211012/{row['uuid']}.webm\",sr=16000,mono=True)\n",
            "/usr/local/lib/python3.10/dist-packages/librosa/core/audio.py:184: FutureWarning: librosa.core.audio.__audioread_load\n",
            "\tDeprecated as of librosa version 0.10.0.\n",
            "\tIt will be removed in librosa version 1.0.\n",
            "  y, sr_native = __audioread_load(path, offset, duration, dtype)\n",
            "<ipython-input-91-9fc97857c8b5>:47: UserWarning: PySoundFile failed. Trying audioread instead.\n",
            "  audio , _ =  librosa.load(f\"coughvid_20211012/{row['uuid']}.webm\",sr=16000,mono=True)\n",
            "/usr/local/lib/python3.10/dist-packages/librosa/core/audio.py:184: FutureWarning: librosa.core.audio.__audioread_load\n",
            "\tDeprecated as of librosa version 0.10.0.\n",
            "\tIt will be removed in librosa version 1.0.\n",
            "  y, sr_native = __audioread_load(path, offset, duration, dtype)\n"
          ]
        },
        {
          "output_type": "stream",
          "name": "stdout",
          "text": [
            "1127\t File 08973187-8cf7-4a38-bfa1-4fb715e8a1d2 ACCEPTED\n",
            "1128\t File 089f764a-6620-4554-8519-ac64f833a5d5 ACCEPTED\n"
          ]
        },
        {
          "output_type": "stream",
          "name": "stderr",
          "text": [
            "<ipython-input-91-9fc97857c8b5>:47: UserWarning: PySoundFile failed. Trying audioread instead.\n",
            "  audio , _ =  librosa.load(f\"coughvid_20211012/{row['uuid']}.webm\",sr=16000,mono=True)\n",
            "/usr/local/lib/python3.10/dist-packages/librosa/core/audio.py:184: FutureWarning: librosa.core.audio.__audioread_load\n",
            "\tDeprecated as of librosa version 0.10.0.\n",
            "\tIt will be removed in librosa version 1.0.\n",
            "  y, sr_native = __audioread_load(path, offset, duration, dtype)\n",
            "<ipython-input-91-9fc97857c8b5>:47: UserWarning: PySoundFile failed. Trying audioread instead.\n",
            "  audio , _ =  librosa.load(f\"coughvid_20211012/{row['uuid']}.webm\",sr=16000,mono=True)\n",
            "/usr/local/lib/python3.10/dist-packages/librosa/core/audio.py:184: FutureWarning: librosa.core.audio.__audioread_load\n",
            "\tDeprecated as of librosa version 0.10.0.\n",
            "\tIt will be removed in librosa version 1.0.\n",
            "  y, sr_native = __audioread_load(path, offset, duration, dtype)\n"
          ]
        },
        {
          "output_type": "stream",
          "name": "stdout",
          "text": [
            "1129\t File 08a2ba30-27a2-4408-aa9e-a5ed0649e431 ACCEPTED\n",
            "1130\t File 08a40302-ef19-421e-b425-d035e70fe215 ACCEPTED\n",
            "1131\t File 08a861f4-ed94-4890-85ef-9cb37e90a494 ACCEPTED\n",
            "1132\t File 08a8a413-8dbe-4408-8207-905ec2254024 REJECTED\n",
            "1133\t File 08ab9427-e990-49a6-af14-136c388add98 REJECTED\n",
            "1134\t File 08abfdbd-866d-4c03-81f7-6ba27871145f ACCEPTED\n"
          ]
        },
        {
          "output_type": "stream",
          "name": "stderr",
          "text": [
            "<ipython-input-91-9fc97857c8b5>:47: UserWarning: PySoundFile failed. Trying audioread instead.\n",
            "  audio , _ =  librosa.load(f\"coughvid_20211012/{row['uuid']}.webm\",sr=16000,mono=True)\n",
            "/usr/local/lib/python3.10/dist-packages/librosa/core/audio.py:184: FutureWarning: librosa.core.audio.__audioread_load\n",
            "\tDeprecated as of librosa version 0.10.0.\n",
            "\tIt will be removed in librosa version 1.0.\n",
            "  y, sr_native = __audioread_load(path, offset, duration, dtype)\n",
            "<ipython-input-91-9fc97857c8b5>:47: UserWarning: PySoundFile failed. Trying audioread instead.\n",
            "  audio , _ =  librosa.load(f\"coughvid_20211012/{row['uuid']}.webm\",sr=16000,mono=True)\n",
            "/usr/local/lib/python3.10/dist-packages/librosa/core/audio.py:184: FutureWarning: librosa.core.audio.__audioread_load\n",
            "\tDeprecated as of librosa version 0.10.0.\n",
            "\tIt will be removed in librosa version 1.0.\n",
            "  y, sr_native = __audioread_load(path, offset, duration, dtype)\n",
            "<ipython-input-91-9fc97857c8b5>:47: UserWarning: PySoundFile failed. Trying audioread instead.\n",
            "  audio , _ =  librosa.load(f\"coughvid_20211012/{row['uuid']}.webm\",sr=16000,mono=True)\n",
            "/usr/local/lib/python3.10/dist-packages/librosa/core/audio.py:184: FutureWarning: librosa.core.audio.__audioread_load\n",
            "\tDeprecated as of librosa version 0.10.0.\n",
            "\tIt will be removed in librosa version 1.0.\n",
            "  y, sr_native = __audioread_load(path, offset, duration, dtype)\n",
            "<ipython-input-91-9fc97857c8b5>:47: UserWarning: PySoundFile failed. Trying audioread instead.\n",
            "  audio , _ =  librosa.load(f\"coughvid_20211012/{row['uuid']}.webm\",sr=16000,mono=True)\n",
            "/usr/local/lib/python3.10/dist-packages/librosa/core/audio.py:184: FutureWarning: librosa.core.audio.__audioread_load\n",
            "\tDeprecated as of librosa version 0.10.0.\n",
            "\tIt will be removed in librosa version 1.0.\n",
            "  y, sr_native = __audioread_load(path, offset, duration, dtype)\n"
          ]
        },
        {
          "output_type": "stream",
          "name": "stdout",
          "text": [
            "1135\t File 08b26e0c-92fa-4e25-a94a-4d1ef1054890 ACCEPTED\n",
            "1136\t File 08b42c4a-cb53-4e97-b49e-21727aefaabd REJECTED\n",
            "1137\t File 08b513eb-5799-4664-81ad-a6b8f450c231 ACCEPTED\n"
          ]
        },
        {
          "output_type": "stream",
          "name": "stderr",
          "text": [
            "<ipython-input-91-9fc97857c8b5>:47: UserWarning: PySoundFile failed. Trying audioread instead.\n",
            "  audio , _ =  librosa.load(f\"coughvid_20211012/{row['uuid']}.webm\",sr=16000,mono=True)\n",
            "/usr/local/lib/python3.10/dist-packages/librosa/core/audio.py:184: FutureWarning: librosa.core.audio.__audioread_load\n",
            "\tDeprecated as of librosa version 0.10.0.\n",
            "\tIt will be removed in librosa version 1.0.\n",
            "  y, sr_native = __audioread_load(path, offset, duration, dtype)\n",
            "<ipython-input-91-9fc97857c8b5>:47: UserWarning: PySoundFile failed. Trying audioread instead.\n",
            "  audio , _ =  librosa.load(f\"coughvid_20211012/{row['uuid']}.webm\",sr=16000,mono=True)\n",
            "/usr/local/lib/python3.10/dist-packages/librosa/core/audio.py:184: FutureWarning: librosa.core.audio.__audioread_load\n",
            "\tDeprecated as of librosa version 0.10.0.\n",
            "\tIt will be removed in librosa version 1.0.\n",
            "  y, sr_native = __audioread_load(path, offset, duration, dtype)\n"
          ]
        },
        {
          "output_type": "stream",
          "name": "stdout",
          "text": [
            "1138\t File 08b5dce8-604c-496e-b06b-08f98eee76d6 ACCEPTED\n",
            "1139\t File 08b9362f-e96d-4ef2-9e83-0b0c63c9fa57 ACCEPTED\n",
            "1140\t File 08bcb554-f008-4fc7-a46e-c932baeafef7 REJECTED\n"
          ]
        },
        {
          "output_type": "stream",
          "name": "stderr",
          "text": [
            "<ipython-input-91-9fc97857c8b5>:47: UserWarning: PySoundFile failed. Trying audioread instead.\n",
            "  audio , _ =  librosa.load(f\"coughvid_20211012/{row['uuid']}.webm\",sr=16000,mono=True)\n",
            "/usr/local/lib/python3.10/dist-packages/librosa/core/audio.py:184: FutureWarning: librosa.core.audio.__audioread_load\n",
            "\tDeprecated as of librosa version 0.10.0.\n",
            "\tIt will be removed in librosa version 1.0.\n",
            "  y, sr_native = __audioread_load(path, offset, duration, dtype)\n",
            "<ipython-input-91-9fc97857c8b5>:47: UserWarning: PySoundFile failed. Trying audioread instead.\n",
            "  audio , _ =  librosa.load(f\"coughvid_20211012/{row['uuid']}.webm\",sr=16000,mono=True)\n",
            "/usr/local/lib/python3.10/dist-packages/librosa/core/audio.py:184: FutureWarning: librosa.core.audio.__audioread_load\n",
            "\tDeprecated as of librosa version 0.10.0.\n",
            "\tIt will be removed in librosa version 1.0.\n",
            "  y, sr_native = __audioread_load(path, offset, duration, dtype)\n"
          ]
        },
        {
          "output_type": "stream",
          "name": "stdout",
          "text": [
            "1141\t File 08bdb37f-216b-4a10-9cc4-9616ee9b7986 ACCEPTED\n",
            "1142\t File 08be37d7-f0d3-486a-bdc0-3da0173bbab2 REJECTED\n",
            "1143\t File 08be7cfe-da7b-4126-8290-aafe8a608b56 ACCEPTED\n",
            "1144\t File 08c0203e-1858-4d4f-8b38-c35e710a97e7 REJECTED\n",
            "1145\t File 08c0d784-4b64-43e9-85b3-cce76b87f939 ACCEPTED\n",
            "1146\t File 08c27bfc-85e6-42e9-8179-8e861b480f38 ACCEPTED\n",
            "1147\t File 08c89036-15c6-4572-95af-b78a72c1cfa4 REJECTED\n",
            "1148\t File 08c8ff6f-7957-4d87-90c3-9206d669fc28 REJECTED\n",
            "1149\t File 08cb685c-6bd5-44f4-b8b7-982618592d58 REJECTED\n",
            "1150\t File 08ccc5f2-0124-491d-b717-f5e01f2ed2a5 ACCEPTED\n",
            "1151\t File 08cd3aec-ad63-430b-b670-01fbd328c8b3 REJECTED\n",
            "1152\t File 08cf6344-b322-4c83-bf2f-4c0f96cd63dc ACCEPTED\n",
            "1153\t File 08d16cda-7b50-4d9d-9ce9-a05e1023cb9a ACCEPTED\n"
          ]
        },
        {
          "output_type": "stream",
          "name": "stderr",
          "text": [
            "<ipython-input-91-9fc97857c8b5>:47: UserWarning: PySoundFile failed. Trying audioread instead.\n",
            "  audio , _ =  librosa.load(f\"coughvid_20211012/{row['uuid']}.webm\",sr=16000,mono=True)\n",
            "/usr/local/lib/python3.10/dist-packages/librosa/core/audio.py:184: FutureWarning: librosa.core.audio.__audioread_load\n",
            "\tDeprecated as of librosa version 0.10.0.\n",
            "\tIt will be removed in librosa version 1.0.\n",
            "  y, sr_native = __audioread_load(path, offset, duration, dtype)\n",
            "<ipython-input-91-9fc97857c8b5>:47: UserWarning: PySoundFile failed. Trying audioread instead.\n",
            "  audio , _ =  librosa.load(f\"coughvid_20211012/{row['uuid']}.webm\",sr=16000,mono=True)\n",
            "/usr/local/lib/python3.10/dist-packages/librosa/core/audio.py:184: FutureWarning: librosa.core.audio.__audioread_load\n",
            "\tDeprecated as of librosa version 0.10.0.\n",
            "\tIt will be removed in librosa version 1.0.\n",
            "  y, sr_native = __audioread_load(path, offset, duration, dtype)\n",
            "<ipython-input-91-9fc97857c8b5>:47: UserWarning: PySoundFile failed. Trying audioread instead.\n",
            "  audio , _ =  librosa.load(f\"coughvid_20211012/{row['uuid']}.webm\",sr=16000,mono=True)\n",
            "/usr/local/lib/python3.10/dist-packages/librosa/core/audio.py:184: FutureWarning: librosa.core.audio.__audioread_load\n",
            "\tDeprecated as of librosa version 0.10.0.\n",
            "\tIt will be removed in librosa version 1.0.\n",
            "  y, sr_native = __audioread_load(path, offset, duration, dtype)\n",
            "<ipython-input-91-9fc97857c8b5>:47: UserWarning: PySoundFile failed. Trying audioread instead.\n",
            "  audio , _ =  librosa.load(f\"coughvid_20211012/{row['uuid']}.webm\",sr=16000,mono=True)\n",
            "/usr/local/lib/python3.10/dist-packages/librosa/core/audio.py:184: FutureWarning: librosa.core.audio.__audioread_load\n",
            "\tDeprecated as of librosa version 0.10.0.\n",
            "\tIt will be removed in librosa version 1.0.\n",
            "  y, sr_native = __audioread_load(path, offset, duration, dtype)\n",
            "<ipython-input-91-9fc97857c8b5>:47: UserWarning: PySoundFile failed. Trying audioread instead.\n",
            "  audio , _ =  librosa.load(f\"coughvid_20211012/{row['uuid']}.webm\",sr=16000,mono=True)\n",
            "/usr/local/lib/python3.10/dist-packages/librosa/core/audio.py:184: FutureWarning: librosa.core.audio.__audioread_load\n",
            "\tDeprecated as of librosa version 0.10.0.\n",
            "\tIt will be removed in librosa version 1.0.\n",
            "  y, sr_native = __audioread_load(path, offset, duration, dtype)\n",
            "<ipython-input-91-9fc97857c8b5>:47: UserWarning: PySoundFile failed. Trying audioread instead.\n",
            "  audio , _ =  librosa.load(f\"coughvid_20211012/{row['uuid']}.webm\",sr=16000,mono=True)\n",
            "/usr/local/lib/python3.10/dist-packages/librosa/core/audio.py:184: FutureWarning: librosa.core.audio.__audioread_load\n",
            "\tDeprecated as of librosa version 0.10.0.\n",
            "\tIt will be removed in librosa version 1.0.\n",
            "  y, sr_native = __audioread_load(path, offset, duration, dtype)\n",
            "<ipython-input-91-9fc97857c8b5>:47: UserWarning: PySoundFile failed. Trying audioread instead.\n",
            "  audio , _ =  librosa.load(f\"coughvid_20211012/{row['uuid']}.webm\",sr=16000,mono=True)\n",
            "/usr/local/lib/python3.10/dist-packages/librosa/core/audio.py:184: FutureWarning: librosa.core.audio.__audioread_load\n",
            "\tDeprecated as of librosa version 0.10.0.\n",
            "\tIt will be removed in librosa version 1.0.\n",
            "  y, sr_native = __audioread_load(path, offset, duration, dtype)\n"
          ]
        },
        {
          "output_type": "stream",
          "name": "stdout",
          "text": [
            "1154\t File 08d42330-756b-4b4b-8847-59edc66270b3 ACCEPTED\n",
            "1155\t File 08d5d346-6219-4e6d-ac06-ef489f2d186c ACCEPTED\n",
            "1156\t File 08dcd525-b524-4b01-8662-7fcb70e229e0 REJECTED\n",
            "1157\t File 08e1fcba-d1b0-4365-b1ac-5efa5d143bcb ACCEPTED\n",
            "1158\t File 08e2e4d1-c59b-4ff2-a09f-4698e28f604f REJECTED\n",
            "1159\t File 08e35e05-f2d0-45fc-abcb-1316fda14db4 REJECTED\n",
            "1160\t File 08e8d8d4-0989-4b75-afe6-51cd89f2043a REJECTED\n",
            "1161\t File 08ea8a04-dff8-46da-bf85-299f16c4708d REJECTED\n",
            "1162\t File 08ed630d-a41d-40b3-8bb5-0988aaee6aaf ACCEPTED\n",
            "1163\t File 08edf18d-2806-4f3f-9c81-5284a0c9b66e REJECTED\n",
            "1164\t File 08ee2d47-c2df-4f26-9c99-20f90fe2db4c ACCEPTED\n",
            "1165\t File 08efc570-8987-4d40-b9c6-7af0406ee70b REJECTED\n",
            "1166\t File 08f05aa0-7c3d-40be-a8ae-ab6bc6d41be3 ACCEPTED\n",
            "1167\t File 08f0b838-4104-46bf-b234-554c30fd8238 REJECTED\n",
            "1168\t File 08f49af2-33e9-4f1a-bf60-cf670af8838c REJECTED\n",
            "1169\t File 08f49f58-7448-4975-85ba-233ff73818c2 ACCEPTED\n",
            "1170\t File 08f577fc-f695-43f5-8e21-1faded22f348 ACCEPTED\n",
            "1171\t File 08fb3344-aa00-4bb3-b07d-78066dbf9fdb REJECTED\n",
            "1172\t File 08fb79a1-0a34-4dd7-a1ec-f050a91b7dbd REJECTED\n"
          ]
        },
        {
          "output_type": "stream",
          "name": "stderr",
          "text": [
            "<ipython-input-91-9fc97857c8b5>:47: UserWarning: PySoundFile failed. Trying audioread instead.\n",
            "  audio , _ =  librosa.load(f\"coughvid_20211012/{row['uuid']}.webm\",sr=16000,mono=True)\n",
            "/usr/local/lib/python3.10/dist-packages/librosa/core/audio.py:184: FutureWarning: librosa.core.audio.__audioread_load\n",
            "\tDeprecated as of librosa version 0.10.0.\n",
            "\tIt will be removed in librosa version 1.0.\n",
            "  y, sr_native = __audioread_load(path, offset, duration, dtype)\n",
            "<ipython-input-91-9fc97857c8b5>:47: UserWarning: PySoundFile failed. Trying audioread instead.\n",
            "  audio , _ =  librosa.load(f\"coughvid_20211012/{row['uuid']}.webm\",sr=16000,mono=True)\n",
            "/usr/local/lib/python3.10/dist-packages/librosa/core/audio.py:184: FutureWarning: librosa.core.audio.__audioread_load\n",
            "\tDeprecated as of librosa version 0.10.0.\n",
            "\tIt will be removed in librosa version 1.0.\n",
            "  y, sr_native = __audioread_load(path, offset, duration, dtype)\n",
            "<ipython-input-91-9fc97857c8b5>:47: UserWarning: PySoundFile failed. Trying audioread instead.\n",
            "  audio , _ =  librosa.load(f\"coughvid_20211012/{row['uuid']}.webm\",sr=16000,mono=True)\n",
            "/usr/local/lib/python3.10/dist-packages/librosa/core/audio.py:184: FutureWarning: librosa.core.audio.__audioread_load\n",
            "\tDeprecated as of librosa version 0.10.0.\n",
            "\tIt will be removed in librosa version 1.0.\n",
            "  y, sr_native = __audioread_load(path, offset, duration, dtype)\n",
            "<ipython-input-91-9fc97857c8b5>:47: UserWarning: PySoundFile failed. Trying audioread instead.\n",
            "  audio , _ =  librosa.load(f\"coughvid_20211012/{row['uuid']}.webm\",sr=16000,mono=True)\n",
            "/usr/local/lib/python3.10/dist-packages/librosa/core/audio.py:184: FutureWarning: librosa.core.audio.__audioread_load\n",
            "\tDeprecated as of librosa version 0.10.0.\n",
            "\tIt will be removed in librosa version 1.0.\n",
            "  y, sr_native = __audioread_load(path, offset, duration, dtype)\n",
            "<ipython-input-91-9fc97857c8b5>:47: UserWarning: PySoundFile failed. Trying audioread instead.\n",
            "  audio , _ =  librosa.load(f\"coughvid_20211012/{row['uuid']}.webm\",sr=16000,mono=True)\n",
            "/usr/local/lib/python3.10/dist-packages/librosa/core/audio.py:184: FutureWarning: librosa.core.audio.__audioread_load\n",
            "\tDeprecated as of librosa version 0.10.0.\n",
            "\tIt will be removed in librosa version 1.0.\n",
            "  y, sr_native = __audioread_load(path, offset, duration, dtype)\n",
            "<ipython-input-91-9fc97857c8b5>:47: UserWarning: PySoundFile failed. Trying audioread instead.\n",
            "  audio , _ =  librosa.load(f\"coughvid_20211012/{row['uuid']}.webm\",sr=16000,mono=True)\n",
            "/usr/local/lib/python3.10/dist-packages/librosa/core/audio.py:184: FutureWarning: librosa.core.audio.__audioread_load\n",
            "\tDeprecated as of librosa version 0.10.0.\n",
            "\tIt will be removed in librosa version 1.0.\n",
            "  y, sr_native = __audioread_load(path, offset, duration, dtype)\n",
            "<ipython-input-91-9fc97857c8b5>:47: UserWarning: PySoundFile failed. Trying audioread instead.\n",
            "  audio , _ =  librosa.load(f\"coughvid_20211012/{row['uuid']}.webm\",sr=16000,mono=True)\n",
            "/usr/local/lib/python3.10/dist-packages/librosa/core/audio.py:184: FutureWarning: librosa.core.audio.__audioread_load\n",
            "\tDeprecated as of librosa version 0.10.0.\n",
            "\tIt will be removed in librosa version 1.0.\n",
            "  y, sr_native = __audioread_load(path, offset, duration, dtype)\n",
            "<ipython-input-91-9fc97857c8b5>:47: UserWarning: PySoundFile failed. Trying audioread instead.\n",
            "  audio , _ =  librosa.load(f\"coughvid_20211012/{row['uuid']}.webm\",sr=16000,mono=True)\n",
            "/usr/local/lib/python3.10/dist-packages/librosa/core/audio.py:184: FutureWarning: librosa.core.audio.__audioread_load\n",
            "\tDeprecated as of librosa version 0.10.0.\n",
            "\tIt will be removed in librosa version 1.0.\n",
            "  y, sr_native = __audioread_load(path, offset, duration, dtype)\n"
          ]
        },
        {
          "output_type": "stream",
          "name": "stdout",
          "text": [
            "1173\t File 08fcea25-22e8-4117-97eb-e494b6edec13 ACCEPTED\n",
            "1174\t File 08fd1472-1d89-4bc6-b62b-0fce6483c19b ACCEPTED\n"
          ]
        },
        {
          "output_type": "stream",
          "name": "stderr",
          "text": [
            "<ipython-input-91-9fc97857c8b5>:47: UserWarning: PySoundFile failed. Trying audioread instead.\n",
            "  audio , _ =  librosa.load(f\"coughvid_20211012/{row['uuid']}.webm\",sr=16000,mono=True)\n",
            "/usr/local/lib/python3.10/dist-packages/librosa/core/audio.py:184: FutureWarning: librosa.core.audio.__audioread_load\n",
            "\tDeprecated as of librosa version 0.10.0.\n",
            "\tIt will be removed in librosa version 1.0.\n",
            "  y, sr_native = __audioread_load(path, offset, duration, dtype)\n",
            "<ipython-input-91-9fc97857c8b5>:47: UserWarning: PySoundFile failed. Trying audioread instead.\n",
            "  audio , _ =  librosa.load(f\"coughvid_20211012/{row['uuid']}.webm\",sr=16000,mono=True)\n",
            "/usr/local/lib/python3.10/dist-packages/librosa/core/audio.py:184: FutureWarning: librosa.core.audio.__audioread_load\n",
            "\tDeprecated as of librosa version 0.10.0.\n",
            "\tIt will be removed in librosa version 1.0.\n",
            "  y, sr_native = __audioread_load(path, offset, duration, dtype)\n"
          ]
        },
        {
          "output_type": "stream",
          "name": "stdout",
          "text": [
            "1175\t File 08ff2c28-c07c-4fe6-bb52-9c8337372b84 ACCEPTED\n",
            "1176\t File 0900acc1-fdce-4827-bd56-42e99b9b1d5e REJECTED\n",
            "1177\t File 0900af50-e1df-4e32-9a7b-035b14e29073 REJECTED\n",
            "1178\t File 0901e48e-c5ca-4f83-b520-f40708cfac86 REJECTED\n",
            "1179\t File 09028832-022a-478a-bde0-088e85d04326 ACCEPTED\n"
          ]
        },
        {
          "output_type": "stream",
          "name": "stderr",
          "text": [
            "<ipython-input-91-9fc97857c8b5>:47: UserWarning: PySoundFile failed. Trying audioread instead.\n",
            "  audio , _ =  librosa.load(f\"coughvid_20211012/{row['uuid']}.webm\",sr=16000,mono=True)\n",
            "/usr/local/lib/python3.10/dist-packages/librosa/core/audio.py:184: FutureWarning: librosa.core.audio.__audioread_load\n",
            "\tDeprecated as of librosa version 0.10.0.\n",
            "\tIt will be removed in librosa version 1.0.\n",
            "  y, sr_native = __audioread_load(path, offset, duration, dtype)\n",
            "<ipython-input-91-9fc97857c8b5>:47: UserWarning: PySoundFile failed. Trying audioread instead.\n",
            "  audio , _ =  librosa.load(f\"coughvid_20211012/{row['uuid']}.webm\",sr=16000,mono=True)\n",
            "/usr/local/lib/python3.10/dist-packages/librosa/core/audio.py:184: FutureWarning: librosa.core.audio.__audioread_load\n",
            "\tDeprecated as of librosa version 0.10.0.\n",
            "\tIt will be removed in librosa version 1.0.\n",
            "  y, sr_native = __audioread_load(path, offset, duration, dtype)\n"
          ]
        },
        {
          "output_type": "stream",
          "name": "stdout",
          "text": [
            "1180\t File 09070f1a-83b9-4d4e-94b7-a2f9fd2280c0 ACCEPTED\n",
            "1181\t File 0908fd5c-9e5c-440b-a90d-832d76899be0 ACCEPTED\n",
            "1182\t File 090a9011-8b0e-410a-b2a4-dafdbd735e70 ACCEPTED\n",
            "1183\t File 090cfba6-7f0a-44f0-8d77-b0613ab34f94 REJECTED\n",
            "1184\t File 0910e47b-30a0-4c55-8ec7-8256342a2956 REJECTED\n",
            "1185\t File 0910f7d1-5b45-42b5-9a92-727d41def322 ACCEPTED\n",
            "1186\t File 09115490-33a9-461c-9437-d7f71be057b0 ACCEPTED\n",
            "1187\t File 09126c08-5214-4723-94f1-7b654464eac0 ACCEPTED\n"
          ]
        },
        {
          "output_type": "stream",
          "name": "stderr",
          "text": [
            "<ipython-input-91-9fc97857c8b5>:47: UserWarning: PySoundFile failed. Trying audioread instead.\n",
            "  audio , _ =  librosa.load(f\"coughvid_20211012/{row['uuid']}.webm\",sr=16000,mono=True)\n",
            "/usr/local/lib/python3.10/dist-packages/librosa/core/audio.py:184: FutureWarning: librosa.core.audio.__audioread_load\n",
            "\tDeprecated as of librosa version 0.10.0.\n",
            "\tIt will be removed in librosa version 1.0.\n",
            "  y, sr_native = __audioread_load(path, offset, duration, dtype)\n",
            "<ipython-input-91-9fc97857c8b5>:47: UserWarning: PySoundFile failed. Trying audioread instead.\n",
            "  audio , _ =  librosa.load(f\"coughvid_20211012/{row['uuid']}.webm\",sr=16000,mono=True)\n",
            "/usr/local/lib/python3.10/dist-packages/librosa/core/audio.py:184: FutureWarning: librosa.core.audio.__audioread_load\n",
            "\tDeprecated as of librosa version 0.10.0.\n",
            "\tIt will be removed in librosa version 1.0.\n",
            "  y, sr_native = __audioread_load(path, offset, duration, dtype)\n",
            "<ipython-input-91-9fc97857c8b5>:47: UserWarning: PySoundFile failed. Trying audioread instead.\n",
            "  audio , _ =  librosa.load(f\"coughvid_20211012/{row['uuid']}.webm\",sr=16000,mono=True)\n",
            "/usr/local/lib/python3.10/dist-packages/librosa/core/audio.py:184: FutureWarning: librosa.core.audio.__audioread_load\n",
            "\tDeprecated as of librosa version 0.10.0.\n",
            "\tIt will be removed in librosa version 1.0.\n",
            "  y, sr_native = __audioread_load(path, offset, duration, dtype)\n",
            "<ipython-input-91-9fc97857c8b5>:47: UserWarning: PySoundFile failed. Trying audioread instead.\n",
            "  audio , _ =  librosa.load(f\"coughvid_20211012/{row['uuid']}.webm\",sr=16000,mono=True)\n",
            "/usr/local/lib/python3.10/dist-packages/librosa/core/audio.py:184: FutureWarning: librosa.core.audio.__audioread_load\n",
            "\tDeprecated as of librosa version 0.10.0.\n",
            "\tIt will be removed in librosa version 1.0.\n",
            "  y, sr_native = __audioread_load(path, offset, duration, dtype)\n",
            "<ipython-input-91-9fc97857c8b5>:47: UserWarning: PySoundFile failed. Trying audioread instead.\n",
            "  audio , _ =  librosa.load(f\"coughvid_20211012/{row['uuid']}.webm\",sr=16000,mono=True)\n",
            "/usr/local/lib/python3.10/dist-packages/librosa/core/audio.py:184: FutureWarning: librosa.core.audio.__audioread_load\n",
            "\tDeprecated as of librosa version 0.10.0.\n",
            "\tIt will be removed in librosa version 1.0.\n",
            "  y, sr_native = __audioread_load(path, offset, duration, dtype)\n",
            "<ipython-input-91-9fc97857c8b5>:47: UserWarning: PySoundFile failed. Trying audioread instead.\n",
            "  audio , _ =  librosa.load(f\"coughvid_20211012/{row['uuid']}.webm\",sr=16000,mono=True)\n",
            "/usr/local/lib/python3.10/dist-packages/librosa/core/audio.py:184: FutureWarning: librosa.core.audio.__audioread_load\n",
            "\tDeprecated as of librosa version 0.10.0.\n",
            "\tIt will be removed in librosa version 1.0.\n",
            "  y, sr_native = __audioread_load(path, offset, duration, dtype)\n"
          ]
        },
        {
          "output_type": "stream",
          "name": "stdout",
          "text": [
            "1188\t File 0913f557-2658-4fc9-9a43-8e8aa367bff4 ACCEPTED\n",
            "1189\t File 0914796f-46f1-4652-91b4-5896fc76320d REJECTED\n",
            "1190\t File 0914823d-34bb-4ff1-ac99-393be42e3f7d ACCEPTED\n",
            "1191\t File 09161b42-1234-4fd7-8d23-d0a4094ee15d ACCEPTED\n"
          ]
        },
        {
          "output_type": "stream",
          "name": "stderr",
          "text": [
            "<ipython-input-91-9fc97857c8b5>:47: UserWarning: PySoundFile failed. Trying audioread instead.\n",
            "  audio , _ =  librosa.load(f\"coughvid_20211012/{row['uuid']}.webm\",sr=16000,mono=True)\n",
            "/usr/local/lib/python3.10/dist-packages/librosa/core/audio.py:184: FutureWarning: librosa.core.audio.__audioread_load\n",
            "\tDeprecated as of librosa version 0.10.0.\n",
            "\tIt will be removed in librosa version 1.0.\n",
            "  y, sr_native = __audioread_load(path, offset, duration, dtype)\n",
            "<ipython-input-91-9fc97857c8b5>:47: UserWarning: PySoundFile failed. Trying audioread instead.\n",
            "  audio , _ =  librosa.load(f\"coughvid_20211012/{row['uuid']}.webm\",sr=16000,mono=True)\n",
            "/usr/local/lib/python3.10/dist-packages/librosa/core/audio.py:184: FutureWarning: librosa.core.audio.__audioread_load\n",
            "\tDeprecated as of librosa version 0.10.0.\n",
            "\tIt will be removed in librosa version 1.0.\n",
            "  y, sr_native = __audioread_load(path, offset, duration, dtype)\n",
            "<ipython-input-91-9fc97857c8b5>:47: UserWarning: PySoundFile failed. Trying audioread instead.\n",
            "  audio , _ =  librosa.load(f\"coughvid_20211012/{row['uuid']}.webm\",sr=16000,mono=True)\n",
            "/usr/local/lib/python3.10/dist-packages/librosa/core/audio.py:184: FutureWarning: librosa.core.audio.__audioread_load\n",
            "\tDeprecated as of librosa version 0.10.0.\n",
            "\tIt will be removed in librosa version 1.0.\n",
            "  y, sr_native = __audioread_load(path, offset, duration, dtype)\n"
          ]
        },
        {
          "output_type": "stream",
          "name": "stdout",
          "text": [
            "1192\t File 09166d42-6f33-40d6-9c09-23021b2e0898 ACCEPTED\n",
            "1193\t File 0916e6fe-6a1a-4e39-88d1-533a9c8ea3cc REJECTED\n",
            "1194\t File 091ab14f-7d13-4eb8-9dc7-5d8f5077364d ACCEPTED\n"
          ]
        },
        {
          "output_type": "stream",
          "name": "stderr",
          "text": [
            "<ipython-input-91-9fc97857c8b5>:47: UserWarning: PySoundFile failed. Trying audioread instead.\n",
            "  audio , _ =  librosa.load(f\"coughvid_20211012/{row['uuid']}.webm\",sr=16000,mono=True)\n",
            "/usr/local/lib/python3.10/dist-packages/librosa/core/audio.py:184: FutureWarning: librosa.core.audio.__audioread_load\n",
            "\tDeprecated as of librosa version 0.10.0.\n",
            "\tIt will be removed in librosa version 1.0.\n",
            "  y, sr_native = __audioread_load(path, offset, duration, dtype)\n",
            "<ipython-input-91-9fc97857c8b5>:47: UserWarning: PySoundFile failed. Trying audioread instead.\n",
            "  audio , _ =  librosa.load(f\"coughvid_20211012/{row['uuid']}.webm\",sr=16000,mono=True)\n",
            "/usr/local/lib/python3.10/dist-packages/librosa/core/audio.py:184: FutureWarning: librosa.core.audio.__audioread_load\n",
            "\tDeprecated as of librosa version 0.10.0.\n",
            "\tIt will be removed in librosa version 1.0.\n",
            "  y, sr_native = __audioread_load(path, offset, duration, dtype)\n"
          ]
        },
        {
          "output_type": "stream",
          "name": "stdout",
          "text": [
            "1195\t File 091c4195-afa0-4822-a4a5-98cb4902d070 ACCEPTED\n",
            "1196\t File 091e8ac0-1cab-4853-8662-4a127c2f4b64 ACCEPTED\n",
            "1197\t File 091f4e75-dd27-47cb-852a-b23923cdd804 REJECTED\n"
          ]
        },
        {
          "output_type": "stream",
          "name": "stderr",
          "text": [
            "<ipython-input-91-9fc97857c8b5>:47: UserWarning: PySoundFile failed. Trying audioread instead.\n",
            "  audio , _ =  librosa.load(f\"coughvid_20211012/{row['uuid']}.webm\",sr=16000,mono=True)\n",
            "/usr/local/lib/python3.10/dist-packages/librosa/core/audio.py:184: FutureWarning: librosa.core.audio.__audioread_load\n",
            "\tDeprecated as of librosa version 0.10.0.\n",
            "\tIt will be removed in librosa version 1.0.\n",
            "  y, sr_native = __audioread_load(path, offset, duration, dtype)\n",
            "<ipython-input-91-9fc97857c8b5>:47: UserWarning: PySoundFile failed. Trying audioread instead.\n",
            "  audio , _ =  librosa.load(f\"coughvid_20211012/{row['uuid']}.webm\",sr=16000,mono=True)\n",
            "/usr/local/lib/python3.10/dist-packages/librosa/core/audio.py:184: FutureWarning: librosa.core.audio.__audioread_load\n",
            "\tDeprecated as of librosa version 0.10.0.\n",
            "\tIt will be removed in librosa version 1.0.\n",
            "  y, sr_native = __audioread_load(path, offset, duration, dtype)\n"
          ]
        },
        {
          "output_type": "stream",
          "name": "stdout",
          "text": [
            "1198\t File 09215962-fc36-44a4-8d64-0c89713b5433 ACCEPTED\n",
            "1199\t File 0924c308-2cca-4ab2-8ef3-a204c349701b ACCEPTED\n"
          ]
        },
        {
          "output_type": "stream",
          "name": "stderr",
          "text": [
            "<ipython-input-91-9fc97857c8b5>:47: UserWarning: PySoundFile failed. Trying audioread instead.\n",
            "  audio , _ =  librosa.load(f\"coughvid_20211012/{row['uuid']}.webm\",sr=16000,mono=True)\n",
            "/usr/local/lib/python3.10/dist-packages/librosa/core/audio.py:184: FutureWarning: librosa.core.audio.__audioread_load\n",
            "\tDeprecated as of librosa version 0.10.0.\n",
            "\tIt will be removed in librosa version 1.0.\n",
            "  y, sr_native = __audioread_load(path, offset, duration, dtype)\n",
            "<ipython-input-91-9fc97857c8b5>:47: UserWarning: PySoundFile failed. Trying audioread instead.\n",
            "  audio , _ =  librosa.load(f\"coughvid_20211012/{row['uuid']}.webm\",sr=16000,mono=True)\n",
            "/usr/local/lib/python3.10/dist-packages/librosa/core/audio.py:184: FutureWarning: librosa.core.audio.__audioread_load\n",
            "\tDeprecated as of librosa version 0.10.0.\n",
            "\tIt will be removed in librosa version 1.0.\n",
            "  y, sr_native = __audioread_load(path, offset, duration, dtype)\n"
          ]
        },
        {
          "output_type": "stream",
          "name": "stdout",
          "text": [
            "1200\t File 0927a2da-f906-4159-b61d-110feb2e1fda ACCEPTED\n",
            "1201\t File 092a0f31-db97-4d45-a643-c5984b6f4cf9 REJECTED\n"
          ]
        },
        {
          "output_type": "stream",
          "name": "stderr",
          "text": [
            "<ipython-input-91-9fc97857c8b5>:47: UserWarning: PySoundFile failed. Trying audioread instead.\n",
            "  audio , _ =  librosa.load(f\"coughvid_20211012/{row['uuid']}.webm\",sr=16000,mono=True)\n",
            "/usr/local/lib/python3.10/dist-packages/librosa/core/audio.py:184: FutureWarning: librosa.core.audio.__audioread_load\n",
            "\tDeprecated as of librosa version 0.10.0.\n",
            "\tIt will be removed in librosa version 1.0.\n",
            "  y, sr_native = __audioread_load(path, offset, duration, dtype)\n"
          ]
        },
        {
          "output_type": "stream",
          "name": "stdout",
          "text": [
            "1202\t File 092c9275-85f0-4fd4-b64a-b1b3cdf683ec ACCEPTED\n",
            "1203\t File 092d10af-b848-473c-8dfd-19376b7c587a ACCEPTED\n"
          ]
        },
        {
          "output_type": "stream",
          "name": "stderr",
          "text": [
            "<ipython-input-91-9fc97857c8b5>:47: UserWarning: PySoundFile failed. Trying audioread instead.\n",
            "  audio , _ =  librosa.load(f\"coughvid_20211012/{row['uuid']}.webm\",sr=16000,mono=True)\n",
            "/usr/local/lib/python3.10/dist-packages/librosa/core/audio.py:184: FutureWarning: librosa.core.audio.__audioread_load\n",
            "\tDeprecated as of librosa version 0.10.0.\n",
            "\tIt will be removed in librosa version 1.0.\n",
            "  y, sr_native = __audioread_load(path, offset, duration, dtype)\n",
            "<ipython-input-91-9fc97857c8b5>:47: UserWarning: PySoundFile failed. Trying audioread instead.\n",
            "  audio , _ =  librosa.load(f\"coughvid_20211012/{row['uuid']}.webm\",sr=16000,mono=True)\n",
            "/usr/local/lib/python3.10/dist-packages/librosa/core/audio.py:184: FutureWarning: librosa.core.audio.__audioread_load\n",
            "\tDeprecated as of librosa version 0.10.0.\n",
            "\tIt will be removed in librosa version 1.0.\n",
            "  y, sr_native = __audioread_load(path, offset, duration, dtype)\n"
          ]
        },
        {
          "output_type": "stream",
          "name": "stdout",
          "text": [
            "1204\t File 092e3f2a-73dc-4dea-9638-307bff4e5ef8 ACCEPTED\n"
          ]
        },
        {
          "output_type": "stream",
          "name": "stderr",
          "text": [
            "<ipython-input-91-9fc97857c8b5>:47: UserWarning: PySoundFile failed. Trying audioread instead.\n",
            "  audio , _ =  librosa.load(f\"coughvid_20211012/{row['uuid']}.webm\",sr=16000,mono=True)\n",
            "/usr/local/lib/python3.10/dist-packages/librosa/core/audio.py:184: FutureWarning: librosa.core.audio.__audioread_load\n",
            "\tDeprecated as of librosa version 0.10.0.\n",
            "\tIt will be removed in librosa version 1.0.\n",
            "  y, sr_native = __audioread_load(path, offset, duration, dtype)\n"
          ]
        },
        {
          "output_type": "stream",
          "name": "stdout",
          "text": [
            "1205\t File 0932e32e-8c64-4333-a8e7-e6c7b612a89f ACCEPTED\n",
            "1206\t File 09334995-2126-4706-91de-e79f04bde754 REJECTED\n"
          ]
        },
        {
          "output_type": "stream",
          "name": "stderr",
          "text": [
            "<ipython-input-91-9fc97857c8b5>:47: UserWarning: PySoundFile failed. Trying audioread instead.\n",
            "  audio , _ =  librosa.load(f\"coughvid_20211012/{row['uuid']}.webm\",sr=16000,mono=True)\n",
            "/usr/local/lib/python3.10/dist-packages/librosa/core/audio.py:184: FutureWarning: librosa.core.audio.__audioread_load\n",
            "\tDeprecated as of librosa version 0.10.0.\n",
            "\tIt will be removed in librosa version 1.0.\n",
            "  y, sr_native = __audioread_load(path, offset, duration, dtype)\n"
          ]
        },
        {
          "output_type": "stream",
          "name": "stdout",
          "text": [
            "1207\t File 0933baf0-16b4-458e-b4a4-118e60cdb55c ACCEPTED\n",
            "1208\t File 09367533-59de-4d2a-a684-ddb9a33d5c84 ACCEPTED\n",
            "1209\t File 093a01ef-0cb6-49e3-a54e-2318b696cfd7 REJECTED\n",
            "1210\t File 093d21f5-3472-469d-b30d-c8de361a307d REJECTED\n",
            "1211\t File 093d58ba-033a-4881-b5d0-582c7723669a ACCEPTED\n",
            "1212\t File 093e31e6-a9cd-40c6-aa3c-252ddc7b58ef ACCEPTED\n",
            "1213\t File 09403826-7eac-4295-b7b7-4c7f1acb79ac REJECTED\n",
            "1214\t File 0941c9a0-7d1d-4c69-9626-e9abcfcc3460 ACCEPTED\n",
            "1215\t File 0944c06f-2bf7-4eb1-874a-b4950f0646bf ACCEPTED\n",
            "1216\t File 09458195-7377-41aa-9a9e-2bd9377e8a8e ACCEPTED\n",
            "1217\t File 09473ed4-eb6a-424e-9b22-b87a2bdf4709 ACCEPTED\n",
            "1218\t File 0948d504-0e79-4fc7-86da-08c949a0e063 REJECTED\n"
          ]
        },
        {
          "output_type": "stream",
          "name": "stderr",
          "text": [
            "<ipython-input-91-9fc97857c8b5>:47: UserWarning: PySoundFile failed. Trying audioread instead.\n",
            "  audio , _ =  librosa.load(f\"coughvid_20211012/{row['uuid']}.webm\",sr=16000,mono=True)\n",
            "/usr/local/lib/python3.10/dist-packages/librosa/core/audio.py:184: FutureWarning: librosa.core.audio.__audioread_load\n",
            "\tDeprecated as of librosa version 0.10.0.\n",
            "\tIt will be removed in librosa version 1.0.\n",
            "  y, sr_native = __audioread_load(path, offset, duration, dtype)\n",
            "<ipython-input-91-9fc97857c8b5>:47: UserWarning: PySoundFile failed. Trying audioread instead.\n",
            "  audio , _ =  librosa.load(f\"coughvid_20211012/{row['uuid']}.webm\",sr=16000,mono=True)\n",
            "/usr/local/lib/python3.10/dist-packages/librosa/core/audio.py:184: FutureWarning: librosa.core.audio.__audioread_load\n",
            "\tDeprecated as of librosa version 0.10.0.\n",
            "\tIt will be removed in librosa version 1.0.\n",
            "  y, sr_native = __audioread_load(path, offset, duration, dtype)\n",
            "<ipython-input-91-9fc97857c8b5>:47: UserWarning: PySoundFile failed. Trying audioread instead.\n",
            "  audio , _ =  librosa.load(f\"coughvid_20211012/{row['uuid']}.webm\",sr=16000,mono=True)\n",
            "/usr/local/lib/python3.10/dist-packages/librosa/core/audio.py:184: FutureWarning: librosa.core.audio.__audioread_load\n",
            "\tDeprecated as of librosa version 0.10.0.\n",
            "\tIt will be removed in librosa version 1.0.\n",
            "  y, sr_native = __audioread_load(path, offset, duration, dtype)\n",
            "<ipython-input-91-9fc97857c8b5>:47: UserWarning: PySoundFile failed. Trying audioread instead.\n",
            "  audio , _ =  librosa.load(f\"coughvid_20211012/{row['uuid']}.webm\",sr=16000,mono=True)\n",
            "/usr/local/lib/python3.10/dist-packages/librosa/core/audio.py:184: FutureWarning: librosa.core.audio.__audioread_load\n",
            "\tDeprecated as of librosa version 0.10.0.\n",
            "\tIt will be removed in librosa version 1.0.\n",
            "  y, sr_native = __audioread_load(path, offset, duration, dtype)\n",
            "<ipython-input-91-9fc97857c8b5>:47: UserWarning: PySoundFile failed. Trying audioread instead.\n",
            "  audio , _ =  librosa.load(f\"coughvid_20211012/{row['uuid']}.webm\",sr=16000,mono=True)\n",
            "/usr/local/lib/python3.10/dist-packages/librosa/core/audio.py:184: FutureWarning: librosa.core.audio.__audioread_load\n",
            "\tDeprecated as of librosa version 0.10.0.\n",
            "\tIt will be removed in librosa version 1.0.\n",
            "  y, sr_native = __audioread_load(path, offset, duration, dtype)\n",
            "<ipython-input-91-9fc97857c8b5>:47: UserWarning: PySoundFile failed. Trying audioread instead.\n",
            "  audio , _ =  librosa.load(f\"coughvid_20211012/{row['uuid']}.webm\",sr=16000,mono=True)\n",
            "/usr/local/lib/python3.10/dist-packages/librosa/core/audio.py:184: FutureWarning: librosa.core.audio.__audioread_load\n",
            "\tDeprecated as of librosa version 0.10.0.\n",
            "\tIt will be removed in librosa version 1.0.\n",
            "  y, sr_native = __audioread_load(path, offset, duration, dtype)\n",
            "<ipython-input-91-9fc97857c8b5>:47: UserWarning: PySoundFile failed. Trying audioread instead.\n",
            "  audio , _ =  librosa.load(f\"coughvid_20211012/{row['uuid']}.webm\",sr=16000,mono=True)\n",
            "/usr/local/lib/python3.10/dist-packages/librosa/core/audio.py:184: FutureWarning: librosa.core.audio.__audioread_load\n",
            "\tDeprecated as of librosa version 0.10.0.\n",
            "\tIt will be removed in librosa version 1.0.\n",
            "  y, sr_native = __audioread_load(path, offset, duration, dtype)\n",
            "<ipython-input-91-9fc97857c8b5>:47: UserWarning: PySoundFile failed. Trying audioread instead.\n",
            "  audio , _ =  librosa.load(f\"coughvid_20211012/{row['uuid']}.webm\",sr=16000,mono=True)\n",
            "/usr/local/lib/python3.10/dist-packages/librosa/core/audio.py:184: FutureWarning: librosa.core.audio.__audioread_load\n",
            "\tDeprecated as of librosa version 0.10.0.\n",
            "\tIt will be removed in librosa version 1.0.\n",
            "  y, sr_native = __audioread_load(path, offset, duration, dtype)\n"
          ]
        },
        {
          "output_type": "stream",
          "name": "stdout",
          "text": [
            "1219\t File 094c00f4-a8bb-4ed1-a647-69b08c0e8bbd ACCEPTED\n",
            "1220\t File 094c7a88-4db2-4f08-ad96-7f973538cc62 ACCEPTED\n"
          ]
        },
        {
          "output_type": "stream",
          "name": "stderr",
          "text": [
            "<ipython-input-91-9fc97857c8b5>:47: UserWarning: PySoundFile failed. Trying audioread instead.\n",
            "  audio , _ =  librosa.load(f\"coughvid_20211012/{row['uuid']}.webm\",sr=16000,mono=True)\n",
            "/usr/local/lib/python3.10/dist-packages/librosa/core/audio.py:184: FutureWarning: librosa.core.audio.__audioread_load\n",
            "\tDeprecated as of librosa version 0.10.0.\n",
            "\tIt will be removed in librosa version 1.0.\n",
            "  y, sr_native = __audioread_load(path, offset, duration, dtype)\n",
            "<ipython-input-91-9fc97857c8b5>:47: UserWarning: PySoundFile failed. Trying audioread instead.\n",
            "  audio , _ =  librosa.load(f\"coughvid_20211012/{row['uuid']}.webm\",sr=16000,mono=True)\n",
            "/usr/local/lib/python3.10/dist-packages/librosa/core/audio.py:184: FutureWarning: librosa.core.audio.__audioread_load\n",
            "\tDeprecated as of librosa version 0.10.0.\n",
            "\tIt will be removed in librosa version 1.0.\n",
            "  y, sr_native = __audioread_load(path, offset, duration, dtype)\n"
          ]
        },
        {
          "output_type": "stream",
          "name": "stdout",
          "text": [
            "1221\t File 0951a755-361c-4ee1-b118-84d16c34ba82 ACCEPTED\n"
          ]
        },
        {
          "output_type": "stream",
          "name": "stderr",
          "text": [
            "<ipython-input-91-9fc97857c8b5>:47: UserWarning: PySoundFile failed. Trying audioread instead.\n",
            "  audio , _ =  librosa.load(f\"coughvid_20211012/{row['uuid']}.webm\",sr=16000,mono=True)\n",
            "/usr/local/lib/python3.10/dist-packages/librosa/core/audio.py:184: FutureWarning: librosa.core.audio.__audioread_load\n",
            "\tDeprecated as of librosa version 0.10.0.\n",
            "\tIt will be removed in librosa version 1.0.\n",
            "  y, sr_native = __audioread_load(path, offset, duration, dtype)\n"
          ]
        },
        {
          "output_type": "stream",
          "name": "stdout",
          "text": [
            "1222\t File 0953349c-da26-4e04-b5b5-37f2db69b2aa ACCEPTED\n",
            "1223\t File 0953491c-16a7-4d13-b768-cbe2cc9b2b25 REJECTED\n"
          ]
        },
        {
          "output_type": "stream",
          "name": "stderr",
          "text": [
            "<ipython-input-91-9fc97857c8b5>:47: UserWarning: PySoundFile failed. Trying audioread instead.\n",
            "  audio , _ =  librosa.load(f\"coughvid_20211012/{row['uuid']}.webm\",sr=16000,mono=True)\n",
            "/usr/local/lib/python3.10/dist-packages/librosa/core/audio.py:184: FutureWarning: librosa.core.audio.__audioread_load\n",
            "\tDeprecated as of librosa version 0.10.0.\n",
            "\tIt will be removed in librosa version 1.0.\n",
            "  y, sr_native = __audioread_load(path, offset, duration, dtype)\n"
          ]
        },
        {
          "output_type": "stream",
          "name": "stdout",
          "text": [
            "1224\t File 0953686b-793d-45de-90fa-617e486db5e9 ACCEPTED\n",
            "1225\t File 0953e011-80ef-4829-933a-6d1c77648fb9 REJECTED\n"
          ]
        },
        {
          "output_type": "stream",
          "name": "stderr",
          "text": [
            "<ipython-input-91-9fc97857c8b5>:47: UserWarning: PySoundFile failed. Trying audioread instead.\n",
            "  audio , _ =  librosa.load(f\"coughvid_20211012/{row['uuid']}.webm\",sr=16000,mono=True)\n",
            "/usr/local/lib/python3.10/dist-packages/librosa/core/audio.py:184: FutureWarning: librosa.core.audio.__audioread_load\n",
            "\tDeprecated as of librosa version 0.10.0.\n",
            "\tIt will be removed in librosa version 1.0.\n",
            "  y, sr_native = __audioread_load(path, offset, duration, dtype)\n"
          ]
        },
        {
          "output_type": "stream",
          "name": "stdout",
          "text": [
            "1226\t File 09560dc6-bffd-4dd0-b132-b86ddbd3051c ACCEPTED\n",
            "1227\t File 0956670e-c346-43d2-89cd-a79af7476ff8 ACCEPTED\n",
            "1228\t File 095c135c-6ced-4cb0-b2f3-470dd0bd95ae ACCEPTED\n",
            "1229\t File 095f52be-78d4-452d-9360-43fae6949c4f ACCEPTED\n",
            "1230\t File 095fc115-ab50-48b6-88ac-85d7e5612734 REJECTED\n",
            "1231\t File 09626c8d-612d-4e3c-8198-c57a372bc162 ACCEPTED\n",
            "1232\t File 096620ea-0b5c-4f2b-95fd-c0a32fa87ad0 ACCEPTED\n"
          ]
        },
        {
          "output_type": "stream",
          "name": "stderr",
          "text": [
            "<ipython-input-91-9fc97857c8b5>:47: UserWarning: PySoundFile failed. Trying audioread instead.\n",
            "  audio , _ =  librosa.load(f\"coughvid_20211012/{row['uuid']}.webm\",sr=16000,mono=True)\n",
            "/usr/local/lib/python3.10/dist-packages/librosa/core/audio.py:184: FutureWarning: librosa.core.audio.__audioread_load\n",
            "\tDeprecated as of librosa version 0.10.0.\n",
            "\tIt will be removed in librosa version 1.0.\n",
            "  y, sr_native = __audioread_load(path, offset, duration, dtype)\n",
            "<ipython-input-91-9fc97857c8b5>:47: UserWarning: PySoundFile failed. Trying audioread instead.\n",
            "  audio , _ =  librosa.load(f\"coughvid_20211012/{row['uuid']}.webm\",sr=16000,mono=True)\n",
            "/usr/local/lib/python3.10/dist-packages/librosa/core/audio.py:184: FutureWarning: librosa.core.audio.__audioread_load\n",
            "\tDeprecated as of librosa version 0.10.0.\n",
            "\tIt will be removed in librosa version 1.0.\n",
            "  y, sr_native = __audioread_load(path, offset, duration, dtype)\n",
            "<ipython-input-91-9fc97857c8b5>:47: UserWarning: PySoundFile failed. Trying audioread instead.\n",
            "  audio , _ =  librosa.load(f\"coughvid_20211012/{row['uuid']}.webm\",sr=16000,mono=True)\n",
            "/usr/local/lib/python3.10/dist-packages/librosa/core/audio.py:184: FutureWarning: librosa.core.audio.__audioread_load\n",
            "\tDeprecated as of librosa version 0.10.0.\n",
            "\tIt will be removed in librosa version 1.0.\n",
            "  y, sr_native = __audioread_load(path, offset, duration, dtype)\n",
            "<ipython-input-91-9fc97857c8b5>:47: UserWarning: PySoundFile failed. Trying audioread instead.\n",
            "  audio , _ =  librosa.load(f\"coughvid_20211012/{row['uuid']}.webm\",sr=16000,mono=True)\n",
            "/usr/local/lib/python3.10/dist-packages/librosa/core/audio.py:184: FutureWarning: librosa.core.audio.__audioread_load\n",
            "\tDeprecated as of librosa version 0.10.0.\n",
            "\tIt will be removed in librosa version 1.0.\n",
            "  y, sr_native = __audioread_load(path, offset, duration, dtype)\n",
            "<ipython-input-91-9fc97857c8b5>:47: UserWarning: PySoundFile failed. Trying audioread instead.\n",
            "  audio , _ =  librosa.load(f\"coughvid_20211012/{row['uuid']}.webm\",sr=16000,mono=True)\n",
            "/usr/local/lib/python3.10/dist-packages/librosa/core/audio.py:184: FutureWarning: librosa.core.audio.__audioread_load\n",
            "\tDeprecated as of librosa version 0.10.0.\n",
            "\tIt will be removed in librosa version 1.0.\n",
            "  y, sr_native = __audioread_load(path, offset, duration, dtype)\n",
            "<ipython-input-91-9fc97857c8b5>:47: UserWarning: PySoundFile failed. Trying audioread instead.\n",
            "  audio , _ =  librosa.load(f\"coughvid_20211012/{row['uuid']}.webm\",sr=16000,mono=True)\n",
            "/usr/local/lib/python3.10/dist-packages/librosa/core/audio.py:184: FutureWarning: librosa.core.audio.__audioread_load\n",
            "\tDeprecated as of librosa version 0.10.0.\n",
            "\tIt will be removed in librosa version 1.0.\n",
            "  y, sr_native = __audioread_load(path, offset, duration, dtype)\n"
          ]
        },
        {
          "output_type": "stream",
          "name": "stdout",
          "text": [
            "1233\t File 09676287-8ad3-430e-a673-c606a3e1c548 ACCEPTED\n",
            "1234\t File 0969a5ce-eb7f-45f3-aed0-90c8a13ce469 REJECTED\n",
            "1235\t File 0969d0c4-34ce-4e9a-8cf1-1b18403587e8 ACCEPTED\n",
            "1236\t File 096bea79-88a1-4caa-a103-79e8eef97dd0 REJECTED\n"
          ]
        },
        {
          "output_type": "stream",
          "name": "stderr",
          "text": [
            "<ipython-input-91-9fc97857c8b5>:47: UserWarning: PySoundFile failed. Trying audioread instead.\n",
            "  audio , _ =  librosa.load(f\"coughvid_20211012/{row['uuid']}.webm\",sr=16000,mono=True)\n",
            "/usr/local/lib/python3.10/dist-packages/librosa/core/audio.py:184: FutureWarning: librosa.core.audio.__audioread_load\n",
            "\tDeprecated as of librosa version 0.10.0.\n",
            "\tIt will be removed in librosa version 1.0.\n",
            "  y, sr_native = __audioread_load(path, offset, duration, dtype)\n",
            "<ipython-input-91-9fc97857c8b5>:47: UserWarning: PySoundFile failed. Trying audioread instead.\n",
            "  audio , _ =  librosa.load(f\"coughvid_20211012/{row['uuid']}.webm\",sr=16000,mono=True)\n",
            "/usr/local/lib/python3.10/dist-packages/librosa/core/audio.py:184: FutureWarning: librosa.core.audio.__audioread_load\n",
            "\tDeprecated as of librosa version 0.10.0.\n",
            "\tIt will be removed in librosa version 1.0.\n",
            "  y, sr_native = __audioread_load(path, offset, duration, dtype)\n"
          ]
        },
        {
          "output_type": "stream",
          "name": "stdout",
          "text": [
            "1237\t File 096c3bd5-4599-4b26-a35c-6dfbf10d549b ACCEPTED\n",
            "1238\t File 096d20b1-9b90-4c94-aa17-ac61d9e216ee REJECTED\n",
            "1239\t File 096dad76-5bc7-4b7d-b534-29769e2e447a ACCEPTED\n",
            "1240\t File 096dc768-9519-4f96-b0f8-0f9c82217230 REJECTED\n"
          ]
        },
        {
          "output_type": "stream",
          "name": "stderr",
          "text": [
            "<ipython-input-91-9fc97857c8b5>:47: UserWarning: PySoundFile failed. Trying audioread instead.\n",
            "  audio , _ =  librosa.load(f\"coughvid_20211012/{row['uuid']}.webm\",sr=16000,mono=True)\n",
            "/usr/local/lib/python3.10/dist-packages/librosa/core/audio.py:184: FutureWarning: librosa.core.audio.__audioread_load\n",
            "\tDeprecated as of librosa version 0.10.0.\n",
            "\tIt will be removed in librosa version 1.0.\n",
            "  y, sr_native = __audioread_load(path, offset, duration, dtype)\n",
            "<ipython-input-91-9fc97857c8b5>:47: UserWarning: PySoundFile failed. Trying audioread instead.\n",
            "  audio , _ =  librosa.load(f\"coughvid_20211012/{row['uuid']}.webm\",sr=16000,mono=True)\n",
            "/usr/local/lib/python3.10/dist-packages/librosa/core/audio.py:184: FutureWarning: librosa.core.audio.__audioread_load\n",
            "\tDeprecated as of librosa version 0.10.0.\n",
            "\tIt will be removed in librosa version 1.0.\n",
            "  y, sr_native = __audioread_load(path, offset, duration, dtype)\n"
          ]
        },
        {
          "output_type": "stream",
          "name": "stdout",
          "text": [
            "1241\t File 096f7ce5-56bb-43f7-b57d-dfe303b4ab98 ACCEPTED\n",
            "1242\t File 0970af31-9d5d-41f5-b896-699531f57f38 ACCEPTED\n",
            "1243\t File 0970fdfe-ba41-4ada-bb5b-c4cb0c92b9fd ACCEPTED\n"
          ]
        },
        {
          "output_type": "stream",
          "name": "stderr",
          "text": [
            "<ipython-input-91-9fc97857c8b5>:47: UserWarning: PySoundFile failed. Trying audioread instead.\n",
            "  audio , _ =  librosa.load(f\"coughvid_20211012/{row['uuid']}.webm\",sr=16000,mono=True)\n",
            "/usr/local/lib/python3.10/dist-packages/librosa/core/audio.py:184: FutureWarning: librosa.core.audio.__audioread_load\n",
            "\tDeprecated as of librosa version 0.10.0.\n",
            "\tIt will be removed in librosa version 1.0.\n",
            "  y, sr_native = __audioread_load(path, offset, duration, dtype)\n",
            "<ipython-input-91-9fc97857c8b5>:47: UserWarning: PySoundFile failed. Trying audioread instead.\n",
            "  audio , _ =  librosa.load(f\"coughvid_20211012/{row['uuid']}.webm\",sr=16000,mono=True)\n",
            "/usr/local/lib/python3.10/dist-packages/librosa/core/audio.py:184: FutureWarning: librosa.core.audio.__audioread_load\n",
            "\tDeprecated as of librosa version 0.10.0.\n",
            "\tIt will be removed in librosa version 1.0.\n",
            "  y, sr_native = __audioread_load(path, offset, duration, dtype)\n",
            "<ipython-input-91-9fc97857c8b5>:47: UserWarning: PySoundFile failed. Trying audioread instead.\n",
            "  audio , _ =  librosa.load(f\"coughvid_20211012/{row['uuid']}.webm\",sr=16000,mono=True)\n",
            "/usr/local/lib/python3.10/dist-packages/librosa/core/audio.py:184: FutureWarning: librosa.core.audio.__audioread_load\n",
            "\tDeprecated as of librosa version 0.10.0.\n",
            "\tIt will be removed in librosa version 1.0.\n",
            "  y, sr_native = __audioread_load(path, offset, duration, dtype)\n"
          ]
        },
        {
          "output_type": "stream",
          "name": "stdout",
          "text": [
            "1244\t File 097b4386-13e6-48a4-8388-59204dd1e7b2 ACCEPTED\n",
            "1245\t File 097e5b56-3686-4bd2-8b6c-d7376c35ee0c ACCEPTED\n",
            "1246\t File 0981cdc7-70af-4570-ae2e-54ce9700083a REJECTED\n",
            "1247\t File 0982ccad-4e5a-4ac4-90ce-3c39bf9bf3be REJECTED\n"
          ]
        },
        {
          "output_type": "stream",
          "name": "stderr",
          "text": [
            "<ipython-input-91-9fc97857c8b5>:47: UserWarning: PySoundFile failed. Trying audioread instead.\n",
            "  audio , _ =  librosa.load(f\"coughvid_20211012/{row['uuid']}.webm\",sr=16000,mono=True)\n",
            "/usr/local/lib/python3.10/dist-packages/librosa/core/audio.py:184: FutureWarning: librosa.core.audio.__audioread_load\n",
            "\tDeprecated as of librosa version 0.10.0.\n",
            "\tIt will be removed in librosa version 1.0.\n",
            "  y, sr_native = __audioread_load(path, offset, duration, dtype)\n",
            "<ipython-input-91-9fc97857c8b5>:47: UserWarning: PySoundFile failed. Trying audioread instead.\n",
            "  audio , _ =  librosa.load(f\"coughvid_20211012/{row['uuid']}.webm\",sr=16000,mono=True)\n",
            "/usr/local/lib/python3.10/dist-packages/librosa/core/audio.py:184: FutureWarning: librosa.core.audio.__audioread_load\n",
            "\tDeprecated as of librosa version 0.10.0.\n",
            "\tIt will be removed in librosa version 1.0.\n",
            "  y, sr_native = __audioread_load(path, offset, duration, dtype)\n"
          ]
        },
        {
          "output_type": "stream",
          "name": "stdout",
          "text": [
            "1248\t File 0983a42e-224f-4578-b1ae-039913162c2b ACCEPTED\n",
            "1249\t File 09856cc5-98d6-4c34-98ac-5fa30a9f05ad ACCEPTED\n",
            "1250\t File 0987b73d-5c93-46ef-92f4-a37e9e65330c REJECTED\n",
            "1251\t File 0987eda4-fdd2-4e15-bd1b-3d007ed7e029 REJECTED\n"
          ]
        },
        {
          "output_type": "stream",
          "name": "stderr",
          "text": [
            "<ipython-input-91-9fc97857c8b5>:47: UserWarning: PySoundFile failed. Trying audioread instead.\n",
            "  audio , _ =  librosa.load(f\"coughvid_20211012/{row['uuid']}.webm\",sr=16000,mono=True)\n",
            "/usr/local/lib/python3.10/dist-packages/librosa/core/audio.py:184: FutureWarning: librosa.core.audio.__audioread_load\n",
            "\tDeprecated as of librosa version 0.10.0.\n",
            "\tIt will be removed in librosa version 1.0.\n",
            "  y, sr_native = __audioread_load(path, offset, duration, dtype)\n",
            "<ipython-input-91-9fc97857c8b5>:47: UserWarning: PySoundFile failed. Trying audioread instead.\n",
            "  audio , _ =  librosa.load(f\"coughvid_20211012/{row['uuid']}.webm\",sr=16000,mono=True)\n",
            "/usr/local/lib/python3.10/dist-packages/librosa/core/audio.py:184: FutureWarning: librosa.core.audio.__audioread_load\n",
            "\tDeprecated as of librosa version 0.10.0.\n",
            "\tIt will be removed in librosa version 1.0.\n",
            "  y, sr_native = __audioread_load(path, offset, duration, dtype)\n"
          ]
        },
        {
          "output_type": "stream",
          "name": "stdout",
          "text": [
            "1252\t File 098a2a72-f7c9-4f46-9a55-597c3119d662 ACCEPTED\n",
            "1253\t File 098ebbe4-e03c-49a4-bb3a-5fea01b869f6 ACCEPTED\n",
            "1254\t File 098f42c2-4abd-442e-906d-6033470e5d34 REJECTED\n",
            "1255\t File 098f91ff-8885-4a55-b5f7-f4dcb3d31889 ACCEPTED\n",
            "1256\t File 09910e37-f253-4ca6-a2ba-be1fc460db66 ACCEPTED\n",
            "1257\t File 09917f09-a421-4a38-9b00-2c91a1c0fa7d ACCEPTED\n",
            "1258\t File 0991d358-62f3-47f7-8473-1257bfbb1111 REJECTED\n",
            "1259\t File 09924867-0251-4450-b09b-83218769d518 ACCEPTED\n"
          ]
        },
        {
          "output_type": "stream",
          "name": "stderr",
          "text": [
            "<ipython-input-91-9fc97857c8b5>:47: UserWarning: PySoundFile failed. Trying audioread instead.\n",
            "  audio , _ =  librosa.load(f\"coughvid_20211012/{row['uuid']}.webm\",sr=16000,mono=True)\n",
            "/usr/local/lib/python3.10/dist-packages/librosa/core/audio.py:184: FutureWarning: librosa.core.audio.__audioread_load\n",
            "\tDeprecated as of librosa version 0.10.0.\n",
            "\tIt will be removed in librosa version 1.0.\n",
            "  y, sr_native = __audioread_load(path, offset, duration, dtype)\n",
            "<ipython-input-91-9fc97857c8b5>:47: UserWarning: PySoundFile failed. Trying audioread instead.\n",
            "  audio , _ =  librosa.load(f\"coughvid_20211012/{row['uuid']}.webm\",sr=16000,mono=True)\n",
            "/usr/local/lib/python3.10/dist-packages/librosa/core/audio.py:184: FutureWarning: librosa.core.audio.__audioread_load\n",
            "\tDeprecated as of librosa version 0.10.0.\n",
            "\tIt will be removed in librosa version 1.0.\n",
            "  y, sr_native = __audioread_load(path, offset, duration, dtype)\n",
            "<ipython-input-91-9fc97857c8b5>:47: UserWarning: PySoundFile failed. Trying audioread instead.\n",
            "  audio , _ =  librosa.load(f\"coughvid_20211012/{row['uuid']}.webm\",sr=16000,mono=True)\n",
            "/usr/local/lib/python3.10/dist-packages/librosa/core/audio.py:184: FutureWarning: librosa.core.audio.__audioread_load\n",
            "\tDeprecated as of librosa version 0.10.0.\n",
            "\tIt will be removed in librosa version 1.0.\n",
            "  y, sr_native = __audioread_load(path, offset, duration, dtype)\n",
            "<ipython-input-91-9fc97857c8b5>:47: UserWarning: PySoundFile failed. Trying audioread instead.\n",
            "  audio , _ =  librosa.load(f\"coughvid_20211012/{row['uuid']}.webm\",sr=16000,mono=True)\n",
            "/usr/local/lib/python3.10/dist-packages/librosa/core/audio.py:184: FutureWarning: librosa.core.audio.__audioread_load\n",
            "\tDeprecated as of librosa version 0.10.0.\n",
            "\tIt will be removed in librosa version 1.0.\n",
            "  y, sr_native = __audioread_load(path, offset, duration, dtype)\n",
            "<ipython-input-91-9fc97857c8b5>:47: UserWarning: PySoundFile failed. Trying audioread instead.\n",
            "  audio , _ =  librosa.load(f\"coughvid_20211012/{row['uuid']}.webm\",sr=16000,mono=True)\n",
            "/usr/local/lib/python3.10/dist-packages/librosa/core/audio.py:184: FutureWarning: librosa.core.audio.__audioread_load\n",
            "\tDeprecated as of librosa version 0.10.0.\n",
            "\tIt will be removed in librosa version 1.0.\n",
            "  y, sr_native = __audioread_load(path, offset, duration, dtype)\n",
            "<ipython-input-91-9fc97857c8b5>:47: UserWarning: PySoundFile failed. Trying audioread instead.\n",
            "  audio , _ =  librosa.load(f\"coughvid_20211012/{row['uuid']}.webm\",sr=16000,mono=True)\n",
            "/usr/local/lib/python3.10/dist-packages/librosa/core/audio.py:184: FutureWarning: librosa.core.audio.__audioread_load\n",
            "\tDeprecated as of librosa version 0.10.0.\n",
            "\tIt will be removed in librosa version 1.0.\n",
            "  y, sr_native = __audioread_load(path, offset, duration, dtype)\n"
          ]
        },
        {
          "output_type": "stream",
          "name": "stdout",
          "text": [
            "1260\t File 09976800-a17a-4ab5-b9a2-547a8091e6b6 ACCEPTED\n",
            "1261\t File 099cb544-c948-4a19-a226-90f1f5754b10 ACCEPTED\n",
            "1262\t File 099e74f0-c97a-44d4-84e7-95619da0afb0 REJECTED\n",
            "1263\t File 099f9c59-3206-438d-8fd5-be59c5337afa ACCEPTED\n",
            "1264\t File 09a1eae2-80e8-4526-85a7-e9be6cde70b4 ACCEPTED\n",
            "1265\t File 09a1f1b4-d691-4bd5-8ad4-296c34aa76b8 REJECTED\n"
          ]
        },
        {
          "output_type": "stream",
          "name": "stderr",
          "text": [
            "<ipython-input-91-9fc97857c8b5>:47: UserWarning: PySoundFile failed. Trying audioread instead.\n",
            "  audio , _ =  librosa.load(f\"coughvid_20211012/{row['uuid']}.webm\",sr=16000,mono=True)\n",
            "/usr/local/lib/python3.10/dist-packages/librosa/core/audio.py:184: FutureWarning: librosa.core.audio.__audioread_load\n",
            "\tDeprecated as of librosa version 0.10.0.\n",
            "\tIt will be removed in librosa version 1.0.\n",
            "  y, sr_native = __audioread_load(path, offset, duration, dtype)\n",
            "<ipython-input-91-9fc97857c8b5>:47: UserWarning: PySoundFile failed. Trying audioread instead.\n",
            "  audio , _ =  librosa.load(f\"coughvid_20211012/{row['uuid']}.webm\",sr=16000,mono=True)\n",
            "/usr/local/lib/python3.10/dist-packages/librosa/core/audio.py:184: FutureWarning: librosa.core.audio.__audioread_load\n",
            "\tDeprecated as of librosa version 0.10.0.\n",
            "\tIt will be removed in librosa version 1.0.\n",
            "  y, sr_native = __audioread_load(path, offset, duration, dtype)\n",
            "<ipython-input-91-9fc97857c8b5>:47: UserWarning: PySoundFile failed. Trying audioread instead.\n",
            "  audio , _ =  librosa.load(f\"coughvid_20211012/{row['uuid']}.webm\",sr=16000,mono=True)\n",
            "/usr/local/lib/python3.10/dist-packages/librosa/core/audio.py:184: FutureWarning: librosa.core.audio.__audioread_load\n",
            "\tDeprecated as of librosa version 0.10.0.\n",
            "\tIt will be removed in librosa version 1.0.\n",
            "  y, sr_native = __audioread_load(path, offset, duration, dtype)\n",
            "<ipython-input-91-9fc97857c8b5>:47: UserWarning: PySoundFile failed. Trying audioread instead.\n",
            "  audio , _ =  librosa.load(f\"coughvid_20211012/{row['uuid']}.webm\",sr=16000,mono=True)\n",
            "/usr/local/lib/python3.10/dist-packages/librosa/core/audio.py:184: FutureWarning: librosa.core.audio.__audioread_load\n",
            "\tDeprecated as of librosa version 0.10.0.\n",
            "\tIt will be removed in librosa version 1.0.\n",
            "  y, sr_native = __audioread_load(path, offset, duration, dtype)\n"
          ]
        },
        {
          "output_type": "stream",
          "name": "stdout",
          "text": [
            "1266\t File 09a62fdf-f311-4a3d-8002-cedd40d50542 ACCEPTED\n",
            "1267\t File 09a66d09-a3e5-4064-a041-aaaa49fe232d REJECTED\n",
            "1268\t File 09a8e6e0-461f-4838-8197-d5943baafa18 ACCEPTED\n"
          ]
        },
        {
          "output_type": "stream",
          "name": "stderr",
          "text": [
            "<ipython-input-91-9fc97857c8b5>:47: UserWarning: PySoundFile failed. Trying audioread instead.\n",
            "  audio , _ =  librosa.load(f\"coughvid_20211012/{row['uuid']}.webm\",sr=16000,mono=True)\n",
            "/usr/local/lib/python3.10/dist-packages/librosa/core/audio.py:184: FutureWarning: librosa.core.audio.__audioread_load\n",
            "\tDeprecated as of librosa version 0.10.0.\n",
            "\tIt will be removed in librosa version 1.0.\n",
            "  y, sr_native = __audioread_load(path, offset, duration, dtype)\n",
            "<ipython-input-91-9fc97857c8b5>:47: UserWarning: PySoundFile failed. Trying audioread instead.\n",
            "  audio , _ =  librosa.load(f\"coughvid_20211012/{row['uuid']}.webm\",sr=16000,mono=True)\n",
            "/usr/local/lib/python3.10/dist-packages/librosa/core/audio.py:184: FutureWarning: librosa.core.audio.__audioread_load\n",
            "\tDeprecated as of librosa version 0.10.0.\n",
            "\tIt will be removed in librosa version 1.0.\n",
            "  y, sr_native = __audioread_load(path, offset, duration, dtype)\n"
          ]
        },
        {
          "output_type": "stream",
          "name": "stdout",
          "text": [
            "1269\t File 09aaa59d-0263-4475-ab15-3bf00a32c0ef ACCEPTED\n",
            "1270\t File 09abf339-9f02-4cff-9b73-d96384e4e79f ACCEPTED\n",
            "1271\t File 09ad3c10-5a9c-46c0-8314-4f55752dfc20 REJECTED\n",
            "1272\t File 09adb30a-c4fd-4e96-8610-3ac4bbc253b5 REJECTED\n",
            "1273\t File 09add6ba-3fa5-4ea6-940e-cc902091cb15 ACCEPTED\n"
          ]
        },
        {
          "output_type": "stream",
          "name": "stderr",
          "text": [
            "<ipython-input-91-9fc97857c8b5>:47: UserWarning: PySoundFile failed. Trying audioread instead.\n",
            "  audio , _ =  librosa.load(f\"coughvid_20211012/{row['uuid']}.webm\",sr=16000,mono=True)\n",
            "/usr/local/lib/python3.10/dist-packages/librosa/core/audio.py:184: FutureWarning: librosa.core.audio.__audioread_load\n",
            "\tDeprecated as of librosa version 0.10.0.\n",
            "\tIt will be removed in librosa version 1.0.\n",
            "  y, sr_native = __audioread_load(path, offset, duration, dtype)\n",
            "<ipython-input-91-9fc97857c8b5>:47: UserWarning: PySoundFile failed. Trying audioread instead.\n",
            "  audio , _ =  librosa.load(f\"coughvid_20211012/{row['uuid']}.webm\",sr=16000,mono=True)\n",
            "/usr/local/lib/python3.10/dist-packages/librosa/core/audio.py:184: FutureWarning: librosa.core.audio.__audioread_load\n",
            "\tDeprecated as of librosa version 0.10.0.\n",
            "\tIt will be removed in librosa version 1.0.\n",
            "  y, sr_native = __audioread_load(path, offset, duration, dtype)\n",
            "<ipython-input-91-9fc97857c8b5>:47: UserWarning: PySoundFile failed. Trying audioread instead.\n",
            "  audio , _ =  librosa.load(f\"coughvid_20211012/{row['uuid']}.webm\",sr=16000,mono=True)\n",
            "/usr/local/lib/python3.10/dist-packages/librosa/core/audio.py:184: FutureWarning: librosa.core.audio.__audioread_load\n",
            "\tDeprecated as of librosa version 0.10.0.\n",
            "\tIt will be removed in librosa version 1.0.\n",
            "  y, sr_native = __audioread_load(path, offset, duration, dtype)\n"
          ]
        },
        {
          "output_type": "stream",
          "name": "stdout",
          "text": [
            "1274\t File 09af186a-ae6a-45d3-a1be-bf0c97feeab4 ACCEPTED\n",
            "1275\t File 09b298c7-2421-44c9-8f01-e108473d1365 ACCEPTED\n"
          ]
        },
        {
          "output_type": "stream",
          "name": "stderr",
          "text": [
            "<ipython-input-91-9fc97857c8b5>:47: UserWarning: PySoundFile failed. Trying audioread instead.\n",
            "  audio , _ =  librosa.load(f\"coughvid_20211012/{row['uuid']}.webm\",sr=16000,mono=True)\n",
            "/usr/local/lib/python3.10/dist-packages/librosa/core/audio.py:184: FutureWarning: librosa.core.audio.__audioread_load\n",
            "\tDeprecated as of librosa version 0.10.0.\n",
            "\tIt will be removed in librosa version 1.0.\n",
            "  y, sr_native = __audioread_load(path, offset, duration, dtype)\n",
            "<ipython-input-91-9fc97857c8b5>:47: UserWarning: PySoundFile failed. Trying audioread instead.\n",
            "  audio , _ =  librosa.load(f\"coughvid_20211012/{row['uuid']}.webm\",sr=16000,mono=True)\n",
            "/usr/local/lib/python3.10/dist-packages/librosa/core/audio.py:184: FutureWarning: librosa.core.audio.__audioread_load\n",
            "\tDeprecated as of librosa version 0.10.0.\n",
            "\tIt will be removed in librosa version 1.0.\n",
            "  y, sr_native = __audioread_load(path, offset, duration, dtype)\n"
          ]
        },
        {
          "output_type": "stream",
          "name": "stdout",
          "text": [
            "1276\t File 09b554fb-5e0f-4f68-a641-8a8f28a8b994 ACCEPTED\n",
            "1277\t File 09b739ce-1b87-4b45-88d8-9b83a99be959 REJECTED\n",
            "1278\t File 09b8581e-a366-4f7e-b387-c89345b9f57c ACCEPTED\n",
            "1279\t File 09bdc5b9-0d56-4a28-91ef-d6d7befa5a83 REJECTED\n"
          ]
        },
        {
          "output_type": "stream",
          "name": "stderr",
          "text": [
            "<ipython-input-91-9fc97857c8b5>:47: UserWarning: PySoundFile failed. Trying audioread instead.\n",
            "  audio , _ =  librosa.load(f\"coughvid_20211012/{row['uuid']}.webm\",sr=16000,mono=True)\n",
            "/usr/local/lib/python3.10/dist-packages/librosa/core/audio.py:184: FutureWarning: librosa.core.audio.__audioread_load\n",
            "\tDeprecated as of librosa version 0.10.0.\n",
            "\tIt will be removed in librosa version 1.0.\n",
            "  y, sr_native = __audioread_load(path, offset, duration, dtype)\n",
            "<ipython-input-91-9fc97857c8b5>:47: UserWarning: PySoundFile failed. Trying audioread instead.\n",
            "  audio , _ =  librosa.load(f\"coughvid_20211012/{row['uuid']}.webm\",sr=16000,mono=True)\n",
            "/usr/local/lib/python3.10/dist-packages/librosa/core/audio.py:184: FutureWarning: librosa.core.audio.__audioread_load\n",
            "\tDeprecated as of librosa version 0.10.0.\n",
            "\tIt will be removed in librosa version 1.0.\n",
            "  y, sr_native = __audioread_load(path, offset, duration, dtype)\n"
          ]
        },
        {
          "output_type": "stream",
          "name": "stdout",
          "text": [
            "1280\t File 09bffe1a-63f0-4f2e-942b-f7a152b344fc ACCEPTED\n",
            "1281\t File 09c0a003-643f-4e0d-a0c6-e1ff8f70ca44 REJECTED\n",
            "1282\t File 09c2da3e-9de9-45d2-997b-0af4493b1c4e ACCEPTED\n",
            "1283\t File 09c3ca87-fa76-4dc1-9a99-d465ae52e5f1 REJECTED\n",
            "1284\t File 09c410f3-aab8-469d-b4eb-b08f9341fefe REJECTED\n",
            "1285\t File 09c55d69-1487-4ea6-9526-27092b506351 ACCEPTED\n",
            "1286\t File 09c57600-36a8-4a8a-817d-8166628999d1 ACCEPTED\n",
            "1287\t File 09c78ff7-2378-486e-bed6-3f399934dba2 REJECTED\n",
            "1288\t File 09caa4b8-ef15-4f39-be51-8c9b3814c4d6 REJECTED\n",
            "1289\t File 09cd0a42-1d44-44c2-8811-ac9926d39b88 REJECTED\n",
            "1290\t File 09cd6aa5-7625-4524-b25c-26ce729fcac9 ACCEPTED\n",
            "1291\t File 09ce2f7e-704e-4d9c-8dd4-808e052e694f ACCEPTED\n",
            "1292\t File 09ce4faa-211a-4607-bc9b-7a8ded5d7d9a ACCEPTED\n"
          ]
        },
        {
          "output_type": "stream",
          "name": "stderr",
          "text": [
            "<ipython-input-91-9fc97857c8b5>:47: UserWarning: PySoundFile failed. Trying audioread instead.\n",
            "  audio , _ =  librosa.load(f\"coughvid_20211012/{row['uuid']}.webm\",sr=16000,mono=True)\n",
            "/usr/local/lib/python3.10/dist-packages/librosa/core/audio.py:184: FutureWarning: librosa.core.audio.__audioread_load\n",
            "\tDeprecated as of librosa version 0.10.0.\n",
            "\tIt will be removed in librosa version 1.0.\n",
            "  y, sr_native = __audioread_load(path, offset, duration, dtype)\n",
            "<ipython-input-91-9fc97857c8b5>:47: UserWarning: PySoundFile failed. Trying audioread instead.\n",
            "  audio , _ =  librosa.load(f\"coughvid_20211012/{row['uuid']}.webm\",sr=16000,mono=True)\n",
            "/usr/local/lib/python3.10/dist-packages/librosa/core/audio.py:184: FutureWarning: librosa.core.audio.__audioread_load\n",
            "\tDeprecated as of librosa version 0.10.0.\n",
            "\tIt will be removed in librosa version 1.0.\n",
            "  y, sr_native = __audioread_load(path, offset, duration, dtype)\n",
            "<ipython-input-91-9fc97857c8b5>:47: UserWarning: PySoundFile failed. Trying audioread instead.\n",
            "  audio , _ =  librosa.load(f\"coughvid_20211012/{row['uuid']}.webm\",sr=16000,mono=True)\n",
            "/usr/local/lib/python3.10/dist-packages/librosa/core/audio.py:184: FutureWarning: librosa.core.audio.__audioread_load\n",
            "\tDeprecated as of librosa version 0.10.0.\n",
            "\tIt will be removed in librosa version 1.0.\n",
            "  y, sr_native = __audioread_load(path, offset, duration, dtype)\n",
            "<ipython-input-91-9fc97857c8b5>:47: UserWarning: PySoundFile failed. Trying audioread instead.\n",
            "  audio , _ =  librosa.load(f\"coughvid_20211012/{row['uuid']}.webm\",sr=16000,mono=True)\n",
            "/usr/local/lib/python3.10/dist-packages/librosa/core/audio.py:184: FutureWarning: librosa.core.audio.__audioread_load\n",
            "\tDeprecated as of librosa version 0.10.0.\n",
            "\tIt will be removed in librosa version 1.0.\n",
            "  y, sr_native = __audioread_load(path, offset, duration, dtype)\n",
            "<ipython-input-91-9fc97857c8b5>:47: UserWarning: PySoundFile failed. Trying audioread instead.\n",
            "  audio , _ =  librosa.load(f\"coughvid_20211012/{row['uuid']}.webm\",sr=16000,mono=True)\n",
            "/usr/local/lib/python3.10/dist-packages/librosa/core/audio.py:184: FutureWarning: librosa.core.audio.__audioread_load\n",
            "\tDeprecated as of librosa version 0.10.0.\n",
            "\tIt will be removed in librosa version 1.0.\n",
            "  y, sr_native = __audioread_load(path, offset, duration, dtype)\n",
            "<ipython-input-91-9fc97857c8b5>:47: UserWarning: PySoundFile failed. Trying audioread instead.\n",
            "  audio , _ =  librosa.load(f\"coughvid_20211012/{row['uuid']}.webm\",sr=16000,mono=True)\n",
            "/usr/local/lib/python3.10/dist-packages/librosa/core/audio.py:184: FutureWarning: librosa.core.audio.__audioread_load\n",
            "\tDeprecated as of librosa version 0.10.0.\n",
            "\tIt will be removed in librosa version 1.0.\n",
            "  y, sr_native = __audioread_load(path, offset, duration, dtype)\n",
            "<ipython-input-91-9fc97857c8b5>:47: UserWarning: PySoundFile failed. Trying audioread instead.\n",
            "  audio , _ =  librosa.load(f\"coughvid_20211012/{row['uuid']}.webm\",sr=16000,mono=True)\n",
            "/usr/local/lib/python3.10/dist-packages/librosa/core/audio.py:184: FutureWarning: librosa.core.audio.__audioread_load\n",
            "\tDeprecated as of librosa version 0.10.0.\n",
            "\tIt will be removed in librosa version 1.0.\n",
            "  y, sr_native = __audioread_load(path, offset, duration, dtype)\n"
          ]
        },
        {
          "output_type": "stream",
          "name": "stdout",
          "text": [
            "1293\t File 09ce6ec2-4f56-4baf-aa29-5e7c3751eb5e ACCEPTED\n",
            "1294\t File 09d19eb6-99e8-46ee-b996-e8e564b1f91b REJECTED\n",
            "1295\t File 09d60251-94c5-458e-8324-c57e34dd8784 REJECTED\n",
            "1296\t File 09d66b9e-dc19-44f8-8f88-3b0ba219558b REJECTED\n",
            "1297\t File 09d6ab38-1176-437e-a764-677beac6a677 ACCEPTED\n",
            "1298\t File 09d78521-96c4-491b-b2af-5b91ab6a4369 REJECTED\n",
            "1299\t File 09d80c58-329b-4b41-b115-f5ccc2700dd1 ACCEPTED\n",
            "1300\t File 09d8968a-d7da-455c-a37d-6340f7d1e666 REJECTED\n",
            "1301\t File 09d93292-e5f3-4457-ba05-0c6f06481030 REJECTED\n"
          ]
        },
        {
          "output_type": "stream",
          "name": "stderr",
          "text": [
            "<ipython-input-91-9fc97857c8b5>:47: UserWarning: PySoundFile failed. Trying audioread instead.\n",
            "  audio , _ =  librosa.load(f\"coughvid_20211012/{row['uuid']}.webm\",sr=16000,mono=True)\n",
            "/usr/local/lib/python3.10/dist-packages/librosa/core/audio.py:184: FutureWarning: librosa.core.audio.__audioread_load\n",
            "\tDeprecated as of librosa version 0.10.0.\n",
            "\tIt will be removed in librosa version 1.0.\n",
            "  y, sr_native = __audioread_load(path, offset, duration, dtype)\n",
            "<ipython-input-91-9fc97857c8b5>:47: UserWarning: PySoundFile failed. Trying audioread instead.\n",
            "  audio , _ =  librosa.load(f\"coughvid_20211012/{row['uuid']}.webm\",sr=16000,mono=True)\n",
            "/usr/local/lib/python3.10/dist-packages/librosa/core/audio.py:184: FutureWarning: librosa.core.audio.__audioread_load\n",
            "\tDeprecated as of librosa version 0.10.0.\n",
            "\tIt will be removed in librosa version 1.0.\n",
            "  y, sr_native = __audioread_load(path, offset, duration, dtype)\n",
            "<ipython-input-91-9fc97857c8b5>:47: UserWarning: PySoundFile failed. Trying audioread instead.\n",
            "  audio , _ =  librosa.load(f\"coughvid_20211012/{row['uuid']}.webm\",sr=16000,mono=True)\n",
            "/usr/local/lib/python3.10/dist-packages/librosa/core/audio.py:184: FutureWarning: librosa.core.audio.__audioread_load\n",
            "\tDeprecated as of librosa version 0.10.0.\n",
            "\tIt will be removed in librosa version 1.0.\n",
            "  y, sr_native = __audioread_load(path, offset, duration, dtype)\n"
          ]
        },
        {
          "output_type": "stream",
          "name": "stdout",
          "text": [
            "1302\t File 09d98bd7-b325-4331-ac74-cc6db8555eed ACCEPTED\n",
            "1303\t File 09db72f4-ba52-4e2e-9082-765aeda8a4bc REJECTED\n",
            "1304\t File 09dbea1c-385e-4d32-93eb-3e059430eccf REJECTED\n",
            "1305\t File 09de6967-b295-4516-8a4d-4d95c9a7b02c ACCEPTED\n",
            "1306\t File 09dfde47-d616-4d13-9c48-3101d7f5c835 REJECTED\n"
          ]
        },
        {
          "output_type": "stream",
          "name": "stderr",
          "text": [
            "<ipython-input-91-9fc97857c8b5>:47: UserWarning: PySoundFile failed. Trying audioread instead.\n",
            "  audio , _ =  librosa.load(f\"coughvid_20211012/{row['uuid']}.webm\",sr=16000,mono=True)\n",
            "/usr/local/lib/python3.10/dist-packages/librosa/core/audio.py:184: FutureWarning: librosa.core.audio.__audioread_load\n",
            "\tDeprecated as of librosa version 0.10.0.\n",
            "\tIt will be removed in librosa version 1.0.\n",
            "  y, sr_native = __audioread_load(path, offset, duration, dtype)\n",
            "<ipython-input-91-9fc97857c8b5>:47: UserWarning: PySoundFile failed. Trying audioread instead.\n",
            "  audio , _ =  librosa.load(f\"coughvid_20211012/{row['uuid']}.webm\",sr=16000,mono=True)\n",
            "/usr/local/lib/python3.10/dist-packages/librosa/core/audio.py:184: FutureWarning: librosa.core.audio.__audioread_load\n",
            "\tDeprecated as of librosa version 0.10.0.\n",
            "\tIt will be removed in librosa version 1.0.\n",
            "  y, sr_native = __audioread_load(path, offset, duration, dtype)\n"
          ]
        },
        {
          "output_type": "stream",
          "name": "stdout",
          "text": [
            "1307\t File 09e1da40-ce54-4ff6-9a74-8f2264788b6b ACCEPTED\n",
            "1308\t File 09e28804-4f97-42d2-b41c-2debbba71700 ACCEPTED\n",
            "1309\t File 09e3945a-3459-4d27-909c-68932735f0f1 ACCEPTED\n"
          ]
        },
        {
          "output_type": "stream",
          "name": "stderr",
          "text": [
            "<ipython-input-91-9fc97857c8b5>:47: UserWarning: PySoundFile failed. Trying audioread instead.\n",
            "  audio , _ =  librosa.load(f\"coughvid_20211012/{row['uuid']}.webm\",sr=16000,mono=True)\n",
            "/usr/local/lib/python3.10/dist-packages/librosa/core/audio.py:184: FutureWarning: librosa.core.audio.__audioread_load\n",
            "\tDeprecated as of librosa version 0.10.0.\n",
            "\tIt will be removed in librosa version 1.0.\n",
            "  y, sr_native = __audioread_load(path, offset, duration, dtype)\n",
            "<ipython-input-91-9fc97857c8b5>:47: UserWarning: PySoundFile failed. Trying audioread instead.\n",
            "  audio , _ =  librosa.load(f\"coughvid_20211012/{row['uuid']}.webm\",sr=16000,mono=True)\n",
            "/usr/local/lib/python3.10/dist-packages/librosa/core/audio.py:184: FutureWarning: librosa.core.audio.__audioread_load\n",
            "\tDeprecated as of librosa version 0.10.0.\n",
            "\tIt will be removed in librosa version 1.0.\n",
            "  y, sr_native = __audioread_load(path, offset, duration, dtype)\n",
            "<ipython-input-91-9fc97857c8b5>:47: UserWarning: PySoundFile failed. Trying audioread instead.\n",
            "  audio , _ =  librosa.load(f\"coughvid_20211012/{row['uuid']}.webm\",sr=16000,mono=True)\n",
            "/usr/local/lib/python3.10/dist-packages/librosa/core/audio.py:184: FutureWarning: librosa.core.audio.__audioread_load\n",
            "\tDeprecated as of librosa version 0.10.0.\n",
            "\tIt will be removed in librosa version 1.0.\n",
            "  y, sr_native = __audioread_load(path, offset, duration, dtype)\n"
          ]
        },
        {
          "output_type": "stream",
          "name": "stdout",
          "text": [
            "1310\t File 09e64861-61b1-4f66-a7c0-17ac1a0c60f0 ACCEPTED\n",
            "1311\t File 09e6e4e5-407f-41dc-a6d8-455cf2a91fc1 REJECTED\n",
            "1312\t File 09e8acc6-9a90-4fca-a1a0-563b98d11f41 REJECTED\n",
            "1313\t File 09e8c5e0-604a-4f37-b8ba-3ba3a9dfa3c9 ACCEPTED\n",
            "1314\t File 09eb466f-7ce1-4a03-ad9a-ba9e336e4b97 REJECTED\n",
            "1315\t File 09eed9af-2ff9-4d9d-b69d-33bcad76f037 REJECTED\n"
          ]
        },
        {
          "output_type": "stream",
          "name": "stderr",
          "text": [
            "<ipython-input-91-9fc97857c8b5>:47: UserWarning: PySoundFile failed. Trying audioread instead.\n",
            "  audio , _ =  librosa.load(f\"coughvid_20211012/{row['uuid']}.webm\",sr=16000,mono=True)\n",
            "/usr/local/lib/python3.10/dist-packages/librosa/core/audio.py:184: FutureWarning: librosa.core.audio.__audioread_load\n",
            "\tDeprecated as of librosa version 0.10.0.\n",
            "\tIt will be removed in librosa version 1.0.\n",
            "  y, sr_native = __audioread_load(path, offset, duration, dtype)\n",
            "<ipython-input-91-9fc97857c8b5>:47: UserWarning: PySoundFile failed. Trying audioread instead.\n",
            "  audio , _ =  librosa.load(f\"coughvid_20211012/{row['uuid']}.webm\",sr=16000,mono=True)\n",
            "/usr/local/lib/python3.10/dist-packages/librosa/core/audio.py:184: FutureWarning: librosa.core.audio.__audioread_load\n",
            "\tDeprecated as of librosa version 0.10.0.\n",
            "\tIt will be removed in librosa version 1.0.\n",
            "  y, sr_native = __audioread_load(path, offset, duration, dtype)\n"
          ]
        },
        {
          "output_type": "stream",
          "name": "stdout",
          "text": [
            "1316\t File 09ef22ac-58b8-4f3b-b00a-94f926298dae ACCEPTED\n",
            "1317\t File 09efd796-f8c3-4db2-9289-bd941812d587 REJECTED\n",
            "1318\t File 09f30522-004a-41db-9971-efd1aec2ee89 ACCEPTED\n",
            "1319\t File 09f32058-8672-43a6-941c-52ee01447b74 REJECTED\n"
          ]
        },
        {
          "output_type": "stream",
          "name": "stderr",
          "text": [
            "<ipython-input-91-9fc97857c8b5>:47: UserWarning: PySoundFile failed. Trying audioread instead.\n",
            "  audio , _ =  librosa.load(f\"coughvid_20211012/{row['uuid']}.webm\",sr=16000,mono=True)\n",
            "/usr/local/lib/python3.10/dist-packages/librosa/core/audio.py:184: FutureWarning: librosa.core.audio.__audioread_load\n",
            "\tDeprecated as of librosa version 0.10.0.\n",
            "\tIt will be removed in librosa version 1.0.\n",
            "  y, sr_native = __audioread_load(path, offset, duration, dtype)\n",
            "<ipython-input-91-9fc97857c8b5>:47: UserWarning: PySoundFile failed. Trying audioread instead.\n",
            "  audio , _ =  librosa.load(f\"coughvid_20211012/{row['uuid']}.webm\",sr=16000,mono=True)\n",
            "/usr/local/lib/python3.10/dist-packages/librosa/core/audio.py:184: FutureWarning: librosa.core.audio.__audioread_load\n",
            "\tDeprecated as of librosa version 0.10.0.\n",
            "\tIt will be removed in librosa version 1.0.\n",
            "  y, sr_native = __audioread_load(path, offset, duration, dtype)\n"
          ]
        },
        {
          "output_type": "stream",
          "name": "stdout",
          "text": [
            "1320\t File 09f4330d-7f08-4332-b79a-46147ed270a3 ACCEPTED\n",
            "1321\t File 09f62049-ffb1-4a5c-967e-9669bba37fb7 REJECTED\n",
            "1322\t File 09f62546-91df-4af3-98bb-cca1df3e8e29 REJECTED\n",
            "1323\t File 09f69345-4a60-4110-a111-94d52d39091c REJECTED\n",
            "1324\t File 09f6a482-0eca-482e-90ba-f45aba6bd694 ACCEPTED\n"
          ]
        },
        {
          "output_type": "stream",
          "name": "stderr",
          "text": [
            "<ipython-input-91-9fc97857c8b5>:47: UserWarning: PySoundFile failed. Trying audioread instead.\n",
            "  audio , _ =  librosa.load(f\"coughvid_20211012/{row['uuid']}.webm\",sr=16000,mono=True)\n",
            "/usr/local/lib/python3.10/dist-packages/librosa/core/audio.py:184: FutureWarning: librosa.core.audio.__audioread_load\n",
            "\tDeprecated as of librosa version 0.10.0.\n",
            "\tIt will be removed in librosa version 1.0.\n",
            "  y, sr_native = __audioread_load(path, offset, duration, dtype)\n",
            "<ipython-input-91-9fc97857c8b5>:47: UserWarning: PySoundFile failed. Trying audioread instead.\n",
            "  audio , _ =  librosa.load(f\"coughvid_20211012/{row['uuid']}.webm\",sr=16000,mono=True)\n",
            "/usr/local/lib/python3.10/dist-packages/librosa/core/audio.py:184: FutureWarning: librosa.core.audio.__audioread_load\n",
            "\tDeprecated as of librosa version 0.10.0.\n",
            "\tIt will be removed in librosa version 1.0.\n",
            "  y, sr_native = __audioread_load(path, offset, duration, dtype)\n"
          ]
        },
        {
          "output_type": "stream",
          "name": "stdout",
          "text": [
            "1325\t File 09f76944-49d5-4c78-8064-474d79a8d871 ACCEPTED\n",
            "1326\t File 09f95c8a-4c31-4da5-8afe-a3b9e0a87606 REJECTED\n",
            "1327\t File 09f977a9-a17d-4bbe-906c-a512c1947213 ACCEPTED\n",
            "1328\t File 09fbeb13-5a48-4b87-ad59-49eb8b689fe1 REJECTED\n",
            "1329\t File 09fbf2db-c6c9-467f-9697-901061087a2e REJECTED\n",
            "1330\t File 09fd1de3-f32f-4797-b0a5-d3fb211c7d9b REJECTED\n",
            "1331\t File 0a03da19-eb19-4f51-9860-78ad95fa8cb5 ACCEPTED\n",
            "1332\t File 0a0464dc-64a6-48fb-be59-618436aefd63 REJECTED\n",
            "1333\t File 0a055ee9-f3d8-4522-82aa-df2bcf359490 REJECTED\n",
            "1334\t File 0a07b7ef-ec8b-47a8-afb9-cc6ebeeb6505 ACCEPTED\n",
            "1335\t File 0a0b83e9-860d-42ec-855b-49e73c5ad49e REJECTED\n",
            "1336\t File 0a102ef5-4ede-47c8-8d51-a813d7631eda REJECTED\n",
            "1337\t File 0a11ba12-ffc9-48ed-8bec-6442316a6005 ACCEPTED\n",
            "1338\t File 0a19afca-10e9-4b55-bc1f-da761720bed6 ACCEPTED\n",
            "1339\t File 0a1b2f0a-afa2-42e3-9e60-998c4bdf1f95 ACCEPTED\n",
            "1340\t File 0a1b4119-cc22-4884-8f0f-34e8207c31d1 REJECTED\n"
          ]
        },
        {
          "output_type": "stream",
          "name": "stderr",
          "text": [
            "<ipython-input-91-9fc97857c8b5>:47: UserWarning: PySoundFile failed. Trying audioread instead.\n",
            "  audio , _ =  librosa.load(f\"coughvid_20211012/{row['uuid']}.webm\",sr=16000,mono=True)\n",
            "/usr/local/lib/python3.10/dist-packages/librosa/core/audio.py:184: FutureWarning: librosa.core.audio.__audioread_load\n",
            "\tDeprecated as of librosa version 0.10.0.\n",
            "\tIt will be removed in librosa version 1.0.\n",
            "  y, sr_native = __audioread_load(path, offset, duration, dtype)\n",
            "<ipython-input-91-9fc97857c8b5>:47: UserWarning: PySoundFile failed. Trying audioread instead.\n",
            "  audio , _ =  librosa.load(f\"coughvid_20211012/{row['uuid']}.webm\",sr=16000,mono=True)\n",
            "/usr/local/lib/python3.10/dist-packages/librosa/core/audio.py:184: FutureWarning: librosa.core.audio.__audioread_load\n",
            "\tDeprecated as of librosa version 0.10.0.\n",
            "\tIt will be removed in librosa version 1.0.\n",
            "  y, sr_native = __audioread_load(path, offset, duration, dtype)\n",
            "<ipython-input-91-9fc97857c8b5>:47: UserWarning: PySoundFile failed. Trying audioread instead.\n",
            "  audio , _ =  librosa.load(f\"coughvid_20211012/{row['uuid']}.webm\",sr=16000,mono=True)\n",
            "/usr/local/lib/python3.10/dist-packages/librosa/core/audio.py:184: FutureWarning: librosa.core.audio.__audioread_load\n",
            "\tDeprecated as of librosa version 0.10.0.\n",
            "\tIt will be removed in librosa version 1.0.\n",
            "  y, sr_native = __audioread_load(path, offset, duration, dtype)\n",
            "<ipython-input-91-9fc97857c8b5>:47: UserWarning: PySoundFile failed. Trying audioread instead.\n",
            "  audio , _ =  librosa.load(f\"coughvid_20211012/{row['uuid']}.webm\",sr=16000,mono=True)\n",
            "/usr/local/lib/python3.10/dist-packages/librosa/core/audio.py:184: FutureWarning: librosa.core.audio.__audioread_load\n",
            "\tDeprecated as of librosa version 0.10.0.\n",
            "\tIt will be removed in librosa version 1.0.\n",
            "  y, sr_native = __audioread_load(path, offset, duration, dtype)\n",
            "<ipython-input-91-9fc97857c8b5>:47: UserWarning: PySoundFile failed. Trying audioread instead.\n",
            "  audio , _ =  librosa.load(f\"coughvid_20211012/{row['uuid']}.webm\",sr=16000,mono=True)\n",
            "/usr/local/lib/python3.10/dist-packages/librosa/core/audio.py:184: FutureWarning: librosa.core.audio.__audioread_load\n",
            "\tDeprecated as of librosa version 0.10.0.\n",
            "\tIt will be removed in librosa version 1.0.\n",
            "  y, sr_native = __audioread_load(path, offset, duration, dtype)\n",
            "<ipython-input-91-9fc97857c8b5>:47: UserWarning: PySoundFile failed. Trying audioread instead.\n",
            "  audio , _ =  librosa.load(f\"coughvid_20211012/{row['uuid']}.webm\",sr=16000,mono=True)\n",
            "/usr/local/lib/python3.10/dist-packages/librosa/core/audio.py:184: FutureWarning: librosa.core.audio.__audioread_load\n",
            "\tDeprecated as of librosa version 0.10.0.\n",
            "\tIt will be removed in librosa version 1.0.\n",
            "  y, sr_native = __audioread_load(path, offset, duration, dtype)\n",
            "<ipython-input-91-9fc97857c8b5>:47: UserWarning: PySoundFile failed. Trying audioread instead.\n",
            "  audio , _ =  librosa.load(f\"coughvid_20211012/{row['uuid']}.webm\",sr=16000,mono=True)\n",
            "/usr/local/lib/python3.10/dist-packages/librosa/core/audio.py:184: FutureWarning: librosa.core.audio.__audioread_load\n",
            "\tDeprecated as of librosa version 0.10.0.\n",
            "\tIt will be removed in librosa version 1.0.\n",
            "  y, sr_native = __audioread_load(path, offset, duration, dtype)\n"
          ]
        },
        {
          "output_type": "stream",
          "name": "stdout",
          "text": [
            "1341\t File 0a1c8e24-81d7-404e-8a85-b3fd3999ecb5 ACCEPTED\n",
            "1342\t File 0a1ddb3b-5c7b-427b-a7a6-34158fac03fe REJECTED\n",
            "1343\t File 0a1ed776-5fa7-48fa-9022-03128869034f REJECTED\n",
            "1344\t File 0a1fa5be-0002-4632-8247-f340a8128894 ACCEPTED\n",
            "1345\t File 0a20c162-bf07-4f79-9d5d-5e6101ae20ab ACCEPTED\n",
            "1346\t File 0a24fc10-114f-4741-9d4d-516848db8edf ACCEPTED\n"
          ]
        },
        {
          "output_type": "stream",
          "name": "stderr",
          "text": [
            "<ipython-input-91-9fc97857c8b5>:47: UserWarning: PySoundFile failed. Trying audioread instead.\n",
            "  audio , _ =  librosa.load(f\"coughvid_20211012/{row['uuid']}.webm\",sr=16000,mono=True)\n",
            "/usr/local/lib/python3.10/dist-packages/librosa/core/audio.py:184: FutureWarning: librosa.core.audio.__audioread_load\n",
            "\tDeprecated as of librosa version 0.10.0.\n",
            "\tIt will be removed in librosa version 1.0.\n",
            "  y, sr_native = __audioread_load(path, offset, duration, dtype)\n",
            "<ipython-input-91-9fc97857c8b5>:47: UserWarning: PySoundFile failed. Trying audioread instead.\n",
            "  audio , _ =  librosa.load(f\"coughvid_20211012/{row['uuid']}.webm\",sr=16000,mono=True)\n",
            "/usr/local/lib/python3.10/dist-packages/librosa/core/audio.py:184: FutureWarning: librosa.core.audio.__audioread_load\n",
            "\tDeprecated as of librosa version 0.10.0.\n",
            "\tIt will be removed in librosa version 1.0.\n",
            "  y, sr_native = __audioread_load(path, offset, duration, dtype)\n",
            "<ipython-input-91-9fc97857c8b5>:47: UserWarning: PySoundFile failed. Trying audioread instead.\n",
            "  audio , _ =  librosa.load(f\"coughvid_20211012/{row['uuid']}.webm\",sr=16000,mono=True)\n",
            "/usr/local/lib/python3.10/dist-packages/librosa/core/audio.py:184: FutureWarning: librosa.core.audio.__audioread_load\n",
            "\tDeprecated as of librosa version 0.10.0.\n",
            "\tIt will be removed in librosa version 1.0.\n",
            "  y, sr_native = __audioread_load(path, offset, duration, dtype)\n",
            "<ipython-input-91-9fc97857c8b5>:47: UserWarning: PySoundFile failed. Trying audioread instead.\n",
            "  audio , _ =  librosa.load(f\"coughvid_20211012/{row['uuid']}.webm\",sr=16000,mono=True)\n",
            "/usr/local/lib/python3.10/dist-packages/librosa/core/audio.py:184: FutureWarning: librosa.core.audio.__audioread_load\n",
            "\tDeprecated as of librosa version 0.10.0.\n",
            "\tIt will be removed in librosa version 1.0.\n",
            "  y, sr_native = __audioread_load(path, offset, duration, dtype)\n"
          ]
        },
        {
          "output_type": "stream",
          "name": "stdout",
          "text": [
            "1347\t File 0a2b926e-9b29-4f78-8108-167992ce8a36 ACCEPTED\n",
            "1348\t File 0a33e5bd-366f-4fe2-8e44-c78ab352f592 REJECTED\n",
            "1349\t File 0a3556ce-e37b-48cb-9867-3497956f5a04 REJECTED\n",
            "1350\t File 0a375f1b-b3f3-4991-b9d4-9f6c22bf0bdd REJECTED\n",
            "1351\t File 0a3ed675-83b8-4282-ad65-9deecd2afe6b REJECTED\n"
          ]
        },
        {
          "output_type": "stream",
          "name": "stderr",
          "text": [
            "<ipython-input-91-9fc97857c8b5>:47: UserWarning: PySoundFile failed. Trying audioread instead.\n",
            "  audio , _ =  librosa.load(f\"coughvid_20211012/{row['uuid']}.webm\",sr=16000,mono=True)\n",
            "/usr/local/lib/python3.10/dist-packages/librosa/core/audio.py:184: FutureWarning: librosa.core.audio.__audioread_load\n",
            "\tDeprecated as of librosa version 0.10.0.\n",
            "\tIt will be removed in librosa version 1.0.\n",
            "  y, sr_native = __audioread_load(path, offset, duration, dtype)\n"
          ]
        },
        {
          "output_type": "stream",
          "name": "stdout",
          "text": [
            "1352\t File 0a4539a3-f6ea-474a-98de-f9fdfbd76049 ACCEPTED\n",
            "1353\t File 0a45f9a2-8201-4f56-86a4-e3410d1f75a8 REJECTED\n",
            "1354\t File 0a46ba78-3d32-4431-9a5b-d5f2ac5e896c ACCEPTED\n",
            "1355\t File 0a47e9a8-6b7f-4138-ba12-00f3bd1a8158 REJECTED\n",
            "1356\t File 0a481ee1-03a9-4344-baf9-46d20233d5bf ACCEPTED\n",
            "1357\t File 0a4d3e7e-27d0-4c99-839b-103d26f06baf ACCEPTED\n",
            "1358\t File 0a4fac08-20af-4243-b4c5-3879efd63dba REJECTED\n",
            "1359\t File 0a521c77-8f08-4caf-8a93-782ffa39bb5b REJECTED\n",
            "1360\t File 0a54c001-145d-46bf-a0cb-afec44da1066 REJECTED\n",
            "1361\t File 0a57a054-22f7-476f-9529-ee12a1fbd04c ACCEPTED\n"
          ]
        },
        {
          "output_type": "stream",
          "name": "stderr",
          "text": [
            "<ipython-input-91-9fc97857c8b5>:47: UserWarning: PySoundFile failed. Trying audioread instead.\n",
            "  audio , _ =  librosa.load(f\"coughvid_20211012/{row['uuid']}.webm\",sr=16000,mono=True)\n",
            "/usr/local/lib/python3.10/dist-packages/librosa/core/audio.py:184: FutureWarning: librosa.core.audio.__audioread_load\n",
            "\tDeprecated as of librosa version 0.10.0.\n",
            "\tIt will be removed in librosa version 1.0.\n",
            "  y, sr_native = __audioread_load(path, offset, duration, dtype)\n",
            "<ipython-input-91-9fc97857c8b5>:47: UserWarning: PySoundFile failed. Trying audioread instead.\n",
            "  audio , _ =  librosa.load(f\"coughvid_20211012/{row['uuid']}.webm\",sr=16000,mono=True)\n",
            "/usr/local/lib/python3.10/dist-packages/librosa/core/audio.py:184: FutureWarning: librosa.core.audio.__audioread_load\n",
            "\tDeprecated as of librosa version 0.10.0.\n",
            "\tIt will be removed in librosa version 1.0.\n",
            "  y, sr_native = __audioread_load(path, offset, duration, dtype)\n",
            "<ipython-input-91-9fc97857c8b5>:47: UserWarning: PySoundFile failed. Trying audioread instead.\n",
            "  audio , _ =  librosa.load(f\"coughvid_20211012/{row['uuid']}.webm\",sr=16000,mono=True)\n",
            "/usr/local/lib/python3.10/dist-packages/librosa/core/audio.py:184: FutureWarning: librosa.core.audio.__audioread_load\n",
            "\tDeprecated as of librosa version 0.10.0.\n",
            "\tIt will be removed in librosa version 1.0.\n",
            "  y, sr_native = __audioread_load(path, offset, duration, dtype)\n",
            "<ipython-input-91-9fc97857c8b5>:47: UserWarning: PySoundFile failed. Trying audioread instead.\n",
            "  audio , _ =  librosa.load(f\"coughvid_20211012/{row['uuid']}.webm\",sr=16000,mono=True)\n",
            "/usr/local/lib/python3.10/dist-packages/librosa/core/audio.py:184: FutureWarning: librosa.core.audio.__audioread_load\n",
            "\tDeprecated as of librosa version 0.10.0.\n",
            "\tIt will be removed in librosa version 1.0.\n",
            "  y, sr_native = __audioread_load(path, offset, duration, dtype)\n",
            "<ipython-input-91-9fc97857c8b5>:47: UserWarning: PySoundFile failed. Trying audioread instead.\n",
            "  audio , _ =  librosa.load(f\"coughvid_20211012/{row['uuid']}.webm\",sr=16000,mono=True)\n",
            "/usr/local/lib/python3.10/dist-packages/librosa/core/audio.py:184: FutureWarning: librosa.core.audio.__audioread_load\n",
            "\tDeprecated as of librosa version 0.10.0.\n",
            "\tIt will be removed in librosa version 1.0.\n",
            "  y, sr_native = __audioread_load(path, offset, duration, dtype)\n"
          ]
        },
        {
          "output_type": "stream",
          "name": "stdout",
          "text": [
            "1362\t File 0a5909e2-c7cf-403a-a874-038e6ac9be03 ACCEPTED\n",
            "1363\t File 0a592f84-7513-40e3-aa9c-9b4ab79a492a REJECTED\n",
            "1364\t File 0a5b12c9-f676-4d22-9d8b-adcd3cf77f0f ACCEPTED\n"
          ]
        },
        {
          "output_type": "stream",
          "name": "stderr",
          "text": [
            "<ipython-input-91-9fc97857c8b5>:47: UserWarning: PySoundFile failed. Trying audioread instead.\n",
            "  audio , _ =  librosa.load(f\"coughvid_20211012/{row['uuid']}.webm\",sr=16000,mono=True)\n",
            "/usr/local/lib/python3.10/dist-packages/librosa/core/audio.py:184: FutureWarning: librosa.core.audio.__audioread_load\n",
            "\tDeprecated as of librosa version 0.10.0.\n",
            "\tIt will be removed in librosa version 1.0.\n",
            "  y, sr_native = __audioread_load(path, offset, duration, dtype)\n",
            "<ipython-input-91-9fc97857c8b5>:47: UserWarning: PySoundFile failed. Trying audioread instead.\n",
            "  audio , _ =  librosa.load(f\"coughvid_20211012/{row['uuid']}.webm\",sr=16000,mono=True)\n",
            "/usr/local/lib/python3.10/dist-packages/librosa/core/audio.py:184: FutureWarning: librosa.core.audio.__audioread_load\n",
            "\tDeprecated as of librosa version 0.10.0.\n",
            "\tIt will be removed in librosa version 1.0.\n",
            "  y, sr_native = __audioread_load(path, offset, duration, dtype)\n"
          ]
        },
        {
          "output_type": "stream",
          "name": "stdout",
          "text": [
            "1365\t File 0a5cf3d4-bc32-46f8-8d03-d4fbc9db7cb2 ACCEPTED\n",
            "1366\t File 0a5d83bf-24d0-4b5d-8fda-9da4a381efdf REJECTED\n",
            "1367\t File 0a5ed256-3309-42f8-9d0c-453afb4fe8cb REJECTED\n"
          ]
        },
        {
          "output_type": "stream",
          "name": "stderr",
          "text": [
            "<ipython-input-91-9fc97857c8b5>:47: UserWarning: PySoundFile failed. Trying audioread instead.\n",
            "  audio , _ =  librosa.load(f\"coughvid_20211012/{row['uuid']}.webm\",sr=16000,mono=True)\n",
            "/usr/local/lib/python3.10/dist-packages/librosa/core/audio.py:184: FutureWarning: librosa.core.audio.__audioread_load\n",
            "\tDeprecated as of librosa version 0.10.0.\n",
            "\tIt will be removed in librosa version 1.0.\n",
            "  y, sr_native = __audioread_load(path, offset, duration, dtype)\n"
          ]
        },
        {
          "output_type": "stream",
          "name": "stdout",
          "text": [
            "1368\t File 0a5ed841-efb5-43ab-bf5e-6d9cc777607d ACCEPTED\n",
            "1369\t File 0a5ff39e-c905-47d1-8f39-5691d0c14b00 REJECTED\n"
          ]
        },
        {
          "output_type": "stream",
          "name": "stderr",
          "text": [
            "<ipython-input-91-9fc97857c8b5>:47: UserWarning: PySoundFile failed. Trying audioread instead.\n",
            "  audio , _ =  librosa.load(f\"coughvid_20211012/{row['uuid']}.webm\",sr=16000,mono=True)\n",
            "/usr/local/lib/python3.10/dist-packages/librosa/core/audio.py:184: FutureWarning: librosa.core.audio.__audioread_load\n",
            "\tDeprecated as of librosa version 0.10.0.\n",
            "\tIt will be removed in librosa version 1.0.\n",
            "  y, sr_native = __audioread_load(path, offset, duration, dtype)\n"
          ]
        },
        {
          "output_type": "stream",
          "name": "stdout",
          "text": [
            "1370\t File 0a612037-c1eb-4558-8afc-8846b556d808 ACCEPTED\n",
            "1371\t File 0a61247f-661b-4713-965a-941abed7df87 REJECTED\n",
            "1372\t File 0a66cee3-07d9-4347-8f84-04d011fc3977 ACCEPTED\n",
            "1373\t File 0a68bfc4-e916-4c10-a087-9828c2452a68 REJECTED\n",
            "1374\t File 0a68d5ea-bbb5-492d-b33c-c1cc54df5d90 REJECTED\n",
            "1375\t File 0a690b1f-9064-4493-b786-39e88c49a71b ACCEPTED\n",
            "1376\t File 0a6ae32e-9e1c-486a-aa96-4ecbbe9d1aaf REJECTED\n"
          ]
        },
        {
          "output_type": "stream",
          "name": "stderr",
          "text": [
            "<ipython-input-91-9fc97857c8b5>:47: UserWarning: PySoundFile failed. Trying audioread instead.\n",
            "  audio , _ =  librosa.load(f\"coughvid_20211012/{row['uuid']}.webm\",sr=16000,mono=True)\n",
            "/usr/local/lib/python3.10/dist-packages/librosa/core/audio.py:184: FutureWarning: librosa.core.audio.__audioread_load\n",
            "\tDeprecated as of librosa version 0.10.0.\n",
            "\tIt will be removed in librosa version 1.0.\n",
            "  y, sr_native = __audioread_load(path, offset, duration, dtype)\n",
            "<ipython-input-91-9fc97857c8b5>:47: UserWarning: PySoundFile failed. Trying audioread instead.\n",
            "  audio , _ =  librosa.load(f\"coughvid_20211012/{row['uuid']}.webm\",sr=16000,mono=True)\n",
            "/usr/local/lib/python3.10/dist-packages/librosa/core/audio.py:184: FutureWarning: librosa.core.audio.__audioread_load\n",
            "\tDeprecated as of librosa version 0.10.0.\n",
            "\tIt will be removed in librosa version 1.0.\n",
            "  y, sr_native = __audioread_load(path, offset, duration, dtype)\n",
            "<ipython-input-91-9fc97857c8b5>:47: UserWarning: PySoundFile failed. Trying audioread instead.\n",
            "  audio , _ =  librosa.load(f\"coughvid_20211012/{row['uuid']}.webm\",sr=16000,mono=True)\n",
            "/usr/local/lib/python3.10/dist-packages/librosa/core/audio.py:184: FutureWarning: librosa.core.audio.__audioread_load\n",
            "\tDeprecated as of librosa version 0.10.0.\n",
            "\tIt will be removed in librosa version 1.0.\n",
            "  y, sr_native = __audioread_load(path, offset, duration, dtype)\n"
          ]
        },
        {
          "output_type": "stream",
          "name": "stdout",
          "text": [
            "1377\t File 0a6bc12b-ea27-4167-a436-2a70f29e956e ACCEPTED\n"
          ]
        },
        {
          "output_type": "stream",
          "name": "stderr",
          "text": [
            "<ipython-input-91-9fc97857c8b5>:47: UserWarning: PySoundFile failed. Trying audioread instead.\n",
            "  audio , _ =  librosa.load(f\"coughvid_20211012/{row['uuid']}.webm\",sr=16000,mono=True)\n",
            "/usr/local/lib/python3.10/dist-packages/librosa/core/audio.py:184: FutureWarning: librosa.core.audio.__audioread_load\n",
            "\tDeprecated as of librosa version 0.10.0.\n",
            "\tIt will be removed in librosa version 1.0.\n",
            "  y, sr_native = __audioread_load(path, offset, duration, dtype)\n"
          ]
        },
        {
          "output_type": "stream",
          "name": "stdout",
          "text": [
            "1378\t File 0a6cb04c-95e0-4f4c-9a16-a8b7dc04a06d ACCEPTED\n",
            "1379\t File 0a6ddce4-896c-42be-b2dd-c70d315f9fd5 ACCEPTED\n"
          ]
        },
        {
          "output_type": "stream",
          "name": "stderr",
          "text": [
            "<ipython-input-91-9fc97857c8b5>:47: UserWarning: PySoundFile failed. Trying audioread instead.\n",
            "  audio , _ =  librosa.load(f\"coughvid_20211012/{row['uuid']}.webm\",sr=16000,mono=True)\n",
            "/usr/local/lib/python3.10/dist-packages/librosa/core/audio.py:184: FutureWarning: librosa.core.audio.__audioread_load\n",
            "\tDeprecated as of librosa version 0.10.0.\n",
            "\tIt will be removed in librosa version 1.0.\n",
            "  y, sr_native = __audioread_load(path, offset, duration, dtype)\n"
          ]
        },
        {
          "output_type": "stream",
          "name": "stdout",
          "text": [
            "1380\t File 0a6fe71c-7a8a-40c5-bb47-9baf9ddaaa5c ACCEPTED\n",
            "1381\t File 0a73559e-63d7-4346-b796-2f9a2c2c7725 ACCEPTED\n"
          ]
        },
        {
          "output_type": "stream",
          "name": "stderr",
          "text": [
            "<ipython-input-91-9fc97857c8b5>:47: UserWarning: PySoundFile failed. Trying audioread instead.\n",
            "  audio , _ =  librosa.load(f\"coughvid_20211012/{row['uuid']}.webm\",sr=16000,mono=True)\n",
            "/usr/local/lib/python3.10/dist-packages/librosa/core/audio.py:184: FutureWarning: librosa.core.audio.__audioread_load\n",
            "\tDeprecated as of librosa version 0.10.0.\n",
            "\tIt will be removed in librosa version 1.0.\n",
            "  y, sr_native = __audioread_load(path, offset, duration, dtype)\n",
            "<ipython-input-91-9fc97857c8b5>:47: UserWarning: PySoundFile failed. Trying audioread instead.\n",
            "  audio , _ =  librosa.load(f\"coughvid_20211012/{row['uuid']}.webm\",sr=16000,mono=True)\n",
            "/usr/local/lib/python3.10/dist-packages/librosa/core/audio.py:184: FutureWarning: librosa.core.audio.__audioread_load\n",
            "\tDeprecated as of librosa version 0.10.0.\n",
            "\tIt will be removed in librosa version 1.0.\n",
            "  y, sr_native = __audioread_load(path, offset, duration, dtype)\n"
          ]
        },
        {
          "output_type": "stream",
          "name": "stdout",
          "text": [
            "1382\t File 0a73ebfd-ff81-4f48-9cdc-472db1fde25f ACCEPTED\n",
            "1383\t File 0a756da3-de5d-46b0-9738-5aa3419bd589 REJECTED\n",
            "1384\t File 0a79e26f-2a5e-446e-829a-aa6e9381bdb5 REJECTED\n",
            "1385\t File 0a79e6da-a5c2-49be-af0c-666087ae8d3a REJECTED\n",
            "1386\t File 0a80696f-06cf-4ed2-a409-2992d0023635 ACCEPTED\n",
            "1387\t File 0a832864-1afe-4f05-8dd9-e27010cfa123 REJECTED\n"
          ]
        },
        {
          "output_type": "stream",
          "name": "stderr",
          "text": [
            "<ipython-input-91-9fc97857c8b5>:47: UserWarning: PySoundFile failed. Trying audioread instead.\n",
            "  audio , _ =  librosa.load(f\"coughvid_20211012/{row['uuid']}.webm\",sr=16000,mono=True)\n",
            "/usr/local/lib/python3.10/dist-packages/librosa/core/audio.py:184: FutureWarning: librosa.core.audio.__audioread_load\n",
            "\tDeprecated as of librosa version 0.10.0.\n",
            "\tIt will be removed in librosa version 1.0.\n",
            "  y, sr_native = __audioread_load(path, offset, duration, dtype)\n",
            "<ipython-input-91-9fc97857c8b5>:47: UserWarning: PySoundFile failed. Trying audioread instead.\n",
            "  audio , _ =  librosa.load(f\"coughvid_20211012/{row['uuid']}.webm\",sr=16000,mono=True)\n",
            "/usr/local/lib/python3.10/dist-packages/librosa/core/audio.py:184: FutureWarning: librosa.core.audio.__audioread_load\n",
            "\tDeprecated as of librosa version 0.10.0.\n",
            "\tIt will be removed in librosa version 1.0.\n",
            "  y, sr_native = __audioread_load(path, offset, duration, dtype)\n"
          ]
        },
        {
          "output_type": "stream",
          "name": "stdout",
          "text": [
            "1388\t File 0a84322e-b7a8-4e66-8fa0-7294eb14a2b6 ACCEPTED\n",
            "1389\t File 0a86795d-0149-4881-877b-5d60911cc057 REJECTED\n",
            "1390\t File 0a89282f-2357-4ba6-96ed-97c3b4a4757d REJECTED\n",
            "1391\t File 0a8b9e55-2ac6-419b-8551-f6efc3380d6e REJECTED\n",
            "1392\t File 0a8e4279-3840-4872-9db8-3b5d8c53cc43 ACCEPTED\n",
            "1393\t File 0a8f3306-fd12-4689-b346-91fb29f9ae88 REJECTED\n",
            "1394\t File 0a8f6c0d-3c64-47a4-a78c-1e666205591f REJECTED\n",
            "1395\t File 0a92ec33-e8ae-4bda-89b1-7cf92cd63a22 REJECTED\n",
            "1396\t File 0a94ac34-5cda-4c48-b49e-1dc0a1aa621b ACCEPTED\n",
            "1397\t File 0a95eb28-043c-446f-bbc0-ef69d02c5565 REJECTED\n",
            "1398\t File 0a962406-7a73-4e2d-92b2-ab97f4da7fb4 REJECTED\n",
            "1399\t File 0a9694b5-eccb-45a6-8377-72b4788d6e88 ACCEPTED\n",
            "1400\t File 0a97ab37-81b4-4cfe-ba54-e88a7e579d72 ACCEPTED\n",
            "1401\t File 0a9a0e79-7966-4d2a-9cc3-97ace4e0a44b ACCEPTED\n",
            "1402\t File 0aa0ef30-0df7-42d0-b1bf-017f8647b92c ACCEPTED\n",
            "1403\t File 0aa5a3c2-af84-4858-b92b-4176791ca1c4 REJECTED\n"
          ]
        },
        {
          "output_type": "stream",
          "name": "stderr",
          "text": [
            "<ipython-input-91-9fc97857c8b5>:47: UserWarning: PySoundFile failed. Trying audioread instead.\n",
            "  audio , _ =  librosa.load(f\"coughvid_20211012/{row['uuid']}.webm\",sr=16000,mono=True)\n",
            "/usr/local/lib/python3.10/dist-packages/librosa/core/audio.py:184: FutureWarning: librosa.core.audio.__audioread_load\n",
            "\tDeprecated as of librosa version 0.10.0.\n",
            "\tIt will be removed in librosa version 1.0.\n",
            "  y, sr_native = __audioread_load(path, offset, duration, dtype)\n",
            "<ipython-input-91-9fc97857c8b5>:47: UserWarning: PySoundFile failed. Trying audioread instead.\n",
            "  audio , _ =  librosa.load(f\"coughvid_20211012/{row['uuid']}.webm\",sr=16000,mono=True)\n",
            "/usr/local/lib/python3.10/dist-packages/librosa/core/audio.py:184: FutureWarning: librosa.core.audio.__audioread_load\n",
            "\tDeprecated as of librosa version 0.10.0.\n",
            "\tIt will be removed in librosa version 1.0.\n",
            "  y, sr_native = __audioread_load(path, offset, duration, dtype)\n",
            "<ipython-input-91-9fc97857c8b5>:47: UserWarning: PySoundFile failed. Trying audioread instead.\n",
            "  audio , _ =  librosa.load(f\"coughvid_20211012/{row['uuid']}.webm\",sr=16000,mono=True)\n",
            "/usr/local/lib/python3.10/dist-packages/librosa/core/audio.py:184: FutureWarning: librosa.core.audio.__audioread_load\n",
            "\tDeprecated as of librosa version 0.10.0.\n",
            "\tIt will be removed in librosa version 1.0.\n",
            "  y, sr_native = __audioread_load(path, offset, duration, dtype)\n",
            "<ipython-input-91-9fc97857c8b5>:47: UserWarning: PySoundFile failed. Trying audioread instead.\n",
            "  audio , _ =  librosa.load(f\"coughvid_20211012/{row['uuid']}.webm\",sr=16000,mono=True)\n",
            "/usr/local/lib/python3.10/dist-packages/librosa/core/audio.py:184: FutureWarning: librosa.core.audio.__audioread_load\n",
            "\tDeprecated as of librosa version 0.10.0.\n",
            "\tIt will be removed in librosa version 1.0.\n",
            "  y, sr_native = __audioread_load(path, offset, duration, dtype)\n",
            "<ipython-input-91-9fc97857c8b5>:47: UserWarning: PySoundFile failed. Trying audioread instead.\n",
            "  audio , _ =  librosa.load(f\"coughvid_20211012/{row['uuid']}.webm\",sr=16000,mono=True)\n",
            "/usr/local/lib/python3.10/dist-packages/librosa/core/audio.py:184: FutureWarning: librosa.core.audio.__audioread_load\n",
            "\tDeprecated as of librosa version 0.10.0.\n",
            "\tIt will be removed in librosa version 1.0.\n",
            "  y, sr_native = __audioread_load(path, offset, duration, dtype)\n",
            "<ipython-input-91-9fc97857c8b5>:47: UserWarning: PySoundFile failed. Trying audioread instead.\n",
            "  audio , _ =  librosa.load(f\"coughvid_20211012/{row['uuid']}.webm\",sr=16000,mono=True)\n",
            "/usr/local/lib/python3.10/dist-packages/librosa/core/audio.py:184: FutureWarning: librosa.core.audio.__audioread_load\n",
            "\tDeprecated as of librosa version 0.10.0.\n",
            "\tIt will be removed in librosa version 1.0.\n",
            "  y, sr_native = __audioread_load(path, offset, duration, dtype)\n",
            "<ipython-input-91-9fc97857c8b5>:47: UserWarning: PySoundFile failed. Trying audioread instead.\n",
            "  audio , _ =  librosa.load(f\"coughvid_20211012/{row['uuid']}.webm\",sr=16000,mono=True)\n",
            "/usr/local/lib/python3.10/dist-packages/librosa/core/audio.py:184: FutureWarning: librosa.core.audio.__audioread_load\n",
            "\tDeprecated as of librosa version 0.10.0.\n",
            "\tIt will be removed in librosa version 1.0.\n",
            "  y, sr_native = __audioread_load(path, offset, duration, dtype)\n"
          ]
        },
        {
          "output_type": "stream",
          "name": "stdout",
          "text": [
            "1404\t File 0aa64689-c48a-421d-b353-c3496bad51ed ACCEPTED\n",
            "1405\t File 0aa72afa-cc54-4096-bc26-2a9e9cad184c ACCEPTED\n",
            "1406\t File 0aa7889e-6b72-4e0c-83b4-5fb342979241 REJECTED\n"
          ]
        },
        {
          "output_type": "stream",
          "name": "stderr",
          "text": [
            "<ipython-input-91-9fc97857c8b5>:47: UserWarning: PySoundFile failed. Trying audioread instead.\n",
            "  audio , _ =  librosa.load(f\"coughvid_20211012/{row['uuid']}.webm\",sr=16000,mono=True)\n",
            "/usr/local/lib/python3.10/dist-packages/librosa/core/audio.py:184: FutureWarning: librosa.core.audio.__audioread_load\n",
            "\tDeprecated as of librosa version 0.10.0.\n",
            "\tIt will be removed in librosa version 1.0.\n",
            "  y, sr_native = __audioread_load(path, offset, duration, dtype)\n",
            "<ipython-input-91-9fc97857c8b5>:47: UserWarning: PySoundFile failed. Trying audioread instead.\n",
            "  audio , _ =  librosa.load(f\"coughvid_20211012/{row['uuid']}.webm\",sr=16000,mono=True)\n",
            "/usr/local/lib/python3.10/dist-packages/librosa/core/audio.py:184: FutureWarning: librosa.core.audio.__audioread_load\n",
            "\tDeprecated as of librosa version 0.10.0.\n",
            "\tIt will be removed in librosa version 1.0.\n",
            "  y, sr_native = __audioread_load(path, offset, duration, dtype)\n"
          ]
        },
        {
          "output_type": "stream",
          "name": "stdout",
          "text": [
            "1407\t File 0aa7fe21-1eb3-4929-8d6e-1e6fc932dd1c ACCEPTED\n",
            "1408\t File 0aa87162-2ae6-441d-8966-981d76105898 ACCEPTED\n"
          ]
        },
        {
          "output_type": "stream",
          "name": "stderr",
          "text": [
            "<ipython-input-91-9fc97857c8b5>:47: UserWarning: PySoundFile failed. Trying audioread instead.\n",
            "  audio , _ =  librosa.load(f\"coughvid_20211012/{row['uuid']}.webm\",sr=16000,mono=True)\n",
            "/usr/local/lib/python3.10/dist-packages/librosa/core/audio.py:184: FutureWarning: librosa.core.audio.__audioread_load\n",
            "\tDeprecated as of librosa version 0.10.0.\n",
            "\tIt will be removed in librosa version 1.0.\n",
            "  y, sr_native = __audioread_load(path, offset, duration, dtype)\n",
            "<ipython-input-91-9fc97857c8b5>:47: UserWarning: PySoundFile failed. Trying audioread instead.\n",
            "  audio , _ =  librosa.load(f\"coughvid_20211012/{row['uuid']}.webm\",sr=16000,mono=True)\n",
            "/usr/local/lib/python3.10/dist-packages/librosa/core/audio.py:184: FutureWarning: librosa.core.audio.__audioread_load\n",
            "\tDeprecated as of librosa version 0.10.0.\n",
            "\tIt will be removed in librosa version 1.0.\n",
            "  y, sr_native = __audioread_load(path, offset, duration, dtype)\n"
          ]
        },
        {
          "output_type": "stream",
          "name": "stdout",
          "text": [
            "1409\t File 0aa872e8-aea9-4663-96fb-b0684b152c05 ACCEPTED\n",
            "1410\t File 0aa8c59b-fbb4-44cf-a14c-621b2d4c72e8 REJECTED\n",
            "1411\t File 0ab11ce0-9602-4690-b1e5-c3e838670d98 REJECTED\n",
            "1412\t File 0ab89d50-500a-4bf6-aaf0-0c925565bc8e ACCEPTED\n",
            "1413\t File 0ab97aa4-9a60-4fae-98df-4052f500d118 ACCEPTED\n"
          ]
        },
        {
          "output_type": "stream",
          "name": "stderr",
          "text": [
            "<ipython-input-91-9fc97857c8b5>:47: UserWarning: PySoundFile failed. Trying audioread instead.\n",
            "  audio , _ =  librosa.load(f\"coughvid_20211012/{row['uuid']}.webm\",sr=16000,mono=True)\n",
            "/usr/local/lib/python3.10/dist-packages/librosa/core/audio.py:184: FutureWarning: librosa.core.audio.__audioread_load\n",
            "\tDeprecated as of librosa version 0.10.0.\n",
            "\tIt will be removed in librosa version 1.0.\n",
            "  y, sr_native = __audioread_load(path, offset, duration, dtype)\n",
            "<ipython-input-91-9fc97857c8b5>:47: UserWarning: PySoundFile failed. Trying audioread instead.\n",
            "  audio , _ =  librosa.load(f\"coughvid_20211012/{row['uuid']}.webm\",sr=16000,mono=True)\n",
            "/usr/local/lib/python3.10/dist-packages/librosa/core/audio.py:184: FutureWarning: librosa.core.audio.__audioread_load\n",
            "\tDeprecated as of librosa version 0.10.0.\n",
            "\tIt will be removed in librosa version 1.0.\n",
            "  y, sr_native = __audioread_load(path, offset, duration, dtype)\n",
            "<ipython-input-91-9fc97857c8b5>:47: UserWarning: PySoundFile failed. Trying audioread instead.\n",
            "  audio , _ =  librosa.load(f\"coughvid_20211012/{row['uuid']}.webm\",sr=16000,mono=True)\n",
            "/usr/local/lib/python3.10/dist-packages/librosa/core/audio.py:184: FutureWarning: librosa.core.audio.__audioread_load\n",
            "\tDeprecated as of librosa version 0.10.0.\n",
            "\tIt will be removed in librosa version 1.0.\n",
            "  y, sr_native = __audioread_load(path, offset, duration, dtype)\n"
          ]
        },
        {
          "output_type": "stream",
          "name": "stdout",
          "text": [
            "1414\t File 0abacb07-11aa-4c81-a7c0-3b846d524aca ACCEPTED\n",
            "1415\t File 0abc55f4-83bb-4284-87d2-65044bf06200 ACCEPTED\n",
            "1416\t File 0ac3fe38-6168-4170-9e71-697b93d42297 ACCEPTED\n",
            "1417\t File 0ac4a300-6dfe-46ed-b899-37c8651a3964 REJECTED\n",
            "1418\t File 0ac6a271-f085-4691-afef-40091a6de2a0 REJECTED\n",
            "1419\t File 0ac95e31-3962-40b1-8229-00ba5ecb1202 REJECTED\n",
            "1420\t File 0ac9779a-2607-4537-bd18-d105da8c8b69 ACCEPTED\n",
            "1421\t File 0ac97b6c-853f-43bf-95ae-86938aa857d2 REJECTED\n",
            "1422\t File 0acb8223-4c5f-4237-b421-56e438b25007 ACCEPTED\n",
            "1423\t File 0ace0c46-6ca7-4749-9f9b-470e63c64999 REJECTED\n",
            "1424\t File 0acfa353-f96c-4cc3-b7af-d6fcd0c359a5 ACCEPTED\n"
          ]
        },
        {
          "output_type": "stream",
          "name": "stderr",
          "text": [
            "<ipython-input-91-9fc97857c8b5>:47: UserWarning: PySoundFile failed. Trying audioread instead.\n",
            "  audio , _ =  librosa.load(f\"coughvid_20211012/{row['uuid']}.webm\",sr=16000,mono=True)\n",
            "/usr/local/lib/python3.10/dist-packages/librosa/core/audio.py:184: FutureWarning: librosa.core.audio.__audioread_load\n",
            "\tDeprecated as of librosa version 0.10.0.\n",
            "\tIt will be removed in librosa version 1.0.\n",
            "  y, sr_native = __audioread_load(path, offset, duration, dtype)\n",
            "<ipython-input-91-9fc97857c8b5>:47: UserWarning: PySoundFile failed. Trying audioread instead.\n",
            "  audio , _ =  librosa.load(f\"coughvid_20211012/{row['uuid']}.webm\",sr=16000,mono=True)\n",
            "/usr/local/lib/python3.10/dist-packages/librosa/core/audio.py:184: FutureWarning: librosa.core.audio.__audioread_load\n",
            "\tDeprecated as of librosa version 0.10.0.\n",
            "\tIt will be removed in librosa version 1.0.\n",
            "  y, sr_native = __audioread_load(path, offset, duration, dtype)\n",
            "<ipython-input-91-9fc97857c8b5>:47: UserWarning: PySoundFile failed. Trying audioread instead.\n",
            "  audio , _ =  librosa.load(f\"coughvid_20211012/{row['uuid']}.webm\",sr=16000,mono=True)\n",
            "/usr/local/lib/python3.10/dist-packages/librosa/core/audio.py:184: FutureWarning: librosa.core.audio.__audioread_load\n",
            "\tDeprecated as of librosa version 0.10.0.\n",
            "\tIt will be removed in librosa version 1.0.\n",
            "  y, sr_native = __audioread_load(path, offset, duration, dtype)\n",
            "<ipython-input-91-9fc97857c8b5>:47: UserWarning: PySoundFile failed. Trying audioread instead.\n",
            "  audio , _ =  librosa.load(f\"coughvid_20211012/{row['uuid']}.webm\",sr=16000,mono=True)\n",
            "/usr/local/lib/python3.10/dist-packages/librosa/core/audio.py:184: FutureWarning: librosa.core.audio.__audioread_load\n",
            "\tDeprecated as of librosa version 0.10.0.\n",
            "\tIt will be removed in librosa version 1.0.\n",
            "  y, sr_native = __audioread_load(path, offset, duration, dtype)\n",
            "<ipython-input-91-9fc97857c8b5>:47: UserWarning: PySoundFile failed. Trying audioread instead.\n",
            "  audio , _ =  librosa.load(f\"coughvid_20211012/{row['uuid']}.webm\",sr=16000,mono=True)\n",
            "/usr/local/lib/python3.10/dist-packages/librosa/core/audio.py:184: FutureWarning: librosa.core.audio.__audioread_load\n",
            "\tDeprecated as of librosa version 0.10.0.\n",
            "\tIt will be removed in librosa version 1.0.\n",
            "  y, sr_native = __audioread_load(path, offset, duration, dtype)\n",
            "<ipython-input-91-9fc97857c8b5>:47: UserWarning: PySoundFile failed. Trying audioread instead.\n",
            "  audio , _ =  librosa.load(f\"coughvid_20211012/{row['uuid']}.webm\",sr=16000,mono=True)\n",
            "/usr/local/lib/python3.10/dist-packages/librosa/core/audio.py:184: FutureWarning: librosa.core.audio.__audioread_load\n",
            "\tDeprecated as of librosa version 0.10.0.\n",
            "\tIt will be removed in librosa version 1.0.\n",
            "  y, sr_native = __audioread_load(path, offset, duration, dtype)\n"
          ]
        },
        {
          "output_type": "stream",
          "name": "stdout",
          "text": [
            "1425\t File 0ad0519c-080e-4f21-b030-fe2e8e6bdff8 ACCEPTED\n",
            "1426\t File 0ad1264b-9338-4ed0-8bc9-224015e26efc REJECTED\n",
            "1427\t File 0ad50dd1-46d4-4a99-a156-2c95a1c094d8 ACCEPTED\n",
            "1428\t File 0ad66251-aa2a-4b28-9a8b-e145cfc8bc21 REJECTED\n"
          ]
        },
        {
          "output_type": "stream",
          "name": "stderr",
          "text": [
            "<ipython-input-91-9fc97857c8b5>:47: UserWarning: PySoundFile failed. Trying audioread instead.\n",
            "  audio , _ =  librosa.load(f\"coughvid_20211012/{row['uuid']}.webm\",sr=16000,mono=True)\n",
            "/usr/local/lib/python3.10/dist-packages/librosa/core/audio.py:184: FutureWarning: librosa.core.audio.__audioread_load\n",
            "\tDeprecated as of librosa version 0.10.0.\n",
            "\tIt will be removed in librosa version 1.0.\n",
            "  y, sr_native = __audioread_load(path, offset, duration, dtype)\n",
            "<ipython-input-91-9fc97857c8b5>:47: UserWarning: PySoundFile failed. Trying audioread instead.\n",
            "  audio , _ =  librosa.load(f\"coughvid_20211012/{row['uuid']}.webm\",sr=16000,mono=True)\n",
            "/usr/local/lib/python3.10/dist-packages/librosa/core/audio.py:184: FutureWarning: librosa.core.audio.__audioread_load\n",
            "\tDeprecated as of librosa version 0.10.0.\n",
            "\tIt will be removed in librosa version 1.0.\n",
            "  y, sr_native = __audioread_load(path, offset, duration, dtype)\n"
          ]
        },
        {
          "output_type": "stream",
          "name": "stdout",
          "text": [
            "1429\t File 0ad7e901-cd16-4d45-b193-43f09d20650f ACCEPTED\n",
            "1430\t File 0ad7f338-212e-4e4f-9767-01aa781f7a11 ACCEPTED\n",
            "1431\t File 0ad8ca95-509e-48af-8d54-9cef91eab64a ACCEPTED\n",
            "1432\t File 0adb5e7b-faf6-408d-b60a-79475776ad6d REJECTED\n",
            "1433\t File 0add5e55-136a-4eaa-98db-3495635cbb56 ACCEPTED\n",
            "1434\t File 0adf2d25-c214-4c20-b33f-3b30cb4ca384 REJECTED\n",
            "1435\t File 0ae234f1-545a-49d8-91e2-c0375dda784f ACCEPTED\n",
            "1436\t File 0ae62992-f30b-4345-ae3a-b025b787244f REJECTED\n",
            "1437\t File 0ae866c7-df48-4ea9-911a-5be9c8a0b567 REJECTED\n",
            "1438\t File 0ae9bba8-22e1-4da7-b270-074bb767c84c ACCEPTED\n",
            "1439\t File 0aec66e3-47a5-4f3f-bec6-ad38d090b219 ACCEPTED\n",
            "1440\t File 0aed7f53-9941-4a24-9b28-a64f68c6b435 REJECTED\n",
            "1441\t File 0aeddbf7-539a-47c8-8d4d-0bb2bec54840 REJECTED\n",
            "1442\t File 0aef8114-40f9-4c4f-a0e0-2cca65d4f046 REJECTED\n"
          ]
        },
        {
          "output_type": "stream",
          "name": "stderr",
          "text": [
            "<ipython-input-91-9fc97857c8b5>:47: UserWarning: PySoundFile failed. Trying audioread instead.\n",
            "  audio , _ =  librosa.load(f\"coughvid_20211012/{row['uuid']}.webm\",sr=16000,mono=True)\n",
            "/usr/local/lib/python3.10/dist-packages/librosa/core/audio.py:184: FutureWarning: librosa.core.audio.__audioread_load\n",
            "\tDeprecated as of librosa version 0.10.0.\n",
            "\tIt will be removed in librosa version 1.0.\n",
            "  y, sr_native = __audioread_load(path, offset, duration, dtype)\n",
            "<ipython-input-91-9fc97857c8b5>:47: UserWarning: PySoundFile failed. Trying audioread instead.\n",
            "  audio , _ =  librosa.load(f\"coughvid_20211012/{row['uuid']}.webm\",sr=16000,mono=True)\n",
            "/usr/local/lib/python3.10/dist-packages/librosa/core/audio.py:184: FutureWarning: librosa.core.audio.__audioread_load\n",
            "\tDeprecated as of librosa version 0.10.0.\n",
            "\tIt will be removed in librosa version 1.0.\n",
            "  y, sr_native = __audioread_load(path, offset, duration, dtype)\n",
            "<ipython-input-91-9fc97857c8b5>:47: UserWarning: PySoundFile failed. Trying audioread instead.\n",
            "  audio , _ =  librosa.load(f\"coughvid_20211012/{row['uuid']}.webm\",sr=16000,mono=True)\n",
            "/usr/local/lib/python3.10/dist-packages/librosa/core/audio.py:184: FutureWarning: librosa.core.audio.__audioread_load\n",
            "\tDeprecated as of librosa version 0.10.0.\n",
            "\tIt will be removed in librosa version 1.0.\n",
            "  y, sr_native = __audioread_load(path, offset, duration, dtype)\n",
            "<ipython-input-91-9fc97857c8b5>:47: UserWarning: PySoundFile failed. Trying audioread instead.\n",
            "  audio , _ =  librosa.load(f\"coughvid_20211012/{row['uuid']}.webm\",sr=16000,mono=True)\n",
            "/usr/local/lib/python3.10/dist-packages/librosa/core/audio.py:184: FutureWarning: librosa.core.audio.__audioread_load\n",
            "\tDeprecated as of librosa version 0.10.0.\n",
            "\tIt will be removed in librosa version 1.0.\n",
            "  y, sr_native = __audioread_load(path, offset, duration, dtype)\n",
            "<ipython-input-91-9fc97857c8b5>:47: UserWarning: PySoundFile failed. Trying audioread instead.\n",
            "  audio , _ =  librosa.load(f\"coughvid_20211012/{row['uuid']}.webm\",sr=16000,mono=True)\n",
            "/usr/local/lib/python3.10/dist-packages/librosa/core/audio.py:184: FutureWarning: librosa.core.audio.__audioread_load\n",
            "\tDeprecated as of librosa version 0.10.0.\n",
            "\tIt will be removed in librosa version 1.0.\n",
            "  y, sr_native = __audioread_load(path, offset, duration, dtype)\n",
            "<ipython-input-91-9fc97857c8b5>:47: UserWarning: PySoundFile failed. Trying audioread instead.\n",
            "  audio , _ =  librosa.load(f\"coughvid_20211012/{row['uuid']}.webm\",sr=16000,mono=True)\n",
            "/usr/local/lib/python3.10/dist-packages/librosa/core/audio.py:184: FutureWarning: librosa.core.audio.__audioread_load\n",
            "\tDeprecated as of librosa version 0.10.0.\n",
            "\tIt will be removed in librosa version 1.0.\n",
            "  y, sr_native = __audioread_load(path, offset, duration, dtype)\n",
            "<ipython-input-91-9fc97857c8b5>:47: UserWarning: PySoundFile failed. Trying audioread instead.\n",
            "  audio , _ =  librosa.load(f\"coughvid_20211012/{row['uuid']}.webm\",sr=16000,mono=True)\n",
            "/usr/local/lib/python3.10/dist-packages/librosa/core/audio.py:184: FutureWarning: librosa.core.audio.__audioread_load\n",
            "\tDeprecated as of librosa version 0.10.0.\n",
            "\tIt will be removed in librosa version 1.0.\n",
            "  y, sr_native = __audioread_load(path, offset, duration, dtype)\n"
          ]
        },
        {
          "output_type": "stream",
          "name": "stdout",
          "text": [
            "1443\t File 0aef9760-a417-48f3-a420-732c9751f837 ACCEPTED\n",
            "1444\t File 0af25dd0-60ec-4d0d-af93-b8157b89b146 ACCEPTED\n"
          ]
        },
        {
          "output_type": "stream",
          "name": "stderr",
          "text": [
            "<ipython-input-91-9fc97857c8b5>:47: UserWarning: PySoundFile failed. Trying audioread instead.\n",
            "  audio , _ =  librosa.load(f\"coughvid_20211012/{row['uuid']}.webm\",sr=16000,mono=True)\n",
            "/usr/local/lib/python3.10/dist-packages/librosa/core/audio.py:184: FutureWarning: librosa.core.audio.__audioread_load\n",
            "\tDeprecated as of librosa version 0.10.0.\n",
            "\tIt will be removed in librosa version 1.0.\n",
            "  y, sr_native = __audioread_load(path, offset, duration, dtype)\n",
            "<ipython-input-91-9fc97857c8b5>:47: UserWarning: PySoundFile failed. Trying audioread instead.\n",
            "  audio , _ =  librosa.load(f\"coughvid_20211012/{row['uuid']}.webm\",sr=16000,mono=True)\n",
            "/usr/local/lib/python3.10/dist-packages/librosa/core/audio.py:184: FutureWarning: librosa.core.audio.__audioread_load\n",
            "\tDeprecated as of librosa version 0.10.0.\n",
            "\tIt will be removed in librosa version 1.0.\n",
            "  y, sr_native = __audioread_load(path, offset, duration, dtype)\n"
          ]
        },
        {
          "output_type": "stream",
          "name": "stdout",
          "text": [
            "1445\t File 0af3676f-b2dd-4fed-86c5-3cac08a385be ACCEPTED\n",
            "1446\t File 0af91263-5c91-43b3-bbbd-ab20c08d115f REJECTED\n",
            "1447\t File 0afd1bba-fd24-4ff3-a246-3ed081411d65 ACCEPTED\n",
            "1448\t File 0afdb27b-217f-48bd-9559-01d7985aef26 REJECTED\n"
          ]
        },
        {
          "output_type": "stream",
          "name": "stderr",
          "text": [
            "<ipython-input-91-9fc97857c8b5>:47: UserWarning: PySoundFile failed. Trying audioread instead.\n",
            "  audio , _ =  librosa.load(f\"coughvid_20211012/{row['uuid']}.webm\",sr=16000,mono=True)\n",
            "/usr/local/lib/python3.10/dist-packages/librosa/core/audio.py:184: FutureWarning: librosa.core.audio.__audioread_load\n",
            "\tDeprecated as of librosa version 0.10.0.\n",
            "\tIt will be removed in librosa version 1.0.\n",
            "  y, sr_native = __audioread_load(path, offset, duration, dtype)\n",
            "<ipython-input-91-9fc97857c8b5>:47: UserWarning: PySoundFile failed. Trying audioread instead.\n",
            "  audio , _ =  librosa.load(f\"coughvid_20211012/{row['uuid']}.webm\",sr=16000,mono=True)\n",
            "/usr/local/lib/python3.10/dist-packages/librosa/core/audio.py:184: FutureWarning: librosa.core.audio.__audioread_load\n",
            "\tDeprecated as of librosa version 0.10.0.\n",
            "\tIt will be removed in librosa version 1.0.\n",
            "  y, sr_native = __audioread_load(path, offset, duration, dtype)\n"
          ]
        },
        {
          "output_type": "stream",
          "name": "stdout",
          "text": [
            "1449\t File 0b016126-f6b1-422e-96e5-7f09334ea144 ACCEPTED\n",
            "1450\t File 0b02e75b-91b9-4afc-bc5d-243b90c406d0 ACCEPTED\n",
            "1451\t File 0b03673a-28db-4e1c-aeb0-4fec88d977a1 ACCEPTED\n"
          ]
        },
        {
          "output_type": "stream",
          "name": "stderr",
          "text": [
            "<ipython-input-91-9fc97857c8b5>:47: UserWarning: PySoundFile failed. Trying audioread instead.\n",
            "  audio , _ =  librosa.load(f\"coughvid_20211012/{row['uuid']}.webm\",sr=16000,mono=True)\n",
            "/usr/local/lib/python3.10/dist-packages/librosa/core/audio.py:184: FutureWarning: librosa.core.audio.__audioread_load\n",
            "\tDeprecated as of librosa version 0.10.0.\n",
            "\tIt will be removed in librosa version 1.0.\n",
            "  y, sr_native = __audioread_load(path, offset, duration, dtype)\n",
            "<ipython-input-91-9fc97857c8b5>:47: UserWarning: PySoundFile failed. Trying audioread instead.\n",
            "  audio , _ =  librosa.load(f\"coughvid_20211012/{row['uuid']}.webm\",sr=16000,mono=True)\n",
            "/usr/local/lib/python3.10/dist-packages/librosa/core/audio.py:184: FutureWarning: librosa.core.audio.__audioread_load\n",
            "\tDeprecated as of librosa version 0.10.0.\n",
            "\tIt will be removed in librosa version 1.0.\n",
            "  y, sr_native = __audioread_load(path, offset, duration, dtype)\n",
            "<ipython-input-91-9fc97857c8b5>:47: UserWarning: PySoundFile failed. Trying audioread instead.\n",
            "  audio , _ =  librosa.load(f\"coughvid_20211012/{row['uuid']}.webm\",sr=16000,mono=True)\n",
            "/usr/local/lib/python3.10/dist-packages/librosa/core/audio.py:184: FutureWarning: librosa.core.audio.__audioread_load\n",
            "\tDeprecated as of librosa version 0.10.0.\n",
            "\tIt will be removed in librosa version 1.0.\n",
            "  y, sr_native = __audioread_load(path, offset, duration, dtype)\n"
          ]
        },
        {
          "output_type": "stream",
          "name": "stdout",
          "text": [
            "1452\t File 0b04892b-156f-4796-af54-92abe18db5d9 ACCEPTED\n",
            "1453\t File 0b060755-8ddd-4a18-b724-12fd25599be9 ACCEPTED\n"
          ]
        },
        {
          "output_type": "stream",
          "name": "stderr",
          "text": [
            "<ipython-input-91-9fc97857c8b5>:47: UserWarning: PySoundFile failed. Trying audioread instead.\n",
            "  audio , _ =  librosa.load(f\"coughvid_20211012/{row['uuid']}.webm\",sr=16000,mono=True)\n",
            "/usr/local/lib/python3.10/dist-packages/librosa/core/audio.py:184: FutureWarning: librosa.core.audio.__audioread_load\n",
            "\tDeprecated as of librosa version 0.10.0.\n",
            "\tIt will be removed in librosa version 1.0.\n",
            "  y, sr_native = __audioread_load(path, offset, duration, dtype)\n",
            "<ipython-input-91-9fc97857c8b5>:47: UserWarning: PySoundFile failed. Trying audioread instead.\n",
            "  audio , _ =  librosa.load(f\"coughvid_20211012/{row['uuid']}.webm\",sr=16000,mono=True)\n",
            "/usr/local/lib/python3.10/dist-packages/librosa/core/audio.py:184: FutureWarning: librosa.core.audio.__audioread_load\n",
            "\tDeprecated as of librosa version 0.10.0.\n",
            "\tIt will be removed in librosa version 1.0.\n",
            "  y, sr_native = __audioread_load(path, offset, duration, dtype)\n"
          ]
        },
        {
          "output_type": "stream",
          "name": "stdout",
          "text": [
            "1454\t File 0b069782-38a1-4442-a0e1-c48e50f8060c ACCEPTED\n",
            "1455\t File 0b07843e-a9dc-488a-9455-1d704d1d0e5e ACCEPTED\n",
            "1456\t File 0b080a86-4a0d-4a91-ba2a-252a43d3f3d0 REJECTED\n"
          ]
        },
        {
          "output_type": "stream",
          "name": "stderr",
          "text": [
            "<ipython-input-91-9fc97857c8b5>:47: UserWarning: PySoundFile failed. Trying audioread instead.\n",
            "  audio , _ =  librosa.load(f\"coughvid_20211012/{row['uuid']}.webm\",sr=16000,mono=True)\n",
            "/usr/local/lib/python3.10/dist-packages/librosa/core/audio.py:184: FutureWarning: librosa.core.audio.__audioread_load\n",
            "\tDeprecated as of librosa version 0.10.0.\n",
            "\tIt will be removed in librosa version 1.0.\n",
            "  y, sr_native = __audioread_load(path, offset, duration, dtype)\n",
            "<ipython-input-91-9fc97857c8b5>:47: UserWarning: PySoundFile failed. Trying audioread instead.\n",
            "  audio , _ =  librosa.load(f\"coughvid_20211012/{row['uuid']}.webm\",sr=16000,mono=True)\n",
            "/usr/local/lib/python3.10/dist-packages/librosa/core/audio.py:184: FutureWarning: librosa.core.audio.__audioread_load\n",
            "\tDeprecated as of librosa version 0.10.0.\n",
            "\tIt will be removed in librosa version 1.0.\n",
            "  y, sr_native = __audioread_load(path, offset, duration, dtype)\n"
          ]
        },
        {
          "output_type": "stream",
          "name": "stdout",
          "text": [
            "1457\t File 0b088d77-d695-4d18-b3cb-235d1cc69f73 ACCEPTED\n",
            "1458\t File 0b098081-772d-4ca1-adcb-c92043f04757 REJECTED\n",
            "1459\t File 0b0b0aa7-b3fd-43f5-8292-9687f7df34de ACCEPTED\n",
            "1460\t File 0b0d7e10-8353-4124-a16b-bf96e405f63c ACCEPTED\n"
          ]
        },
        {
          "output_type": "stream",
          "name": "stderr",
          "text": [
            "<ipython-input-91-9fc97857c8b5>:47: UserWarning: PySoundFile failed. Trying audioread instead.\n",
            "  audio , _ =  librosa.load(f\"coughvid_20211012/{row['uuid']}.webm\",sr=16000,mono=True)\n",
            "/usr/local/lib/python3.10/dist-packages/librosa/core/audio.py:184: FutureWarning: librosa.core.audio.__audioread_load\n",
            "\tDeprecated as of librosa version 0.10.0.\n",
            "\tIt will be removed in librosa version 1.0.\n",
            "  y, sr_native = __audioread_load(path, offset, duration, dtype)\n",
            "<ipython-input-91-9fc97857c8b5>:47: UserWarning: PySoundFile failed. Trying audioread instead.\n",
            "  audio , _ =  librosa.load(f\"coughvid_20211012/{row['uuid']}.webm\",sr=16000,mono=True)\n",
            "/usr/local/lib/python3.10/dist-packages/librosa/core/audio.py:184: FutureWarning: librosa.core.audio.__audioread_load\n",
            "\tDeprecated as of librosa version 0.10.0.\n",
            "\tIt will be removed in librosa version 1.0.\n",
            "  y, sr_native = __audioread_load(path, offset, duration, dtype)\n",
            "<ipython-input-91-9fc97857c8b5>:47: UserWarning: PySoundFile failed. Trying audioread instead.\n",
            "  audio , _ =  librosa.load(f\"coughvid_20211012/{row['uuid']}.webm\",sr=16000,mono=True)\n",
            "/usr/local/lib/python3.10/dist-packages/librosa/core/audio.py:184: FutureWarning: librosa.core.audio.__audioread_load\n",
            "\tDeprecated as of librosa version 0.10.0.\n",
            "\tIt will be removed in librosa version 1.0.\n",
            "  y, sr_native = __audioread_load(path, offset, duration, dtype)\n"
          ]
        },
        {
          "output_type": "stream",
          "name": "stdout",
          "text": [
            "1461\t File 0b0df277-37ff-4d6b-a8aa-b7cbbe8eaf90 ACCEPTED\n",
            "1462\t File 0b0fcb49-00ae-490d-8755-76f2297f5be0 ACCEPTED\n"
          ]
        },
        {
          "output_type": "stream",
          "name": "stderr",
          "text": [
            "<ipython-input-91-9fc97857c8b5>:47: UserWarning: PySoundFile failed. Trying audioread instead.\n",
            "  audio , _ =  librosa.load(f\"coughvid_20211012/{row['uuid']}.webm\",sr=16000,mono=True)\n",
            "/usr/local/lib/python3.10/dist-packages/librosa/core/audio.py:184: FutureWarning: librosa.core.audio.__audioread_load\n",
            "\tDeprecated as of librosa version 0.10.0.\n",
            "\tIt will be removed in librosa version 1.0.\n",
            "  y, sr_native = __audioread_load(path, offset, duration, dtype)\n",
            "<ipython-input-91-9fc97857c8b5>:47: UserWarning: PySoundFile failed. Trying audioread instead.\n",
            "  audio , _ =  librosa.load(f\"coughvid_20211012/{row['uuid']}.webm\",sr=16000,mono=True)\n",
            "/usr/local/lib/python3.10/dist-packages/librosa/core/audio.py:184: FutureWarning: librosa.core.audio.__audioread_load\n",
            "\tDeprecated as of librosa version 0.10.0.\n",
            "\tIt will be removed in librosa version 1.0.\n",
            "  y, sr_native = __audioread_load(path, offset, duration, dtype)\n"
          ]
        },
        {
          "output_type": "stream",
          "name": "stdout",
          "text": [
            "1463\t File 0b110058-23cc-4396-9e99-34f78cb72ce8 ACCEPTED\n",
            "1464\t File 0b11a8d8-29d5-4133-bc92-edd442330fb1 REJECTED\n",
            "1465\t File 0b130d1c-e411-46fe-9e38-71c11f9d9195 ACCEPTED\n"
          ]
        },
        {
          "output_type": "stream",
          "name": "stderr",
          "text": [
            "<ipython-input-91-9fc97857c8b5>:47: UserWarning: PySoundFile failed. Trying audioread instead.\n",
            "  audio , _ =  librosa.load(f\"coughvid_20211012/{row['uuid']}.webm\",sr=16000,mono=True)\n",
            "/usr/local/lib/python3.10/dist-packages/librosa/core/audio.py:184: FutureWarning: librosa.core.audio.__audioread_load\n",
            "\tDeprecated as of librosa version 0.10.0.\n",
            "\tIt will be removed in librosa version 1.0.\n",
            "  y, sr_native = __audioread_load(path, offset, duration, dtype)\n",
            "<ipython-input-91-9fc97857c8b5>:47: UserWarning: PySoundFile failed. Trying audioread instead.\n",
            "  audio , _ =  librosa.load(f\"coughvid_20211012/{row['uuid']}.webm\",sr=16000,mono=True)\n",
            "/usr/local/lib/python3.10/dist-packages/librosa/core/audio.py:184: FutureWarning: librosa.core.audio.__audioread_load\n",
            "\tDeprecated as of librosa version 0.10.0.\n",
            "\tIt will be removed in librosa version 1.0.\n",
            "  y, sr_native = __audioread_load(path, offset, duration, dtype)\n"
          ]
        },
        {
          "output_type": "stream",
          "name": "stdout",
          "text": [
            "1466\t File 0b14b4fa-edf0-4595-89af-d4a69208205b ACCEPTED\n",
            "1467\t File 0b155ff1-3257-4a3b-a0b5-ac1b848af212 REJECTED\n",
            "1468\t File 0b16e44d-5b1c-4aae-93f7-23dc0bbbc74b ACCEPTED\n",
            "1469\t File 0b19a880-eb36-4aeb-be1d-e03e36487dea ACCEPTED\n",
            "1470\t File 0b19e6db-d4cc-43b4-994e-d4eff18cc7e9 REJECTED\n"
          ]
        },
        {
          "output_type": "stream",
          "name": "stderr",
          "text": [
            "<ipython-input-91-9fc97857c8b5>:47: UserWarning: PySoundFile failed. Trying audioread instead.\n",
            "  audio , _ =  librosa.load(f\"coughvid_20211012/{row['uuid']}.webm\",sr=16000,mono=True)\n",
            "/usr/local/lib/python3.10/dist-packages/librosa/core/audio.py:184: FutureWarning: librosa.core.audio.__audioread_load\n",
            "\tDeprecated as of librosa version 0.10.0.\n",
            "\tIt will be removed in librosa version 1.0.\n",
            "  y, sr_native = __audioread_load(path, offset, duration, dtype)\n",
            "<ipython-input-91-9fc97857c8b5>:47: UserWarning: PySoundFile failed. Trying audioread instead.\n",
            "  audio , _ =  librosa.load(f\"coughvid_20211012/{row['uuid']}.webm\",sr=16000,mono=True)\n",
            "/usr/local/lib/python3.10/dist-packages/librosa/core/audio.py:184: FutureWarning: librosa.core.audio.__audioread_load\n",
            "\tDeprecated as of librosa version 0.10.0.\n",
            "\tIt will be removed in librosa version 1.0.\n",
            "  y, sr_native = __audioread_load(path, offset, duration, dtype)\n",
            "<ipython-input-91-9fc97857c8b5>:47: UserWarning: PySoundFile failed. Trying audioread instead.\n",
            "  audio , _ =  librosa.load(f\"coughvid_20211012/{row['uuid']}.webm\",sr=16000,mono=True)\n",
            "/usr/local/lib/python3.10/dist-packages/librosa/core/audio.py:184: FutureWarning: librosa.core.audio.__audioread_load\n",
            "\tDeprecated as of librosa version 0.10.0.\n",
            "\tIt will be removed in librosa version 1.0.\n",
            "  y, sr_native = __audioread_load(path, offset, duration, dtype)\n"
          ]
        },
        {
          "output_type": "stream",
          "name": "stdout",
          "text": [
            "1471\t File 0b1a540a-b6e7-4a2f-8796-28bd04554a36 ACCEPTED\n",
            "1472\t File 0b1b71d8-7d5e-48f9-be0d-f990fc890224 REJECTED\n",
            "1473\t File 0b207336-533a-42db-bb5a-bd783defee90 ACCEPTED\n",
            "1474\t File 0b2389c8-7dea-4b05-91d2-ee885199256d REJECTED\n",
            "1475\t File 0b239057-f033-4241-af2a-65ec65225f9d REJECTED\n"
          ]
        },
        {
          "output_type": "stream",
          "name": "stderr",
          "text": [
            "<ipython-input-91-9fc97857c8b5>:47: UserWarning: PySoundFile failed. Trying audioread instead.\n",
            "  audio , _ =  librosa.load(f\"coughvid_20211012/{row['uuid']}.webm\",sr=16000,mono=True)\n",
            "/usr/local/lib/python3.10/dist-packages/librosa/core/audio.py:184: FutureWarning: librosa.core.audio.__audioread_load\n",
            "\tDeprecated as of librosa version 0.10.0.\n",
            "\tIt will be removed in librosa version 1.0.\n",
            "  y, sr_native = __audioread_load(path, offset, duration, dtype)\n",
            "<ipython-input-91-9fc97857c8b5>:47: UserWarning: PySoundFile failed. Trying audioread instead.\n",
            "  audio , _ =  librosa.load(f\"coughvid_20211012/{row['uuid']}.webm\",sr=16000,mono=True)\n",
            "/usr/local/lib/python3.10/dist-packages/librosa/core/audio.py:184: FutureWarning: librosa.core.audio.__audioread_load\n",
            "\tDeprecated as of librosa version 0.10.0.\n",
            "\tIt will be removed in librosa version 1.0.\n",
            "  y, sr_native = __audioread_load(path, offset, duration, dtype)\n"
          ]
        },
        {
          "output_type": "stream",
          "name": "stdout",
          "text": [
            "1476\t File 0b2565db-2c95-4287-aae2-608e04694533 ACCEPTED\n",
            "1477\t File 0b26bdbc-210a-4054-a683-f155e67ad2d1 ACCEPTED\n",
            "1478\t File 0b2b112b-e64f-406b-893b-19e0c9e0c034 REJECTED\n"
          ]
        },
        {
          "output_type": "stream",
          "name": "stderr",
          "text": [
            "<ipython-input-91-9fc97857c8b5>:47: UserWarning: PySoundFile failed. Trying audioread instead.\n",
            "  audio , _ =  librosa.load(f\"coughvid_20211012/{row['uuid']}.webm\",sr=16000,mono=True)\n",
            "/usr/local/lib/python3.10/dist-packages/librosa/core/audio.py:184: FutureWarning: librosa.core.audio.__audioread_load\n",
            "\tDeprecated as of librosa version 0.10.0.\n",
            "\tIt will be removed in librosa version 1.0.\n",
            "  y, sr_native = __audioread_load(path, offset, duration, dtype)\n",
            "<ipython-input-91-9fc97857c8b5>:47: UserWarning: PySoundFile failed. Trying audioread instead.\n",
            "  audio , _ =  librosa.load(f\"coughvid_20211012/{row['uuid']}.webm\",sr=16000,mono=True)\n",
            "/usr/local/lib/python3.10/dist-packages/librosa/core/audio.py:184: FutureWarning: librosa.core.audio.__audioread_load\n",
            "\tDeprecated as of librosa version 0.10.0.\n",
            "\tIt will be removed in librosa version 1.0.\n",
            "  y, sr_native = __audioread_load(path, offset, duration, dtype)\n"
          ]
        },
        {
          "output_type": "stream",
          "name": "stdout",
          "text": [
            "1479\t File 0b2b2d60-540e-4242-825d-1d2d9bbcbc57 ACCEPTED\n",
            "1480\t File 0b2bb726-8284-48a2-89ad-4e26fab9e788 REJECTED\n",
            "1481\t File 0b2bb739-8b32-4e0c-a8b7-6dea8e33738b ACCEPTED\n"
          ]
        },
        {
          "output_type": "stream",
          "name": "stderr",
          "text": [
            "<ipython-input-91-9fc97857c8b5>:47: UserWarning: PySoundFile failed. Trying audioread instead.\n",
            "  audio , _ =  librosa.load(f\"coughvid_20211012/{row['uuid']}.webm\",sr=16000,mono=True)\n",
            "/usr/local/lib/python3.10/dist-packages/librosa/core/audio.py:184: FutureWarning: librosa.core.audio.__audioread_load\n",
            "\tDeprecated as of librosa version 0.10.0.\n",
            "\tIt will be removed in librosa version 1.0.\n",
            "  y, sr_native = __audioread_load(path, offset, duration, dtype)\n",
            "<ipython-input-91-9fc97857c8b5>:47: UserWarning: PySoundFile failed. Trying audioread instead.\n",
            "  audio , _ =  librosa.load(f\"coughvid_20211012/{row['uuid']}.webm\",sr=16000,mono=True)\n",
            "/usr/local/lib/python3.10/dist-packages/librosa/core/audio.py:184: FutureWarning: librosa.core.audio.__audioread_load\n",
            "\tDeprecated as of librosa version 0.10.0.\n",
            "\tIt will be removed in librosa version 1.0.\n",
            "  y, sr_native = __audioread_load(path, offset, duration, dtype)\n"
          ]
        },
        {
          "output_type": "stream",
          "name": "stdout",
          "text": [
            "1482\t File 0b2d8504-3f58-411a-8024-31abebc507fb ACCEPTED\n",
            "1483\t File 0b2f37f5-0b2d-402f-a28e-6e80331e44a5 ACCEPTED\n"
          ]
        },
        {
          "output_type": "stream",
          "name": "stderr",
          "text": [
            "<ipython-input-91-9fc97857c8b5>:47: UserWarning: PySoundFile failed. Trying audioread instead.\n",
            "  audio , _ =  librosa.load(f\"coughvid_20211012/{row['uuid']}.webm\",sr=16000,mono=True)\n",
            "/usr/local/lib/python3.10/dist-packages/librosa/core/audio.py:184: FutureWarning: librosa.core.audio.__audioread_load\n",
            "\tDeprecated as of librosa version 0.10.0.\n",
            "\tIt will be removed in librosa version 1.0.\n",
            "  y, sr_native = __audioread_load(path, offset, duration, dtype)\n",
            "<ipython-input-91-9fc97857c8b5>:47: UserWarning: PySoundFile failed. Trying audioread instead.\n",
            "  audio , _ =  librosa.load(f\"coughvid_20211012/{row['uuid']}.webm\",sr=16000,mono=True)\n",
            "/usr/local/lib/python3.10/dist-packages/librosa/core/audio.py:184: FutureWarning: librosa.core.audio.__audioread_load\n",
            "\tDeprecated as of librosa version 0.10.0.\n",
            "\tIt will be removed in librosa version 1.0.\n",
            "  y, sr_native = __audioread_load(path, offset, duration, dtype)\n"
          ]
        },
        {
          "output_type": "stream",
          "name": "stdout",
          "text": [
            "1484\t File 0b2f75d7-f116-4f35-ae4c-f2018eab2794 ACCEPTED\n",
            "1485\t File 0b302155-515f-49b5-9aba-e08f20999f70 ACCEPTED\n"
          ]
        },
        {
          "output_type": "stream",
          "name": "stderr",
          "text": [
            "<ipython-input-91-9fc97857c8b5>:47: UserWarning: PySoundFile failed. Trying audioread instead.\n",
            "  audio , _ =  librosa.load(f\"coughvid_20211012/{row['uuid']}.webm\",sr=16000,mono=True)\n",
            "/usr/local/lib/python3.10/dist-packages/librosa/core/audio.py:184: FutureWarning: librosa.core.audio.__audioread_load\n",
            "\tDeprecated as of librosa version 0.10.0.\n",
            "\tIt will be removed in librosa version 1.0.\n",
            "  y, sr_native = __audioread_load(path, offset, duration, dtype)\n",
            "<ipython-input-91-9fc97857c8b5>:47: UserWarning: PySoundFile failed. Trying audioread instead.\n",
            "  audio , _ =  librosa.load(f\"coughvid_20211012/{row['uuid']}.webm\",sr=16000,mono=True)\n",
            "/usr/local/lib/python3.10/dist-packages/librosa/core/audio.py:184: FutureWarning: librosa.core.audio.__audioread_load\n",
            "\tDeprecated as of librosa version 0.10.0.\n",
            "\tIt will be removed in librosa version 1.0.\n",
            "  y, sr_native = __audioread_load(path, offset, duration, dtype)\n"
          ]
        },
        {
          "output_type": "stream",
          "name": "stdout",
          "text": [
            "1486\t File 0b35d226-9927-4ddc-b5ea-cca273d43f66 ACCEPTED\n",
            "1487\t File 0b3612f5-8f3f-4d86-b224-a76fe51a6991 ACCEPTED\n",
            "1488\t File 0b37d848-3403-494d-8c69-be5011c16dd2 ACCEPTED\n",
            "1489\t File 0b37f570-524a-4543-96f3-112f6096349a ACCEPTED\n",
            "1490\t File 0b393dd6-20b9-4d08-be48-230108d471df ACCEPTED\n",
            "1491\t File 0b3cba9a-5adc-4862-a23b-a5314c4caf2f ACCEPTED\n",
            "1492\t File 0b3dd93b-592c-4068-961d-a1603ce579d2 ACCEPTED\n",
            "1493\t File 0b3ec87b-b882-4a57-9cae-b391ccb360e4 REJECTED\n",
            "1494\t File 0b426d83-97c9-4270-8c70-477a95112f95 ACCEPTED\n"
          ]
        },
        {
          "output_type": "stream",
          "name": "stderr",
          "text": [
            "<ipython-input-91-9fc97857c8b5>:47: UserWarning: PySoundFile failed. Trying audioread instead.\n",
            "  audio , _ =  librosa.load(f\"coughvid_20211012/{row['uuid']}.webm\",sr=16000,mono=True)\n",
            "/usr/local/lib/python3.10/dist-packages/librosa/core/audio.py:184: FutureWarning: librosa.core.audio.__audioread_load\n",
            "\tDeprecated as of librosa version 0.10.0.\n",
            "\tIt will be removed in librosa version 1.0.\n",
            "  y, sr_native = __audioread_load(path, offset, duration, dtype)\n",
            "<ipython-input-91-9fc97857c8b5>:47: UserWarning: PySoundFile failed. Trying audioread instead.\n",
            "  audio , _ =  librosa.load(f\"coughvid_20211012/{row['uuid']}.webm\",sr=16000,mono=True)\n",
            "/usr/local/lib/python3.10/dist-packages/librosa/core/audio.py:184: FutureWarning: librosa.core.audio.__audioread_load\n",
            "\tDeprecated as of librosa version 0.10.0.\n",
            "\tIt will be removed in librosa version 1.0.\n",
            "  y, sr_native = __audioread_load(path, offset, duration, dtype)\n",
            "<ipython-input-91-9fc97857c8b5>:47: UserWarning: PySoundFile failed. Trying audioread instead.\n",
            "  audio , _ =  librosa.load(f\"coughvid_20211012/{row['uuid']}.webm\",sr=16000,mono=True)\n",
            "/usr/local/lib/python3.10/dist-packages/librosa/core/audio.py:184: FutureWarning: librosa.core.audio.__audioread_load\n",
            "\tDeprecated as of librosa version 0.10.0.\n",
            "\tIt will be removed in librosa version 1.0.\n",
            "  y, sr_native = __audioread_load(path, offset, duration, dtype)\n",
            "<ipython-input-91-9fc97857c8b5>:47: UserWarning: PySoundFile failed. Trying audioread instead.\n",
            "  audio , _ =  librosa.load(f\"coughvid_20211012/{row['uuid']}.webm\",sr=16000,mono=True)\n",
            "/usr/local/lib/python3.10/dist-packages/librosa/core/audio.py:184: FutureWarning: librosa.core.audio.__audioread_load\n",
            "\tDeprecated as of librosa version 0.10.0.\n",
            "\tIt will be removed in librosa version 1.0.\n",
            "  y, sr_native = __audioread_load(path, offset, duration, dtype)\n",
            "<ipython-input-91-9fc97857c8b5>:47: UserWarning: PySoundFile failed. Trying audioread instead.\n",
            "  audio , _ =  librosa.load(f\"coughvid_20211012/{row['uuid']}.webm\",sr=16000,mono=True)\n",
            "/usr/local/lib/python3.10/dist-packages/librosa/core/audio.py:184: FutureWarning: librosa.core.audio.__audioread_load\n",
            "\tDeprecated as of librosa version 0.10.0.\n",
            "\tIt will be removed in librosa version 1.0.\n",
            "  y, sr_native = __audioread_load(path, offset, duration, dtype)\n",
            "<ipython-input-91-9fc97857c8b5>:47: UserWarning: PySoundFile failed. Trying audioread instead.\n",
            "  audio , _ =  librosa.load(f\"coughvid_20211012/{row['uuid']}.webm\",sr=16000,mono=True)\n",
            "/usr/local/lib/python3.10/dist-packages/librosa/core/audio.py:184: FutureWarning: librosa.core.audio.__audioread_load\n",
            "\tDeprecated as of librosa version 0.10.0.\n",
            "\tIt will be removed in librosa version 1.0.\n",
            "  y, sr_native = __audioread_load(path, offset, duration, dtype)\n",
            "<ipython-input-91-9fc97857c8b5>:47: UserWarning: PySoundFile failed. Trying audioread instead.\n",
            "  audio , _ =  librosa.load(f\"coughvid_20211012/{row['uuid']}.webm\",sr=16000,mono=True)\n",
            "/usr/local/lib/python3.10/dist-packages/librosa/core/audio.py:184: FutureWarning: librosa.core.audio.__audioread_load\n",
            "\tDeprecated as of librosa version 0.10.0.\n",
            "\tIt will be removed in librosa version 1.0.\n",
            "  y, sr_native = __audioread_load(path, offset, duration, dtype)\n",
            "<ipython-input-91-9fc97857c8b5>:47: UserWarning: PySoundFile failed. Trying audioread instead.\n",
            "  audio , _ =  librosa.load(f\"coughvid_20211012/{row['uuid']}.webm\",sr=16000,mono=True)\n",
            "/usr/local/lib/python3.10/dist-packages/librosa/core/audio.py:184: FutureWarning: librosa.core.audio.__audioread_load\n",
            "\tDeprecated as of librosa version 0.10.0.\n",
            "\tIt will be removed in librosa version 1.0.\n",
            "  y, sr_native = __audioread_load(path, offset, duration, dtype)\n"
          ]
        },
        {
          "output_type": "stream",
          "name": "stdout",
          "text": [
            "1495\t File 0b43b58a-eaab-43dc-a4ea-19e9c308b3c6 ACCEPTED\n",
            "1496\t File 0b43fe9d-c9d6-4d0d-abf9-52f6b3712325 REJECTED\n",
            "1497\t File 0b447fd3-5590-41b2-9137-678bef3da13f REJECTED\n",
            "1498\t File 0b4552b2-8dbe-4dd3-9825-5d453e4b5b3a ACCEPTED\n"
          ]
        },
        {
          "output_type": "stream",
          "name": "stderr",
          "text": [
            "<ipython-input-91-9fc97857c8b5>:47: UserWarning: PySoundFile failed. Trying audioread instead.\n",
            "  audio , _ =  librosa.load(f\"coughvid_20211012/{row['uuid']}.webm\",sr=16000,mono=True)\n",
            "/usr/local/lib/python3.10/dist-packages/librosa/core/audio.py:184: FutureWarning: librosa.core.audio.__audioread_load\n",
            "\tDeprecated as of librosa version 0.10.0.\n",
            "\tIt will be removed in librosa version 1.0.\n",
            "  y, sr_native = __audioread_load(path, offset, duration, dtype)\n",
            "<ipython-input-91-9fc97857c8b5>:47: UserWarning: PySoundFile failed. Trying audioread instead.\n",
            "  audio , _ =  librosa.load(f\"coughvid_20211012/{row['uuid']}.webm\",sr=16000,mono=True)\n",
            "/usr/local/lib/python3.10/dist-packages/librosa/core/audio.py:184: FutureWarning: librosa.core.audio.__audioread_load\n",
            "\tDeprecated as of librosa version 0.10.0.\n",
            "\tIt will be removed in librosa version 1.0.\n",
            "  y, sr_native = __audioread_load(path, offset, duration, dtype)\n"
          ]
        },
        {
          "output_type": "stream",
          "name": "stdout",
          "text": [
            "1499\t File 0b45f304-da79-4184-816e-154099474dd0 ACCEPTED\n"
          ]
        }
      ],
      "source": [
        "# DETECTOR DE COVID POR AUDIO CON DATASET COUGHVID\n",
        "# David Miguel Garcia Palacios\n",
        "# Universidad Nacional de Colombia Sede Bogota\n",
        "\n",
        "# Limpieza de variables\n",
        "%reset -f\n",
        "\n",
        "# Instalacion y llamado de librerias\n",
        "import pandas as pd\n",
        "import librosa\n",
        "import os\n",
        "import warnings\n",
        "\n",
        "# Ignorar advertencias de Librosa\n",
        "warnings.filterwarnings(\"ignore\", category=UserWarning)\n",
        "warnings.filterwarnings(\"ignore\", category=FutureWarning)\n",
        "\n",
        "# Verificacion y descarga del dataset COUGHVID V3 a traves de Zenodo\n",
        "if os.path.exists(\"coughvid_20211012\"):\n",
        "  dir = os.path.abspath(\"coughvid_20211012\")\n",
        "  print(f\"El dataset COUGHVID V3 fue detectado en el directorio: {dir}\")\n",
        "else:\n",
        "  print(\"Descargando y descomprimiendo dataset COUGHVID V3 a traves de Zenodo\")\n",
        "  !wget {\"https://zenodo.org/records/7024894/files/public_dataset_v3.zip\"}\n",
        "  !unzip public_dataset_v3.zip\n",
        "  !rm public_dataset_v3.zip\n",
        "\n",
        "# Lectura de metadata del csv\n",
        "metadata = pd.read_csv(\"coughvid_20211012/metadata_compiled.csv\")\n",
        "\n",
        "# Obtencion de metadata reducida para pruebas\n",
        "metadata = metadata.head(1500)\n",
        "\n",
        "a = metadata.iloc[1,11]\n",
        "\n",
        "# Obtencion de datos\n",
        "audio_data = []\n",
        "label_data = []\n",
        "for id, row in metadata.iterrows():\n",
        "  try:\n",
        "    if isinstance(row[\"status\"],str):\n",
        "      label = row[\"status\"]\n",
        "    elif isinstance(row[\"status_SSL\"],str):\n",
        "      label = row[\"status_SSL\"]\n",
        "    else:\n",
        "      raise ValueError(\"No status found\")\n",
        "    audio , _ =  librosa.load(f\"coughvid_20211012/{row['uuid']}.webm\",sr=16000,mono=True)\n",
        "  except: print(f\"{id}\\t File {row['uuid']} REJECTED\")\n",
        "  else:\n",
        "    label_data.append(label)\n",
        "    audio_data.append(audio)\n",
        "    print(f\"{id}\\t File {row['uuid']} ACCEPTED\")\n",
        "\n",
        "\n",
        "# Obtencion de los datos de audio\n",
        "#for uuid in metadata.iloc[:,14]:\n",
        "#  print(uuid)\n"
      ]
    },
    {
      "cell_type": "code",
      "source": [
        " from sklearn.preprocessing import LabelEncoder\n",
        " from keras.utils import to_categorical\n",
        "\n",
        " label_encoder = LabelEncoder()\n",
        " integer_encoded = label_encoder.fit_transform(label_data)\n",
        " one_hot_encoded = to_categorical(integer_encoded)"
      ],
      "metadata": {
        "id": "iBKydKkQc70-"
      },
      "execution_count": null,
      "outputs": []
    },
    {
      "cell_type": "code",
      "source": [
        "from sklearn.model_selection import train_test_split\n",
        "\n",
        "X_train, X_val, y_train, y_val = train_test_split(audio_data, one_hot_encoded, test_size=0.2, random_state=42)"
      ],
      "metadata": {
        "id": "27nSj5FKgphu"
      },
      "execution_count": null,
      "outputs": []
    },
    {
      "cell_type": "code",
      "source": [
        "import tensorflow as tf\n",
        "from tensorflow.keras import layers, models\n",
        "import numpy as np\n",
        "from tensorflow.keras.preprocessing.sequence import pad_sequences\n",
        "\n",
        "X_train_padded = pad_sequences(X_train, dtype='float32', padding='post')\n",
        "X_val_padded = pad_sequences(X_val, padding='post', maxlen=X_train_padded.shape[1], dtype='float32')\n",
        "\n",
        "# Define the model\n",
        "model = models.Sequential()\n",
        "model.add(layers.Dense(128, activation='relu', input_shape=(X_train_padded.shape[1],)))  # Input shape is the length of the padded sequences\n",
        "model.add(layers.Dropout(0.5))\n",
        "model.add(layers.Dense(64, activation='relu'))\n",
        "model.add(layers.Dense(3, activation='softmax'))  # 3 classes for multi-class classification\n",
        "\n",
        "# Compile the model\n",
        "model.compile(optimizer='adam', loss='categorical_crossentropy', metrics=['accuracy'])\n",
        "\n",
        "# Model summary (optional)\n",
        "model.summary()\n"
      ],
      "metadata": {
        "id": "Xa1kQWSb3lbw",
        "outputId": "b498ddde-67d0-4d82-a35f-ec78d12f07bc",
        "colab": {
          "base_uri": "https://localhost:8080/",
          "height": 327
        }
      },
      "execution_count": null,
      "outputs": [
        {
          "output_type": "stream",
          "name": "stderr",
          "text": [
            "/usr/local/lib/python3.10/dist-packages/keras/src/layers/core/dense.py:87: UserWarning: Do not pass an `input_shape`/`input_dim` argument to a layer. When using Sequential models, prefer using an `Input(shape)` object as the first layer in the model instead.\n",
            "  super().__init__(activity_regularizer=activity_regularizer, **kwargs)\n"
          ]
        },
        {
          "output_type": "display_data",
          "data": {
            "text/plain": [
              "\u001b[1mModel: \"sequential_6\"\u001b[0m\n"
            ],
            "text/html": [
              "<pre style=\"white-space:pre;overflow-x:auto;line-height:normal;font-family:Menlo,'DejaVu Sans Mono',consolas,'Courier New',monospace\"><span style=\"font-weight: bold\">Model: \"sequential_6\"</span>\n",
              "</pre>\n"
            ]
          },
          "metadata": {}
        },
        {
          "output_type": "display_data",
          "data": {
            "text/plain": [
              "┏━━━━━━━━━━━━━━━━━━━━━━━━━━━━━━━━━━━━━━┳━━━━━━━━━━━━━━━━━━━━━━━━━━━━━┳━━━━━━━━━━━━━━━━━┓\n",
              "┃\u001b[1m \u001b[0m\u001b[1mLayer (type)                        \u001b[0m\u001b[1m \u001b[0m┃\u001b[1m \u001b[0m\u001b[1mOutput Shape               \u001b[0m\u001b[1m \u001b[0m┃\u001b[1m \u001b[0m\u001b[1m        Param #\u001b[0m\u001b[1m \u001b[0m┃\n",
              "┡━━━━━━━━━━━━━━━━━━━━━━━━━━━━━━━━━━━━━━╇━━━━━━━━━━━━━━━━━━━━━━━━━━━━━╇━━━━━━━━━━━━━━━━━┩\n",
              "│ dense_15 (\u001b[38;5;33mDense\u001b[0m)                     │ (\u001b[38;5;45mNone\u001b[0m, \u001b[38;5;34m128\u001b[0m)                 │      \u001b[38;5;34m47,431,808\u001b[0m │\n",
              "├──────────────────────────────────────┼─────────────────────────────┼─────────────────┤\n",
              "│ dropout_5 (\u001b[38;5;33mDropout\u001b[0m)                  │ (\u001b[38;5;45mNone\u001b[0m, \u001b[38;5;34m128\u001b[0m)                 │               \u001b[38;5;34m0\u001b[0m │\n",
              "├──────────────────────────────────────┼─────────────────────────────┼─────────────────┤\n",
              "│ dense_16 (\u001b[38;5;33mDense\u001b[0m)                     │ (\u001b[38;5;45mNone\u001b[0m, \u001b[38;5;34m64\u001b[0m)                  │           \u001b[38;5;34m8,256\u001b[0m │\n",
              "├──────────────────────────────────────┼─────────────────────────────┼─────────────────┤\n",
              "│ dense_17 (\u001b[38;5;33mDense\u001b[0m)                     │ (\u001b[38;5;45mNone\u001b[0m, \u001b[38;5;34m3\u001b[0m)                   │             \u001b[38;5;34m195\u001b[0m │\n",
              "└──────────────────────────────────────┴─────────────────────────────┴─────────────────┘\n"
            ],
            "text/html": [
              "<pre style=\"white-space:pre;overflow-x:auto;line-height:normal;font-family:Menlo,'DejaVu Sans Mono',consolas,'Courier New',monospace\">┏━━━━━━━━━━━━━━━━━━━━━━━━━━━━━━━━━━━━━━┳━━━━━━━━━━━━━━━━━━━━━━━━━━━━━┳━━━━━━━━━━━━━━━━━┓\n",
              "┃<span style=\"font-weight: bold\"> Layer (type)                         </span>┃<span style=\"font-weight: bold\"> Output Shape                </span>┃<span style=\"font-weight: bold\">         Param # </span>┃\n",
              "┡━━━━━━━━━━━━━━━━━━━━━━━━━━━━━━━━━━━━━━╇━━━━━━━━━━━━━━━━━━━━━━━━━━━━━╇━━━━━━━━━━━━━━━━━┩\n",
              "│ dense_15 (<span style=\"color: #0087ff; text-decoration-color: #0087ff\">Dense</span>)                     │ (<span style=\"color: #00d7ff; text-decoration-color: #00d7ff\">None</span>, <span style=\"color: #00af00; text-decoration-color: #00af00\">128</span>)                 │      <span style=\"color: #00af00; text-decoration-color: #00af00\">47,431,808</span> │\n",
              "├──────────────────────────────────────┼─────────────────────────────┼─────────────────┤\n",
              "│ dropout_5 (<span style=\"color: #0087ff; text-decoration-color: #0087ff\">Dropout</span>)                  │ (<span style=\"color: #00d7ff; text-decoration-color: #00d7ff\">None</span>, <span style=\"color: #00af00; text-decoration-color: #00af00\">128</span>)                 │               <span style=\"color: #00af00; text-decoration-color: #00af00\">0</span> │\n",
              "├──────────────────────────────────────┼─────────────────────────────┼─────────────────┤\n",
              "│ dense_16 (<span style=\"color: #0087ff; text-decoration-color: #0087ff\">Dense</span>)                     │ (<span style=\"color: #00d7ff; text-decoration-color: #00d7ff\">None</span>, <span style=\"color: #00af00; text-decoration-color: #00af00\">64</span>)                  │           <span style=\"color: #00af00; text-decoration-color: #00af00\">8,256</span> │\n",
              "├──────────────────────────────────────┼─────────────────────────────┼─────────────────┤\n",
              "│ dense_17 (<span style=\"color: #0087ff; text-decoration-color: #0087ff\">Dense</span>)                     │ (<span style=\"color: #00d7ff; text-decoration-color: #00d7ff\">None</span>, <span style=\"color: #00af00; text-decoration-color: #00af00\">3</span>)                   │             <span style=\"color: #00af00; text-decoration-color: #00af00\">195</span> │\n",
              "└──────────────────────────────────────┴─────────────────────────────┴─────────────────┘\n",
              "</pre>\n"
            ]
          },
          "metadata": {}
        },
        {
          "output_type": "display_data",
          "data": {
            "text/plain": [
              "\u001b[1m Total params: \u001b[0m\u001b[38;5;34m47,440,259\u001b[0m (180.97 MB)\n"
            ],
            "text/html": [
              "<pre style=\"white-space:pre;overflow-x:auto;line-height:normal;font-family:Menlo,'DejaVu Sans Mono',consolas,'Courier New',monospace\"><span style=\"font-weight: bold\"> Total params: </span><span style=\"color: #00af00; text-decoration-color: #00af00\">47,440,259</span> (180.97 MB)\n",
              "</pre>\n"
            ]
          },
          "metadata": {}
        },
        {
          "output_type": "display_data",
          "data": {
            "text/plain": [
              "\u001b[1m Trainable params: \u001b[0m\u001b[38;5;34m47,440,259\u001b[0m (180.97 MB)\n"
            ],
            "text/html": [
              "<pre style=\"white-space:pre;overflow-x:auto;line-height:normal;font-family:Menlo,'DejaVu Sans Mono',consolas,'Courier New',monospace\"><span style=\"font-weight: bold\"> Trainable params: </span><span style=\"color: #00af00; text-decoration-color: #00af00\">47,440,259</span> (180.97 MB)\n",
              "</pre>\n"
            ]
          },
          "metadata": {}
        },
        {
          "output_type": "display_data",
          "data": {
            "text/plain": [
              "\u001b[1m Non-trainable params: \u001b[0m\u001b[38;5;34m0\u001b[0m (0.00 B)\n"
            ],
            "text/html": [
              "<pre style=\"white-space:pre;overflow-x:auto;line-height:normal;font-family:Menlo,'DejaVu Sans Mono',consolas,'Courier New',monospace\"><span style=\"font-weight: bold\"> Non-trainable params: </span><span style=\"color: #00af00; text-decoration-color: #00af00\">0</span> (0.00 B)\n",
              "</pre>\n"
            ]
          },
          "metadata": {}
        }
      ]
    },
    {
      "cell_type": "code",
      "source": [
        "print(\"Shape of X_train_padded:\", X_train_padded.shape)  # Should be (212, num_features)\n",
        "print(\"Shape of y_train:\", y_train.shape)                # Should be (212, 3)\n",
        "\n",
        "# Train the model\n",
        "history = model.fit(X_train_padded, y_train, validation_split=0.2, epochs=50, batch_size=32)\n"
      ],
      "metadata": {
        "colab": {
          "base_uri": "https://localhost:8080/"
        },
        "id": "yVt7IOw_phsZ",
        "outputId": "81437f63-51cd-48f8-de66-ea821c718d19"
      },
      "execution_count": null,
      "outputs": [
        {
          "output_type": "stream",
          "name": "stdout",
          "text": [
            "Shape of X_train_padded: (662, 370560)\n",
            "Shape of y_train: (662, 3)\n",
            "Epoch 1/50\n",
            "\u001b[1m17/17\u001b[0m \u001b[32m━━━━━━━━━━━━━━━━━━━━\u001b[0m\u001b[37m\u001b[0m \u001b[1m26s\u001b[0m 1s/step - accuracy: 0.4562 - loss: 1.0440 - val_accuracy: 0.7519 - val_loss: 0.9780\n",
            "Epoch 2/50\n",
            "\u001b[1m17/17\u001b[0m \u001b[32m━━━━━━━━━━━━━━━━━━━━\u001b[0m\u001b[37m\u001b[0m \u001b[1m20s\u001b[0m 1s/step - accuracy: 0.8315 - loss: 0.5804 - val_accuracy: 0.7218 - val_loss: 1.0117\n",
            "Epoch 3/50\n",
            "\u001b[1m17/17\u001b[0m \u001b[32m━━━━━━━━━━━━━━━━━━━━\u001b[0m\u001b[37m\u001b[0m \u001b[1m40s\u001b[0m 1s/step - accuracy: 0.9423 - loss: 0.1908 - val_accuracy: 0.6917 - val_loss: 1.0340\n",
            "Epoch 4/50\n",
            "\u001b[1m17/17\u001b[0m \u001b[32m━━━━━━━━━━━━━━━━━━━━\u001b[0m\u001b[37m\u001b[0m \u001b[1m21s\u001b[0m 1s/step - accuracy: 0.9756 - loss: 0.1129 - val_accuracy: 0.6917 - val_loss: 1.0705\n",
            "Epoch 5/50\n",
            "\u001b[1m17/17\u001b[0m \u001b[32m━━━━━━━━━━━━━━━━━━━━\u001b[0m\u001b[37m\u001b[0m \u001b[1m41s\u001b[0m 1s/step - accuracy: 0.9699 - loss: 0.1156 - val_accuracy: 0.6842 - val_loss: 1.1020\n",
            "Epoch 6/50\n",
            "\u001b[1m17/17\u001b[0m \u001b[32m━━━━━━━━━━━━━━━━━━━━\u001b[0m\u001b[37m\u001b[0m \u001b[1m41s\u001b[0m 1s/step - accuracy: 0.9708 - loss: 0.0939 - val_accuracy: 0.6842 - val_loss: 1.1355\n",
            "Epoch 7/50\n",
            "\u001b[1m17/17\u001b[0m \u001b[32m━━━━━━━━━━━━━━━━━━━━\u001b[0m\u001b[37m\u001b[0m \u001b[1m40s\u001b[0m 1s/step - accuracy: 0.9769 - loss: 0.0894 - val_accuracy: 0.6767 - val_loss: 1.1947\n",
            "Epoch 8/50\n",
            "\u001b[1m17/17\u001b[0m \u001b[32m━━━━━━━━━━━━━━━━━━━━\u001b[0m\u001b[37m\u001b[0m \u001b[1m42s\u001b[0m 1s/step - accuracy: 0.9818 - loss: 0.0542 - val_accuracy: 0.6767 - val_loss: 1.2321\n",
            "Epoch 9/50\n",
            "\u001b[1m17/17\u001b[0m \u001b[32m━━━━━━━━━━━━━━━━━━━━\u001b[0m\u001b[37m\u001b[0m \u001b[1m20s\u001b[0m 1s/step - accuracy: 0.9847 - loss: 0.0514 - val_accuracy: 0.6617 - val_loss: 1.2569\n",
            "Epoch 10/50\n",
            "\u001b[1m17/17\u001b[0m \u001b[32m━━━━━━━━━━━━━━━━━━━━\u001b[0m\u001b[37m\u001b[0m \u001b[1m40s\u001b[0m 1s/step - accuracy: 0.9763 - loss: 0.1315 - val_accuracy: 0.6617 - val_loss: 1.3143\n",
            "Epoch 11/50\n",
            "\u001b[1m17/17\u001b[0m \u001b[32m━━━━━━━━━━━━━━━━━━━━\u001b[0m\u001b[37m\u001b[0m \u001b[1m22s\u001b[0m 1s/step - accuracy: 0.9865 - loss: 0.0373 - val_accuracy: 0.6541 - val_loss: 1.3526\n",
            "Epoch 12/50\n",
            "\u001b[1m17/17\u001b[0m \u001b[32m━━━━━━━━━━━━━━━━━━━━\u001b[0m\u001b[37m\u001b[0m \u001b[1m20s\u001b[0m 1s/step - accuracy: 0.9782 - loss: 0.0617 - val_accuracy: 0.6541 - val_loss: 1.3835\n",
            "Epoch 13/50\n",
            "\u001b[1m17/17\u001b[0m \u001b[32m━━━━━━━━━━━━━━━━━━━━\u001b[0m\u001b[37m\u001b[0m \u001b[1m21s\u001b[0m 1s/step - accuracy: 0.9832 - loss: 0.0553 - val_accuracy: 0.6541 - val_loss: 1.4084\n",
            "Epoch 14/50\n",
            "\u001b[1m17/17\u001b[0m \u001b[32m━━━━━━━━━━━━━━━━━━━━\u001b[0m\u001b[37m\u001b[0m \u001b[1m23s\u001b[0m 1s/step - accuracy: 0.9881 - loss: 0.0412 - val_accuracy: 0.6541 - val_loss: 1.4358\n",
            "Epoch 15/50\n",
            "\u001b[1m17/17\u001b[0m \u001b[32m━━━━━━━━━━━━━━━━━━━━\u001b[0m\u001b[37m\u001b[0m \u001b[1m20s\u001b[0m 1s/step - accuracy: 0.9924 - loss: 0.0293 - val_accuracy: 0.6617 - val_loss: 1.4586\n",
            "Epoch 16/50\n",
            "\u001b[1m17/17\u001b[0m \u001b[32m━━━━━━━━━━━━━━━━━━━━\u001b[0m\u001b[37m\u001b[0m \u001b[1m40s\u001b[0m 1s/step - accuracy: 0.9757 - loss: 0.0734 - val_accuracy: 0.6617 - val_loss: 1.5114\n",
            "Epoch 17/50\n",
            "\u001b[1m17/17\u001b[0m \u001b[32m━━━━━━━━━━━━━━━━━━━━\u001b[0m\u001b[37m\u001b[0m \u001b[1m41s\u001b[0m 1s/step - accuracy: 0.9808 - loss: 0.0499 - val_accuracy: 0.6541 - val_loss: 1.5203\n",
            "Epoch 18/50\n",
            "\u001b[1m17/17\u001b[0m \u001b[32m━━━━━━━━━━━━━━━━━━━━\u001b[0m\u001b[37m\u001b[0m \u001b[1m42s\u001b[0m 1s/step - accuracy: 0.9924 - loss: 0.0365 - val_accuracy: 0.6692 - val_loss: 1.4801\n",
            "Epoch 19/50\n",
            "\u001b[1m17/17\u001b[0m \u001b[32m━━━━━━━━━━━━━━━━━━━━\u001b[0m\u001b[37m\u001b[0m \u001b[1m38s\u001b[0m 1s/step - accuracy: 0.9929 - loss: 0.0233 - val_accuracy: 0.6617 - val_loss: 1.4816\n",
            "Epoch 20/50\n",
            "\u001b[1m17/17\u001b[0m \u001b[32m━━━━━━━━━━━━━━━━━━━━\u001b[0m\u001b[37m\u001b[0m \u001b[1m40s\u001b[0m 1s/step - accuracy: 0.9954 - loss: 0.0257 - val_accuracy: 0.6541 - val_loss: 1.4988\n",
            "Epoch 21/50\n",
            "\u001b[1m17/17\u001b[0m \u001b[32m━━━━━━━━━━━━━━━━━━━━\u001b[0m\u001b[37m\u001b[0m \u001b[1m40s\u001b[0m 1s/step - accuracy: 0.9925 - loss: 0.0278 - val_accuracy: 0.6391 - val_loss: 1.5338\n",
            "Epoch 22/50\n",
            "\u001b[1m17/17\u001b[0m \u001b[32m━━━━━━━━━━━━━━━━━━━━\u001b[0m\u001b[37m\u001b[0m \u001b[1m41s\u001b[0m 1s/step - accuracy: 0.9922 - loss: 0.0216 - val_accuracy: 0.6316 - val_loss: 1.5727\n",
            "Epoch 23/50\n",
            "\u001b[1m17/17\u001b[0m \u001b[32m━━━━━━━━━━━━━━━━━━━━\u001b[0m\u001b[37m\u001b[0m \u001b[1m42s\u001b[0m 1s/step - accuracy: 0.9967 - loss: 0.0149 - val_accuracy: 0.6316 - val_loss: 1.5876\n",
            "Epoch 24/50\n",
            "\u001b[1m17/17\u001b[0m \u001b[32m━━━━━━━━━━━━━━━━━━━━\u001b[0m\u001b[37m\u001b[0m \u001b[1m41s\u001b[0m 1s/step - accuracy: 0.9876 - loss: 0.0382 - val_accuracy: 0.6165 - val_loss: 1.6154\n",
            "Epoch 25/50\n",
            "\u001b[1m17/17\u001b[0m \u001b[32m━━━━━━━━━━━━━━━━━━━━\u001b[0m\u001b[37m\u001b[0m \u001b[1m41s\u001b[0m 1s/step - accuracy: 0.9923 - loss: 0.0237 - val_accuracy: 0.6165 - val_loss: 1.6308\n",
            "Epoch 26/50\n",
            "\u001b[1m17/17\u001b[0m \u001b[32m━━━━━━━━━━━━━━━━━━━━\u001b[0m\u001b[37m\u001b[0m \u001b[1m38s\u001b[0m 1s/step - accuracy: 0.9955 - loss: 0.0198 - val_accuracy: 0.6316 - val_loss: 1.6313\n",
            "Epoch 27/50\n",
            "\u001b[1m17/17\u001b[0m \u001b[32m━━━━━━━━━━━━━━━━━━━━\u001b[0m\u001b[37m\u001b[0m \u001b[1m41s\u001b[0m 1s/step - accuracy: 0.9925 - loss: 0.0241 - val_accuracy: 0.6316 - val_loss: 1.7147\n",
            "Epoch 28/50\n",
            "\u001b[1m17/17\u001b[0m \u001b[32m━━━━━━━━━━━━━━━━━━━━\u001b[0m\u001b[37m\u001b[0m \u001b[1m40s\u001b[0m 1s/step - accuracy: 0.9901 - loss: 0.0283 - val_accuracy: 0.6241 - val_loss: 1.7585\n",
            "Epoch 29/50\n",
            "\u001b[1m17/17\u001b[0m \u001b[32m━━━━━━━━━━━━━━━━━━━━\u001b[0m\u001b[37m\u001b[0m \u001b[1m40s\u001b[0m 1s/step - accuracy: 0.9913 - loss: 0.0214 - val_accuracy: 0.6391 - val_loss: 1.7800\n",
            "Epoch 30/50\n",
            "\u001b[1m17/17\u001b[0m \u001b[32m━━━━━━━━━━━━━━━━━━━━\u001b[0m\u001b[37m\u001b[0m \u001b[1m41s\u001b[0m 1s/step - accuracy: 0.9895 - loss: 0.0230 - val_accuracy: 0.6466 - val_loss: 1.8019\n",
            "Epoch 31/50\n",
            "\u001b[1m17/17\u001b[0m \u001b[32m━━━━━━━━━━━━━━━━━━━━\u001b[0m\u001b[37m\u001b[0m \u001b[1m20s\u001b[0m 1s/step - accuracy: 0.9809 - loss: 0.0701 - val_accuracy: 0.5865 - val_loss: 1.8091\n",
            "Epoch 32/50\n",
            "\u001b[1m17/17\u001b[0m \u001b[32m━━━━━━━━━━━━━━━━━━━━\u001b[0m\u001b[37m\u001b[0m \u001b[1m41s\u001b[0m 1s/step - accuracy: 0.9920 - loss: 0.0878 - val_accuracy: 0.6165 - val_loss: 1.8468\n",
            "Epoch 33/50\n",
            "\u001b[1m17/17\u001b[0m \u001b[32m━━━━━━━━━━━━━━━━━━━━\u001b[0m\u001b[37m\u001b[0m \u001b[1m22s\u001b[0m 1s/step - accuracy: 0.9944 - loss: 0.0128 - val_accuracy: 0.6165 - val_loss: 1.8709\n",
            "Epoch 34/50\n",
            "\u001b[1m17/17\u001b[0m \u001b[32m━━━━━━━━━━━━━━━━━━━━\u001b[0m\u001b[37m\u001b[0m \u001b[1m21s\u001b[0m 1s/step - accuracy: 0.9915 - loss: 0.0206 - val_accuracy: 0.6316 - val_loss: 1.8871\n",
            "Epoch 35/50\n",
            "\u001b[1m17/17\u001b[0m \u001b[32m━━━━━━━━━━━━━━━━━━━━\u001b[0m\u001b[37m\u001b[0m \u001b[1m42s\u001b[0m 1s/step - accuracy: 0.9917 - loss: 0.0299 - val_accuracy: 0.6391 - val_loss: 1.9417\n",
            "Epoch 36/50\n",
            "\u001b[1m17/17\u001b[0m \u001b[32m━━━━━━━━━━━━━━━━━━━━\u001b[0m\u001b[37m\u001b[0m \u001b[1m20s\u001b[0m 1s/step - accuracy: 0.9977 - loss: 0.0097 - val_accuracy: 0.6391 - val_loss: 1.9744\n",
            "Epoch 37/50\n",
            "\u001b[1m17/17\u001b[0m \u001b[32m━━━━━━━━━━━━━━━━━━━━\u001b[0m\u001b[37m\u001b[0m \u001b[1m41s\u001b[0m 1s/step - accuracy: 0.9930 - loss: 0.0319 - val_accuracy: 0.5940 - val_loss: 1.9944\n",
            "Epoch 38/50\n",
            "\u001b[1m17/17\u001b[0m \u001b[32m━━━━━━━━━━━━━━━━━━━━\u001b[0m\u001b[37m\u001b[0m \u001b[1m21s\u001b[0m 1s/step - accuracy: 0.9976 - loss: 0.0136 - val_accuracy: 0.5940 - val_loss: 2.0106\n",
            "Epoch 39/50\n",
            "\u001b[1m17/17\u001b[0m \u001b[32m━━━━━━━━━━━━━━━━━━━━\u001b[0m\u001b[37m\u001b[0m \u001b[1m41s\u001b[0m 1s/step - accuracy: 0.9874 - loss: 0.0448 - val_accuracy: 0.6090 - val_loss: 2.0992\n",
            "Epoch 40/50\n",
            "\u001b[1m17/17\u001b[0m \u001b[32m━━━━━━━━━━━━━━━━━━━━\u001b[0m\u001b[37m\u001b[0m \u001b[1m40s\u001b[0m 1s/step - accuracy: 0.9924 - loss: 0.0168 - val_accuracy: 0.6241 - val_loss: 2.1492\n",
            "Epoch 41/50\n",
            "\u001b[1m17/17\u001b[0m \u001b[32m━━━━━━━━━━━━━━━━━━━━\u001b[0m\u001b[37m\u001b[0m \u001b[1m23s\u001b[0m 1s/step - accuracy: 0.9968 - loss: 0.0131 - val_accuracy: 0.6241 - val_loss: 2.1672\n",
            "Epoch 42/50\n",
            "\u001b[1m17/17\u001b[0m \u001b[32m━━━━━━━━━━━━━━━━━━━━\u001b[0m\u001b[37m\u001b[0m \u001b[1m38s\u001b[0m 1s/step - accuracy: 0.9839 - loss: 0.0347 - val_accuracy: 0.6316 - val_loss: 2.2101\n",
            "Epoch 43/50\n",
            "\u001b[1m17/17\u001b[0m \u001b[32m━━━━━━━━━━━━━━━━━━━━\u001b[0m\u001b[37m\u001b[0m \u001b[1m24s\u001b[0m 1s/step - accuracy: 0.9898 - loss: 0.0200 - val_accuracy: 0.6241 - val_loss: 2.3066\n",
            "Epoch 44/50\n",
            "\u001b[1m17/17\u001b[0m \u001b[32m━━━━━━━━━━━━━━━━━━━━\u001b[0m\u001b[37m\u001b[0m \u001b[1m20s\u001b[0m 1s/step - accuracy: 0.9975 - loss: 0.0198 - val_accuracy: 0.6165 - val_loss: 2.3701\n",
            "Epoch 45/50\n",
            "\u001b[1m17/17\u001b[0m \u001b[32m━━━━━━━━━━━━━━━━━━━━\u001b[0m\u001b[37m\u001b[0m \u001b[1m41s\u001b[0m 1s/step - accuracy: 0.9896 - loss: 0.0244 - val_accuracy: 0.5940 - val_loss: 2.4614\n",
            "Epoch 46/50\n",
            "\u001b[1m17/17\u001b[0m \u001b[32m━━━━━━━━━━━━━━━━━━━━\u001b[0m\u001b[37m\u001b[0m \u001b[1m41s\u001b[0m 1s/step - accuracy: 0.9981 - loss: 0.0218 - val_accuracy: 0.5940 - val_loss: 2.5000\n",
            "Epoch 47/50\n",
            "\u001b[1m17/17\u001b[0m \u001b[32m━━━━━━━━━━━━━━━━━━━━\u001b[0m\u001b[37m\u001b[0m \u001b[1m41s\u001b[0m 1s/step - accuracy: 0.9928 - loss: 0.0182 - val_accuracy: 0.5940 - val_loss: 2.5383\n",
            "Epoch 48/50\n",
            "\u001b[1m17/17\u001b[0m \u001b[32m━━━━━━━━━━━━━━━━━━━━\u001b[0m\u001b[37m\u001b[0m \u001b[1m39s\u001b[0m 1s/step - accuracy: 0.9965 - loss: 0.0126 - val_accuracy: 0.5940 - val_loss: 2.5601\n",
            "Epoch 49/50\n",
            "\u001b[1m17/17\u001b[0m \u001b[32m━━━━━━━━━━━━━━━━━━━━\u001b[0m\u001b[37m\u001b[0m \u001b[1m23s\u001b[0m 1s/step - accuracy: 0.9982 - loss: 0.0190 - val_accuracy: 0.5865 - val_loss: 2.5721\n",
            "Epoch 50/50\n",
            "\u001b[1m17/17\u001b[0m \u001b[32m━━━━━━━━━━━━━━━━━━━━\u001b[0m\u001b[37m\u001b[0m \u001b[1m20s\u001b[0m 1s/step - accuracy: 0.9988 - loss: 0.0092 - val_accuracy: 0.5940 - val_loss: 2.5723\n"
          ]
        }
      ]
    },
    {
      "cell_type": "code",
      "source": [
        "#X_val_padded = pad_sequences(X_val, padding='post', maxlen=X_train_padded.shape[1], dtype='float32')\n",
        "\n",
        "# Check the shape of X_val_padded\n",
        "print(\"Shape of X_val_padded:\", X_val_padded.shape)\n",
        "print(\"Shape of y_train:\", y_val.shape)\n",
        "\n",
        "model.evaluate(X_val_padded, y_val)\n",
        "#model.save('modelo_tos.h5')\n"
      ],
      "metadata": {
        "id": "4PtZb1pive0K",
        "outputId": "84532e57-32a4-41a9-afa5-0f7332dc8dd8",
        "colab": {
          "base_uri": "https://localhost:8080/"
        }
      },
      "execution_count": null,
      "outputs": [
        {
          "output_type": "stream",
          "name": "stdout",
          "text": [
            "Shape of X_val_padded: (166, 370560)\n",
            "Shape of y_train: (166, 3)\n",
            "\u001b[1m6/6\u001b[0m \u001b[32m━━━━━━━━━━━━━━━━━━━━\u001b[0m\u001b[37m\u001b[0m \u001b[1m3s\u001b[0m 574ms/step - accuracy: 0.7415 - loss: 1.2897\n"
          ]
        },
        {
          "output_type": "execute_result",
          "data": {
            "text/plain": [
              "[1.3421518802642822, 0.7349397540092468]"
            ]
          },
          "metadata": {},
          "execution_count": 97
        }
      ]
    }
  ]
}